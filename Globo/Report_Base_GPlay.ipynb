{
  "cells": [
    {
      "cell_type": "markdown",
      "metadata": {
        "id": "view-in-github",
        "colab_type": "text"
      },
      "source": [
        "<a href=\"https://colab.research.google.com/github/KValim/Projetcs/blob/main/Globo/Report_Base_GPlay.ipynb\" target=\"_parent\"><img src=\"https://colab.research.google.com/assets/colab-badge.svg\" alt=\"Open In Colab\"/></a>"
      ]
    },
    {
      "cell_type": "markdown",
      "metadata": {
        "id": "tnxyFdUc9ZaJ"
      },
      "source": [
        "# Setup"
      ]
    },
    {
      "cell_type": "code",
      "source": [
        "# Set Time Zone\n",
        "!rm /etc/localtime\n",
        "!ln -s /usr/share/zoneinfo/Brazil/East /etc/localtime\n",
        "!date"
      ],
      "metadata": {
        "colab": {
          "base_uri": "https://localhost:8080/"
        },
        "id": "79keiNIVg8nJ",
        "outputId": "41da428f-3c15-4351-ce51-99efc8b8dc8f"
      },
      "execution_count": null,
      "outputs": [
        {
          "output_type": "stream",
          "name": "stdout",
          "text": [
            "Tue Dec 20 12:48:24 -03 2022\n"
          ]
        }
      ]
    },
    {
      "cell_type": "code",
      "execution_count": null,
      "metadata": {
        "colab": {
          "base_uri": "https://localhost:8080/"
        },
        "id": "Wv9vRXgbVi4p",
        "outputId": "12236ae8-d5d3-45a0-eed5-73b734ca0caa"
      },
      "outputs": [
        {
          "output_type": "stream",
          "name": "stdout",
          "text": [
            "Hit:1 https://cloud.r-project.org/bin/linux/ubuntu bionic-cran40/ InRelease\n",
            "Hit:2 http://security.ubuntu.com/ubuntu bionic-security InRelease\n",
            "Ign:3 https://developer.download.nvidia.com/compute/machine-learning/repos/ubuntu1804/x86_64  InRelease\n",
            "Hit:4 https://developer.download.nvidia.com/compute/cuda/repos/ubuntu1804/x86_64  InRelease\n",
            "Hit:5 https://developer.download.nvidia.com/compute/machine-learning/repos/ubuntu1804/x86_64  Release\n",
            "Hit:6 http://ppa.launchpad.net/c2d4u.team/c2d4u4.0+/ubuntu bionic InRelease\n",
            "Hit:7 http://archive.ubuntu.com/ubuntu bionic InRelease\n",
            "Hit:8 http://archive.ubuntu.com/ubuntu bionic-updates InRelease\n",
            "Hit:10 http://archive.ubuntu.com/ubuntu bionic-backports InRelease\n",
            "Hit:11 http://ppa.launchpad.net/cran/libgit2/ubuntu bionic InRelease\n",
            "Hit:12 http://ppa.launchpad.net/deadsnakes/ppa/ubuntu bionic InRelease\n",
            "Hit:13 http://ppa.launchpad.net/graphics-drivers/ppa/ubuntu bionic InRelease\n",
            "Reading package lists... Done\n",
            "Looking in indexes: https://pypi.org/simple, https://us-python.pkg.dev/colab-wheels/public/simple/\n",
            "Requirement already satisfied: selenium==3.141.0 in /usr/local/lib/python3.8/dist-packages (3.141.0)\n",
            "Requirement already satisfied: urllib3 in /usr/local/lib/python3.8/dist-packages (from selenium==3.141.0) (1.24.3)\n",
            "Reading package lists... Done\n",
            "Building dependency tree       \n",
            "Reading state information... Done\n",
            "chromium-chromedriver is already the newest version (108.0.5359.71-0ubuntu0.18.04.5).\n",
            "The following package was automatically installed and is no longer required:\n",
            "  libnvidia-common-460\n",
            "Use 'apt autoremove' to remove it.\n",
            "0 upgraded, 0 newly installed, 0 to remove and 20 not upgraded.\n",
            "Looking in indexes: https://pypi.org/simple, https://us-python.pkg.dev/colab-wheels/public/simple/\n",
            "Requirement already satisfied: webdriver_manager in /usr/local/lib/python3.8/dist-packages (3.8.5)\n",
            "Requirement already satisfied: requests in /usr/local/lib/python3.8/dist-packages (from webdriver_manager) (2.23.0)\n",
            "Requirement already satisfied: packaging in /usr/local/lib/python3.8/dist-packages (from webdriver_manager) (21.3)\n",
            "Requirement already satisfied: tqdm in /usr/local/lib/python3.8/dist-packages (from webdriver_manager) (4.64.1)\n",
            "Requirement already satisfied: python-dotenv in /usr/local/lib/python3.8/dist-packages (from webdriver_manager) (0.21.0)\n",
            "Requirement already satisfied: pyparsing!=3.0.5,>=2.0.2 in /usr/local/lib/python3.8/dist-packages (from packaging->webdriver_manager) (3.0.9)\n",
            "Requirement already satisfied: idna<3,>=2.5 in /usr/local/lib/python3.8/dist-packages (from requests->webdriver_manager) (2.10)\n",
            "Requirement already satisfied: urllib3!=1.25.0,!=1.25.1,<1.26,>=1.21.1 in /usr/local/lib/python3.8/dist-packages (from requests->webdriver_manager) (1.24.3)\n",
            "Requirement already satisfied: certifi>=2017.4.17 in /usr/local/lib/python3.8/dist-packages (from requests->webdriver_manager) (2022.12.7)\n",
            "Requirement already satisfied: chardet<4,>=3.0.2 in /usr/local/lib/python3.8/dist-packages (from requests->webdriver_manager) (3.0.4)\n"
          ]
        }
      ],
      "source": [
        "!apt-get update \n",
        "!pip install selenium==3.141.0\n",
        "!apt install chromium-chromedriver\n",
        "!pip install webdriver_manager\n",
        "\n",
        "from selenium import webdriver\n",
        "from selenium.webdriver.common.action_chains import ActionChains\n",
        "from webdriver_manager.microsoft import EdgeChromiumDriverManager\n",
        "import time\n",
        "from datetime import date\n",
        "from selenium.webdriver.support.ui import WebDriverWait\n",
        "from selenium.webdriver.support import expected_conditions as EC\n",
        "from selenium.webdriver.common.by import By\n",
        "from selenium.webdriver.common.action_chains import ActionChains\n",
        "from selenium.webdriver.common.keys import Keys\n",
        "\n",
        "chrome_options = webdriver.ChromeOptions()\n",
        "chrome_options.add_argument('--headless')\n",
        "chrome_options.add_argument('--no-sandbox')\n",
        "chrome_options.add_argument('--disable-dev-shm-usage')"
      ]
    },
    {
      "cell_type": "code",
      "execution_count": null,
      "metadata": {
        "id": "QycpYwGNqq9S"
      },
      "outputs": [],
      "source": [
        "def waitClick(driver, xpath:str):\n",
        "    \"\"\"Espera o elemento ser carregado na página e clica nele\n",
        "\n",
        "    Args:\n",
        "        driver (): Instância do navegador\n",
        "        xpath (str): Caminho xpath do elemento a ser clicado\n",
        "    \"\"\"\n",
        "    \n",
        "    staleElement = True\n",
        "    while(staleElement):\n",
        "        try:\n",
        "            wait = WebDriverWait(driver, 10)\n",
        "            element1 = wait.until(EC.element_to_be_clickable((By.XPATH, xpath)))\n",
        "            element1.click()\n",
        "            staleElement = False\n",
        "        except Exception:\n",
        "            staleElement = True"
      ]
    },
    {
      "cell_type": "code",
      "source": [
        "def print_screen(driver):\n",
        "  print_s = driver.find_element_by_xpath('*')\n",
        "  print_s.screenshot('print_s.png')\n",
        "\n",
        "  import matplotlib.pyplot as plt\n",
        "  import matplotlib.image as mpimg\n",
        "  img = mpimg.imread('print_s.png',)\n",
        "  imgplot = plt.imshow(img)\n",
        "  plt.box(False)\n",
        "  plt.xticks([])\n",
        "  plt.yticks([])\n",
        "\n",
        "  return plt.show()"
      ],
      "metadata": {
        "id": "VVeO-rOV7xCs"
      },
      "execution_count": null,
      "outputs": []
    },
    {
      "cell_type": "markdown",
      "metadata": {
        "id": "-a436_Ym9fdc"
      },
      "source": [
        "# Entrantes, cancelados e base"
      ]
    },
    {
      "cell_type": "code",
      "execution_count": null,
      "metadata": {
        "colab": {
          "base_uri": "https://localhost:8080/"
        },
        "id": "pqofX6RI9ihK",
        "outputId": "e709aa78-2b59-40c1-ab71-3842bcc1bf5f"
      },
      "outputs": [
        {
          "output_type": "stream",
          "name": "stdout",
          "text": [
            "cp: '/usr/lib/chromium-browser/chromedriver' and '/usr/bin/chromedriver' are the same file\n"
          ]
        }
      ],
      "source": [
        "!cp /usr/lib/chromium-browser/chromedriver /usr/bin\n",
        "import sys\n",
        "sys.path.insert(0,'/usr/lib/chromium-browser/chromedriver')\n",
        "\n",
        "chrome_options = webdriver.ChromeOptions()\n",
        "chrome_options.add_argument('--headless')\n",
        "chrome_options.add_argument('--no-sandbox')\n",
        "chrome_options.add_argument('--disable-dev-shm-usage')\n",
        "driver = webdriver.Chrome('chromedriver',options=chrome_options) # inicia o navegador\n",
        "\n",
        "driver.maximize_window()\n",
        "driver.get('https://datastudio.google.com/reporting/7e4bec96-228f-45ac-a284-b5c6deba6cd6/page/DT46B')"
      ]
    },
    {
      "cell_type": "code",
      "source": [
        "driver.get_window_size()"
      ],
      "metadata": {
        "colab": {
          "base_uri": "https://localhost:8080/"
        },
        "id": "TKjX-UCZsMQN",
        "outputId": "e1ed874b-a3ec-46db-b52a-129bad537e68"
      },
      "execution_count": null,
      "outputs": [
        {
          "output_type": "execute_result",
          "data": {
            "text/plain": [
              "{'width': 800, 'height': 600}"
            ]
          },
          "metadata": {},
          "execution_count": 36
        }
      ]
    },
    {
      "cell_type": "code",
      "execution_count": null,
      "metadata": {
        "id": "ySpBpGM4cM-N"
      },
      "outputs": [],
      "source": [
        "waitClick(driver,('/html/body/app-bootstrap/ng2-bootstrap/lego-router-outlet/reporting-view-manager/ng2-reporting-view/div/div[2]/div/div/div/div[1]/report-wrapper/div/div/ng2-canvas-container/div/div[3]/ng2-canvas-component/div/div/div/div/kpimetric-wrapper/div/ng2-kpimetric/div/div[2]'))"
      ]
    },
    {
      "cell_type": "code",
      "execution_count": null,
      "metadata": {
        "id": "4dkNu6U29s7x"
      },
      "outputs": [],
      "source": [
        "entrantes = {\n",
        "    'entrantes' : driver.find_element_by_xpath('//*[@id=\"body\"]/div[2]/div/div/div/div[1]/report-wrapper/div/div/ng2-canvas-container/div/div[3]/ng2-canvas-component/div/div/div/div/kpimetric-wrapper/div/ng2-kpimetric/div/div[2]').text,\n",
        "    'eua' : driver.find_element_by_xpath('//*[@id=\"body\"]/div[2]/div/div/div/div[1]/report-wrapper/div/div/ng2-canvas-container/div/div[9]/ng2-canvas-component/div/div/div/div/kpimetric-wrapper/div/ng2-kpimetric/div/div[2]').text,\n",
        "    'portugal' : driver.find_element_by_xpath('//*[@id=\"body\"]/div[2]/div/div/div/div[1]/report-wrapper/div/div/ng2-canvas-container/div/div[18]/ng2-canvas-component/div/div/div/div/kpimetric-wrapper/div/ng2-kpimetric/div/div[2]').text,\n",
        "    'europa' : driver.find_element_by_xpath('//*[@id=\"body\"]/div[2]/div/div/div/div[1]/report-wrapper/div/div/ng2-canvas-container/div/div[24]/ng2-canvas-component/div/div/div/div/kpimetric-wrapper/div/ng2-kpimetric/div/div[2]').text,\n",
        "    'asia' : driver.find_element_by_xpath('//*[@id=\"body\"]/div[2]/div/div/div/div[1]/report-wrapper/div/div/ng2-canvas-container/div/div[34]/ng2-canvas-component/div/div/div/div/kpimetric-wrapper/div/ng2-kpimetric/div/div[2]').text,\n",
        "    'reativações' : driver.find_element_by_xpath('//*[@id=\"body\"]/div[2]/div/div/div/div[1]/report-wrapper/div/div/ng2-canvas-container/div/div[7]/ng2-canvas-component/div/div/div/div/kpimetric-wrapper/div/ng2-kpimetric/div/div[2]').text\n",
        "}\n",
        "\n",
        "cancelados = {\n",
        "    'cancelados' : driver.find_element_by_xpath('//*[@id=\"body\"]/div[2]/div/div/div/div[1]/report-wrapper/div/div/ng2-canvas-container/div/div[5]/ng2-canvas-component/div/div/div/div/kpimetric-wrapper/div/ng2-kpimetric/div/div[2]').text,\n",
        "    'eua' : driver.find_element_by_xpath('//*[@id=\"body\"]/div[2]/div/div/div/div[1]/report-wrapper/div/div/ng2-canvas-container/div/div[11]/ng2-canvas-component/div/div/div/div/kpimetric-wrapper/div/ng2-kpimetric/div/div[2]').text,\n",
        "    'portugal' : driver.find_element_by_xpath('//*[@id=\"body\"]/div[2]/div/div/div/div[1]/report-wrapper/div/div/ng2-canvas-container/div/div[20]/ng2-canvas-component/div/div/div/div/kpimetric-wrapper/div/ng2-kpimetric/div/div[2]').text,\n",
        "    'europa' : driver.find_element_by_xpath('//*[@id=\"body\"]/div[2]/div/div/div/div[1]/report-wrapper/div/div/ng2-canvas-container/div/div[26]/ng2-canvas-component/div/div/div/div/kpimetric-wrapper/div/ng2-kpimetric/div/div[2]').text,\n",
        "    'asia' : driver.find_element_by_xpath('//*[@id=\"body\"]/div[2]/div/div/div/div[1]/report-wrapper/div/div/ng2-canvas-container/div/div[36]/ng2-canvas-component/div/div/div/div/kpimetric-wrapper/div/ng2-kpimetric/div/div[2]').text,\n",
        "    'suspensões' : driver.find_element_by_xpath('//*[@id=\"body\"]/div[2]/div/div/div/div[1]/report-wrapper/div/div/ng2-canvas-container/div/div[6]/ng2-canvas-component/div/div/div/div/kpimetric-wrapper/div/ng2-kpimetric/div/div[2]').text\n",
        "}\n",
        "\n",
        "base = {\n",
        "    'base' : driver.find_element_by_xpath('//*[@id=\"body\"]/div[2]/div/div/div/div[1]/report-wrapper/div/div/ng2-canvas-container/div/div[8]/ng2-canvas-component/div/div/div/div/kpimetric-wrapper/div/ng2-kpimetric/div/div[2]').text,\n",
        "    'eua' : driver.find_element_by_xpath('//*[@id=\"body\"]/div[2]/div/div/div/div[1]/report-wrapper/div/div/ng2-canvas-container/div/div[14]/ng2-canvas-component/div/div/div/div/kpimetric-wrapper/div/ng2-kpimetric/div/div[2]').text,\n",
        "    'portugal' : driver.find_element_by_xpath('//*[@id=\"body\"]/div[2]/div/div/div/div[1]/report-wrapper/div/div/ng2-canvas-container/div/div[23]/ng2-canvas-component/div/div/div/div/kpimetric-wrapper/div/ng2-kpimetric/div/div[2]').text,\n",
        "    'europa' : driver.find_element_by_xpath('//*[@id=\"body\"]/div[2]/div/div/div/div[1]/report-wrapper/div/div/ng2-canvas-container/div/div[29]/ng2-canvas-component/div/div/div/div/kpimetric-wrapper/div/ng2-kpimetric/div/div[2]').text,\n",
        "    'asia' : driver.find_element_by_xpath('//*[@id=\"body\"]/div[2]/div/div/div/div[1]/report-wrapper/div/div/ng2-canvas-container/div/div[39]/ng2-canvas-component/div/div/div/div/kpimetric-wrapper/div/ng2-kpimetric/div/div[2]').text\n",
        "}"
      ]
    },
    {
      "cell_type": "code",
      "source": [
        "print(entrantes)\n",
        "print(cancelados)\n",
        "print(base)"
      ],
      "metadata": {
        "colab": {
          "base_uri": "https://localhost:8080/"
        },
        "id": "UI5q6GlH3RBR",
        "outputId": "66abdac8-a0ea-4bf9-d6f4-881b6503fbf2"
      },
      "execution_count": null,
      "outputs": [
        {
          "output_type": "stream",
          "name": "stdout",
          "text": [
            "{'entrantes': '109', 'eua': '45', 'portugal': '28', 'europa': '34', 'asia': '2', 'reativações': '13'}\n",
            "{'cancelados': '276', 'eua': '117', 'portugal': '50', 'europa': '94', 'asia': '13', 'suspensões': '41'}\n",
            "{'base': '81,166', 'eua': '40,772', 'portugal': '14,610', 'europa': '22,605', 'asia': '2,943'}\n"
          ]
        }
      ]
    },
    {
      "cell_type": "markdown",
      "metadata": {
        "id": "fZJaVKKJ-DWP"
      },
      "source": [
        "# D-1"
      ]
    },
    {
      "cell_type": "code",
      "execution_count": null,
      "metadata": {
        "id": "xEMh_7Oi9-_f"
      },
      "outputs": [],
      "source": [
        "driver.get('https://datastudio.google.com/reporting/7e4bec96-228f-45ac-a284-b5c6deba6cd6/page/DdY9B') # muda pagina"
      ]
    },
    {
      "cell_type": "code",
      "execution_count": null,
      "metadata": {
        "colab": {
          "base_uri": "https://localhost:8080/"
        },
        "id": "cKAGtnUT-Egm",
        "outputId": "cfd8bea5-e80f-4c29-c80a-5629f33a34c0"
      },
      "outputs": [
        {
          "output_type": "execute_result",
          "data": {
            "text/plain": [
              "12"
            ]
          },
          "metadata": {},
          "execution_count": 41
        }
      ],
      "source": [
        "from datetime import datetime, timedelta\n",
        "today = date.today()\n",
        "yesterday = today - timedelta(days=1)\n",
        "yesterday.month"
      ]
    },
    {
      "cell_type": "code",
      "execution_count": null,
      "metadata": {
        "id": "ZfHF6BSQ-Fnp"
      },
      "outputs": [],
      "source": [
        "waitClick(driver,'//*[@id=\"body\"]/div[2]/div/div/div/div[1]/report-wrapper/div/div/ng2-canvas-container/div/div[17]/ng2-canvas-component/div/div/div/div/ga-date-range-picker-wrapper/ng2-date-range-picker/lego-date-duration-control/control-layout-wrapper/button/div[1]/span[1]/span[1]/main-section') # abre filtro calendario\n",
        "time.sleep(1)\n",
        "waitClick(driver, '//*[@id=\"select_value_label_1\"]/span[2]') # filtro\n",
        "time.sleep(1)\n",
        "waitClick(driver, '//*[@id=\"select_option_10\"]/div') # seleciona ontem\n",
        "time.sleep(1)\n",
        "driver.find_element_by_css_selector('.md-button.md-raised').click()\n",
        "time.sleep(2)"
      ]
    },
    {
      "cell_type": "code",
      "execution_count": null,
      "metadata": {
        "id": "MyoO6stE-HM8"
      },
      "outputs": [],
      "source": [
        "element_to_hover_over = driver.find_element_by_xpath('//*[@id=\"body\"]/div[2]/div/div/div/div[1]/report-wrapper/div/div/ng2-canvas-container/div/div[23]/ng2-canvas-component/div/div/div/div/combochart-wrapper/ng2-combochart-component/div')\n",
        "\n",
        "hover = ActionChains(driver).move_to_element(element_to_hover_over)\n",
        "hover.perform()\n",
        "\n",
        "\n",
        "time.sleep(1)\n",
        "reativacao = driver.find_element_by_xpath('//*[@id=\"body\"]/div[2]/div/div/div/div[2]/ul/li[2]/span[2]').text\n",
        "\n",
        "suspensao = driver.find_element_by_xpath('//*[@id=\"body\"]/div[2]/div/div/div/div[2]/ul/li[3]/span[2]').text"
      ]
    },
    {
      "cell_type": "code",
      "execution_count": null,
      "metadata": {
        "colab": {
          "base_uri": "https://localhost:8080/"
        },
        "id": "lXhddeX-cndg",
        "outputId": "89d84c8f-71f0-4102-fbc3-7a1af15f8b41"
      },
      "outputs": [
        {
          "output_type": "stream",
          "name": "stdout",
          "text": [
            "13\n",
            "41\n"
          ]
        }
      ],
      "source": [
        "print(reativacao)\n",
        "print(suspensao)"
      ]
    },
    {
      "cell_type": "markdown",
      "metadata": {
        "id": "z9EoIu9R9rqQ"
      },
      "source": [
        "# Top 3 assistidos"
      ]
    },
    {
      "cell_type": "code",
      "execution_count": null,
      "metadata": {
        "colab": {
          "base_uri": "https://localhost:8080/"
        },
        "id": "fi7MGsN4s9TI",
        "outputId": "eb38fd17-05ae-441e-c957-67e2505ea7b4"
      },
      "outputs": [
        {
          "output_type": "execute_result",
          "data": {
            "text/plain": [
              "['Globo ao vivo',\n",
              " 'Todas as Flores',\n",
              " 'Travessia',\n",
              " 'Globonews ao vivo',\n",
              " 'Lady Night',\n",
              " 'Flordelis: Questiona ou Adora',\n",
              " 'Avenida Brasil',\n",
              " 'América',\n",
              " 'Cara e Coragem',\n",
              " 'Verdades Secretas 2']"
            ]
          },
          "metadata": {},
          "execution_count": 45
        }
      ],
      "source": [
        "primeiro = driver.find_element_by_xpath('//*[@id=\"body\"]/div[2]/div/div/div/div[1]/report-wrapper/div/div/ng2-canvas-container/div/div[26]/ng2-canvas-component/div/div/div/div/barchart-wrapper/ng2-barchart-component/div/div[1]/div').text\n",
        "separados = primeiro.split('\\n')\n",
        "\n",
        "top10 = []\n",
        "for i in separados:\n",
        "    if i[0].isnumeric() == False:\n",
        "        top10.append(i)\n",
        "top10"
      ]
    },
    {
      "cell_type": "markdown",
      "metadata": {
        "id": "C4udFEDDvhGk"
      },
      "source": [
        "# Maior volume"
      ]
    },
    {
      "cell_type": "code",
      "execution_count": null,
      "metadata": {
        "id": "vU-SkC5eviEn"
      },
      "outputs": [],
      "source": [
        "hora = driver.find_element_by_xpath('//*[@id=\"body\"]/div[2]/div/div/div/div[1]/report-wrapper/div/div/ng2-canvas-container/div/div[27]/ng2-canvas-component/div/div/div/div/linechart-wrapper/ng2-linechart-component/div/div[1]/div').text\n",
        "hora = hora.split('\\n')"
      ]
    },
    {
      "cell_type": "code",
      "execution_count": null,
      "metadata": {
        "id": "y9p4ozTNzFGq"
      },
      "outputs": [],
      "source": [
        "l_replace = [s.replace(' AM', '') for s in hora]\n",
        "hora = [s.replace(' PM', '') for s in l_replace]\n",
        "hora = [s.replace(',5', '') for s in hora] # trata escala \"quebrada\" no gráfico"
      ]
    },
    {
      "cell_type": "code",
      "source": [
        "hora = hora[-24:]\n",
        "hora"
      ],
      "metadata": {
        "colab": {
          "base_uri": "https://localhost:8080/"
        },
        "id": "nQEDYy80tW41",
        "outputId": "8d0c26dd-c4fc-4971-d510-7df2d06fe1e4"
      },
      "execution_count": null,
      "outputs": [
        {
          "output_type": "execute_result",
          "data": {
            "text/plain": [
              "['5',\n",
              " '1',\n",
              " '0',\n",
              " '0',\n",
              " '2',\n",
              " '2',\n",
              " '4',\n",
              " '2',\n",
              " '1',\n",
              " '3',\n",
              " '5',\n",
              " '6',\n",
              " '4',\n",
              " '3',\n",
              " '10',\n",
              " '6',\n",
              " '8',\n",
              " '6',\n",
              " '4',\n",
              " '6',\n",
              " '0',\n",
              " '1',\n",
              " '5',\n",
              " '6']"
            ]
          },
          "metadata": {},
          "execution_count": 48
        }
      ]
    },
    {
      "cell_type": "code",
      "source": [
        "lista = list(map(int, hora[:])) # transforma lista e numeros inteiros\n",
        "lista.sort() # ordem decrescente\n",
        "max = lista[-1] # pega o ultimo valor (mais alto)\n",
        "lista = list(map(int, hora[:])) # pega lista original\n",
        "index  = lista.index(max) # retorna o index do valor valor maximo. sendo o index um paralelo com as horas do dia\n",
        "index"
      ],
      "metadata": {
        "colab": {
          "base_uri": "https://localhost:8080/"
        },
        "id": "b6yohKjQuyQJ",
        "outputId": "f066d457-58a8-4ce7-ee9e-3cd1e7221072"
      },
      "execution_count": null,
      "outputs": [
        {
          "output_type": "execute_result",
          "data": {
            "text/plain": [
              "14"
            ]
          },
          "metadata": {},
          "execution_count": 49
        }
      ]
    },
    {
      "cell_type": "code",
      "execution_count": null,
      "metadata": {
        "id": "tPAnZ0PevlHU"
      },
      "outputs": [],
      "source": [
        "# lista = list(map(int, hora[:]))\n",
        "# lista.sort()\n",
        "# max = lista[-1]\n",
        "# lista = list(map(int, hora[:]))\n",
        "# index  = lista.index(max)\n",
        "# index"
      ]
    },
    {
      "cell_type": "code",
      "execution_count": null,
      "metadata": {
        "id": "_0c2rqWUvoWU"
      },
      "outputs": [],
      "source": [
        "# lista = list(map(int, hora[index+1:]))\n",
        "# lista.sort()\n",
        "# max = lista[-1]\n",
        "# max"
      ]
    },
    {
      "cell_type": "code",
      "execution_count": null,
      "metadata": {
        "id": "llVjkjBryOu6"
      },
      "outputs": [],
      "source": [
        "# lista = list(map(int, hora[index+1:]))\n",
        "# # index  = lista[6:].index(max) # se entrantes menos que 12 #TESTE\n",
        "# index  = lista[:].index(max)\n",
        "# index"
      ]
    },
    {
      "cell_type": "markdown",
      "metadata": {
        "id": "C76bRi82Bi0n"
      },
      "source": [
        "# Território Japão"
      ]
    },
    {
      "cell_type": "code",
      "execution_count": null,
      "metadata": {
        "id": "0OY7J3AJ9Zlq"
      },
      "outputs": [],
      "source": [
        "driver.refresh()\n",
        "\n",
        "waitClick(driver,'//*[@id=\"body\"]/div[2]/div/div/div/div[1]/report-wrapper/div/div/ng2-canvas-container/div/div[17]/ng2-canvas-component/div/div/div/div/ga-date-range-picker-wrapper/ng2-date-range-picker/lego-date-duration-control/control-layout-wrapper/button/div[1]/span[1]/span[1]/main-section') # abre filtro calendario\n",
        "waitClick(driver, '//*[@id=\"select_value_label_1\"]/span[2]') # filtro\n",
        "waitClick(driver, '//*[@id=\"select_option_10\"]/div') # seleciona ontem\n",
        "driver.find_element_by_css_selector('.md-button.md-raised').click() # aplicar\n",
        "time.sleep(2)\n",
        "\n",
        "waitClick(driver,'//*[@id=\"body\"]/div[2]/div/div/div/div[1]/report-wrapper/div/div/ng2-canvas-container/div/div[37]/ng2-canvas-component/div/div/div/div/canvas-control-wrapper/ng2-canvas-control/canvas-control-host/control-layout-wrapper/button/div[1]') # abre país"
      ]
    },
    {
      "cell_type": "code",
      "source": [
        "driver.execute_script(\"document.body.style.zoom='50%'\")"
      ],
      "metadata": {
        "id": "4xh0Ua20xFei"
      },
      "execution_count": null,
      "outputs": []
    },
    {
      "cell_type": "code",
      "execution_count": null,
      "metadata": {
        "id": "22_enDZ49b-9",
        "colab": {
          "base_uri": "https://localhost:8080/"
        },
        "outputId": "0cfebe25-919e-440b-ab70-5a495ab8f080"
      },
      "outputs": [
        {
          "output_type": "stream",
          "name": "stdout",
          "text": [
            "['null', 'Australia', 'Austria', 'Belgium', 'Canada', 'Czechia', 'Denmark', 'France\\n僅', 'Germany', 'Indonesia', 'Ireland', 'Italy', 'Japan', 'Luxembourg', 'Netherlands', 'Portugal']\n"
          ]
        }
      ],
      "source": [
        "pais = 'Japan'\n",
        "actions = ActionChains(driver) \n",
        "for _ in range(50):\n",
        "    actions = actions.send_keys(Keys.TAB)\n",
        "    table_continente = driver.find_element_by_xpath('/html/body/canvas-control-editor/div/div/div/list-control/div/md-virtual-repeat-container/div/div[2]')\n",
        "\n",
        "    all_continente = table_continente.find_elements(By.XPATH, '*')\n",
        "    data = []\n",
        "\n",
        "    flag = 1\n",
        "    for i in all_continente: \n",
        "        data.append(i.text)\n",
        "        \n",
        "    print(data)\n",
        "    actions.perform()\n",
        "    \n",
        "    if pais in data:\n",
        "        break\n"
      ]
    },
    {
      "cell_type": "code",
      "execution_count": null,
      "metadata": {
        "id": "Rlp_Wpvk9eW-",
        "colab": {
          "base_uri": "https://localhost:8080/"
        },
        "outputId": "187b4325-f9f1-42e6-e35b-20700c7935fa"
      },
      "outputs": [
        {
          "output_type": "execute_result",
          "data": {
            "text/plain": [
              "['null',\n",
              " 'Australia',\n",
              " 'Austria',\n",
              " 'Belgium',\n",
              " 'Canada',\n",
              " 'Czechia',\n",
              " 'Denmark',\n",
              " 'France\\n僅',\n",
              " 'Germany',\n",
              " 'Indonesia',\n",
              " 'Ireland',\n",
              " 'Italy',\n",
              " 'Japan',\n",
              " 'Luxembourg',\n",
              " 'Netherlands',\n",
              " 'Portugal']"
            ]
          },
          "metadata": {},
          "execution_count": 56
        }
      ],
      "source": [
        "data"
      ]
    },
    {
      "cell_type": "code",
      "execution_count": null,
      "metadata": {
        "id": "EuSi39qt9fQF",
        "colab": {
          "base_uri": "https://localhost:8080/"
        },
        "outputId": "8ff2a2cf-e021-4900-c074-20377286afea"
      },
      "outputs": [
        {
          "output_type": "execute_result",
          "data": {
            "text/plain": [
              "13"
            ]
          },
          "metadata": {},
          "execution_count": 57
        }
      ],
      "source": [
        "idx = data.index(pais)+1\n",
        "idx"
      ]
    },
    {
      "cell_type": "code",
      "source": [
        "driver.execute_script(\"document.body.style.zoom='100%'\")"
      ],
      "metadata": {
        "id": "bn06i2T-xK4v"
      },
      "execution_count": null,
      "outputs": []
    },
    {
      "cell_type": "code",
      "execution_count": null,
      "metadata": {
        "id": "zGJB9osD9gpo"
      },
      "outputs": [],
      "source": [
        "au_xpath = '/html/body/canvas-control-editor/div/div/div/list-control/div/md-virtual-repeat-container/div/div[2]/div['+str(idx)+']'\n",
        "\n",
        "element_to_hover_over = driver.find_element_by_xpath(au_xpath)\n",
        "\n",
        "hover = ActionChains(driver).move_to_element(element_to_hover_over)\n",
        "hover.perform()\n",
        "\n",
        "time.sleep(1)\n",
        "\n",
        "waitClick(driver,'/html/body/canvas-control-editor/div/div/div/list-control/div/md-virtual-repeat-container/div/div[2]/div['+str(idx)+']/span[1]')\n",
        "\n",
        "driver.find_element_by_xpath('/html').send_keys(Keys.ESCAPE)\n"
      ]
    },
    {
      "cell_type": "code",
      "source": [
        "driver.find_element_by_xpath('/html/body/app-bootstrap/ng2-bootstrap/lego-router-outlet/reporting-view-manager/ng2-reporting-view/div/div[2]/div/div/div/div[1]/report-wrapper/div/div/ng2-canvas-container/div/div[37]/ng2-canvas-component/div/div/div/div/canvas-control-wrapper/ng2-canvas-control/canvas-control-host/control-layout-wrapper/button/div[1]/span[1]/span[1]/main-section/span').text"
      ],
      "metadata": {
        "id": "vzVZKsZUkcA6",
        "colab": {
          "base_uri": "https://localhost:8080/"
        },
        "outputId": "f2077f27-c979-478d-d5d0-46ef4afcb0f6"
      },
      "execution_count": null,
      "outputs": [
        {
          "output_type": "execute_result",
          "data": {
            "text/plain": [
              "': Japan'"
            ],
            "application/vnd.google.colaboratory.intrinsic+json": {
              "type": "string"
            }
          },
          "metadata": {},
          "execution_count": 60
        }
      ]
    },
    {
      "cell_type": "code",
      "execution_count": null,
      "metadata": {
        "id": "hKWo-Z7P9h40",
        "colab": {
          "base_uri": "https://localhost:8080/"
        },
        "outputId": "3a9124af-5ee5-43fa-9e72-f5c392d4caa9"
      },
      "outputs": [
        {
          "output_type": "stream",
          "name": "stdout",
          "text": [
            "1\n",
            "4\n",
            "1,366\n"
          ]
        }
      ],
      "source": [
        "time.sleep(5)\n",
        "# entrantes\n",
        "jp_ent = driver.find_element_by_xpath('/html/body/app-bootstrap/ng2-bootstrap/lego-router-outlet/reporting-view-manager/ng2-reporting-view/div/div[2]/div/div/div/div[1]/report-wrapper/div/div/ng2-canvas-container/div/div[13]/ng2-canvas-component/div/div/div/div/kpimetric-wrapper/div/ng2-kpimetric/div/div[2]').text\n",
        "print(jp_ent)\n",
        "\n",
        "# cancelamentos\n",
        "jp_can = driver.find_element_by_xpath('/html/body/app-bootstrap/ng2-bootstrap/lego-router-outlet/reporting-view-manager/ng2-reporting-view/div/div[2]/div/div/div/div[1]/report-wrapper/div/div/ng2-canvas-container/div/div[14]/ng2-canvas-component/div/div/div/div/kpimetric-wrapper/div/ng2-kpimetric/div/div[2]').text\n",
        "print(jp_can)\n",
        "\n",
        "# base\n",
        "jp_bas = driver.find_element_by_xpath('/html/body/app-bootstrap/ng2-bootstrap/lego-router-outlet/reporting-view-manager/ng2-reporting-view/div/div[2]/div/div/div/div[1]/report-wrapper/div/div/ng2-canvas-container/div/div[16]/ng2-canvas-component/div/div/div/div/kpimetric-wrapper/div/ng2-kpimetric/div/div[2]').text\n",
        "print(jp_bas)"
      ]
    },
    {
      "cell_type": "markdown",
      "metadata": {
        "id": "VnFm73oJEaFC"
      },
      "source": [
        "# Território Austrália"
      ]
    },
    {
      "cell_type": "code",
      "execution_count": null,
      "metadata": {
        "id": "FDotchk2rXyE"
      },
      "outputs": [],
      "source": [
        "driver.refresh()\n",
        "\n",
        "waitClick(driver,'//*[@id=\"body\"]/div[2]/div/div/div/div[1]/report-wrapper/div/div/ng2-canvas-container/div/div[17]/ng2-canvas-component/div/div/div/div/ga-date-range-picker-wrapper/ng2-date-range-picker/lego-date-duration-control/control-layout-wrapper/button/div[1]/span[1]/span[1]/main-section') # abre filtro calendario\n",
        "waitClick(driver, '//*[@id=\"select_value_label_1\"]/span[2]') # filtro\n",
        "waitClick(driver, '//*[@id=\"select_option_10\"]/div') # seleciona ontem\n",
        "driver.find_element_by_css_selector('.md-button.md-raised').click() # aplicar\n",
        "\n",
        "waitClick(driver,'//*[@id=\"body\"]/div[2]/div/div/div/div[1]/report-wrapper/div/div/ng2-canvas-container/div/div[37]/ng2-canvas-component/div/div/div/div/canvas-control-wrapper/ng2-canvas-control/canvas-control-host/control-layout-wrapper/button/div[1]') # abre país"
      ]
    },
    {
      "cell_type": "code",
      "source": [
        "driver.execute_script(\"document.body.style.zoom='50%'\")"
      ],
      "metadata": {
        "id": "K4HV719gyVz_"
      },
      "execution_count": null,
      "outputs": []
    },
    {
      "cell_type": "code",
      "execution_count": null,
      "metadata": {
        "id": "wSdvFo2Gmcs1",
        "colab": {
          "base_uri": "https://localhost:8080/"
        },
        "outputId": "a0ea562a-2efb-4d6b-b6cc-488552d294bd"
      },
      "outputs": [
        {
          "output_type": "stream",
          "name": "stdout",
          "text": [
            "['null', 'Australia', 'Austria', 'Belgium', 'Canada', 'Czechia', 'Denmark', 'France\\n僅', 'Germany', 'Indonesia', 'Ireland', 'Italy', 'Japan', 'Luxembourg', 'Netherlands', 'Portugal']\n"
          ]
        }
      ],
      "source": [
        "pais = 'Australia'\n",
        "actions = ActionChains(driver) \n",
        "for _ in range(50):\n",
        "    actions = actions.send_keys(Keys.TAB)\n",
        "    table_continente = driver.find_element_by_xpath('/html/body/canvas-control-editor/div/div/div/list-control/div/md-virtual-repeat-container/div/div[2]')\n",
        "\n",
        "    all_continente = table_continente.find_elements(By.XPATH, '*')\n",
        "    data = []\n",
        "\n",
        "    flag = 1\n",
        "    for i in all_continente: \n",
        "        data.append(i.text)\n",
        "        \n",
        "    print(data)\n",
        "    actions.perform()\n",
        "    \n",
        "    if pais in data:\n",
        "        break\n"
      ]
    },
    {
      "cell_type": "code",
      "execution_count": null,
      "metadata": {
        "id": "e4GJQgM-mfHB",
        "colab": {
          "base_uri": "https://localhost:8080/"
        },
        "outputId": "de648942-76a3-4ebe-d997-b8d8e1d9fcfb"
      },
      "outputs": [
        {
          "output_type": "execute_result",
          "data": {
            "text/plain": [
              "2"
            ]
          },
          "metadata": {},
          "execution_count": 65
        }
      ],
      "source": [
        "idx = data.index(pais)+1\n",
        "idx"
      ]
    },
    {
      "cell_type": "code",
      "source": [
        "driver.execute_script(\"document.body.style.zoom='100%'\")"
      ],
      "metadata": {
        "id": "jCzJmnEUyZBl"
      },
      "execution_count": null,
      "outputs": []
    },
    {
      "cell_type": "code",
      "execution_count": null,
      "metadata": {
        "id": "CeGZ6Ur7micr"
      },
      "outputs": [],
      "source": [
        "au_xpath = '/html/body/canvas-control-editor/div/div/div/list-control/div/md-virtual-repeat-container/div/div[2]/div['+str(idx)+']'\n",
        "\n",
        "element_to_hover_over = driver.find_element_by_xpath(au_xpath)\n",
        "\n",
        "hover = ActionChains(driver).move_to_element(element_to_hover_over)\n",
        "hover.perform()\n",
        "# time.sleep(1)\n",
        "\n",
        "waitClick(driver,'/html/body/canvas-control-editor/div/div/div/list-control/div/md-virtual-repeat-container/div/div[2]/div['+str(idx)+']/span[1]')\n",
        "\n",
        "driver.find_element_by_xpath('/html').send_keys(Keys.ESCAPE)"
      ]
    },
    {
      "cell_type": "code",
      "source": [
        "driver.find_element_by_xpath('/html/body/app-bootstrap/ng2-bootstrap/lego-router-outlet/reporting-view-manager/ng2-reporting-view/div/div[2]/div/div/div/div[1]/report-wrapper/div/div/ng2-canvas-container/div/div[37]/ng2-canvas-component/div/div/div/div/canvas-control-wrapper/ng2-canvas-control/canvas-control-host/control-layout-wrapper/button/div[1]/span[1]/span[1]/main-section/span').text"
      ],
      "metadata": {
        "id": "LKJixEXmmnLj",
        "colab": {
          "base_uri": "https://localhost:8080/"
        },
        "outputId": "860d581d-9ecd-4501-d4e5-b53557f9e6c5"
      },
      "execution_count": null,
      "outputs": [
        {
          "output_type": "execute_result",
          "data": {
            "text/plain": [
              "': Australia'"
            ],
            "application/vnd.google.colaboratory.intrinsic+json": {
              "type": "string"
            }
          },
          "metadata": {},
          "execution_count": 68
        }
      ]
    },
    {
      "cell_type": "code",
      "source": [
        "time.sleep(5)\n",
        "# entrantes\n",
        "au_ent = driver.find_element_by_xpath('/html/body/app-bootstrap/ng2-bootstrap/lego-router-outlet/reporting-view-manager/ng2-reporting-view/div/div[2]/div/div/div/div[1]/report-wrapper/div/div/ng2-canvas-container/div/div[13]/ng2-canvas-component/div/div/div/div/kpimetric-wrapper/div/ng2-kpimetric/div/div[2]').text\n",
        "print(au_ent)\n",
        "\n",
        "# cancelamentos\n",
        "au_can = driver.find_element_by_xpath('/html/body/app-bootstrap/ng2-bootstrap/lego-router-outlet/reporting-view-manager/ng2-reporting-view/div/div[2]/div/div/div/div[1]/report-wrapper/div/div/ng2-canvas-container/div/div[14]/ng2-canvas-component/div/div/div/div/kpimetric-wrapper/div/ng2-kpimetric/div/div[2]').text\n",
        "print(au_can)\n",
        "\n",
        "# base\n",
        "au_bas = driver.find_element_by_xpath('/html/body/app-bootstrap/ng2-bootstrap/lego-router-outlet/reporting-view-manager/ng2-reporting-view/div/div[2]/div/div/div/div[1]/report-wrapper/div/div/ng2-canvas-container/div/div[16]/ng2-canvas-component/div/div/div/div/kpimetric-wrapper/div/ng2-kpimetric/div/div[2]').text\n",
        "print(au_bas)"
      ],
      "metadata": {
        "id": "4iiF6C7dxV-Q",
        "colab": {
          "base_uri": "https://localhost:8080/"
        },
        "outputId": "21b0ed20-8369-4727-ba8d-2bb59edae1bd"
      },
      "execution_count": null,
      "outputs": [
        {
          "output_type": "stream",
          "name": "stdout",
          "text": [
            "1\n",
            "9\n",
            "1,582\n"
          ]
        }
      ]
    },
    {
      "cell_type": "markdown",
      "metadata": {
        "id": "RehdgnO_FEP8"
      },
      "source": [
        "# D-2"
      ]
    },
    {
      "cell_type": "code",
      "execution_count": null,
      "metadata": {
        "id": "4tF6HmF4xf0_"
      },
      "outputs": [],
      "source": [
        "driver.refresh()\n",
        "\n",
        "waitClick(driver,'//*[@id=\"body\"]/div[2]/div/div/div/div[1]/report-wrapper/div/div/ng2-canvas-container/div/div[17]/ng2-canvas-component/div/div/div/div/ga-date-range-picker-wrapper/ng2-date-range-picker/lego-date-duration-control/control-layout-wrapper/button/div[1]/span[1]/span[1]/main-section') # abre filtro calendario\n",
        "waitClick(driver, '//*[@id=\"select_value_label_1\"]/span[2]') # filtro\n",
        "waitClick(driver, '//*[@id=\"select_option_10\"]/div') # seleciona ontem\n",
        "driver.find_element_by_css_selector('.md-button.md-raised').click() # aplicar\n"
      ]
    },
    {
      "cell_type": "code",
      "source": [
        "waitClick(driver,'//*[@id=\"body\"]/div[2]/div/div/div/div[1]/report-wrapper/div/div/ng2-canvas-container/div/div[37]/ng2-canvas-component/div/div/div/div/canvas-control-wrapper/ng2-canvas-control/canvas-control-host/control-layout-wrapper/button/div[1]') # abre país\n",
        "\n",
        "waitClick(driver, '/html/body/canvas-control-editor/div/div/div/list-control/div/div/md-checkbox/div[2]')\n",
        "time.sleep(2)\n",
        "driver.find_element_by_xpath('/html').send_keys(Keys.ESCAPE)"
      ],
      "metadata": {
        "id": "lHaMI4QMSNBh"
      },
      "execution_count": null,
      "outputs": []
    },
    {
      "cell_type": "code",
      "execution_count": null,
      "metadata": {
        "id": "B6eaW28ty-o_",
        "colab": {
          "base_uri": "https://localhost:8080/",
          "height": 36
        },
        "outputId": "dd33cb97-e42d-4924-ad46-548d1e267dde"
      },
      "outputs": [
        {
          "output_type": "execute_result",
          "data": {
            "text/plain": [
              "'2022年12月19日'"
            ],
            "application/vnd.google.colaboratory.intrinsic+json": {
              "type": "string"
            }
          },
          "metadata": {},
          "execution_count": 72
        }
      ],
      "source": [
        "driver.find_element_by_xpath('//*[@id=\"body\"]/div[2]/div/div/div/div[1]/report-wrapper/div/div/ng2-canvas-container/div/div[17]/ng2-canvas-component/div/div/div/div/ga-date-range-picker-wrapper/ng2-date-range-picker/lego-date-duration-control/control-layout-wrapper/button/div[1]').click() # abre calendário\n",
        "data_txt = driver.find_element_by_xpath('//*[@id=\"body\"]/div[2]/div/div/div/div[1]/report-wrapper/div/div/ng2-canvas-container/div/div[17]/ng2-canvas-component/div/div/div/div/ga-date-range-picker-wrapper/ng2-date-range-picker/lego-date-duration-control/control-layout-wrapper/button/div[1]/span[1]/span[1]/main-section').text\n",
        "\n",
        "d_1 = data_txt.split(' ')[0]  # pega valor dia. Se o colab mudar o idioma de BR para US, mudar de [0] para [1]\n",
        "# d_1 = data_txt.split(' ')\n",
        "# d_1 = d_1[1].replace(',', '')\n",
        "d_1"
      ]
    },
    {
      "cell_type": "code",
      "execution_count": null,
      "metadata": {
        "id": "ICB5T_RnyVij"
      },
      "outputs": [],
      "source": [
        "driver.refresh()"
      ]
    },
    {
      "cell_type": "code",
      "execution_count": null,
      "metadata": {
        "id": "9MHJbZ0MyW08"
      },
      "outputs": [],
      "source": [
        "waitClick(driver,'//*[@id=\"body\"]/div[2]/div/div/div/div[1]/report-wrapper/div/div/ng2-canvas-container/div/div[17]/ng2-canvas-component/div/div/div/div/ga-date-range-picker-wrapper/ng2-date-range-picker/lego-date-duration-control/control-layout-wrapper/button/div[1]/span[1]/span[1]/main-section') # abre filtro calendario"
      ]
    },
    {
      "cell_type": "code",
      "source": [
        "import numpy as np\n",
        "rang = range(1,70,1)\n",
        "\n",
        "for i in rang:\n",
        "  try:\n",
        "    mes_inicio = driver.find_element_by_xpath('/html/body/div['+str(i)+']/div[1]/div[2]/div[2]/table/thead/tr[1]/th[2]/button/strong').text\n",
        "    print(mes_inicio.split(' ')[0])\n",
        "\n",
        "    mes_termino = driver.find_element_by_xpath('/html/body/div['+str(i)+']/div[1]/div[3]/div[2]/table/thead/tr[1]/th[2]/button/strong').text\n",
        "    print(mes_termino.split(' ')[0])\n",
        "\n",
        "    if mes_inicio != mes_termino: driver.find_element_by_xpath('/html/body/div['+str(i)+']/div[1]/div[2]/div[2]/table/thead/tr[1]/th[3]/button').click()\n",
        "  except:\n",
        "    pass"
      ],
      "metadata": {
        "id": "fexuqoodTQbu",
        "colab": {
          "base_uri": "https://localhost:8080/"
        },
        "outputId": "a2d71c6e-2442-4d2a-8211-db3819cebede"
      },
      "execution_count": null,
      "outputs": [
        {
          "output_type": "stream",
          "name": "stdout",
          "text": [
            "2022年12月\n",
            "2022年12月\n"
          ]
        }
      ]
    },
    {
      "cell_type": "code",
      "execution_count": null,
      "metadata": {
        "id": "za5Wk2YiyjjY"
      },
      "outputs": [],
      "source": [
        "import numpy as np\n",
        "tr = np.arange(1,7,1).tolist()\n",
        "td = np.arange(1,8,1).tolist()\n",
        "\n",
        "rang = range(1,70,1)\n",
        "\n",
        "for i in rang:\n",
        "  try:\n",
        "    for semana in tr:\n",
        "        for dia in td:              \n",
        "            searcher = driver.find_element_by_xpath('/html/body/div['+str(i)+']/div[1]/div[3]/div[2]/table/tbody/tr['+str(semana)+']/td['+str(dia)+']').text\n",
        "            \n",
        "            if searcher == d_1:\n",
        "                print(semana,dia)\n",
        "                break\n",
        "        if searcher == d_1:\n",
        "                break\n",
        "\n",
        "                      \n",
        "    if dia != 1:                   \n",
        "        driver.find_element_by_xpath('/html/body/div['+str(i)+']/div[1]/div[2]/div[2]/table/tbody/tr['+str(semana)+']/td['+str(dia-1)+']').click()\n",
        "        driver.find_element_by_xpath('/html/body/div['+str(i)+']/div[1]/div[3]/div[2]/table/tbody/tr['+str(semana)+']/td['+str(dia-1)+']').click()\n",
        "    else:\n",
        "        driver.find_element_by_xpath('/html/body/div['+str(i)+']/div[1]/div[2]/div[2]/table/tbody/tr['+str(semana-1)+']/td['+str(7)+']').click()\n",
        "        driver.find_element_by_xpath('/html/body/div['+str(i)+']/div[1]/div[3]/div[2]/table/tbody/tr['+str(semana-1)+']/td['+str(7)+']').click()\n",
        "\n",
        "    driver.find_element_by_xpath('/html/body/div['+str(i)+']/div[2]/button[1]').click()\n",
        "  except:\n",
        "    pass"
      ]
    },
    {
      "cell_type": "code",
      "source": [
        "d_2_bas = driver.find_element_by_xpath('/html/body/app-bootstrap/ng2-bootstrap/lego-router-outlet/reporting-view-manager/ng2-reporting-view/div/div[2]/div/div/div/div[1]/report-wrapper/div/div/ng2-canvas-container/div/div[16]/ng2-canvas-component/div/div/div/div/kpimetric-wrapper/div/ng2-kpimetric/div/div[2]').text\n",
        "print(d_2_bas)"
      ],
      "metadata": {
        "id": "5__Fzw17SSzS",
        "colab": {
          "base_uri": "https://localhost:8080/"
        },
        "outputId": "98794f9c-b999-498a-d2a1-11c714694b27"
      },
      "execution_count": null,
      "outputs": [
        {
          "output_type": "stream",
          "name": "stdout",
          "text": [
            "81,166\n"
          ]
        }
      ]
    },
    {
      "cell_type": "markdown",
      "metadata": {
        "id": "Bs84HfOQ0D2a"
      },
      "source": [
        "# M-1"
      ]
    },
    {
      "cell_type": "code",
      "execution_count": null,
      "metadata": {
        "id": "L87pz9JfypFG"
      },
      "outputs": [],
      "source": [
        "driver.refresh()"
      ]
    },
    {
      "cell_type": "code",
      "execution_count": null,
      "metadata": {
        "id": "FQXJGfNhypwf"
      },
      "outputs": [],
      "source": [
        "waitClick(driver,'//*[@id=\"body\"]/div[2]/div/div/div/div[1]/report-wrapper/div/div/ng2-canvas-container/div/div[17]/ng2-canvas-component/div/div/div/div/ga-date-range-picker-wrapper/ng2-date-range-picker/lego-date-duration-control/control-layout-wrapper/button/div[1]/span[1]/span[1]/main-section') # abre filtro calendario\n",
        "waitClick(driver, '//*[@id=\"select_value_label_1\"]/span[2]') # filtro\n",
        "waitClick(driver, '//*[@id=\"select_option_19\"]/div') # seleciona m-1\n",
        "driver.find_element_by_css_selector('.md-button.md-raised').click() # aplicar"
      ]
    },
    {
      "cell_type": "code",
      "source": [
        "waitClick(driver,'//*[@id=\"body\"]/div[2]/div/div/div/div[1]/report-wrapper/div/div/ng2-canvas-container/div/div[17]/ng2-canvas-component/div/div/div/div/ga-date-range-picker-wrapper/ng2-date-range-picker/lego-date-duration-control/control-layout-wrapper/button/div[1]/span[1]/span[1]/main-section') # abre filtro calendario\n",
        "time.sleep(2)\n",
        "rang = range(1,70,1)\n",
        "flag = 0\n",
        "for i in rang:\n",
        "  try:\n",
        "\n",
        "    tr = np.arange(2,7,1).tolist()\n",
        "    td = np.arange(1,8,1).tolist()\n",
        "    aux = 0\n",
        "\n",
        "    for semana in tr:\n",
        "        for dia in td:              \n",
        "            searcher = int(driver.find_element_by_xpath('/html/body/div['+str(i)+']/div[1]/div[3]/div[2]/table/tbody/tr['+str(semana)+']/td['+str(dia)+']').text)\n",
        "            if searcher >= aux:\n",
        "                aux = searcher\n",
        "            else:\n",
        "                if dia != 1:\n",
        "                    print(dia)\n",
        "                    driver.find_element_by_xpath('/html/body/div['+str(i)+']/div[1]/div[2]/div[2]/table/tbody/tr['+str(semana)+']/td['+str(dia-1)+']').click()\n",
        "                    flag = 1\n",
        "                if flag == 1: break\n",
        "                else:\n",
        "                    print(dia)\n",
        "                    driver.find_element_by_xpath('/html/body/div['+str(i)+']/div[1]/div[2]/div[2]/table/tbody/tr['+str(semana-1)+']/td['+str(7)+']').click()\n",
        "                break\n",
        "            \n",
        "            \n",
        "    driver.find_element_by_xpath('/html/body/div['+str(i)+']/div[2]/button[1]').click()\n",
        "  except:\n",
        "    pass"
      ],
      "metadata": {
        "id": "C8Bk8WUuRiBl",
        "colab": {
          "base_uri": "https://localhost:8080/"
        },
        "outputId": "ee3de385-fd22-46ce-9596-b7f6ba937f84"
      },
      "execution_count": null,
      "outputs": [
        {
          "output_type": "stream",
          "name": "stdout",
          "text": [
            "5\n"
          ]
        }
      ]
    },
    {
      "cell_type": "code",
      "execution_count": null,
      "metadata": {
        "id": "Nq8nGlv3yvcT",
        "colab": {
          "base_uri": "https://localhost:8080/"
        },
        "outputId": "1cdd98be-5180-4e23-c00d-c65152d793e0"
      },
      "outputs": [
        {
          "output_type": "execute_result",
          "data": {
            "text/plain": [
              "'81,008'"
            ],
            "application/vnd.google.colaboratory.intrinsic+json": {
              "type": "string"
            }
          },
          "metadata": {},
          "execution_count": 81
        }
      ],
      "source": [
        "time.sleep(1)\n",
        "# base m-1\n",
        "element_to_hover_over = driver.find_element_by_xpath('//*[@id=\"body\"]/div[2]/div/div/div/div[1]/report-wrapper/div/div/ng2-canvas-container/div/div[19]/ng2-canvas-component/div/div/div/div/barchart-wrapper/ng2-barchart-component/div/div[1]/div')\n",
        "\n",
        "hover = ActionChains(driver).move_to_element(element_to_hover_over)\n",
        "hover.perform()\n",
        "\n",
        "m_1_bas = driver.find_element_by_xpath('//*[@id=\"body\"]/div[2]/div/div/div/div[2]/ul/li[7]/span[2]').text\n",
        "m_1_bas"
      ]
    },
    {
      "cell_type": "markdown",
      "metadata": {
        "id": "cmXJYjRAyxs_"
      },
      "source": [
        "# Copy & Paste"
      ]
    },
    {
      "cell_type": "code",
      "execution_count": null,
      "metadata": {
        "id": "vSAYiilhyzA_",
        "colab": {
          "base_uri": "https://localhost:8080/"
        },
        "outputId": "e5af90b0-c3d6-4603-dfb8-c06f7fdc4098"
      },
      "outputs": [
        {
          "output_type": "stream",
          "name": "stdout",
          "text": [
            "*Bom dia, Time de NI!*\n",
            "Ontem, dia 19/12, tivemos:\n",
            "\n",
            "📥 *109* Entrantes.\n",
            "🇺🇸 45(41%)\t🇪🇺 34(31%)\t🇵🇹 28(26%)\t🇯🇵 1(1%)\t\t🇦🇺 1(1%)\n",
            "_Origem desconhecida: 0_\n",
            "_Reativações: 13_\n",
            "\n",
            "📤 *276* Cancelamentos.\n",
            "🇺🇸 117(42%)\t🇪🇺 94(34%)\t🇵🇹 50(18%)\t🇯🇵 4(1%)\t\t🇦🇺 9(3%)\n",
            "_Origem desconhecida: 2_\n",
            "_Suspensões: 41_\n",
            "\n",
            "👨‍👩‍👧‍👦 *81.166* de Base.\n",
            "🇺🇸 40.772(50%)\t🇪🇺 22.605(28%)\t🇵🇹 14.610(18%)\t🇯🇵 1.366(2%)\t🇦🇺 1.582(2%)\n",
            "📈 0 usuários em relação ao dia anterior.\n",
            "📈 0.2% em relação ao mês anterior.\n",
            "\n",
            "🎞️ Os First Views foram liderados por *Globo ao vivo*, seguido por *Todas as Flores* e *Travessia*.\n",
            "\n",
            "🕗 O maior volume de entrantes ocorreu às 14h (Horário de Brasília)\n",
            "\n",
            "*Comentários*: \n",
            "\n"
          ]
        }
      ],
      "source": [
        "bom_dia = '*Bom dia, Time de NI!*\\nOntem, dia {}/{}, tivemos:'.format(yesterday.day, yesterday.month)\n",
        "\n",
        "entrantes_txt = '\\n\\n📥 *{}* Entrantes.\\n🇺🇸 {}({}%)\\t🇪🇺 {}({}%)\\t🇵🇹 {}({}%)\\t🇯🇵 {}({}%)\\t\\t🇦🇺 {}({}%)'.format(entrantes['entrantes'].replace(',','').replace('.',''),entrantes['eua'].replace(',','').replace('.',''), round(int(entrantes['eua'].replace(',','').replace('.',''))/int(entrantes['entrantes'].replace(',','').replace('.',''))*100),entrantes['europa'].replace(',','').replace('.',''), round(int(entrantes['europa'].replace(',','').replace('.',''))/int(entrantes['entrantes'].replace(',','').replace('.',''))*100),entrantes['portugal'].replace(',','').replace('.',''), round(int(entrantes['portugal'].replace(',','').replace('.',''))/int(entrantes['entrantes'].replace(',','').replace('.',''))*100), jp_ent.replace(',','').replace('.',''), round(int(jp_ent.replace(',','').replace('.',''))/int(entrantes['entrantes'].replace(',','').replace('.',''))*100), au_ent.replace(',','').replace('.',''), round(int(au_ent.replace(',','').replace('.',''))/int(entrantes['entrantes'].replace(',','').replace('.',''))*100))\n",
        "\n",
        "ent_orig_desc = '\\n_Origem desconhecida: {}_'.format(int(entrantes['entrantes'].replace(',','').replace('.',''))-(int(entrantes['eua'].replace(',','').replace('.',''))+int(entrantes['europa'].replace(',','').replace('.',''))+int(entrantes['portugal'].replace(',','').replace('.',''))+int(jp_ent.replace(',','').replace('.',''))+int(au_ent.replace(',','').replace('.',''))))\n",
        "\n",
        "reativacao_txt = '\\n_Reativações: {}_'.format(reativacao)\n",
        "\n",
        "\n",
        "\n",
        "cancelados_txt = '\\n\\n📤 *{}* Cancelamentos.\\n🇺🇸 {}({}%)\\t🇪🇺 {}({}%)\\t🇵🇹 {}({}%)\\t🇯🇵 {}({}%)\\t\\t🇦🇺 {}({}%)'.format(cancelados['cancelados'].replace(',','').replace('.',''),cancelados['eua'].replace(',','').replace('.',''), round(int(cancelados['eua'].replace(',','').replace('.',''))/int(cancelados['cancelados'].replace(',','').replace('.',''))*100),cancelados['europa'].replace(',','').replace('.',''), round(int(cancelados['europa'].replace(',','').replace('.',''))/int(cancelados['cancelados'].replace(',','').replace('.',''))*100),cancelados['portugal'].replace(',','').replace('.',''), round(int(cancelados['portugal'].replace(',','').replace('.',''))/int(cancelados['cancelados'].replace(',','').replace('.',''))*100), jp_can.replace(',','').replace('.',''), round(int(jp_can.replace(',','').replace('.',''))/int(cancelados['cancelados'].replace(',','').replace('.',''))*100), au_can.replace(',','').replace('.',''), round(int(au_can.replace(',','').replace('.',''))/int(cancelados['cancelados'].replace(',','').replace('.',''))*100))\n",
        "\n",
        "can_orig_desc = '\\n_Origem desconhecida: {}_'.format(int(cancelados['cancelados'].replace(',','').replace('.',''))-(int(cancelados['eua'].replace(',','').replace('.',''))+int(cancelados['europa'].replace(',','').replace('.',''))+int(cancelados['portugal'].replace(',','').replace('.',''))+int(jp_can.replace(',','').replace('.',''))+int(au_can.replace(',','').replace('.',''))))\n",
        "\n",
        "suspensao_txt = '\\n_Suspensões: {}_'.format(suspensao)\n",
        "\n",
        "\n",
        "\n",
        "base_txt = '\\n\\n👨‍👩‍👧‍👦 *{}* de Base.\\n🇺🇸 {}({}%)\\t🇪🇺 {}({}%)\\t🇵🇹 {}({}%)\\t🇯🇵 {}({}%)\\t🇦🇺 {}({}%)'.format(base['base'].replace(',','.'),base['eua'].replace(',','.'), round(int(base['eua'].replace(',','').replace('.',''))/int(base['base'].replace(',','').replace('.',''))*100),base['europa'].replace(',','.'), round(int(base['europa'].replace(',','').replace('.',''))/int(base['base'].replace(',','').replace('.',''))*100),base['portugal'].replace(',','.'), round(int(base['portugal'].replace(',','').replace('.',''))/int(base['base'].replace(',','').replace('.',''))*100),  jp_bas.replace(',','.'), round(int(jp_bas.replace(',','').replace('.',''))/int(base['base'].replace(',','').replace('.',''))*100), au_bas.replace(',','.'), round(int(au_bas.replace(',','').replace('.',''))/int(base['base'].replace(',','').replace('.',''))*100))\n",
        "\n",
        "d_2_txt = '\\n📈 {} usuários em relação ao dia anterior.'.format(int(base['base'].replace(',','').replace('.','')) - int(d_2_bas.replace(',','').replace('.','')))\n",
        "\n",
        "m_1_txt = '\\n📈 {}% em relação ao mês anterior.'.format(round((int(base['base'].replace(',','').replace('.',''))- int(m_1_bas.replace(',','').replace('.',''))) / int(m_1_bas.replace(',','').replace('.',''))*100,2))\n",
        "\n",
        "first_views = ('\\n\\n🎞️ Os First Views foram liderados por *{}*, seguido por *{}* e *{}*.'.format(top10[0],top10[1],top10[2]))\n",
        "\n",
        "maior_volume = '\\n\\n🕗 O maior volume de entrantes ocorreu às {}h (Horário de Brasília)'.format(index)\n",
        "\n",
        "comentario = '\\n\\n*Comentários*: \\n{}'.format('')\n",
        "\n",
        "print(''.join([bom_dia, entrantes_txt, ent_orig_desc, reativacao_txt, cancelados_txt, can_orig_desc, suspensao_txt, base_txt, d_2_txt, m_1_txt, first_views, maior_volume, comentario]))\n",
        "\n",
        "driver.close()"
      ]
    },
    {
      "cell_type": "code",
      "source": [
        "int(base['base'].replace(',','').replace('.',''))"
      ],
      "metadata": {
        "colab": {
          "base_uri": "https://localhost:8080/"
        },
        "id": "BX1eQabkPgmN",
        "outputId": "b8f04df7-5678-4ae1-831c-301eeb09f015"
      },
      "execution_count": null,
      "outputs": [
        {
          "output_type": "execute_result",
          "data": {
            "text/plain": [
              "81166"
            ]
          },
          "metadata": {},
          "execution_count": 84
        }
      ]
    },
    {
      "cell_type": "code",
      "source": [
        "- int(d_2_bas.replace(',','').replace('.',''))"
      ],
      "metadata": {
        "colab": {
          "base_uri": "https://localhost:8080/"
        },
        "id": "dje6xPUmPjyD",
        "outputId": "b62c2c95-290e-422c-b021-a627ca54bd76"
      },
      "execution_count": null,
      "outputs": [
        {
          "output_type": "execute_result",
          "data": {
            "text/plain": [
              "-81166"
            ]
          },
          "metadata": {},
          "execution_count": 85
        }
      ]
    }
  ],
  "metadata": {
    "colab": {
      "provenance": [],
      "authorship_tag": "ABX9TyOaHByhu3E8yJ5SqVZXzIyR",
      "include_colab_link": true
    },
    "kernelspec": {
      "display_name": "Python 3",
      "name": "python3"
    },
    "language_info": {
      "name": "python"
    }
  },
  "nbformat": 4,
  "nbformat_minor": 0
}