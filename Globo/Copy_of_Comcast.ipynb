{
  "nbformat": 4,
  "nbformat_minor": 0,
  "metadata": {
    "colab": {
      "provenance": [],
      "authorship_tag": "ABX9TyNO+OnfVIo4gyEU+S0r4zzS",
      "include_colab_link": true
    },
    "kernelspec": {
      "name": "python3",
      "display_name": "Python 3"
    },
    "language_info": {
      "name": "python"
    }
  },
  "cells": [
    {
      "cell_type": "markdown",
      "metadata": {
        "id": "view-in-github",
        "colab_type": "text"
      },
      "source": [
        "<a href=\"https://colab.research.google.com/github/KValim/Projetcs/blob/main/Globo/Copy_of_Comcast.ipynb\" target=\"_parent\"><img src=\"https://colab.research.google.com/assets/colab-badge.svg\" alt=\"Open In Colab\"/></a>"
      ]
    },
    {
      "cell_type": "markdown",
      "source": [
        "# libs and funcs"
      ],
      "metadata": {
        "id": "iECgdjneefa7"
      }
    },
    {
      "cell_type": "code",
      "source": [
        "pip install pmdarima"
      ],
      "metadata": {
        "id": "CQd04lvzTj_M"
      },
      "execution_count": null,
      "outputs": []
    },
    {
      "cell_type": "code",
      "source": [
        "pip install statsmodels==0.11.0"
      ],
      "metadata": {
        "id": "qTgwfEvznaCY"
      },
      "execution_count": null,
      "outputs": []
    },
    {
      "cell_type": "code",
      "execution_count": 3,
      "metadata": {
        "id": "DbB8OL5JOgio"
      },
      "outputs": [],
      "source": [
        "import pandas as pd\n",
        "import glob\n",
        "import numpy as np\n",
        "import seaborn as sn\n",
        "import matplotlib.pyplot as plt\n",
        "from statsmodels.graphics.tsaplots import plot_pacf, plot_acf\n",
        "from statsmodels.tsa.statespace.sarimax import SARIMAX\n",
        "from statsmodels.tsa.stattools import pacf\n",
        "# from statsmodels.compat.numpy import NP_LT_123\n",
        "from pmdarima.arima import auto_arima"
      ]
    },
    {
      "cell_type": "code",
      "source": [
        "def calcsmape(actual, forecast):\n",
        "    return 1/len(actual) * np.sum(2 * np.abs(forecast-actual) / (np.abs(actual) + np.abs(forecast)))"
      ],
      "metadata": {
        "id": "osFs_0QgYTMH"
      },
      "execution_count": 4,
      "outputs": []
    },
    {
      "cell_type": "markdown",
      "source": [
        "# COMCAST CABLE COMMUNICATIONS LLC"
      ],
      "metadata": {
        "id": "mc2OX0Srj08U"
      }
    },
    {
      "cell_type": "code",
      "source": [
        "data = pd.read_excel('OPERADOR.xlsx', header = 2)\n",
        "data = data[data['OPERADOR'] == 'COMCAST CABLE COMMUNICATIONS LLC']\n",
        "data = data.drop(columns='OPERADOR')\n",
        "data = data.rename(columns = {'Atributo' : 'Date', 'mBaseAssinantesMescla' : 'Sales'})\n",
        "data = data.set_index('Date')\n",
        "data.index = pd.to_datetime(data.index)\n",
        "print(data)\n",
        "print(data.plot(figsize=(15,5)))"
      ],
      "metadata": {
        "id": "LiCp1KOYX7WL"
      },
      "execution_count": null,
      "outputs": []
    },
    {
      "cell_type": "code",
      "source": [
        "data = data[3+(12*0):-8] # ajustando a data inicial para começar em janeiro e a final para terminar em dezembro\n",
        "data = data.replace(38814,21967) # normalizando o outlier\n",
        "print(data)\n",
        "print(data.plot(figsize=(15,5)))"
      ],
      "metadata": {
        "id": "Yd7oUl3xQvVN"
      },
      "execution_count": null,
      "outputs": []
    },
    {
      "cell_type": "code",
      "source": [
        "TEST_SIZE = 12*1 # quantidade de meses*anos de teste\n",
        "train, test = data.iloc[:-TEST_SIZE], data.iloc[-TEST_SIZE:]\n",
        "x_train, x_test = np.array(range(train.shape[0])), np.array(range(train.shape[0], data.shape[0]))\n",
        "train.shape, x_train.shape, test.shape, x_test.shape"
      ],
      "metadata": {
        "id": "dpEzbhaSQz8J"
      },
      "execution_count": null,
      "outputs": []
    },
    {
      "cell_type": "code",
      "source": [
        "fig, ax = plt.subplots(1, 1, figsize=(15, 5))\n",
        "ax.plot(x_train, train) # azul treino\n",
        "ax.plot(x_test, test) # laranja teste"
      ],
      "metadata": {
        "id": "Sbd4D2gTRAsL"
      },
      "execution_count": null,
      "outputs": []
    },
    {
      "cell_type": "code",
      "source": [
        "# normalizando com log\n",
        "data_log = np.log(data)\n",
        "data_log_log = np.log(data_log)\n",
        "(data_log_log.plot(figsize=(15,5)))"
      ],
      "metadata": {
        "id": "b-z-f4z6zE5K"
      },
      "execution_count": null,
      "outputs": []
    },
    {
      "cell_type": "code",
      "source": [
        "model = auto_arima( np.log(np.log(train[\"Sales\"])),\n",
        "                    start_p=0, start_q=0,\n",
        "                    test='adf',\n",
        "                    max_p=8, max_q=8,\n",
        "                    m=1,             \n",
        "                    d=1,          \n",
        "                    seasonal=False,   \n",
        "                    start_P=0, \n",
        "                    D=None, \n",
        "                    trace=True,\n",
        "                    error_action='ignore',  \n",
        "                    suppress_warnings=True, \n",
        "                    stepwise=False)\n",
        "\n",
        "print(model.summary())"
      ],
      "metadata": {
        "id": "NlBDXO7cRoUx"
      },
      "execution_count": null,
      "outputs": []
    },
    {
      "cell_type": "code",
      "source": [
        "prediction, confint = model.predict(n_periods=TEST_SIZE+(12*6), return_conf_int=True) # retorna a previsão 6 anos para frente\n",
        "prediction = np.exp(np.exp(prediction)) # desfaz a exponencial\n",
        "print(prediction)\n",
        "prediction.plot()"
      ],
      "metadata": {
        "id": "7I7EUeirSCQ8"
      },
      "execution_count": null,
      "outputs": []
    },
    {
      "cell_type": "code",
      "source": [
        "cf= pd.DataFrame(np.exp(np.exp(confint)))"
      ],
      "metadata": {
        "id": "DPRMZOixSFR_"
      },
      "execution_count": null,
      "outputs": []
    },
    {
      "cell_type": "code",
      "source": [
        "prediction_series = pd.Series(prediction,index=prediction.index)\n",
        "fig, ax = plt.subplots(1, 1, figsize=(15, 5))\n",
        "ax.plot(data.Sales)\n",
        "ax.plot(prediction_series)\n",
        "ax.fill_between(prediction_series.index,\n",
        "                cf[0],\n",
        "                cf[1],color='grey',alpha=.3)\n",
        "plt.grid(color='b', linestyle='-', linewidth=0.06)\n",
        "ax.set_ylim([0, max(data.Sales)])"
      ],
      "metadata": {
        "id": "lpZR2aT0znJo"
      },
      "execution_count": null,
      "outputs": []
    },
    {
      "cell_type": "code",
      "source": [
        "model.plot_diagnostics(figsize=(14,10))\n",
        "plt.show()"
      ],
      "metadata": {
        "id": "H0ynJpmlSSTT"
      },
      "execution_count": null,
      "outputs": []
    },
    {
      "cell_type": "code",
      "source": [
        "smape=calcsmape(test.Sales,prediction)\n",
        "print (\"{0:.2f}%\".format(smape* 100))"
      ],
      "metadata": {
        "id": "_SsL1E9lSXxD"
      },
      "execution_count": null,
      "outputs": []
    },
    {
      "cell_type": "markdown",
      "source": [
        "# ECHOSTAR SATELLITE L.L.C."
      ],
      "metadata": {
        "id": "HIrhqr8XZhm6"
      }
    },
    {
      "cell_type": "code",
      "source": [
        "data = pd.read_excel('OPERADOR.xlsx', header = 2)\n",
        "data = data[data['OPERADOR'] == 'ECHOSTAR SATELLITE L.L.C.']\n",
        "data = data.drop(columns='OPERADOR')\n",
        "data = data.rename(columns = {'Atributo' : 'Date', 'mBaseAssinantesMescla' : 'Sales'})\n",
        "data = data.set_index('Date')\n",
        "data.index = pd.to_datetime(data.index)\n",
        "print(data)\n",
        "print(data.plot(figsize=(15,5)))"
      ],
      "metadata": {
        "id": "h0HzyzeIZhm7"
      },
      "execution_count": null,
      "outputs": []
    },
    {
      "cell_type": "code",
      "source": [
        "data = data[6+(12*3):-8] # ajustando a data inicial para começar em janeiro e a final para terminar em dezembro\n",
        "print(data)\n",
        "print(data.plot(figsize=(15,5)))"
      ],
      "metadata": {
        "id": "ofbN9YTnZhm7"
      },
      "execution_count": null,
      "outputs": []
    },
    {
      "cell_type": "code",
      "source": [
        "TEST_SIZE = 12*1 # quantidade de meses*anos de teste\n",
        "train, test = data.iloc[:-TEST_SIZE], data.iloc[-TEST_SIZE:]\n",
        "x_train, x_test = np.array(range(train.shape[0])), np.array(range(train.shape[0], data.shape[0]))\n",
        "train.shape, x_train.shape, test.shape, x_test.shape"
      ],
      "metadata": {
        "id": "Zvsj7p6AZhm7"
      },
      "execution_count": null,
      "outputs": []
    },
    {
      "cell_type": "code",
      "source": [
        "fig, ax = plt.subplots(1, 1, figsize=(15, 5))\n",
        "ax.plot(x_train, train) # azul treino\n",
        "ax.plot(x_test, test) # laranja teste"
      ],
      "metadata": {
        "id": "Coq_P_woZhm7"
      },
      "execution_count": null,
      "outputs": []
    },
    {
      "cell_type": "code",
      "source": [
        "# normalizando com log\n",
        "data_log = np.log(data)\n",
        "data_log_log = np.log(data_log)\n",
        "(data_log_log.plot(figsize=(15,5)))"
      ],
      "metadata": {
        "id": "QAf-so8yZhm7"
      },
      "execution_count": null,
      "outputs": []
    },
    {
      "cell_type": "code",
      "source": [
        "model = auto_arima( np.log(np.log(train[\"Sales\"])),\n",
        "                    start_p=0, start_q=0,\n",
        "                    test='adf',\n",
        "                    max_p=8, max_q=8,\n",
        "                    m=1,             \n",
        "                    d=1,          \n",
        "                    seasonal=False,   \n",
        "                    start_P=0, \n",
        "                    D=None, \n",
        "                    trace=True,\n",
        "                    error_action='ignore',  \n",
        "                    suppress_warnings=True, \n",
        "                    stepwise=False)\n",
        "\n",
        "print(model.summary())"
      ],
      "metadata": {
        "id": "hBFWqUF-Zhm7"
      },
      "execution_count": null,
      "outputs": []
    },
    {
      "cell_type": "code",
      "source": [
        "prediction, confint = model.predict(n_periods=TEST_SIZE+(12*6), return_conf_int=True) # retorna a previsão 6 anos para frente\n",
        "prediction = np.exp(np.exp(prediction)) # desfaz a exponencial\n",
        "print(prediction)\n",
        "prediction.plot()"
      ],
      "metadata": {
        "id": "db6CM9WTZhm8"
      },
      "execution_count": null,
      "outputs": []
    },
    {
      "cell_type": "code",
      "source": [
        "cf= pd.DataFrame(np.exp(np.exp(confint)))"
      ],
      "metadata": {
        "id": "dHMeqVNnZhm8"
      },
      "execution_count": null,
      "outputs": []
    },
    {
      "cell_type": "code",
      "source": [
        "prediction_series = pd.Series(prediction,index=prediction.index)\n",
        "fig, ax = plt.subplots(1, 1, figsize=(15, 5))\n",
        "ax.plot(data.Sales)\n",
        "ax.plot(prediction_series)\n",
        "ax.fill_between(prediction_series.index,\n",
        "                cf[0],\n",
        "                cf[1],color='grey',alpha=.3)\n",
        "plt.grid(color='b', linestyle='-', linewidth=0.06)\n",
        "ax.set_ylim([0, max(data.Sales)])"
      ],
      "metadata": {
        "id": "1igbF0ZUZhm8"
      },
      "execution_count": null,
      "outputs": []
    },
    {
      "cell_type": "code",
      "source": [
        "model.plot_diagnostics(figsize=(14,10))\n",
        "plt.show()"
      ],
      "metadata": {
        "id": "fa5i2GtaZhm8"
      },
      "execution_count": null,
      "outputs": []
    },
    {
      "cell_type": "code",
      "source": [
        "smape=calcsmape(test.Sales,prediction)\n",
        "print (\"{0:.2f}%\".format(smape* 100))"
      ],
      "metadata": {
        "id": "JTSc8Uy7Zhm8"
      },
      "execution_count": null,
      "outputs": []
    },
    {
      "cell_type": "markdown",
      "source": [
        "# DIRECTTV, INC."
      ],
      "metadata": {
        "id": "xfqmbTd8cg72"
      }
    },
    {
      "cell_type": "code",
      "source": [
        "data = pd.read_excel('OPERADOR.xlsx', header = 2)\n",
        "data = data[data['OPERADOR'] == 'DIRECTTV, INC.']\n",
        "data = data.drop(columns='OPERADOR')\n",
        "data = data.rename(columns = {'Atributo' : 'Date', 'mBaseAssinantesMescla' : 'Sales'})\n",
        "data = data.set_index('Date')\n",
        "data.index = pd.to_datetime(data.index)\n",
        "print(data)\n",
        "print(data.plot(figsize=(15,5)))"
      ],
      "metadata": {
        "id": "Qwyg1ziucg73"
      },
      "execution_count": null,
      "outputs": []
    },
    {
      "cell_type": "code",
      "source": [
        "data = data[11+(12*0):-7] # ajustando a data inicial para começar em janeiro e a final para terminar em dezembro\n",
        "data = data.replace(4871,9770) # normalizando o outlier\n",
        "print(data)\n",
        "print(data.plot(figsize=(15,5)))"
      ],
      "metadata": {
        "id": "R4tiLq6kcg73"
      },
      "execution_count": null,
      "outputs": []
    },
    {
      "cell_type": "code",
      "source": [
        "TEST_SIZE = 12*1 # quantidade de meses*anos de teste\n",
        "train, test = data.iloc[:-TEST_SIZE], data.iloc[-TEST_SIZE:]\n",
        "x_train, x_test = np.array(range(train.shape[0])), np.array(range(train.shape[0], data.shape[0]))\n",
        "train.shape, x_train.shape, test.shape, x_test.shape"
      ],
      "metadata": {
        "id": "WGI8A5dIcg73"
      },
      "execution_count": null,
      "outputs": []
    },
    {
      "cell_type": "code",
      "source": [
        "fig, ax = plt.subplots(1, 1, figsize=(15, 5))\n",
        "ax.plot(x_train, train) # azul treino\n",
        "ax.plot(x_test, test) # laranja teste"
      ],
      "metadata": {
        "id": "l9Uqs8h4cg74"
      },
      "execution_count": null,
      "outputs": []
    },
    {
      "cell_type": "code",
      "source": [
        "# normalizando com log\n",
        "data_log = np.log(data)\n",
        "data_log_log = np.log(data_log)\n",
        "(data_log_log.plot(figsize=(15,5)))"
      ],
      "metadata": {
        "id": "cMIwTerecg74"
      },
      "execution_count": null,
      "outputs": []
    },
    {
      "cell_type": "code",
      "source": [
        "model = auto_arima( np.log(np.log(train[\"Sales\"])),\n",
        "                    start_p=0, start_q=0,\n",
        "                    test='adf',\n",
        "                    max_p=8, max_q=8,\n",
        "                    m=1,             \n",
        "                    d=1,          \n",
        "                    seasonal=False,   \n",
        "                    start_P=0, \n",
        "                    D=None, \n",
        "                    trace=True,\n",
        "                    error_action='ignore',  \n",
        "                    suppress_warnings=True, \n",
        "                    stepwise=False)\n",
        "\n",
        "print(model.summary())"
      ],
      "metadata": {
        "id": "rIdjKxrKcg74"
      },
      "execution_count": null,
      "outputs": []
    },
    {
      "cell_type": "code",
      "source": [
        "prediction, confint = model.predict(n_periods=TEST_SIZE+(12*6), return_conf_int=True) # retorna a previsão 6 anos para frente\n",
        "prediction = np.exp(np.exp(prediction)) # desfaz a exponencial\n",
        "print(prediction)\n",
        "prediction.plot()"
      ],
      "metadata": {
        "id": "aUEoaZdbcg74"
      },
      "execution_count": null,
      "outputs": []
    },
    {
      "cell_type": "code",
      "source": [
        "cf= pd.DataFrame(np.exp(np.exp(confint)))"
      ],
      "metadata": {
        "id": "ZSe5dJ23cg74"
      },
      "execution_count": null,
      "outputs": []
    },
    {
      "cell_type": "code",
      "source": [
        "prediction_series = pd.Series(prediction,index=prediction.index)\n",
        "fig, ax = plt.subplots(1, 1, figsize=(15, 5))\n",
        "ax.plot(data.Sales)\n",
        "ax.plot(prediction_series)\n",
        "ax.fill_between(prediction_series.index,\n",
        "                cf[0],\n",
        "                cf[1],color='grey',alpha=.3)\n",
        "plt.grid(color='b', linestyle='-', linewidth=0.06)\n",
        "ax.set_ylim([0, max(data.Sales)])"
      ],
      "metadata": {
        "id": "qNO-KDpLcg74"
      },
      "execution_count": null,
      "outputs": []
    },
    {
      "cell_type": "code",
      "source": [
        "model.plot_diagnostics(figsize=(14,10))\n",
        "plt.show()"
      ],
      "metadata": {
        "id": "gZjU0Wa1cg74"
      },
      "execution_count": null,
      "outputs": []
    },
    {
      "cell_type": "code",
      "source": [
        "smape=calcsmape(test.Sales,prediction)\n",
        "print (\"{0:.2f}%\".format(smape* 100))"
      ],
      "metadata": {
        "id": "wzJjRC2kcg74"
      },
      "execution_count": null,
      "outputs": []
    },
    {
      "cell_type": "markdown",
      "source": [
        "# x"
      ],
      "metadata": {
        "id": "klBTVj3_emrW"
      }
    },
    {
      "cell_type": "markdown",
      "source": [
        "## comcast"
      ],
      "metadata": {
        "id": "iv2AF_2jg0sP"
      }
    },
    {
      "cell_type": "code",
      "source": [
        "prediction_series = pd.Series(prediction,index=prediction.index)\n",
        "fig, ax = plt.subplots(1, 1, figsize=(15, 5))\n",
        "ax.plot(data.Sales)\n",
        "ax.plot(prediction_series)\n",
        "ax.fill_between(prediction_series.index,\n",
        "                cf[0],\n",
        "                cf[1],color='grey',alpha=.3)\n",
        "plt.grid(color='b', linestyle='-', linewidth=0.06)\n",
        "ax.set_ylim([0, max(data.Sales)])"
      ],
      "metadata": {
        "id": "tmnZQqdRhox4"
      },
      "execution_count": null,
      "outputs": []
    },
    {
      "cell_type": "code",
      "source": [
        "print(model.summary())"
      ],
      "metadata": {
        "id": "lqGvv_zQeqT5"
      },
      "execution_count": null,
      "outputs": []
    },
    {
      "cell_type": "markdown",
      "source": [
        "## echostar"
      ],
      "metadata": {
        "id": "ylBkWfMDg4Uy"
      }
    },
    {
      "cell_type": "code",
      "source": [
        "prediction_series = pd.Series(prediction,index=prediction.index)\n",
        "fig, ax = plt.subplots(1, 1, figsize=(15, 5))\n",
        "ax.plot(data.Sales)\n",
        "ax.plot(prediction_series)\n",
        "ax.fill_between(prediction_series.index,\n",
        "                cf[0],\n",
        "                cf[1],color='grey',alpha=.3)\n",
        "plt.grid(color='b', linestyle='-', linewidth=0.06)\n",
        "ax.set_ylim([0, max(data.Sales)])"
      ],
      "metadata": {
        "id": "8oSSS5xPg8xN"
      },
      "execution_count": null,
      "outputs": []
    },
    {
      "cell_type": "code",
      "source": [
        "print(model.summary())"
      ],
      "metadata": {
        "id": "aKaHh8aIg9_C"
      },
      "execution_count": null,
      "outputs": []
    },
    {
      "cell_type": "markdown",
      "source": [
        "## directv"
      ],
      "metadata": {
        "id": "JLYlTuZmhGMr"
      }
    },
    {
      "cell_type": "code",
      "source": [
        "prediction_series = pd.Series(prediction,index=prediction.index)\n",
        "fig, ax = plt.subplots(1, 1, figsize=(15, 5))\n",
        "ax.plot(data.Sales)\n",
        "ax.plot(prediction_series)\n",
        "ax.fill_between(prediction_series.index,\n",
        "                cf[0],\n",
        "                cf[1],color='grey',alpha=.3)\n",
        "plt.grid(color='b', linestyle='-', linewidth=0.06)\n",
        "ax.set_ylim([0, max(data.Sales)])"
      ],
      "metadata": {
        "id": "rwjbQ4QRhIzq"
      },
      "execution_count": null,
      "outputs": []
    },
    {
      "cell_type": "code",
      "source": [
        "print(model.summary())"
      ],
      "metadata": {
        "id": "2ZU1Rc4jhKdO"
      },
      "execution_count": null,
      "outputs": []
    }
  ]
}