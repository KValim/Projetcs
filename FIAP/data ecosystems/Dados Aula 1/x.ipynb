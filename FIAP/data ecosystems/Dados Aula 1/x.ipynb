{
 "cells": [
  {
   "cell_type": "code",
   "execution_count": 19,
   "metadata": {},
   "outputs": [
    {
     "ename": "ValueError",
     "evalue": "Columns must be same length as key",
     "output_type": "error",
     "traceback": [
      "\u001b[1;31m---------------------------------------------------------------------------\u001b[0m",
      "\u001b[1;31mValueError\u001b[0m                                Traceback (most recent call last)",
      "\u001b[1;32mc:\\Users\\KAIQUEHENRIQUEVALIM\\Documents\\GitHub\\Projetcs\\FIAP\\data ecosystems\\Dados Aula 1\\x.ipynb Cell 1\u001b[0m in \u001b[0;36m3\n\u001b[0;32m     <a href='vscode-notebook-cell:/c%3A/Users/KAIQUEHENRIQUEVALIM/Documents/GitHub/Projetcs/FIAP/data%20ecosystems/Dados%20Aula%201/x.ipynb#W0sZmlsZQ%3D%3D?line=26'>27</a>\u001b[0m         product \u001b[39m=\u001b[39m \u001b[39mNone\u001b[39;00m\n\u001b[0;32m     <a href='vscode-notebook-cell:/c%3A/Users/KAIQUEHENRIQUEVALIM/Documents/GitHub/Projetcs/FIAP/data%20ecosystems/Dados%20Aula%201/x.ipynb#W0sZmlsZQ%3D%3D?line=27'>28</a>\u001b[0m     \u001b[39mreturn\u001b[39;00m department, product\n\u001b[1;32m---> <a href='vscode-notebook-cell:/c%3A/Users/KAIQUEHENRIQUEVALIM/Documents/GitHub/Projetcs/FIAP/data%20ecosystems/Dados%20Aula%201/x.ipynb#W0sZmlsZQ%3D%3D?line=29'>30</a>\u001b[0m data[[\u001b[39m'\u001b[39;49m\u001b[39mdepartment\u001b[39;49m\u001b[39m'\u001b[39;49m, \u001b[39m'\u001b[39;49m\u001b[39mproduct\u001b[39;49m\u001b[39m'\u001b[39;49m]] \u001b[39m=\u001b[39m data[\u001b[39m'\u001b[39m\u001b[39mhttp_method\u001b[39m\u001b[39m'\u001b[39m]\u001b[39m.\u001b[39mapply(extract_department_product, \u001b[39m1\u001b[39m)\n\u001b[0;32m     <a href='vscode-notebook-cell:/c%3A/Users/KAIQUEHENRIQUEVALIM/Documents/GitHub/Projetcs/FIAP/data%20ecosystems/Dados%20Aula%201/x.ipynb#W0sZmlsZQ%3D%3D?line=30'>31</a>\u001b[0m data\u001b[39m.\u001b[39mdrop(\u001b[39m'\u001b[39m\u001b[39mhttp_method\u001b[39m\u001b[39m'\u001b[39m, axis\u001b[39m=\u001b[39m\u001b[39m1\u001b[39m, inplace\u001b[39m=\u001b[39m\u001b[39mTrue\u001b[39;00m)\n\u001b[0;32m     <a href='vscode-notebook-cell:/c%3A/Users/KAIQUEHENRIQUEVALIM/Documents/GitHub/Projetcs/FIAP/data%20ecosystems/Dados%20Aula%201/x.ipynb#W0sZmlsZQ%3D%3D?line=33'>34</a>\u001b[0m data\n",
      "File \u001b[1;32mc:\\Users\\KAIQUEHENRIQUEVALIM\\AppData\\Local\\Programs\\Python\\Python310\\lib\\site-packages\\pandas\\core\\frame.py:3966\u001b[0m, in \u001b[0;36mDataFrame.__setitem__\u001b[1;34m(self, key, value)\u001b[0m\n\u001b[0;32m   3964\u001b[0m     \u001b[39mself\u001b[39m\u001b[39m.\u001b[39m_setitem_frame(key, value)\n\u001b[0;32m   3965\u001b[0m \u001b[39melif\u001b[39;00m \u001b[39misinstance\u001b[39m(key, (Series, np\u001b[39m.\u001b[39mndarray, \u001b[39mlist\u001b[39m, Index)):\n\u001b[1;32m-> 3966\u001b[0m     \u001b[39mself\u001b[39;49m\u001b[39m.\u001b[39;49m_setitem_array(key, value)\n\u001b[0;32m   3967\u001b[0m \u001b[39melif\u001b[39;00m \u001b[39misinstance\u001b[39m(value, DataFrame):\n\u001b[0;32m   3968\u001b[0m     \u001b[39mself\u001b[39m\u001b[39m.\u001b[39m_set_item_frame_value(key, value)\n",
      "File \u001b[1;32mc:\\Users\\KAIQUEHENRIQUEVALIM\\AppData\\Local\\Programs\\Python\\Python310\\lib\\site-packages\\pandas\\core\\frame.py:4025\u001b[0m, in \u001b[0;36mDataFrame._setitem_array\u001b[1;34m(self, key, value)\u001b[0m\n\u001b[0;32m   4022\u001b[0m     \u001b[39mreturn\u001b[39;00m \u001b[39mself\u001b[39m\u001b[39m.\u001b[39m_setitem_array(key, value)\n\u001b[0;32m   4024\u001b[0m \u001b[39melse\u001b[39;00m:\n\u001b[1;32m-> 4025\u001b[0m     \u001b[39mself\u001b[39;49m\u001b[39m.\u001b[39;49m_iset_not_inplace(key, value)\n",
      "File \u001b[1;32mc:\\Users\\KAIQUEHENRIQUEVALIM\\AppData\\Local\\Programs\\Python\\Python310\\lib\\site-packages\\pandas\\core\\frame.py:4044\u001b[0m, in \u001b[0;36mDataFrame._iset_not_inplace\u001b[1;34m(self, key, value)\u001b[0m\n\u001b[0;32m   4042\u001b[0m \u001b[39mif\u001b[39;00m \u001b[39mself\u001b[39m\u001b[39m.\u001b[39mcolumns\u001b[39m.\u001b[39mis_unique:\n\u001b[0;32m   4043\u001b[0m     \u001b[39mif\u001b[39;00m np\u001b[39m.\u001b[39mshape(value)[\u001b[39m-\u001b[39m\u001b[39m1\u001b[39m] \u001b[39m!=\u001b[39m \u001b[39mlen\u001b[39m(key):\n\u001b[1;32m-> 4044\u001b[0m         \u001b[39mraise\u001b[39;00m \u001b[39mValueError\u001b[39;00m(\u001b[39m\"\u001b[39m\u001b[39mColumns must be same length as key\u001b[39m\u001b[39m\"\u001b[39m)\n\u001b[0;32m   4046\u001b[0m     \u001b[39mfor\u001b[39;00m i, col \u001b[39min\u001b[39;00m \u001b[39menumerate\u001b[39m(key):\n\u001b[0;32m   4047\u001b[0m         \u001b[39mself\u001b[39m[col] \u001b[39m=\u001b[39m igetitem(value, i)\n",
      "\u001b[1;31mValueError\u001b[0m: Columns must be same length as key"
     ]
    }
   ],
   "source": [
    "import pandas as pd\n",
    "import datetime\n",
    "\n",
    "data = pd.read_csv('access.log.txt', header=None, sep=' ')\n",
    "data = data.rename(columns={0: 'ip', 1: 'dash1', 2: 'dash2', 3: 'timestamp', 4: 'timezone', 5: 'http_method',\n",
    "                            6: 'endpoint', 7: 'http_version', 8: 'status_code', 9: 'response_size', 10: 'dash3',\n",
    "                            11: 'user_agent'})\n",
    "data['timestamp'] = data['timestamp'].apply(lambda x: datetime.datetime.strptime(x, '[%d/%b/%Y:%H:%M:%S').strftime('%d/%b/%Y:%H:%M:%S'))\n",
    "data['timestamp'] = pd.to_datetime(data['timestamp'], format='%d/%b/%Y:%H:%M:%S')\n",
    "data = data.drop(columns=['dash1', 'dash2', 'timezone', 'http_version'])\n",
    "data['department'] = data['response_size'].str.extract('/department/(\\w+)')\n",
    "data['product'] = data['response_size'].str.extract('/product/([\\w%]+)')\n",
    "# data['weekday'] = data['timestamp'].dt.weekday_name\n",
    "data['hour'] = data['timestamp'].dt.hour\n",
    "# data['response_size'] = data['response_size'].astype(int)\n",
    "\n",
    "import re\n",
    "\n",
    "def extract_department_product(endpoint):\n",
    "    pattern = r'^/department/(?P<department>[^/]+)/.*?product/(?P<product>[^/ ]+)'\n",
    "    match = re.match(pattern, endpoint)\n",
    "    if match:\n",
    "        department = match.group('department')\n",
    "        product = match.group('product')\n",
    "    else:\n",
    "        department = None\n",
    "        product = None\n",
    "    return department, product\n",
    "\n",
    "data[['department', 'product']] = data['http_method'].apply(extract_department_product, 1)\n",
    "data.drop('http_method', axis=1, inplace=True)\n",
    "\n",
    "\n",
    "data"
   ]
  },
  {
   "cell_type": "code",
   "execution_count": 16,
   "metadata": {},
   "outputs": [
    {
     "data": {
      "text/plain": [
       "\"GET /department/apparel/category/featured%20shops/product/adidas%20Kids'%20RG%20III%20Mid%20Football%20Cleat HTTP/1.1\""
      ]
     },
     "execution_count": 16,
     "metadata": {},
     "output_type": "execute_result"
    }
   ],
   "source": [
    "data.http_method[1]"
   ]
  }
 ],
 "metadata": {
  "kernelspec": {
   "display_name": "Python 3",
   "language": "python",
   "name": "python3"
  },
  "language_info": {
   "codemirror_mode": {
    "name": "ipython",
    "version": 3
   },
   "file_extension": ".py",
   "mimetype": "text/x-python",
   "name": "python",
   "nbconvert_exporter": "python",
   "pygments_lexer": "ipython3",
   "version": "3.10.2"
  },
  "orig_nbformat": 4
 },
 "nbformat": 4,
 "nbformat_minor": 2
}
