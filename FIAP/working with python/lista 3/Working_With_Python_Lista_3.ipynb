{
  "nbformat": 4,
  "nbformat_minor": 0,
  "metadata": {
    "colab": {
      "provenance": [],
      "authorship_tag": "ABX9TyN5cDwLWzKVhy+KG4491yjs",
      "include_colab_link": true
    },
    "kernelspec": {
      "name": "python3",
      "display_name": "Python 3"
    },
    "language_info": {
      "name": "python"
    }
  },
  "cells": [
    {
      "cell_type": "markdown",
      "metadata": {
        "id": "view-in-github",
        "colab_type": "text"
      },
      "source": [
        "<a href=\"https://colab.research.google.com/github/KValim/Projetcs/blob/main/FIAP/wrking%20with%20python/lista%203/Working_With_Python_Lista_3.ipynb\" target=\"_parent\"><img src=\"https://colab.research.google.com/assets/colab-badge.svg\" alt=\"Open In Colab\"/></a>"
      ]
    },
    {
      "cell_type": "markdown",
      "source": [
        "1) Comida custa 25 por pessoa (pp). Bebida por ser suco, sendo 5 pp com 5% de desconto na conta, ou Alcoólica, se 20 pp. E decoração pode ser normal, sendo 30\n",
        "para mesa e 7.5 de lembranças por pessoa. Ou Diferenciada, sendo 50 fixo mais 10 por pessoa."
      ],
      "metadata": {
        "id": "2vfpc4YoobW4"
      }
    },
    {
      "cell_type": "code",
      "source": [
        "class CalculadoraFesta1():\n",
        "    def __init__(self, p):\n",
        "        self.pessoas = p\n",
        "        \n",
        "    def comida(self):\n",
        "        self.valor_comidas = self.pessoas * 25\n",
        "\n",
        "    def bebidas(self):\n",
        "        print('\\n')\n",
        "        print('1 para Suco\\n2 para Alcool')\n",
        "        self.identificador_bebidas = int(input())\n",
        "        print(self.identificador_bebidas)\n",
        "\n",
        "        if self.identificador_bebidas == 1:\n",
        "            self.valor_bebidas = (self.pessoas * 5) * 0.95\n",
        "        else:\n",
        "            self.valor_bebidas = self.pessoas * 20\n",
        "\n",
        "    def decoracao(self):\n",
        "        print('\\n')\n",
        "        print('1 para Normal\\n2 para Diferenciada')\n",
        "        self.identificador_decoracao = int(input())\n",
        "        print(self.identificador_decoracao)\n",
        "\n",
        "        if self.identificador_decoracao == 1:\n",
        "            self.valor_decoracao = (self.pessoas * 7.5) + 30\n",
        "        else:\n",
        "            self.valor_decoracao = (self.pessoas * 10) + 50\n",
        "\n",
        "\n",
        "    def total(self):\n",
        "        self.comida()\n",
        "        self.bebidas()\n",
        "        self.decoracao()\n",
        "        print('\\n\\n--------------------')\n",
        "        print('Comida \\t\\t {}'.format(self.valor_comidas))\n",
        "        print('Bebida \\t\\t {}'.format(self.valor_bebidas))\n",
        "        print('Decoração \\t {}'.format(self.valor_decoracao))\n",
        "        print('--------------------')\n",
        "        print('TOTAL \\t\\t {}'.format(self.valor_bebidas + self.valor_bebidas + self.valor_decoracao))"
      ],
      "metadata": {
        "id": "L5PZO6EPobMG"
      },
      "execution_count": null,
      "outputs": []
    },
    {
      "cell_type": "code",
      "source": [
        "print('Quantas pessoas na festa?')\n",
        "qtd_pessoas = int(input('Quantidade de pessoas:'))\n",
        "print(qtd_pessoas)\n",
        "\n",
        "party = CalculadoraFesta1(qtd_pessoas)\n",
        "party.total()"
      ],
      "metadata": {
        "colab": {
          "base_uri": "https://localhost:8080/"
        },
        "id": "Rk0I42z9sl_Z",
        "outputId": "48247dde-4500-42ee-ba4a-818a6fef78ee"
      },
      "execution_count": null,
      "outputs": [
        {
          "output_type": "stream",
          "name": "stdout",
          "text": [
            "Quantas pessoas na festa?\n",
            "Quantidade de pessoas:5\n",
            "5\n",
            "\n",
            "\n",
            "1 para Suco\n",
            "2 para Alcool\n",
            "1\n",
            "1\n",
            "\n",
            "\n",
            "1 para Normal\n",
            "2 para Diferenciada\n",
            "2\n",
            "2\n",
            "\n",
            "\n",
            "--------------------\n",
            "Comida \t\t 125\n",
            "Bebida \t\t 23.75\n",
            "Decoração \t 100\n",
            "--------------------\n",
            "TOTAL \t\t 147.5\n"
          ]
        }
      ]
    },
    {
      "cell_type": "markdown",
      "source": [
        "2) O Buffet agora está expandindo suas atividades e abriu uma nova filial que realiza o serviço de buffet especializado em festas de aniversários. Além dos serviços oferecidos pela matriz, comida, bebida e decoração, a filial oferece bolo de aniversário. O bolo é oferecido em dois tamanhos 8 cm (40) para festas até 4 pessoas ou 16 cm (75), para festas maiores. Esse ainda pode ser personalizado, ao custo de 0.25 por caractere, com um mensagem de escolha do cliente (o bolo de 8 cm comporta um texto de até 16 caracteres enquanto o de 16 cm, até 40).\n"
      ],
      "metadata": {
        "id": "CsObdUruo0gy"
      }
    },
    {
      "cell_type": "code",
      "execution_count": null,
      "metadata": {
        "id": "7nOh4CQbmpbS"
      },
      "outputs": [],
      "source": [
        "class CalculadoraFesta2():\n",
        "    def __init__(self, p):\n",
        "        self.pessoas = p\n",
        "        \n",
        "    def comida(self):\n",
        "        self.valor_comidas = self.pessoas * 25\n",
        "\n",
        "    def bebidas(self):\n",
        "        print('\\n')\n",
        "        print('1 para Suco\\n2 para Alcool')\n",
        "        self.identificador_bebidas = int(input())\n",
        "        print(self.identificador_bebidas)\n",
        "\n",
        "        if self.identificador_bebidas == 1:\n",
        "            self.valor_bebidas = (self.pessoas * 5) * 0.95\n",
        "        else:\n",
        "            self.valor_bebidas = self.pessoas * 20\n",
        "\n",
        "    def decoracao(self):\n",
        "        print('\\n')\n",
        "        print('1 para Normal\\n2 para Diferenciada')\n",
        "        self.identificador_decoracao = int(input())\n",
        "        print(self.identificador_decoracao)\n",
        "\n",
        "        if self.identificador_decoracao == 1:\n",
        "            self.valor_decoracao = (self.pessoas * 7.5) + 30\n",
        "        else:\n",
        "            self.valor_decoracao = (self.pessoas * 10) + 50\n",
        "\n",
        "    def bolo(self):\n",
        "        print('\\n')\n",
        "        print('Quantidade de pessoas:', str(self.pessoas))\n",
        "\n",
        "        if self.pessoas <= 4:\n",
        "            print('Festa pequena')\n",
        "            self.valor_bolo = 40\n",
        "            self.tamanho_bolo = 1 # 8cm\n",
        "        else:\n",
        "            print('Festa grande')\n",
        "            self.valor_bolo = 75\n",
        "            self.tamanho_bolo = 2 # 16cm\n",
        "\n",
        "    def customizacao(self):\n",
        "\n",
        "        flag = 0\n",
        "        while flag == 0:\n",
        "            if self.tamanho_bolo == 1:\n",
        "                print('Bolo de 8cm, escolha até 16 characteres')\n",
        "                texto = str(input())\n",
        "                if len(texto)>16:\n",
        "                    print('\\nQuantidade de chacteres inválida, digite novamente\\nQuantidade digitada:', len(texto))\n",
        "                    continue\n",
        "                self.valor_custom = 0.25 * len(texto)\n",
        "                flag = 1\n",
        "                print(texto)\n",
        "            else:\n",
        "                print('Bolo de 16cm, escolha até 40 characteres')\n",
        "                texto = str(input())\n",
        "                if len(texto)>40:\n",
        "                    print('\\nQuantidade de chacteres inválida, digite novamente\\nQuantidade digitada:', len(texto))\n",
        "                    continue\n",
        "                self.valor_custom = 0.25 * len(texto)\n",
        "                flag = 1\n",
        "                print(texto)\n",
        "\n",
        "    def total(self):\n",
        "        self.comida()\n",
        "        self.bebidas()\n",
        "        self.decoracao()\n",
        "        self.bolo()\n",
        "        self.customizacao()\n",
        "        print('\\n\\n--------------------')\n",
        "        print('Comida \\t\\t {}'.format(self.valor_comidas))\n",
        "        print('Bebida \\t\\t {}'.format(self.valor_bebidas))\n",
        "        print('Decoração \\t {}'.format(self.valor_decoracao))\n",
        "        print('Bolo \\t\\t {}'.format(self.valor_bolo))\n",
        "        print('Texto \\t\\t {}'.format(self.valor_custom))\n",
        "        print('--------------------')\n",
        "        print('TOTAL \\t\\t {}'.format(self.valor_bebidas + self.valor_bebidas + self.valor_decoracao + self.valor_bolo + self.valor_custom))"
      ]
    },
    {
      "cell_type": "code",
      "source": [
        "print('Quantas pessoas na festa?')\n",
        "qtd_pessoas = int(input('Quantidade de pessoas:'))\n",
        "print(qtd_pessoas)\n",
        "\n",
        "party = CalculadoraFesta2(qtd_pessoas)\n",
        "party.total()"
      ],
      "metadata": {
        "colab": {
          "base_uri": "https://localhost:8080/"
        },
        "id": "E_QuDCwBtQgp",
        "outputId": "7044bd4d-3148-4c68-ce98-72fe5b84672b"
      },
      "execution_count": null,
      "outputs": [
        {
          "output_type": "stream",
          "name": "stdout",
          "text": [
            "Quantas pessoas na festa?\n",
            "Quantidade de pessoas:24\n",
            "24\n",
            "\n",
            "\n",
            "1 para Suco\n",
            "2 para Alcool\n",
            "2\n",
            "2\n",
            "\n",
            "\n",
            "1 para Normal\n",
            "2 para Diferenciada\n",
            "2\n",
            "2\n",
            "\n",
            "\n",
            "Quantidade de pessoas: 24\n",
            "Festa grande\n",
            "Bolo de 16cm, escolha até 40 characteres\n",
            "Fica vai ter bolo\n",
            "Fica vai ter bolo\n",
            "\n",
            "\n",
            "--------------------\n",
            "Comida \t\t 600\n",
            "Bebida \t\t 480\n",
            "Decoração \t 290\n",
            "Bolo \t\t 75\n",
            "Texto \t\t 4.25\n",
            "--------------------\n",
            "TOTAL \t\t 1329.25\n"
          ]
        }
      ]
    }
  ]
}