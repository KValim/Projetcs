{
  "nbformat": 4,
  "nbformat_minor": 0,
  "metadata": {
    "colab": {
      "provenance": [],
      "authorship_tag": "ABX9TyNj2jpZLHJL5gL96varW5lB",
      "include_colab_link": true
    },
    "kernelspec": {
      "name": "python3",
      "display_name": "Python 3"
    },
    "language_info": {
      "name": "python"
    }
  },
  "cells": [
    {
      "cell_type": "markdown",
      "metadata": {
        "id": "view-in-github",
        "colab_type": "text"
      },
      "source": [
        "<a href=\"https://colab.research.google.com/github/KValim/Projetcs/blob/main/FIAP/wrking%20with%20python/lista%201/Working_With_Python_Lista_1.ipynb\" target=\"_parent\"><img src=\"https://colab.research.google.com/assets/colab-badge.svg\" alt=\"Open In Colab\"/></a>"
      ]
    },
    {
      "cell_type": "markdown",
      "source": [
        "1) Calcule a nota final, dado que AP1 e AP2 tem peso 40% e AP3 20%\n"
      ],
      "metadata": {
        "id": "elBtRTt6Cilc"
      }
    },
    {
      "cell_type": "code",
      "execution_count": null,
      "metadata": {
        "colab": {
          "base_uri": "https://localhost:8080/"
        },
        "id": "eeKj8EYmCedZ",
        "outputId": "97498497-4689-45d1-9a69-61518fd34a39"
      },
      "outputs": [
        {
          "output_type": "stream",
          "name": "stdout",
          "text": [
            "AP1 8\n",
            "AP2 7\n",
            "AP3 9\n",
            "Média final: 7.8\n"
          ]
        }
      ],
      "source": [
        "def notaFinal(ap1, ap2, ap3):  \n",
        "  notaFinal = (ap1*0.4)+(ap2*0.4)+(ap3*0.2)\n",
        "  return notaFinal\n",
        "  \n",
        "x = float(input(\"AP1 \"))\n",
        "y = float(input(\"AP2 \"))\n",
        "z = float(input(\"AP3 \"))\n",
        "\n",
        "print('Média final:',notaFinal(x, y, z))"
      ]
    },
    {
      "cell_type": "markdown",
      "source": [
        "2) Calcule a nota como conceito, com sendo A (maior que 9), \n",
        "B (entre 7 e 9), D (entre 5 e 7), F (abaixo disto) \n"
      ],
      "metadata": {
        "id": "jRAwBFUWCmTk"
      }
    },
    {
      "cell_type": "code",
      "source": [
        "def conceito(nota):\n",
        "  if   nota >= 9:              return 'A'\n",
        "  elif nota >= 7 and nota < 9: return 'B'\n",
        "  elif nota >= 5 and nota < 7: return 'D'\n",
        "  else:                        return 'F'\n",
        "\n",
        "nota = input(\"Nota: \")\n",
        "print(conceito(float(nota)))"
      ],
      "metadata": {
        "colab": {
          "base_uri": "https://localhost:8080/"
        },
        "id": "9Dr5KYG1D6pY",
        "outputId": "57fee731-97a1-4541-8950-f59895761b37"
      },
      "execution_count": null,
      "outputs": [
        {
          "output_type": "stream",
          "name": "stdout",
          "text": [
            "Nota: 9\n",
            "A\n"
          ]
        }
      ]
    },
    {
      "cell_type": "markdown",
      "source": [
        "3) Calcular o imposto de renda devido com base no salário mensal e regra da Receita Federal\n",
        "\n"
      ],
      "metadata": {
        "id": "0V3nnsu0DxR0"
      }
    },
    {
      "cell_type": "code",
      "source": [
        "def imposto_renda(salario):\n",
        "  if   salario > 3743.19:                         ir = (salario * 0.275) - 692.78\n",
        "  elif salario >= 2995.71 and salario <= 3743.19: ir = (salario * 0.225) - 505.62\n",
        "  elif salario >= 2246.76 and salario <= 2995.70: ir = (salario * 0.150) - 280.94\n",
        "  elif salario >= 1499.16 and salario <= 2246.75: ir = (salario * 0.075) - 112.43\n",
        "  else:                                           ir = 0\n",
        "  \n",
        "  return ir\n",
        "\n",
        "salario = float(input(\"Salário: \"))\n",
        "print(round(imposto_renda(salario),2))"
      ],
      "metadata": {
        "colab": {
          "base_uri": "https://localhost:8080/"
        },
        "id": "P2DMF-6BD7Bo",
        "outputId": "3a8ac686-79d3-4141-c0f3-d38bbfef6c0a"
      },
      "execution_count": null,
      "outputs": [
        {
          "output_type": "stream",
          "name": "stdout",
          "text": [
            "Salário: 10000\n",
            "2057.22\n"
          ]
        }
      ]
    },
    {
      "cell_type": "markdown",
      "source": [
        "4) Espere... você lembra como se calcula um fatorial? Vamos voltar no tempo, na época do seu ensino fundamental, quando o professor de matemática lhe pedia para calcular isso: 5! Calcular o fatorial de 5 significa multiplica-lo por todos os números menor que ele, até o número 1. Sendo assim: 5! = 5 x 4 x 3 x 2 x 1 5! = 20 x 3 x 2 x 1 5! = 60 x 2 x 1 5! = 120 x 1 5! = 120 Lembrou?\n",
        "\n"
      ],
      "metadata": {
        "id": "a-ACHPlpDy7D"
      }
    },
    {
      "cell_type": "code",
      "source": [
        "def fatorial(n):\n",
        "  resultado = 1\n",
        "  for i in range(1,n+1,1):\n",
        "    resultado = resultado * i\n",
        "  return resultado\n",
        "\n",
        "fat = int(input(\"Fatorial de: \")) \n",
        "print(fatorial(fat))"
      ],
      "metadata": {
        "colab": {
          "base_uri": "https://localhost:8080/"
        },
        "id": "VT4bSzLVD7Ug",
        "outputId": "6ba6b944-ed2d-496f-eacd-8eaefd04a4c3"
      },
      "execution_count": null,
      "outputs": [
        {
          "output_type": "stream",
          "name": "stdout",
          "text": [
            "Fatorial de: 5\n",
            "120\n"
          ]
        }
      ]
    },
    {
      "cell_type": "markdown",
      "source": [
        "5) Elabore um algoritmo que simule o “lápis tabuada”: o usuário informa um número inteiro qualquer, calcule e exiba os resultados das multiplicações entre 1 e 10.\n",
        "\n"
      ],
      "metadata": {
        "id": "UDsl6nloD0Uv"
      }
    },
    {
      "cell_type": "code",
      "source": [
        "def tabuada(num):\n",
        "  for i in range(1,11,1):\n",
        "    resultado = num*i\n",
        "    print(i,' x ',num,' = ',resultado)\n",
        "\n",
        "entrada = int(input(\"Tabuado do: \"))\n",
        "tabuada(entrada)"
      ],
      "metadata": {
        "colab": {
          "base_uri": "https://localhost:8080/"
        },
        "id": "0Dca0yVbD7pX",
        "outputId": "b8b81a8f-48a3-443c-9245-91152cd38898"
      },
      "execution_count": null,
      "outputs": [
        {
          "output_type": "stream",
          "name": "stdout",
          "text": [
            "Tabuado do: 5\n",
            "1  x  5  =  5\n",
            "2  x  5  =  10\n",
            "3  x  5  =  15\n",
            "4  x  5  =  20\n",
            "5  x  5  =  25\n",
            "6  x  5  =  30\n",
            "7  x  5  =  35\n",
            "8  x  5  =  40\n",
            "9  x  5  =  45\n",
            "10  x  5  =  50\n"
          ]
        }
      ]
    },
    {
      "cell_type": "markdown",
      "source": [
        "6) Encontre a maior nota da turma com notas: 7, 6, 9, 9, 8, 8, 10, 5, 6 e 7\n",
        "\n"
      ],
      "metadata": {
        "id": "r28sBXRBD1jh"
      }
    },
    {
      "cell_type": "code",
      "source": [
        "notas = [7, 6, 9, 9, 8, 8, 10, 5, 6, 7]\n",
        "maior_nota = notas[0]\n",
        "\n",
        "for n in notas:\n",
        "  if n > maior_nota:\n",
        "    maior_nota = n\n",
        "\n",
        "print(maior_nota)"
      ],
      "metadata": {
        "colab": {
          "base_uri": "https://localhost:8080/"
        },
        "id": "X4H7kYNxD8D7",
        "outputId": "2fa885f6-de21-482d-80d2-775b9a767656"
      },
      "execution_count": null,
      "outputs": [
        {
          "output_type": "stream",
          "name": "stdout",
          "text": [
            "10\n"
          ]
        }
      ]
    },
    {
      "cell_type": "markdown",
      "source": [
        "7) Crie uma função de Valor Futuro, que calcula o valor de rendimento de uma aplicação financeira, dado um aporte inicial VP e parcelas mensais PGTO por N períodos a uma taxa i."
      ],
      "metadata": {
        "id": "Kqgr0ZFYD2hU"
      }
    },
    {
      "cell_type": "code",
      "source": [
        "def valor_futuro(valor_inicial, parcela_mensal, taxa, meses):\n",
        "  valor_atual = valor_inicial\n",
        "  for mes in range(0, meses, 1):\n",
        "    valor_atual = valor_atual*(1+taxa) + parcela_mensal\n",
        "  return valor_atual\n",
        "\n",
        "valor_inicial = float(input(\"Valor inicial: \\t\\t\\t\"))\n",
        "parcela_mensal = float(input(\"Valor da parcela mensal: \\t\"))\n",
        "taxa = float(input(\"Valor da taxa de rendimento: \\t\"))\n",
        "meses = int(input(\"Quantidade de meses: \\t\\t\"))\n",
        "resultado = valor_futuro(valor_inicial, parcela_mensal, taxa, meses)\n",
        "print('\\nRendimento:\\t\\t\\t', resultado)"
      ],
      "metadata": {
        "colab": {
          "base_uri": "https://localhost:8080/"
        },
        "id": "JSrisbZxD8aI",
        "outputId": "64cd3b45-3ba1-40b1-8989-436a6faeb511"
      },
      "execution_count": null,
      "outputs": [
        {
          "output_type": "stream",
          "name": "stdout",
          "text": [
            "Valor inicial: \t\t\t10\n",
            "Valor da parcela mensal: \t50\n",
            "Valor da taxa de rendimento: \t0.05\n",
            "Quantidade de meses: \t\t5\n",
            "\n",
            "Rendimento:\t\t\t 289.04437812500004\n"
          ]
        }
      ]
    }
  ]
}