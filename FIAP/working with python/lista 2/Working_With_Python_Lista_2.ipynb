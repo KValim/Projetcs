{
  "nbformat": 4,
  "nbformat_minor": 0,
  "metadata": {
    "colab": {
      "provenance": [],
      "authorship_tag": "ABX9TyNg5TClJhkjCZlUANmlvuZ3",
      "include_colab_link": true
    },
    "kernelspec": {
      "name": "python3",
      "display_name": "Python 3"
    },
    "language_info": {
      "name": "python"
    }
  },
  "cells": [
    {
      "cell_type": "markdown",
      "metadata": {
        "id": "view-in-github",
        "colab_type": "text"
      },
      "source": [
        "<a href=\"https://colab.research.google.com/github/KValim/Projetcs/blob/main/FIAP/working%20with%20python/lista%202/Working_With_Python_Lista_2.ipynb\" target=\"_parent\"><img src=\"https://colab.research.google.com/assets/colab-badge.svg\" alt=\"Open In Colab\"/></a>"
      ]
    },
    {
      "cell_type": "code",
      "source": [
        "import numpy as np"
      ],
      "metadata": {
        "id": "z6wknlV9zRjD"
      },
      "execution_count": null,
      "outputs": []
    },
    {
      "cell_type": "markdown",
      "source": [
        "1) Escreva um programa que lê do teclado e registra em uma matriz (3x6), a receita de 3 (três)\n",
        "empresas do último semestre (6 meses)\n",
        "Após ler a receita de cada empresa mes a mes, seu programa deve então retornar a Média e o\n",
        "Desvio Padrão Populacional das receitas do semestre para cada uma das empresas\n",
        "\n"
      ],
      "metadata": {
        "id": "elBtRTt6Cilc"
      }
    },
    {
      "cell_type": "code",
      "source": [
        "empresas = ['E1', 'E2', 'E3']\n",
        "meses = ['jan', 'fev', 'mar', 'abr', 'mai', 'jun']\n",
        "\n",
        "ocupacao = np.zeros((len(empresas),len(meses)))\n",
        "\n",
        "for index_cidade in range(len(empresas)):\n",
        "  for index_dia in range(len(meses )):\n",
        "    text = 'Receita ' + str(meses[index_dia]) + ' -> ' + str(empresas[index_cidade]) + ': '\n",
        "    ocupacao[index_cidade, index_dia] = float(input(text))\n",
        "\n",
        "print('\\n',ocupacao)\n",
        "\n",
        "f = 0\n",
        "for e in empresas:\n",
        "  print('\\nEMPRESA\\t', e)\n",
        "  print('Média\\t\\t',round(np.mean(ocupacao[f,:]),2))\n",
        "  print('Desvio padrão\\t', round(np.std(ocupacao[f,:]),2))\n",
        "  f+=1"
      ],
      "metadata": {
        "colab": {
          "base_uri": "https://localhost:8080/"
        },
        "id": "KN5a4thnu-E_",
        "outputId": "fe903b4a-7167-47fd-97ba-7a33ab6feacf"
      },
      "execution_count": null,
      "outputs": [
        {
          "output_type": "stream",
          "name": "stdout",
          "text": [
            "Receita jan -> E1: 1\n",
            "Receita fev -> E1: 3\n",
            "Receita mar -> E1: 4\n",
            "Receita abr -> E1: 2.5\n",
            "Receita mai -> E1: 3\n",
            "Receita jun -> E1: 5\n",
            "Receita jan -> E2: 7\n",
            "Receita fev -> E2: 5\n",
            "Receita mar -> E2: 3\n",
            "Receita abr -> E2: 1\n",
            "Receita mai -> E2: 2\n",
            "Receita jun -> E2: 0.2\n",
            "Receita jan -> E3: 22\n",
            "Receita fev -> E3: 43\n",
            "Receita mar -> E3: 55\n",
            "Receita abr -> E3: 60\n",
            "Receita mai -> E3: 76\n",
            "Receita jun -> E3: 89\n",
            "\n",
            " [[ 1.   3.   4.   2.5  3.   5. ]\n",
            " [ 7.   5.   3.   1.   2.   0.2]\n",
            " [22.  43.  55.  60.  76.  89. ]]\n",
            "\n",
            "EMPRESA\t E1\n",
            "Média\t\t 3.08\n",
            "Desvio padrão\t 1.24\n",
            "\n",
            "EMPRESA\t E2\n",
            "Média\t\t 3.03\n",
            "Desvio padrão\t 2.34\n",
            "\n",
            "EMPRESA\t E3\n",
            "Média\t\t 57.5\n",
            "Desvio padrão\t 21.67\n"
          ]
        }
      ]
    },
    {
      "cell_type": "markdown",
      "source": [
        "2) Crie um programa no qual você deve ler do teclado todas as compras de 6 (seis) ações/ativos\n",
        "realizadas em um dia, coletando informações de preço e quantidade para cada uma. Armazene\n",
        "essa informação em uma matriz 1x6 com os preços.\n",
        "Já as quantidades armazenadas em uma outra matriz 6x1.\n",
        "De posse dessas duas informações realize o cálculo final do montante em dinheiro de ativos\n",
        "adquiridos neste dia para sua carteira.\n",
        "\n"
      ],
      "metadata": {
        "id": "jRAwBFUWCmTk"
      }
    },
    {
      "cell_type": "code",
      "source": [
        "matriz_precos = np.zeros((6,1))\n",
        "matriz_qtd = np.zeros((1,6))\n",
        "\n",
        "for acao in range(6):\n",
        "  print(f'Informações sobre compra da ação {acao+1}')\n",
        "  matriz_qtd[0,acao] = int(input(f'\\tQuantidade Lotes Adquiridos: '))\n",
        "  matriz_precos[acao,0] = float(input(f'\\tPreço de Aquisição: '))\n",
        "  print('\\n')\n",
        "\n",
        "\n",
        "print(f'O valor dos seus ativos é de R$ {(matriz_qtd @ matriz_precos)[0,0]}')"
      ],
      "metadata": {
        "colab": {
          "base_uri": "https://localhost:8080/"
        },
        "id": "9Dr5KYG1D6pY",
        "outputId": "d2aafb2d-bacc-4002-a1e8-15cd1b44e8f0"
      },
      "execution_count": null,
      "outputs": [
        {
          "output_type": "stream",
          "name": "stdout",
          "text": [
            "Informações sobre compra da ação 1\n",
            "\tQuantidade Lotes Adquiridos: 4\n",
            "\tPreço de Aquisição: 2\n",
            "\n",
            "\n",
            "Informações sobre compra da ação 2\n",
            "\tQuantidade Lotes Adquiridos: 5\n",
            "\tPreço de Aquisição: 67\n",
            "\n",
            "\n",
            "Informações sobre compra da ação 3\n",
            "\tQuantidade Lotes Adquiridos: 1\n",
            "\tPreço de Aquisição: 554\n",
            "\n",
            "\n",
            "Informações sobre compra da ação 4\n",
            "\tQuantidade Lotes Adquiridos: 66\n",
            "\tPreço de Aquisição: 2\n",
            "\n",
            "\n",
            "Informações sobre compra da ação 5\n",
            "\tQuantidade Lotes Adquiridos: 1\n",
            "\tPreço de Aquisição: 100\n",
            "\n",
            "\n",
            "Informações sobre compra da ação 6\n",
            "\tQuantidade Lotes Adquiridos: 250\n",
            "\tPreço de Aquisição: 0.3\n",
            "\n",
            "\n",
            "O valor dos seus ativos é de R$ 1204.0\n"
          ]
        }
      ]
    },
    {
      "cell_type": "markdown",
      "source": [
        "3) Uma corretora que trabalha com 3 ativos principais VALE5, PETR4 e BBDC4, gostaria de\n",
        "registrar os rendimentos da semana em uma matriz 5x3. Crie um programa que lê do teclado dia\n",
        "a dia o rendimento de cada um dos 3 ativos. Em seguida o programa deve fazer o cálculo de\n",
        "rendimento acumulado de cada ativo na semana. E por fim, apresenta o rendimento médio total\n",
        "do fundo.\n",
        "\n"
      ],
      "metadata": {
        "id": "0V3nnsu0DxR0"
      }
    },
    {
      "cell_type": "code",
      "source": [
        "nome_acoes = ['VALE5', 'PETR4', 'BBDC4']\n",
        "dias_semana = ['segunda', 'terça', 'quarta', 'quinta', 'sexta']\n",
        "\n",
        "rendimentos = np.zeros((len(dias_semana),len(nome_acoes)))\n",
        "\n",
        "for index_acao in range(len(nome_acoes)):\n",
        "  for index_dia in range(len(dias_semana)):\n",
        "    text = 'Rendimento da ação ' + str(nome_acoes[index_acao]) + ' na ' + str(dias_semana[index_dia]) + ': '\n",
        "    rendimentos[index_dia, index_acao] = float(input(text))\n",
        "\n",
        "for index_acao in range(len(nome_acoes)):\n",
        "  fator_multiplicacao = 1\n",
        "  for index_dia in range(len(dias_semana)):\n",
        "    fator_multiplicacao = fator_multiplicacao*(1+rendimentos[index_dia, index_acao])\n",
        "\n",
        "  print('\\n')\n",
        "  print(nome_acoes[index_acao])\n",
        "  print('Rendimento total na semana: ', round(fator_multiplicacao - 1, 2)*100, '%')"
      ],
      "metadata": {
        "colab": {
          "base_uri": "https://localhost:8080/"
        },
        "id": "P2DMF-6BD7Bo",
        "outputId": "a53d29c4-550b-442e-8ced-3cd3205e0c4d"
      },
      "execution_count": null,
      "outputs": [
        {
          "output_type": "stream",
          "name": "stdout",
          "text": [
            "Rendimento da ação VALE5 na segunda: 0.1\n",
            "Rendimento da ação VALE5 na terça: 0.04\n",
            "Rendimento da ação VALE5 na quarta: -0.06\n",
            "Rendimento da ação VALE5 na quinta: 0.2\n",
            "Rendimento da ação VALE5 na sexta: 0.1\n",
            "Rendimento da ação PETR4 na segunda: -0.1\n",
            "Rendimento da ação PETR4 na terça: -0.1\n",
            "Rendimento da ação PETR4 na quarta: -0.05\n",
            "Rendimento da ação PETR4 na quinta: 0\n",
            "Rendimento da ação PETR4 na sexta: 0.1\n",
            "Rendimento da ação BBDC4 na segunda: 0.3\n",
            "Rendimento da ação BBDC4 na terça: 0.2\n",
            "Rendimento da ação BBDC4 na quarta: 0.5\n",
            "Rendimento da ação BBDC4 na quinta: 0.4\n",
            "Rendimento da ação BBDC4 na sexta: -0.5\n",
            "\n",
            "\n",
            "VALE5\n",
            "Rendimento total na semana:  42.0 %\n",
            "\n",
            "\n",
            "PETR4\n",
            "Rendimento total na semana:  -15.0 %\n",
            "\n",
            "\n",
            "BBDC4\n",
            "Rendimento total na semana:  64.0 %\n"
          ]
        }
      ]
    },
    {
      "cell_type": "markdown",
      "source": [
        "4) As 3 principais cidades brasileiras estão preocupadas com a taxa de ocupação de hospitais\n",
        "durante o COVID. Crie um programa que lê do teclado dia a dia para cada cidade e registra em\n",
        "uma matriz 7x3 a taxa de ocupação dos hospitais dessas 3 cidades nos última semana (7 dias)\n",
        "Se programa deve apresentar então o mínimo, máximo e média de ocupação dos leitos para\n",
        "cada cidade.\n"
      ],
      "metadata": {
        "id": "a-ACHPlpDy7D"
      }
    },
    {
      "cell_type": "code",
      "source": [
        "cidades = ['C1', 'C2', 'C3']\n",
        "dias_semana = ['segunda', 'terça', 'quarta', 'quinta', 'sexta', 'sabado', 'domingo']\n",
        "\n",
        "ocupacao = np.zeros((len(dias_semana),len(cidades)))\n",
        "\n",
        "for index_cidade in range(len(cidades)):\n",
        "  for index_dia in range(len(dias_semana)):\n",
        "    text = 'Taxa de ocupação ' + str(cidades[index_cidade]) + ' -> ' + str(dias_semana[index_dia]) + ': '\n",
        "    ocupacao[index_dia, index_cidade] = float(input(text))\n",
        "\n",
        "print('\\n',ocupacao)\n",
        "\n",
        "f = 0\n",
        "for c in cidades:\n",
        "  print('\\nCIDADE\\t', c)\n",
        "  print('Mínimo\\t', min(ocupacao[:,f]))\n",
        "  print('Máximo\\t', max(ocupacao[:,f]))\n",
        "  print('Média\\t',round(np.mean(ocupacao[:,f]),2))\n",
        "  f+=1"
      ],
      "metadata": {
        "colab": {
          "base_uri": "https://localhost:8080/"
        },
        "id": "VT4bSzLVD7Ug",
        "outputId": "25b548b2-9883-4b2f-f6f1-2b825c1f7b65"
      },
      "execution_count": null,
      "outputs": [
        {
          "output_type": "stream",
          "name": "stdout",
          "text": [
            "Taxa de ocupação C1 -> segunda: 0.1\n",
            "Taxa de ocupação C1 -> terça: 0.2\n",
            "Taxa de ocupação C1 -> quarta: 0.34\n",
            "Taxa de ocupação C1 -> quinta: 0.5\n",
            "Taxa de ocupação C1 -> sexta: 0.7\n",
            "Taxa de ocupação C1 -> sabado: 0.6\n",
            "Taxa de ocupação C1 -> domingo: 0.9\n",
            "Taxa de ocupação C2 -> segunda: 0.5\n",
            "Taxa de ocupação C2 -> terça: 0.8\n",
            "Taxa de ocupação C2 -> quarta: 0.97\n",
            "Taxa de ocupação C2 -> quinta: 1\n",
            "Taxa de ocupação C2 -> sexta: 1\n",
            "Taxa de ocupação C2 -> sabado: 0.95\n",
            "Taxa de ocupação C2 -> domingo: 0.9\n",
            "Taxa de ocupação C3 -> segunda: 0\n",
            "Taxa de ocupação C3 -> terça: 0\n",
            "Taxa de ocupação C3 -> quarta: 0.1\n",
            "Taxa de ocupação C3 -> quinta: 0.2\n",
            "Taxa de ocupação C3 -> sexta: 0.12\n",
            "Taxa de ocupação C3 -> sabado: 0.07\n",
            "Taxa de ocupação C3 -> domingo: 0.3\n",
            "\n",
            " [[0.1  0.5  0.  ]\n",
            " [0.2  0.8  0.  ]\n",
            " [0.34 0.97 0.1 ]\n",
            " [0.5  1.   0.2 ]\n",
            " [0.7  1.   0.12]\n",
            " [0.6  0.95 0.07]\n",
            " [0.9  0.9  0.3 ]]\n",
            "\n",
            "CIDADE\t C1\n",
            "Mínimo\t 0.1\n",
            "Máximo\t 0.9\n",
            "Média\t 0.48\n",
            "\n",
            "CIDADE\t C2\n",
            "Mínimo\t 0.5\n",
            "Máximo\t 1.0\n",
            "Média\t 0.87\n",
            "\n",
            "CIDADE\t C3\n",
            "Mínimo\t 0.0\n",
            "Máximo\t 0.3\n",
            "Média\t 0.11\n"
          ]
        }
      ]
    }
  ]
}