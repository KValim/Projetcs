{
 "cells": [
  {
   "attachments": {},
   "cell_type": "markdown",
   "metadata": {},
   "source": [
    "# Links Raças"
   ]
  },
  {
   "cell_type": "code",
   "execution_count": 82,
   "metadata": {},
   "outputs": [
    {
     "data": {
      "text/plain": [
       "['https://www.adoropets.com.br/akita-inu/',\n",
       " 'https://www.adoropets.com.br/terrier-americano-sem-pelo-american-hairless/',\n",
       " 'https://www.adoropets.com.br/basset-hound/',\n",
       " 'https://www.adoropets.com.br/beagle/',\n",
       " 'https://www.adoropets.com.br/bichon-frise/',\n",
       " 'https://www.adoropets.com.br/border-collie/',\n",
       " 'https://www.adoropets.com.br/boxer/',\n",
       " 'https://www.adoropets.com.br/bull-terrier/',\n",
       " 'https://www.adoropets.com.br/bulldog-frances/',\n",
       " 'https://www.adoropets.com.br/bulldog-ingles/',\n",
       " 'https://www.adoropets.com.br/chihuahua/',\n",
       " 'https://www.adoropets.com.br/chow-chow/',\n",
       " 'https://www.adoropets.com.br/cocker-spaniel-ingles/',\n",
       " 'https://www.adoropets.com.br/dachshund/',\n",
       " 'https://www.adoropets.com.br/doberman/',\n",
       " 'https://www.adoropets.com.br/dogo-argentino/',\n",
       " 'https://www.adoropets.com.br/dalmata/',\n",
       " 'https://www.adoropets.com.br/fila-brasileiro/',\n",
       " 'https://www.adoropets.com.br/fox-paulistinha/',\n",
       " 'https://www.adoropets.com.br/galgo-afegao/',\n",
       " 'https://www.adoropets.com.br/golden-retriever/',\n",
       " 'https://www.adoropets.com.br/husky-siberiano/',\n",
       " 'https://www.adoropets.com.br/jack-russell-terrier/',\n",
       " 'https://www.adoropets.com.br/kuvasz/',\n",
       " 'https://www.adoropets.com.br/labrador/',\n",
       " 'https://www.adoropets.com.br/lhasa-apso/',\n",
       " 'https://www.adoropets.com.br/lulu-da-pomerania/',\n",
       " 'https://www.adoropets.com.br/maltes/',\n",
       " 'https://www.adoropets.com.br/norfolk-terrier/',\n",
       " 'https://www.adoropets.com.br/pastor-alemao/',\n",
       " 'https://www.adoropets.com.br/pastor-belga/',\n",
       " 'https://www.adoropets.com.br/pequines/',\n",
       " 'https://www.adoropets.com.br/pinscher/',\n",
       " 'https://www.adoropets.com.br/pitbull/',\n",
       " 'https://www.adoropets.com.br/poodle/',\n",
       " 'https://www.adoropets.com.br/pug/',\n",
       " 'https://www.adoropets.com.br/redbone-coonhound/',\n",
       " 'https://www.adoropets.com.br/rottweiler/',\n",
       " 'https://www.adoropets.com.br/samoieda/',\n",
       " 'https://www.adoropets.com.br/schnauzer/',\n",
       " 'https://www.adoropets.com.br/shar-pei/',\n",
       " 'https://www.adoropets.com.br/shih-tzu/',\n",
       " 'https://www.adoropets.com.br/soft-coated-wheaten-terrier/',\n",
       " 'https://www.adoropets.com.br/spitz-alemao/',\n",
       " 'https://www.adoropets.com.br/sao-bernardo/',\n",
       " 'https://www.adoropets.com.br/terra-nova/',\n",
       " 'https://www.adoropets.com.br/terrier-escoces/',\n",
       " 'https://www.adoropets.com.br/yorkshire-terrier/']"
      ]
     },
     "execution_count": 82,
     "metadata": {},
     "output_type": "execute_result"
    }
   ],
   "source": [
    "import requests\n",
    "from bs4 import BeautifulSoup\n",
    "\n",
    "url = 'https://www.adoropets.com.br/cachorros/racas-de-cachorros/'\n",
    "\n",
    "# Faz a solicitação HTTP para obter o conteúdo da página\n",
    "response = requests.get(url)\n",
    "\n",
    "# Verifica se a solicitação foi bem-sucedida\n",
    "if response.status_code == 200:\n",
    "    # Parse do conteúdo HTML com BeautifulSoup\n",
    "    soup = BeautifulSoup(response.text, 'html.parser')\n",
    "\n",
    "    # Encontra todos os elementos com a classe \"main-breeds__item\"\n",
    "    breed_elements = soup.find_all('div', class_='main-breeds__item')\n",
    "\n",
    "    # Extrai os links das raças de cachorro presentes nos elementos encontrados\n",
    "    breed_links = [element.a['href'] for element in breed_elements]\n",
    "\n",
    "else:\n",
    "    print('Erro ao obter a página:', response.status_code)\n",
    "\n",
    "breed_links"
   ]
  },
  {
   "cell_type": "code",
   "execution_count": 84,
   "metadata": {},
   "outputs": [
    {
     "data": {
      "text/plain": [
       "[{'Raça': 'akita-inu',\n",
       "  'Altura': 'entre 58 cm e 66 cm para fêmeas; entre 63 cm e 71 cm para machos.'},\n",
       " {'Raça': 'chow-chow',\n",
       "  'Altura': 'entre 42 cm e 48 cm para fêmeas; entre 43 cm e 50 cm para machos.'},\n",
       " {'Raça': 'doberman',\n",
       "  'Altura': 'entre 61 cm e 68 cm para as fêmeas e entre 66 cm e 72 cm para os machos;'},\n",
       " {'Raça': 'husky-siberiano',\n",
       "  'Altura': 'entre 50 cm e 55 cm para fêmeas; entre 53 cm e 60 cm para machos.'},\n",
       " {'Raça': 'kuvasz',\n",
       "  'Altura': '70 cm a 76 cm para machos; 65 cm a 70 cm para fêmeas;'},\n",
       " {'Raça': 'labrador',\n",
       "  'Altura': 'entre 54 cm e 60 cm para fêmeas e entre 57 cm e 62 cm para machos;'},\n",
       " {'Raça': 'lhasa-apso',\n",
       "  'Altura': 'entre 25 cm e 27 cm para fêmeas; entre 25 cm e 29 cm para machos.'},\n",
       " {'Raça': 'pastor-alemao',\n",
       "  'Altura': '60 cm a 65 cm para machos; 55 cm a 60 cm para fêmeas (até a cernelha).'},\n",
       " {'Raça': 'pug', 'Altura': 'entre 25 cm a 31 cm para machos e fêmeas.'},\n",
       " {'Raça': 'terra-nova',\n",
       "  'Altura': '67 cm a 72 cm para machos; 60 cm a 66 cm para fêmeas;'},\n",
       " {'Raça': 'yorkshire-terrier',\n",
       "  'Altura': 'entre 20 cm e 25 cm para fêmeas; entre 22 cm e 28 cm para machos.'}]"
      ]
     },
     "execution_count": 84,
     "metadata": {},
     "output_type": "execute_result"
    }
   ],
   "source": [
    "import requests\n",
    "import time\n",
    "\n",
    "cookies = {\n",
    "    '_fbp': 'fb.2.1690327799491.745052027',\n",
    "    '_ga': 'GA1.1.1479591170.1690327800',\n",
    "    '__gads': 'ID=5ff08ed985a7ebf5-22f4bd2db6e700a4:T=1690327805:RT=1690507987:S=ALNI_MbZBnfzgfFqBf_fi9N28dSKw5QbbA',\n",
    "    '__gpi': 'UID=00000d1ba2ac0f3d:T=1690327805:RT=1690507987:S=ALNI_MYhUMJsVhfGU8admAcLyMSPNJce_w',\n",
    "    'FCNEC': '%5B%5B%22AKsRol_X8khfZSc_59GJtGqi5atj-oHUxacYX1IC5qQfO5kkFeMgYQ1m92dWWCM1XiXm-E7jlENz7s2tWkd6dQ21T8cd09orUDBuGhcMLegfr6nED-LOY8YwvfKBbHG9cTA3-5FTodfs7ntjK9m6BQ7RstdhaqP46g%3D%3D%22%5D%2Cnull%2C%5B%5D%5D',\n",
    "    '_ga_QB71TE6774': 'GS1.1.1690506227.2.1.1690508237.0.0.0',\n",
    "}\n",
    "\n",
    "headers = {\n",
    "    'authority': 'www.adoropets.com.br',\n",
    "    'accept': 'text/html,application/xhtml+xml,application/xml;q=0.9,image/webp,image/apng,*/*;q=0.8,application/signed-exchange;v=b3;q=0.7',\n",
    "    'accept-language': 'pt-BR,pt;q=0.9,en-US;q=0.8,en;q=0.7',\n",
    "    'cache-control': 'max-age=0',\n",
    "    # 'cookie': '_fbp=fb.2.1690327799491.745052027; _ga=GA1.1.1479591170.1690327800; __gads=ID=5ff08ed985a7ebf5-22f4bd2db6e700a4:T=1690327805:RT=1690507987:S=ALNI_MbZBnfzgfFqBf_fi9N28dSKw5QbbA; __gpi=UID=00000d1ba2ac0f3d:T=1690327805:RT=1690507987:S=ALNI_MYhUMJsVhfGU8admAcLyMSPNJce_w; FCNEC=%5B%5B%22AKsRol_X8khfZSc_59GJtGqi5atj-oHUxacYX1IC5qQfO5kkFeMgYQ1m92dWWCM1XiXm-E7jlENz7s2tWkd6dQ21T8cd09orUDBuGhcMLegfr6nED-LOY8YwvfKBbHG9cTA3-5FTodfs7ntjK9m6BQ7RstdhaqP46g%3D%3D%22%5D%2Cnull%2C%5B%5D%5D; _ga_QB71TE6774=GS1.1.1690506227.2.1.1690508237.0.0.0',\n",
    "    'if-modified-since': 'Fri, 28 Jul 2023 00:23:34 GMT',\n",
    "    'referer': 'https://www.adoropets.com.br/',\n",
    "    'sec-ch-ua': '\"Not/A)Brand\";v=\"99\", \"Microsoft Edge\";v=\"115\", \"Chromium\";v=\"115\"',\n",
    "    'sec-ch-ua-mobile': '?0',\n",
    "    'sec-ch-ua-platform': '\"Windows\"',\n",
    "    'sec-fetch-dest': 'document',\n",
    "    'sec-fetch-mode': 'navigate',\n",
    "    'sec-fetch-site': 'same-origin',\n",
    "    'sec-fetch-user': '?1',\n",
    "    'upgrade-insecure-requests': '1',\n",
    "    'user-agent': 'Mozilla/5.0 (Windows NT 10.0; Win64; x64) AppleWebKit/537.36 (KHTML, like Gecko) Chrome/115.0.0.0 Safari/537.36 Edg/115.0.1901.183',\n",
    "}\n",
    "\n",
    "list_breed_info = []\n",
    "\n",
    "for breed in breed_links:\n",
    "# for breed in ['https://www.adoropets.com.br/akita-inu/']:\n",
    "    try: \n",
    "        response = requests.get(breed, cookies=cookies, headers=headers)\n",
    "        # print(response.text)\n",
    "        breed_name = breed.split('https://www.adoropets.com.br/')[1].replace('/','')\n",
    "        try:\n",
    "            altura = response.text.split('Altura:</strong> ')[1].split('</li>')[0]\n",
    "        except:\n",
    "            altura = response.text.split('Tamanho:</strong> ')[1].split('</li>')[0]\n",
    "        \n",
    "        list_breed_info.append({\n",
    "            'Raça': breed_name,\n",
    "            'Altura': altura\n",
    "        })\n",
    "        \n",
    "        time.sleep(1)\n",
    "    except:\n",
    "        pass\n",
    "\n",
    "\n",
    "list_breed_info"
   ]
  },
  {
   "cell_type": "code",
   "execution_count": 81,
   "metadata": {},
   "outputs": [
    {
     "data": {
      "text/plain": [
       "[{'Raça': 'akita-inu',\n",
       "  'Altura': 'entre 58 cm e 66 cm para fêmeas; entre 63 cm e 71 cm para machos.'}]"
      ]
     },
     "execution_count": 81,
     "metadata": {},
     "output_type": "execute_result"
    }
   ],
   "source": [
    "list_breed_info"
   ]
  },
  {
   "cell_type": "code",
   "execution_count": 12,
   "metadata": {},
   "outputs": [
    {
     "name": "stdout",
     "output_type": "stream",
     "text": [
      "Latitude: -23.6666100044, Longitude: -46.538\n"
     ]
    }
   ],
   "source": [
    "import requests\n",
    "\n",
    "def get_lat_lon_from_cep(cep, api_key):\n",
    "    headers = {\n",
    "        'Authorization': f'Token token={api_key}',\n",
    "        'Content-Type': 'application/json',\n",
    "        'Accept': 'application/json'\n",
    "    }\n",
    "    \n",
    "    url = f\"https://www.cepaberto.com/api/v3/cep?cep={cep}\"\n",
    "    \n",
    "    response = requests.get(url, headers=headers)\n",
    "    \n",
    "    if response.status_code == 200:\n",
    "        data = response.json()\n",
    "        return data['latitude'], data['longitude']\n",
    "    else:\n",
    "        print(f\"Erro ao buscar o CEP. Status code: {response.status_code}\")\n",
    "        return None, None\n",
    "\n",
    "# Uso\n",
    "api_key = '7770b096dc889c542625324cf26a3e7b'\n",
    "cep = '09041300'  # Exemplo de CEP\n",
    "latitude, longitude = get_lat_lon_from_cep(cep, api_key)\n",
    "print(f\"Latitude: {latitude}, Longitude: {longitude}\")\n"
   ]
  }
 ],
 "metadata": {
  "kernelspec": {
   "display_name": "env",
   "language": "python",
   "name": "python3"
  },
  "language_info": {
   "codemirror_mode": {
    "name": "ipython",
    "version": 3
   },
   "file_extension": ".py",
   "mimetype": "text/x-python",
   "name": "python",
   "nbconvert_exporter": "python",
   "pygments_lexer": "ipython3",
   "version": "3.10.2"
  },
  "orig_nbformat": 4
 },
 "nbformat": 4,
 "nbformat_minor": 2
}
