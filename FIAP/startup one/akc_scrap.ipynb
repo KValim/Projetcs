{
 "cells": [
  {
   "cell_type": "code",
   "execution_count": 19,
   "metadata": {},
   "outputs": [],
   "source": [
    "import re\n",
    "import requests\n",
    "import os\n",
    "from datetime import datetime\n",
    "\n",
    "from bs4 import BeautifulSoup\n",
    "from bs4.element import Tag\n",
    "\n",
    "import pandas as pd\n",
    "from tqdm import tqdm_notebook as tqdm"
   ]
  },
  {
   "cell_type": "code",
   "execution_count": 20,
   "metadata": {},
   "outputs": [],
   "source": [
    "def get_description(breed_soup):\n",
    "    try:\n",
    "        first_part = breed_soup.find(\n",
    "                'div', class_='breed-info__content-wrap'\n",
    "        ).get_text().strip()\n",
    "    except:\n",
    "        first_part = ''\n",
    "    \n",
    "    try:\n",
    "        second_part = breed_soup.find(\n",
    "                'div', class_='breed-hero__footer'\n",
    "        ).get_text().strip()\n",
    "    except:\n",
    "        second_part = ''\n",
    "    \n",
    "    description = ' '.join([first_part, second_part])\n",
    "    \n",
    "    # Removing weird characters\n",
    "    # Probably not exhaustive\n",
    "    description = description.replace(\n",
    "        '\\n', '').replace('\\u200b', '').replace('\\xa0', ' ')\n",
    "    return description"
   ]
  },
  {
   "cell_type": "code",
   "execution_count": 21,
   "metadata": {},
   "outputs": [],
   "source": [
    "def get_temperament(breed_soup):\n",
    "    first_part = 'attribute-list__description attribute-list__text '\n",
    "    second_part = 'attribute-list__text--lg mb4 bpm-mb5 pb0 d-block'\n",
    "    class_ = first_part + second_part\n",
    "    try:\n",
    "        return breed_soup.find(\n",
    "            'span', class_=class_\n",
    "        ).get_text()\n",
    "    except:\n",
    "        return ''"
   ]
  },
  {
   "cell_type": "code",
   "execution_count": 22,
   "metadata": {},
   "outputs": [],
   "source": [
    "def get_popularity(popularity_span):\n",
    "    pop_text = popularity_span.get_text()\n",
    "    return {'popularity': pop_text.split()[1]}"
   ]
  },
  {
   "cell_type": "code",
   "execution_count": 23,
   "metadata": {},
   "outputs": [],
   "source": [
    "def general_regex(text, var, mul=1):\n",
    "    reg = re.compile('(\\d+\\.?\\d*)')\n",
    "    results = reg.findall(text)\n",
    "    numbers = [float(value) * mul for value in results]\n",
    "    if len(numbers) == 1:\n",
    "        numbers = numbers * 2\n",
    "    elif len(numbers) == 0:\n",
    "        numbers = [0, 0]\n",
    "    return {\n",
    "        'min_{}'.format(var): min(numbers),\n",
    "        'max_{}'.format(var): max(numbers)\n",
    "    }"
   ]
  },
  {
   "cell_type": "code",
   "execution_count": 24,
   "metadata": {},
   "outputs": [],
   "source": [
    "def get_height(height_span):\n",
    "    ht_text = height_span.get_text()\n",
    "    \n",
    "     # one inch corresponds to 2.54 cm\n",
    "    return general_regex(ht_text, 'height', 2.54)"
   ]
  },
  {
   "cell_type": "code",
   "execution_count": 25,
   "metadata": {},
   "outputs": [],
   "source": [
    "def get_weight(weight_span):\n",
    "    wt_text = weight_span.get_text()\n",
    "    \n",
    "     # one pound corresponds to 0.45359237 kg\n",
    "    return general_regex(wt_text, 'weight', 0.45359237) "
   ]
  },
  {
   "cell_type": "code",
   "execution_count": 26,
   "metadata": {},
   "outputs": [],
   "source": [
    "def get_expectancy(expectancy_span):\n",
    "    exp_text = expectancy_span.get_text()\n",
    "    return general_regex(exp_text, 'expectancy') "
   ]
  },
  {
   "cell_type": "code",
   "execution_count": 27,
   "metadata": {},
   "outputs": [],
   "source": [
    "def get_group(group_span):\n",
    "    return {'group': group_span.get_text()}"
   ]
  },
  {
   "cell_type": "code",
   "execution_count": 28,
   "metadata": {},
   "outputs": [],
   "source": [
    "attr_function = {\n",
    "    'AKC Breed Popularity': get_popularity,\n",
    "    'Height': get_height,\n",
    "    'Weight': get_weight,\n",
    "    'Life Expectancy': get_expectancy,\n",
    "    'Group': get_group\n",
    "}\n",
    "\n",
    "def get_main_attributes(breed_soup):\n",
    "        \n",
    "    breed_attr_terms = breed_soup.find_all(\n",
    "        'span', class_='attribute-list__term attribute-list__text'\n",
    "    )\n",
    "    # When pressent, the first span is the temperament\n",
    "    if 'Temperament' in breed_attr_terms[0].get_text():\n",
    "        breed_attr_terms = breed_attr_terms[1:]\n",
    "    \n",
    "    breed_attr_values = breed_soup.find_all(\n",
    "        'span', class_='attribute-list__description attribute-list__text'\n",
    "    )\n",
    "    \n",
    "    attributes = {}\n",
    "    \n",
    "    for term_span, value_span in zip (breed_attr_terms, breed_attr_values):\n",
    "        term = term_span.get_text().replace(':', '')\n",
    "        attributes.update(attr_function[term](value_span))\n",
    "    \n",
    "    return attributes"
   ]
  },
  {
   "cell_type": "code",
   "execution_count": 29,
   "metadata": {},
   "outputs": [],
   "source": [
    "def get_care_info(breed_soup):\n",
    "    titles = breed_soup.find_all(\n",
    "        'h4', class_='bar-graph__title'\n",
    "    )\n",
    "    \n",
    "    values = breed_soup.find_all(\n",
    "        'div', class_='bar-graph__section'\n",
    "    )\n",
    "    \n",
    "    categories = breed_soup.find_all(\n",
    "        'div', class_='bar-graph__text'\n",
    "    )\n",
    "    \n",
    "    care_dict = {}\n",
    "    \n",
    "    for (title, value, category) in zip (titles, values, categories):\n",
    "        t = title.get_text().lower().replace(' ', '_')\n",
    "        t = t[t.find('/') + 1:]\n",
    "        care_dict[t + '_value'] = float(\n",
    "            value['style'].split()[1].split('%')[0]\n",
    "        ) / 100\n",
    "        care_dict[t + '_category'] = category.get_text()\n",
    "    \n",
    "    return care_dict"
   ]
  },
  {
   "cell_type": "code",
   "execution_count": 30,
   "metadata": {},
   "outputs": [],
   "source": [
    "class Breed:\n",
    "    def __init__(self, url):\n",
    "        self.url = url\n",
    "        breed_page = requests.get(url)\n",
    "        breed_soup = BeautifulSoup(breed_page.content, 'html.parser')\n",
    "\n",
    "        self.breed_info = {}\n",
    "        self.breed_info['description'] = get_description(breed_soup)    \n",
    "        self.breed_info['temperament'] = get_temperament(breed_soup)\n",
    "        self.breed_info.update(get_main_attributes(breed_soup))\n",
    "        self.breed_info.update(get_care_info(breed_soup))\n",
    "        \n",
    "    def get_info(self):  \n",
    "        return self.breed_info"
   ]
  },
  {
   "cell_type": "code",
   "execution_count": 37,
   "metadata": {},
   "outputs": [],
   "source": [
    "def get_data():\n",
    "    page = requests.get('https://www.akc.org/dog-breeds/')\n",
    "    soup = BeautifulSoup(page.content, 'html.parser')\n",
    "    \n",
    "    # An HTML select tag with all the breeds and their urls\n",
    "    breed_select = soup.find('select', id='breed-search')\n",
    "    \n",
    "    # Keeping only children from breed_select which are actually breeds\n",
    "    breeds = [\n",
    "        tag for tag in breed_select.children if type(tag) is Tag and tag['value']\n",
    "    ]\n",
    "    \n",
    "    breed_dict = {\n",
    "        breed.get_text(): Breed(breed['value']).get_info(\n",
    "        ) for breed in tqdm(breeds)\n",
    "    }\n",
    "    \n",
    "    return breed_dict"
   ]
  },
  {
   "cell_type": "code",
   "execution_count": 38,
   "metadata": {},
   "outputs": [
    {
     "name": "stderr",
     "output_type": "stream",
     "text": [
      "C:\\Users\\KAIQUEHENRIQUEVALIM\\AppData\\Local\\Temp\\ipykernel_13408\\2402928567.py:15: TqdmDeprecationWarning: This function will be removed in tqdm==5.0.0\n",
      "Please use `tqdm.notebook.tqdm` instead of `tqdm.tqdm_notebook`\n",
      "  ) for breed in tqdm(breeds)\n"
     ]
    },
    {
     "data": {
      "application/json": {
       "ascii": false,
       "bar_format": null,
       "colour": null,
       "elapsed": 0.004958629608154297,
       "initial": 0,
       "n": 0,
       "ncols": null,
       "nrows": null,
       "postfix": null,
       "prefix": "",
       "rate": null,
       "total": 283,
       "unit": "it",
       "unit_divisor": 1000,
       "unit_scale": false
      },
      "application/vnd.jupyter.widget-view+json": {
       "model_id": "d9669f9a2aab4e2cae7535339612220b",
       "version_major": 2,
       "version_minor": 0
      },
      "text/plain": [
       "  0%|          | 0/283 [00:00<?, ?it/s]"
      ]
     },
     "metadata": {},
     "output_type": "display_data"
    },
    {
     "ename": "IndexError",
     "evalue": "list index out of range",
     "output_type": "error",
     "traceback": [
      "\u001b[1;31m---------------------------------------------------------------------------\u001b[0m",
      "\u001b[1;31mIndexError\u001b[0m                                Traceback (most recent call last)",
      "Cell \u001b[1;32mIn [38], line 1\u001b[0m\n\u001b[1;32m----> 1\u001b[0m breed_dict \u001b[39m=\u001b[39m get_data()\n",
      "Cell \u001b[1;32mIn [37], line 13\u001b[0m, in \u001b[0;36mget_data\u001b[1;34m()\u001b[0m\n\u001b[0;32m      8\u001b[0m \u001b[39m# Keeping only children from breed_select which are actually breeds\u001b[39;00m\n\u001b[0;32m      9\u001b[0m breeds \u001b[39m=\u001b[39m [\n\u001b[0;32m     10\u001b[0m     tag \u001b[39mfor\u001b[39;00m tag \u001b[39min\u001b[39;00m breed_select\u001b[39m.\u001b[39mchildren \u001b[39mif\u001b[39;00m \u001b[39mtype\u001b[39m(tag) \u001b[39mis\u001b[39;00m Tag \u001b[39mand\u001b[39;00m tag[\u001b[39m'\u001b[39m\u001b[39mvalue\u001b[39m\u001b[39m'\u001b[39m]\n\u001b[0;32m     11\u001b[0m ]\n\u001b[1;32m---> 13\u001b[0m breed_dict \u001b[39m=\u001b[39m {\n\u001b[0;32m     14\u001b[0m     breed\u001b[39m.\u001b[39mget_text(): Breed(breed[\u001b[39m'\u001b[39m\u001b[39mvalue\u001b[39m\u001b[39m'\u001b[39m])\u001b[39m.\u001b[39mget_info(\n\u001b[0;32m     15\u001b[0m     ) \u001b[39mfor\u001b[39;00m breed \u001b[39min\u001b[39;00m tqdm(breeds)\n\u001b[0;32m     16\u001b[0m }\n\u001b[0;32m     18\u001b[0m \u001b[39mreturn\u001b[39;00m breed_dict\n",
      "Cell \u001b[1;32mIn [37], line 14\u001b[0m, in \u001b[0;36m<dictcomp>\u001b[1;34m(.0)\u001b[0m\n\u001b[0;32m      8\u001b[0m \u001b[39m# Keeping only children from breed_select which are actually breeds\u001b[39;00m\n\u001b[0;32m      9\u001b[0m breeds \u001b[39m=\u001b[39m [\n\u001b[0;32m     10\u001b[0m     tag \u001b[39mfor\u001b[39;00m tag \u001b[39min\u001b[39;00m breed_select\u001b[39m.\u001b[39mchildren \u001b[39mif\u001b[39;00m \u001b[39mtype\u001b[39m(tag) \u001b[39mis\u001b[39;00m Tag \u001b[39mand\u001b[39;00m tag[\u001b[39m'\u001b[39m\u001b[39mvalue\u001b[39m\u001b[39m'\u001b[39m]\n\u001b[0;32m     11\u001b[0m ]\n\u001b[0;32m     13\u001b[0m breed_dict \u001b[39m=\u001b[39m {\n\u001b[1;32m---> 14\u001b[0m     breed\u001b[39m.\u001b[39mget_text(): Breed(breed[\u001b[39m'\u001b[39;49m\u001b[39mvalue\u001b[39;49m\u001b[39m'\u001b[39;49m])\u001b[39m.\u001b[39mget_info(\n\u001b[0;32m     15\u001b[0m     ) \u001b[39mfor\u001b[39;00m breed \u001b[39min\u001b[39;00m tqdm(breeds)\n\u001b[0;32m     16\u001b[0m }\n\u001b[0;32m     18\u001b[0m \u001b[39mreturn\u001b[39;00m breed_dict\n",
      "Cell \u001b[1;32mIn [30], line 10\u001b[0m, in \u001b[0;36mBreed.__init__\u001b[1;34m(self, url)\u001b[0m\n\u001b[0;32m      8\u001b[0m \u001b[39mself\u001b[39m\u001b[39m.\u001b[39mbreed_info[\u001b[39m'\u001b[39m\u001b[39mdescription\u001b[39m\u001b[39m'\u001b[39m] \u001b[39m=\u001b[39m get_description(breed_soup)    \n\u001b[0;32m      9\u001b[0m \u001b[39mself\u001b[39m\u001b[39m.\u001b[39mbreed_info[\u001b[39m'\u001b[39m\u001b[39mtemperament\u001b[39m\u001b[39m'\u001b[39m] \u001b[39m=\u001b[39m get_temperament(breed_soup)\n\u001b[1;32m---> 10\u001b[0m \u001b[39mself\u001b[39m\u001b[39m.\u001b[39mbreed_info\u001b[39m.\u001b[39mupdate(get_main_attributes(breed_soup))\n\u001b[0;32m     11\u001b[0m \u001b[39mself\u001b[39m\u001b[39m.\u001b[39mbreed_info\u001b[39m.\u001b[39mupdate(get_care_info(breed_soup))\n",
      "Cell \u001b[1;32mIn [28], line 15\u001b[0m, in \u001b[0;36mget_main_attributes\u001b[1;34m(breed_soup)\u001b[0m\n\u001b[0;32m     11\u001b[0m breed_attr_terms \u001b[39m=\u001b[39m breed_soup\u001b[39m.\u001b[39mfind_all(\n\u001b[0;32m     12\u001b[0m     \u001b[39m'\u001b[39m\u001b[39mspan\u001b[39m\u001b[39m'\u001b[39m, class_\u001b[39m=\u001b[39m\u001b[39m'\u001b[39m\u001b[39mattribute-list__term attribute-list__text\u001b[39m\u001b[39m'\u001b[39m\n\u001b[0;32m     13\u001b[0m )\n\u001b[0;32m     14\u001b[0m \u001b[39m# When pressent, the first span is the temperament\u001b[39;00m\n\u001b[1;32m---> 15\u001b[0m \u001b[39mif\u001b[39;00m \u001b[39m'\u001b[39m\u001b[39mTemperament\u001b[39m\u001b[39m'\u001b[39m \u001b[39min\u001b[39;00m breed_attr_terms[\u001b[39m0\u001b[39;49m]\u001b[39m.\u001b[39mget_text():\n\u001b[0;32m     16\u001b[0m     breed_attr_terms \u001b[39m=\u001b[39m breed_attr_terms[\u001b[39m1\u001b[39m:]\n\u001b[0;32m     18\u001b[0m breed_attr_values \u001b[39m=\u001b[39m breed_soup\u001b[39m.\u001b[39mfind_all(\n\u001b[0;32m     19\u001b[0m     \u001b[39m'\u001b[39m\u001b[39mspan\u001b[39m\u001b[39m'\u001b[39m, class_\u001b[39m=\u001b[39m\u001b[39m'\u001b[39m\u001b[39mattribute-list__description attribute-list__text\u001b[39m\u001b[39m'\u001b[39m\n\u001b[0;32m     20\u001b[0m )\n",
      "\u001b[1;31mIndexError\u001b[0m: list index out of range"
     ]
    }
   ],
   "source": [
    "breed_dict = get_data()"
   ]
  },
  {
   "cell_type": "code",
   "execution_count": 33,
   "metadata": {},
   "outputs": [
    {
     "ename": "NameError",
     "evalue": "name 'breed_dict' is not defined",
     "output_type": "error",
     "traceback": [
      "\u001b[1;31m---------------------------------------------------------------------------\u001b[0m",
      "\u001b[1;31mNameError\u001b[0m                                 Traceback (most recent call last)",
      "Cell \u001b[1;32mIn [33], line 2\u001b[0m\n\u001b[0;32m      1\u001b[0m breed_df \u001b[39m=\u001b[39m pd\u001b[39m.\u001b[39mDataFrame\u001b[39m.\u001b[39mfrom_dict(\n\u001b[1;32m----> 2\u001b[0m     breed_dict, orient\u001b[39m=\u001b[39m\u001b[39m'\u001b[39m\u001b[39mindex\u001b[39m\u001b[39m'\u001b[39m\n\u001b[0;32m      3\u001b[0m )\n",
      "\u001b[1;31mNameError\u001b[0m: name 'breed_dict' is not defined"
     ]
    }
   ],
   "source": [
    "breed_df = pd.DataFrame.from_dict(\n",
    "    breed_dict, orient='index'\n",
    ")"
   ]
  }
 ],
 "metadata": {
  "kernelspec": {
   "display_name": "Python 3",
   "language": "python",
   "name": "python3"
  },
  "language_info": {
   "codemirror_mode": {
    "name": "ipython",
    "version": 3
   },
   "file_extension": ".py",
   "mimetype": "text/x-python",
   "name": "python",
   "nbconvert_exporter": "python",
   "pygments_lexer": "ipython3",
   "version": "3.10.2"
  },
  "orig_nbformat": 4,
  "vscode": {
   "interpreter": {
    "hash": "4f88dcba8d6815c5855e6c9ee3a17b25f591aa877fe6d8a099a93603a93c5cd7"
   }
  }
 },
 "nbformat": 4,
 "nbformat_minor": 2
}
