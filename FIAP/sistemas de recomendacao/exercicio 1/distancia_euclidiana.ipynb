{
  "nbformat": 4,
  "nbformat_minor": 0,
  "metadata": {
    "colab": {
      "provenance": [],
      "authorship_tag": "ABX9TyPMFivFxfa+bOkxtCmYilPy",
      "include_colab_link": true
    },
    "kernelspec": {
      "name": "python3",
      "display_name": "Python 3"
    },
    "language_info": {
      "name": "python"
    }
  },
  "cells": [
    {
      "cell_type": "markdown",
      "metadata": {
        "id": "view-in-github",
        "colab_type": "text"
      },
      "source": [
        "<a href=\"https://colab.research.google.com/github/KValim/Projetcs/blob/main/FIAP/sistemas%20de%20recomenda%C3%A7%C3%A3o/distancia_euclidiana.ipynb\" target=\"_parent\"><img src=\"https://colab.research.google.com/assets/colab-badge.svg\" alt=\"Open In Colab\"/></a>"
      ]
    },
    {
      "cell_type": "code",
      "source": [
        "clientes =  {'Ana': \n",
        "              { 'Cartão de Crédito': 1, \n",
        "                'Conta Corrente': 2,\n",
        "                'Poupança': 3, \n",
        "                'Renda Fixa': 4, \n",
        "                'Crédito Pessoal': 5},\n",
        "        \n",
        "            'Marcos': \n",
        "              { 'Cartão de Crédito': 2, \n",
        "                'Conta Corrente': 3,\n",
        "                'Poupança': 4, \n",
        "                'Renda Fixa': 5, \n",
        "                'Renda Variável': 0.6},\n",
        "\n",
        "            'Pedro': \n",
        "              { 'Cartão de Crédito': 3, \n",
        "                'Conta Corrente': 4,\n",
        "                'Poupança': 5, \n",
        "                'Crédito Pessoal': 7},\n",
        "            \n",
        "            'Claudia': \n",
        "              { 'Cartão de Crédito': 4, \n",
        "                'Conta Corrente': 5,\n",
        "                'Poupança': 6}\n",
        "}"
      ],
      "metadata": {
        "id": "tCaknO1ywKRl"
      },
      "execution_count": null,
      "outputs": []
    },
    {
      "cell_type": "code",
      "execution_count": null,
      "metadata": {
        "id": "ezImFuluuNF4"
      },
      "outputs": [],
      "source": [
        "import pandas as pd\n",
        "import matplotlib.pyplot as plt\n",
        "import numpy as np"
      ]
    },
    {
      "cell_type": "code",
      "source": [
        "df = pd.DataFrame.from_dict(clientes)\n",
        "df"
      ],
      "metadata": {
        "colab": {
          "base_uri": "https://localhost:8080/",
          "height": 237
        },
        "id": "PLEDnz_RyxeX",
        "outputId": "5b390853-5940-4f57-dfef-e69b6b44ebbf"
      },
      "execution_count": null,
      "outputs": [
        {
          "output_type": "execute_result",
          "data": {
            "text/plain": [
              "                   Ana  Marcos  Pedro  Claudia\n",
              "Cartão de Crédito  1.0     2.0    3.0      4.0\n",
              "Conta Corrente     2.0     3.0    4.0      5.0\n",
              "Poupança           3.0     4.0    5.0      6.0\n",
              "Renda Fixa         4.0     5.0    NaN      NaN\n",
              "Crédito Pessoal    5.0     NaN    7.0      NaN\n",
              "Renda Variável     NaN     0.6    NaN      NaN"
            ],
            "text/html": [
              "\n",
              "  <div id=\"df-9dd910e5-a9b8-471e-b22e-d83beb926c24\">\n",
              "    <div class=\"colab-df-container\">\n",
              "      <div>\n",
              "<style scoped>\n",
              "    .dataframe tbody tr th:only-of-type {\n",
              "        vertical-align: middle;\n",
              "    }\n",
              "\n",
              "    .dataframe tbody tr th {\n",
              "        vertical-align: top;\n",
              "    }\n",
              "\n",
              "    .dataframe thead th {\n",
              "        text-align: right;\n",
              "    }\n",
              "</style>\n",
              "<table border=\"1\" class=\"dataframe\">\n",
              "  <thead>\n",
              "    <tr style=\"text-align: right;\">\n",
              "      <th></th>\n",
              "      <th>Ana</th>\n",
              "      <th>Marcos</th>\n",
              "      <th>Pedro</th>\n",
              "      <th>Claudia</th>\n",
              "    </tr>\n",
              "  </thead>\n",
              "  <tbody>\n",
              "    <tr>\n",
              "      <th>Cartão de Crédito</th>\n",
              "      <td>1.0</td>\n",
              "      <td>2.0</td>\n",
              "      <td>3.0</td>\n",
              "      <td>4.0</td>\n",
              "    </tr>\n",
              "    <tr>\n",
              "      <th>Conta Corrente</th>\n",
              "      <td>2.0</td>\n",
              "      <td>3.0</td>\n",
              "      <td>4.0</td>\n",
              "      <td>5.0</td>\n",
              "    </tr>\n",
              "    <tr>\n",
              "      <th>Poupança</th>\n",
              "      <td>3.0</td>\n",
              "      <td>4.0</td>\n",
              "      <td>5.0</td>\n",
              "      <td>6.0</td>\n",
              "    </tr>\n",
              "    <tr>\n",
              "      <th>Renda Fixa</th>\n",
              "      <td>4.0</td>\n",
              "      <td>5.0</td>\n",
              "      <td>NaN</td>\n",
              "      <td>NaN</td>\n",
              "    </tr>\n",
              "    <tr>\n",
              "      <th>Crédito Pessoal</th>\n",
              "      <td>5.0</td>\n",
              "      <td>NaN</td>\n",
              "      <td>7.0</td>\n",
              "      <td>NaN</td>\n",
              "    </tr>\n",
              "    <tr>\n",
              "      <th>Renda Variável</th>\n",
              "      <td>NaN</td>\n",
              "      <td>0.6</td>\n",
              "      <td>NaN</td>\n",
              "      <td>NaN</td>\n",
              "    </tr>\n",
              "  </tbody>\n",
              "</table>\n",
              "</div>\n",
              "      <button class=\"colab-df-convert\" onclick=\"convertToInteractive('df-9dd910e5-a9b8-471e-b22e-d83beb926c24')\"\n",
              "              title=\"Convert this dataframe to an interactive table.\"\n",
              "              style=\"display:none;\">\n",
              "        \n",
              "  <svg xmlns=\"http://www.w3.org/2000/svg\" height=\"24px\"viewBox=\"0 0 24 24\"\n",
              "       width=\"24px\">\n",
              "    <path d=\"M0 0h24v24H0V0z\" fill=\"none\"/>\n",
              "    <path d=\"M18.56 5.44l.94 2.06.94-2.06 2.06-.94-2.06-.94-.94-2.06-.94 2.06-2.06.94zm-11 1L8.5 8.5l.94-2.06 2.06-.94-2.06-.94L8.5 2.5l-.94 2.06-2.06.94zm10 10l.94 2.06.94-2.06 2.06-.94-2.06-.94-.94-2.06-.94 2.06-2.06.94z\"/><path d=\"M17.41 7.96l-1.37-1.37c-.4-.4-.92-.59-1.43-.59-.52 0-1.04.2-1.43.59L10.3 9.45l-7.72 7.72c-.78.78-.78 2.05 0 2.83L4 21.41c.39.39.9.59 1.41.59.51 0 1.02-.2 1.41-.59l7.78-7.78 2.81-2.81c.8-.78.8-2.07 0-2.86zM5.41 20L4 18.59l7.72-7.72 1.47 1.35L5.41 20z\"/>\n",
              "  </svg>\n",
              "      </button>\n",
              "      \n",
              "  <style>\n",
              "    .colab-df-container {\n",
              "      display:flex;\n",
              "      flex-wrap:wrap;\n",
              "      gap: 12px;\n",
              "    }\n",
              "\n",
              "    .colab-df-convert {\n",
              "      background-color: #E8F0FE;\n",
              "      border: none;\n",
              "      border-radius: 50%;\n",
              "      cursor: pointer;\n",
              "      display: none;\n",
              "      fill: #1967D2;\n",
              "      height: 32px;\n",
              "      padding: 0 0 0 0;\n",
              "      width: 32px;\n",
              "    }\n",
              "\n",
              "    .colab-df-convert:hover {\n",
              "      background-color: #E2EBFA;\n",
              "      box-shadow: 0px 1px 2px rgba(60, 64, 67, 0.3), 0px 1px 3px 1px rgba(60, 64, 67, 0.15);\n",
              "      fill: #174EA6;\n",
              "    }\n",
              "\n",
              "    [theme=dark] .colab-df-convert {\n",
              "      background-color: #3B4455;\n",
              "      fill: #D2E3FC;\n",
              "    }\n",
              "\n",
              "    [theme=dark] .colab-df-convert:hover {\n",
              "      background-color: #434B5C;\n",
              "      box-shadow: 0px 1px 3px 1px rgba(0, 0, 0, 0.15);\n",
              "      filter: drop-shadow(0px 1px 2px rgba(0, 0, 0, 0.3));\n",
              "      fill: #FFFFFF;\n",
              "    }\n",
              "  </style>\n",
              "\n",
              "      <script>\n",
              "        const buttonEl =\n",
              "          document.querySelector('#df-9dd910e5-a9b8-471e-b22e-d83beb926c24 button.colab-df-convert');\n",
              "        buttonEl.style.display =\n",
              "          google.colab.kernel.accessAllowed ? 'block' : 'none';\n",
              "\n",
              "        async function convertToInteractive(key) {\n",
              "          const element = document.querySelector('#df-9dd910e5-a9b8-471e-b22e-d83beb926c24');\n",
              "          const dataTable =\n",
              "            await google.colab.kernel.invokeFunction('convertToInteractive',\n",
              "                                                     [key], {});\n",
              "          if (!dataTable) return;\n",
              "\n",
              "          const docLinkHtml = 'Like what you see? Visit the ' +\n",
              "            '<a target=\"_blank\" href=https://colab.research.google.com/notebooks/data_table.ipynb>data table notebook</a>'\n",
              "            + ' to learn more about interactive tables.';\n",
              "          element.innerHTML = '';\n",
              "          dataTable['output_type'] = 'display_data';\n",
              "          await google.colab.output.renderOutput(dataTable, element);\n",
              "          const docLink = document.createElement('div');\n",
              "          docLink.innerHTML = docLinkHtml;\n",
              "          element.appendChild(docLink);\n",
              "        }\n",
              "      </script>\n",
              "    </div>\n",
              "  </div>\n",
              "  "
            ]
          },
          "metadata": {},
          "execution_count": 46
        }
      ]
    },
    {
      "cell_type": "markdown",
      "source": [
        "Distância Euclidiana"
      ],
      "metadata": {
        "id": "TBM-HL7u3Lbu"
      }
    },
    {
      "cell_type": "code",
      "source": [
        "from math import sqrt\n",
        "def euclidiana(usuario1, usuario2):\n",
        "  si = {}\n",
        "  if not usuario1 in clientes: return -1\n",
        "  if not usuario2 in clientes: return -2\n",
        "  for item in clientes[usuario1]:\n",
        "    if item in clientes[usuario2]: si[item]=1\n",
        "  if len(si) == 0: return -3\n",
        "\n",
        "  soma = sum([pow(clientes[usuario1][item] - clientes[usuario2][item],2)\n",
        "                    for item in clientes[usuario1] if item in clientes[usuario2]])\n",
        "  return sqrt(soma)"
      ],
      "metadata": {
        "id": "q8JKIp1wzGow"
      },
      "execution_count": null,
      "outputs": []
    },
    {
      "cell_type": "code",
      "source": [
        "print(euclidiana('Ana','Marcos'))\n",
        "print(euclidiana('Ana','Pedro'))\n",
        "print(euclidiana('Ana','Claudia'))"
      ],
      "metadata": {
        "colab": {
          "base_uri": "https://localhost:8080/"
        },
        "id": "T0xLn8hF1q-1",
        "outputId": "7a23cb52-1e87-46fe-ffdc-d4f456fa240f"
      },
      "execution_count": null,
      "outputs": [
        {
          "output_type": "stream",
          "name": "stdout",
          "text": [
            "2.0\n",
            "4.0\n",
            "5.196152422706632\n"
          ]
        }
      ]
    },
    {
      "cell_type": "markdown",
      "source": [
        "Similaridade"
      ],
      "metadata": {
        "id": "PdiHKQyI3OpR"
      }
    },
    {
      "cell_type": "code",
      "source": [
        "def similaridade(usuario1, usuario2):\n",
        "  soma = euclidiana(usuario1, usuario2)\n",
        "  return 1/(1+soma)"
      ],
      "metadata": {
        "id": "eayfnxY_178c"
      },
      "execution_count": null,
      "outputs": []
    },
    {
      "cell_type": "code",
      "source": [
        "print(similaridade('Ana','Marcos'))\n",
        "print(similaridade('Ana','Pedro'))\n",
        "print(similaridade('Ana','Claudia'))"
      ],
      "metadata": {
        "colab": {
          "base_uri": "https://localhost:8080/"
        },
        "id": "_Rqwgb1119Po",
        "outputId": "6237e72f-5451-4773-ab7c-3d5767729c2b"
      },
      "execution_count": null,
      "outputs": [
        {
          "output_type": "stream",
          "name": "stdout",
          "text": [
            "0.3333333333333333\n",
            "0.2\n",
            "0.16139047779640892\n"
          ]
        }
      ]
    },
    {
      "cell_type": "code",
      "source": [
        "def getSimilares(usuario):\n",
        "  listaSimilaridade = [(similaridade(usuario, outro), outro)\n",
        "      for outro in clientes if outro != usuario]\n",
        "  listaSimilaridade.sort()\n",
        "  listaSimilaridade.reverse()\n",
        "  return listaSimilaridade"
      ],
      "metadata": {
        "id": "9ByoiJE42EA9"
      },
      "execution_count": null,
      "outputs": []
    },
    {
      "cell_type": "code",
      "source": [
        "print(getSimilares('Ana'))\n",
        "print(getSimilares('Marcos'))\n",
        "print(getSimilares('Pedro'))\n",
        "print(getSimilares('Claudia'))"
      ],
      "metadata": {
        "colab": {
          "base_uri": "https://localhost:8080/"
        },
        "id": "dll4Msn32TtI",
        "outputId": "8c54de43-b453-4376-e29d-cc792bb8616e"
      },
      "execution_count": null,
      "outputs": [
        {
          "output_type": "stream",
          "name": "stdout",
          "text": [
            "[(0.3333333333333333, 'Marcos'), (0.2, 'Pedro'), (0.16139047779640892, 'Claudia')]\n",
            "[(0.36602540378443865, 'Pedro'), (0.3333333333333333, 'Ana'), (0.2240092377397959, 'Claudia')]\n",
            "[(0.36602540378443865, 'Marcos'), (0.36602540378443865, 'Claudia'), (0.2, 'Ana')]\n",
            "[(0.36602540378443865, 'Pedro'), (0.2240092377397959, 'Marcos'), (0.16139047779640892, 'Ana')]\n"
          ]
        }
      ]
    },
    {
      "cell_type": "code",
      "source": [
        "df.reset_index(inplace=True)"
      ],
      "metadata": {
        "id": "vLr0Sd-T4Mso"
      },
      "execution_count": null,
      "outputs": []
    }
  ]
}