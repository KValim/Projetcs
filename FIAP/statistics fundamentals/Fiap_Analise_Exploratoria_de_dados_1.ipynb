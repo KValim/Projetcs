{
  "cells": [
    {
      "cell_type": "markdown",
      "metadata": {
        "colab_type": "text",
        "id": "view-in-github"
      },
      "source": [
        "<a href=\"https://colab.research.google.com/github/KValim/Projetcs/blob/main/FIAP/statistics%20fundamentals/Fiap_Analise_Exploratoria_de_dados_1.ipynb\" target=\"_parent\"><img src=\"https://colab.research.google.com/assets/colab-badge.svg\" alt=\"Open In Colab\"/></a>"
      ]
    },
    {
      "cell_type": "markdown",
      "metadata": {
        "id": "ca8a8ZvFh4rs"
      },
      "source": [
        "![fiap2.jpeg](data:image/jpeg;base64,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)"
      ]
    },
    {
      "cell_type": "markdown",
      "metadata": {
        "id": "CZOwjO3VhsuT"
      },
      "source": [
        "# Fundamentos de estatística \n",
        "\n",
        "**2DTSR**"
      ]
    },
    {
      "cell_type": "markdown",
      "metadata": {
        "id": "EN-if0BgiLZ-"
      },
      "source": [
        "![fiap mba.jpeg](data:image/jpeg;base64,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)"
      ]
    },
    {
      "cell_type": "markdown",
      "metadata": {
        "id": "BEHEzsoJSDup"
      },
      "source": [
        "## Análise Exploratória de dados\n"
      ]
    },
    {
      "cell_type": "markdown",
      "metadata": {
        "id": "kSt0REggcN4D"
      },
      "source": [
        "Para trabalharmos com Python iremos utilizar algumas bibliotecas"
      ]
    },
    {
      "cell_type": "code",
      "execution_count": null,
      "metadata": {
        "id": "jJBru9LLSJzB"
      },
      "outputs": [],
      "source": [
        "import numpy as np"
      ]
    },
    {
      "cell_type": "code",
      "execution_count": null,
      "metadata": {
        "id": "fmnc0pJfSNDz"
      },
      "outputs": [],
      "source": [
        "import pandas as pd"
      ]
    },
    {
      "cell_type": "code",
      "execution_count": null,
      "metadata": {
        "id": "NjoymQzoSO2L"
      },
      "outputs": [],
      "source": [
        "import seaborn as sns"
      ]
    },
    {
      "cell_type": "code",
      "execution_count": null,
      "metadata": {
        "colab": {
          "base_uri": "https://localhost:8080/",
          "height": 112
        },
        "id": "hrAD42hjSQtT",
        "outputId": "ce56f6e5-769c-44cb-dc72-9faab394bd75"
      },
      "outputs": [
        {
          "data": {
            "text/html": [
              "\n",
              "  <div id=\"df-11ab06f9-dda7-4717-a255-eaa5b510d915\">\n",
              "    <div class=\"colab-df-container\">\n",
              "      <div>\n",
              "<style scoped>\n",
              "    .dataframe tbody tr th:only-of-type {\n",
              "        vertical-align: middle;\n",
              "    }\n",
              "\n",
              "    .dataframe tbody tr th {\n",
              "        vertical-align: top;\n",
              "    }\n",
              "\n",
              "    .dataframe thead th {\n",
              "        text-align: right;\n",
              "    }\n",
              "</style>\n",
              "<table border=\"1\" class=\"dataframe\">\n",
              "  <thead>\n",
              "    <tr style=\"text-align: right;\">\n",
              "      <th></th>\n",
              "      <th>sepal length (cm)</th>\n",
              "      <th>sepal width (cm)</th>\n",
              "      <th>petal length (cm)</th>\n",
              "      <th>petal width (cm)</th>\n",
              "    </tr>\n",
              "  </thead>\n",
              "  <tbody>\n",
              "    <tr>\n",
              "      <th>0</th>\n",
              "      <td>5.1</td>\n",
              "      <td>3.5</td>\n",
              "      <td>1.4</td>\n",
              "      <td>0.2</td>\n",
              "    </tr>\n",
              "    <tr>\n",
              "      <th>1</th>\n",
              "      <td>4.9</td>\n",
              "      <td>3.0</td>\n",
              "      <td>1.4</td>\n",
              "      <td>0.2</td>\n",
              "    </tr>\n",
              "  </tbody>\n",
              "</table>\n",
              "</div>\n",
              "      <button class=\"colab-df-convert\" onclick=\"convertToInteractive('df-11ab06f9-dda7-4717-a255-eaa5b510d915')\"\n",
              "              title=\"Convert this dataframe to an interactive table.\"\n",
              "              style=\"display:none;\">\n",
              "        \n",
              "  <svg xmlns=\"http://www.w3.org/2000/svg\" height=\"24px\"viewBox=\"0 0 24 24\"\n",
              "       width=\"24px\">\n",
              "    <path d=\"M0 0h24v24H0V0z\" fill=\"none\"/>\n",
              "    <path d=\"M18.56 5.44l.94 2.06.94-2.06 2.06-.94-2.06-.94-.94-2.06-.94 2.06-2.06.94zm-11 1L8.5 8.5l.94-2.06 2.06-.94-2.06-.94L8.5 2.5l-.94 2.06-2.06.94zm10 10l.94 2.06.94-2.06 2.06-.94-2.06-.94-.94-2.06-.94 2.06-2.06.94z\"/><path d=\"M17.41 7.96l-1.37-1.37c-.4-.4-.92-.59-1.43-.59-.52 0-1.04.2-1.43.59L10.3 9.45l-7.72 7.72c-.78.78-.78 2.05 0 2.83L4 21.41c.39.39.9.59 1.41.59.51 0 1.02-.2 1.41-.59l7.78-7.78 2.81-2.81c.8-.78.8-2.07 0-2.86zM5.41 20L4 18.59l7.72-7.72 1.47 1.35L5.41 20z\"/>\n",
              "  </svg>\n",
              "      </button>\n",
              "      \n",
              "  <style>\n",
              "    .colab-df-container {\n",
              "      display:flex;\n",
              "      flex-wrap:wrap;\n",
              "      gap: 12px;\n",
              "    }\n",
              "\n",
              "    .colab-df-convert {\n",
              "      background-color: #E8F0FE;\n",
              "      border: none;\n",
              "      border-radius: 50%;\n",
              "      cursor: pointer;\n",
              "      display: none;\n",
              "      fill: #1967D2;\n",
              "      height: 32px;\n",
              "      padding: 0 0 0 0;\n",
              "      width: 32px;\n",
              "    }\n",
              "\n",
              "    .colab-df-convert:hover {\n",
              "      background-color: #E2EBFA;\n",
              "      box-shadow: 0px 1px 2px rgba(60, 64, 67, 0.3), 0px 1px 3px 1px rgba(60, 64, 67, 0.15);\n",
              "      fill: #174EA6;\n",
              "    }\n",
              "\n",
              "    [theme=dark] .colab-df-convert {\n",
              "      background-color: #3B4455;\n",
              "      fill: #D2E3FC;\n",
              "    }\n",
              "\n",
              "    [theme=dark] .colab-df-convert:hover {\n",
              "      background-color: #434B5C;\n",
              "      box-shadow: 0px 1px 3px 1px rgba(0, 0, 0, 0.15);\n",
              "      filter: drop-shadow(0px 1px 2px rgba(0, 0, 0, 0.3));\n",
              "      fill: #FFFFFF;\n",
              "    }\n",
              "  </style>\n",
              "\n",
              "      <script>\n",
              "        const buttonEl =\n",
              "          document.querySelector('#df-11ab06f9-dda7-4717-a255-eaa5b510d915 button.colab-df-convert');\n",
              "        buttonEl.style.display =\n",
              "          google.colab.kernel.accessAllowed ? 'block' : 'none';\n",
              "\n",
              "        async function convertToInteractive(key) {\n",
              "          const element = document.querySelector('#df-11ab06f9-dda7-4717-a255-eaa5b510d915');\n",
              "          const dataTable =\n",
              "            await google.colab.kernel.invokeFunction('convertToInteractive',\n",
              "                                                     [key], {});\n",
              "          if (!dataTable) return;\n",
              "\n",
              "          const docLinkHtml = 'Like what you see? Visit the ' +\n",
              "            '<a target=\"_blank\" href=https://colab.research.google.com/notebooks/data_table.ipynb>data table notebook</a>'\n",
              "            + ' to learn more about interactive tables.';\n",
              "          element.innerHTML = '';\n",
              "          dataTable['output_type'] = 'display_data';\n",
              "          await google.colab.output.renderOutput(dataTable, element);\n",
              "          const docLink = document.createElement('div');\n",
              "          docLink.innerHTML = docLinkHtml;\n",
              "          element.appendChild(docLink);\n",
              "        }\n",
              "      </script>\n",
              "    </div>\n",
              "  </div>\n",
              "  "
            ],
            "text/plain": [
              "   sepal length (cm)  sepal width (cm)  petal length (cm)  petal width (cm)\n",
              "0                5.1               3.5                1.4               0.2\n",
              "1                4.9               3.0                1.4               0.2"
            ]
          },
          "execution_count": 4,
          "metadata": {},
          "output_type": "execute_result"
        }
      ],
      "source": [
        "from sklearn.datasets import load_iris\n",
        " \n",
        "iris = load_iris()\n",
        "\n",
        "# selecionando as colunas de 0 a 4 para a variável X, o 5 foi declarado, mas por padrão ele não é considerado.\n",
        "X = iris.data[:, 0:5] \n",
        "\n",
        "# definindo o y na variável targer, essa será nossa variavel dependente\n",
        "y = iris.target \n",
        "\n",
        "feature_names = ['sepal length (cm)', 'sepal width (cm)', 'petal length (cm)', 'petal width (cm)']\n",
        "target_names =  ['setosa', 'versicolor', 'virginica']\n",
        "X = pd.DataFrame(X, columns=feature_names)\n",
        "# utilizamos o head para exibir as primeiras linhas do dataframe (por padrão 5), \n",
        "# no nosso exemplo vamos exibir apenas as 2 primeiras.\n",
        "X.head(2)"
      ]
    },
    {
      "cell_type": "code",
      "execution_count": null,
      "metadata": {
        "colab": {
          "base_uri": "https://localhost:8080/",
          "height": 424
        },
        "id": "EvNtC7s9T34n",
        "outputId": "e7b9abe3-5f2f-4ab9-eedb-2166497b7739"
      },
      "outputs": [
        {
          "data": {
            "text/html": [
              "\n",
              "  <div id=\"df-937ef3ae-fc0e-4c9c-a12e-92b5f93056ab\">\n",
              "    <div class=\"colab-df-container\">\n",
              "      <div>\n",
              "<style scoped>\n",
              "    .dataframe tbody tr th:only-of-type {\n",
              "        vertical-align: middle;\n",
              "    }\n",
              "\n",
              "    .dataframe tbody tr th {\n",
              "        vertical-align: top;\n",
              "    }\n",
              "\n",
              "    .dataframe thead th {\n",
              "        text-align: right;\n",
              "    }\n",
              "</style>\n",
              "<table border=\"1\" class=\"dataframe\">\n",
              "  <thead>\n",
              "    <tr style=\"text-align: right;\">\n",
              "      <th></th>\n",
              "      <th>sepal length (cm)</th>\n",
              "      <th>sepal width (cm)</th>\n",
              "      <th>petal length (cm)</th>\n",
              "      <th>petal width (cm)</th>\n",
              "    </tr>\n",
              "  </thead>\n",
              "  <tbody>\n",
              "    <tr>\n",
              "      <th>0</th>\n",
              "      <td>5.1</td>\n",
              "      <td>3.5</td>\n",
              "      <td>1.4</td>\n",
              "      <td>0.2</td>\n",
              "    </tr>\n",
              "    <tr>\n",
              "      <th>1</th>\n",
              "      <td>4.9</td>\n",
              "      <td>3.0</td>\n",
              "      <td>1.4</td>\n",
              "      <td>0.2</td>\n",
              "    </tr>\n",
              "    <tr>\n",
              "      <th>2</th>\n",
              "      <td>4.7</td>\n",
              "      <td>3.2</td>\n",
              "      <td>1.3</td>\n",
              "      <td>0.2</td>\n",
              "    </tr>\n",
              "    <tr>\n",
              "      <th>3</th>\n",
              "      <td>4.6</td>\n",
              "      <td>3.1</td>\n",
              "      <td>1.5</td>\n",
              "      <td>0.2</td>\n",
              "    </tr>\n",
              "    <tr>\n",
              "      <th>4</th>\n",
              "      <td>5.0</td>\n",
              "      <td>3.6</td>\n",
              "      <td>1.4</td>\n",
              "      <td>0.2</td>\n",
              "    </tr>\n",
              "    <tr>\n",
              "      <th>...</th>\n",
              "      <td>...</td>\n",
              "      <td>...</td>\n",
              "      <td>...</td>\n",
              "      <td>...</td>\n",
              "    </tr>\n",
              "    <tr>\n",
              "      <th>145</th>\n",
              "      <td>6.7</td>\n",
              "      <td>3.0</td>\n",
              "      <td>5.2</td>\n",
              "      <td>2.3</td>\n",
              "    </tr>\n",
              "    <tr>\n",
              "      <th>146</th>\n",
              "      <td>6.3</td>\n",
              "      <td>2.5</td>\n",
              "      <td>5.0</td>\n",
              "      <td>1.9</td>\n",
              "    </tr>\n",
              "    <tr>\n",
              "      <th>147</th>\n",
              "      <td>6.5</td>\n",
              "      <td>3.0</td>\n",
              "      <td>5.2</td>\n",
              "      <td>2.0</td>\n",
              "    </tr>\n",
              "    <tr>\n",
              "      <th>148</th>\n",
              "      <td>6.2</td>\n",
              "      <td>3.4</td>\n",
              "      <td>5.4</td>\n",
              "      <td>2.3</td>\n",
              "    </tr>\n",
              "    <tr>\n",
              "      <th>149</th>\n",
              "      <td>5.9</td>\n",
              "      <td>3.0</td>\n",
              "      <td>5.1</td>\n",
              "      <td>1.8</td>\n",
              "    </tr>\n",
              "  </tbody>\n",
              "</table>\n",
              "<p>150 rows × 4 columns</p>\n",
              "</div>\n",
              "      <button class=\"colab-df-convert\" onclick=\"convertToInteractive('df-937ef3ae-fc0e-4c9c-a12e-92b5f93056ab')\"\n",
              "              title=\"Convert this dataframe to an interactive table.\"\n",
              "              style=\"display:none;\">\n",
              "        \n",
              "  <svg xmlns=\"http://www.w3.org/2000/svg\" height=\"24px\"viewBox=\"0 0 24 24\"\n",
              "       width=\"24px\">\n",
              "    <path d=\"M0 0h24v24H0V0z\" fill=\"none\"/>\n",
              "    <path d=\"M18.56 5.44l.94 2.06.94-2.06 2.06-.94-2.06-.94-.94-2.06-.94 2.06-2.06.94zm-11 1L8.5 8.5l.94-2.06 2.06-.94-2.06-.94L8.5 2.5l-.94 2.06-2.06.94zm10 10l.94 2.06.94-2.06 2.06-.94-2.06-.94-.94-2.06-.94 2.06-2.06.94z\"/><path d=\"M17.41 7.96l-1.37-1.37c-.4-.4-.92-.59-1.43-.59-.52 0-1.04.2-1.43.59L10.3 9.45l-7.72 7.72c-.78.78-.78 2.05 0 2.83L4 21.41c.39.39.9.59 1.41.59.51 0 1.02-.2 1.41-.59l7.78-7.78 2.81-2.81c.8-.78.8-2.07 0-2.86zM5.41 20L4 18.59l7.72-7.72 1.47 1.35L5.41 20z\"/>\n",
              "  </svg>\n",
              "      </button>\n",
              "      \n",
              "  <style>\n",
              "    .colab-df-container {\n",
              "      display:flex;\n",
              "      flex-wrap:wrap;\n",
              "      gap: 12px;\n",
              "    }\n",
              "\n",
              "    .colab-df-convert {\n",
              "      background-color: #E8F0FE;\n",
              "      border: none;\n",
              "      border-radius: 50%;\n",
              "      cursor: pointer;\n",
              "      display: none;\n",
              "      fill: #1967D2;\n",
              "      height: 32px;\n",
              "      padding: 0 0 0 0;\n",
              "      width: 32px;\n",
              "    }\n",
              "\n",
              "    .colab-df-convert:hover {\n",
              "      background-color: #E2EBFA;\n",
              "      box-shadow: 0px 1px 2px rgba(60, 64, 67, 0.3), 0px 1px 3px 1px rgba(60, 64, 67, 0.15);\n",
              "      fill: #174EA6;\n",
              "    }\n",
              "\n",
              "    [theme=dark] .colab-df-convert {\n",
              "      background-color: #3B4455;\n",
              "      fill: #D2E3FC;\n",
              "    }\n",
              "\n",
              "    [theme=dark] .colab-df-convert:hover {\n",
              "      background-color: #434B5C;\n",
              "      box-shadow: 0px 1px 3px 1px rgba(0, 0, 0, 0.15);\n",
              "      filter: drop-shadow(0px 1px 2px rgba(0, 0, 0, 0.3));\n",
              "      fill: #FFFFFF;\n",
              "    }\n",
              "  </style>\n",
              "\n",
              "      <script>\n",
              "        const buttonEl =\n",
              "          document.querySelector('#df-937ef3ae-fc0e-4c9c-a12e-92b5f93056ab button.colab-df-convert');\n",
              "        buttonEl.style.display =\n",
              "          google.colab.kernel.accessAllowed ? 'block' : 'none';\n",
              "\n",
              "        async function convertToInteractive(key) {\n",
              "          const element = document.querySelector('#df-937ef3ae-fc0e-4c9c-a12e-92b5f93056ab');\n",
              "          const dataTable =\n",
              "            await google.colab.kernel.invokeFunction('convertToInteractive',\n",
              "                                                     [key], {});\n",
              "          if (!dataTable) return;\n",
              "\n",
              "          const docLinkHtml = 'Like what you see? Visit the ' +\n",
              "            '<a target=\"_blank\" href=https://colab.research.google.com/notebooks/data_table.ipynb>data table notebook</a>'\n",
              "            + ' to learn more about interactive tables.';\n",
              "          element.innerHTML = '';\n",
              "          dataTable['output_type'] = 'display_data';\n",
              "          await google.colab.output.renderOutput(dataTable, element);\n",
              "          const docLink = document.createElement('div');\n",
              "          docLink.innerHTML = docLinkHtml;\n",
              "          element.appendChild(docLink);\n",
              "        }\n",
              "      </script>\n",
              "    </div>\n",
              "  </div>\n",
              "  "
            ],
            "text/plain": [
              "     sepal length (cm)  sepal width (cm)  petal length (cm)  petal width (cm)\n",
              "0                  5.1               3.5                1.4               0.2\n",
              "1                  4.9               3.0                1.4               0.2\n",
              "2                  4.7               3.2                1.3               0.2\n",
              "3                  4.6               3.1                1.5               0.2\n",
              "4                  5.0               3.6                1.4               0.2\n",
              "..                 ...               ...                ...               ...\n",
              "145                6.7               3.0                5.2               2.3\n",
              "146                6.3               2.5                5.0               1.9\n",
              "147                6.5               3.0                5.2               2.0\n",
              "148                6.2               3.4                5.4               2.3\n",
              "149                5.9               3.0                5.1               1.8\n",
              "\n",
              "[150 rows x 4 columns]"
            ]
          },
          "execution_count": 5,
          "metadata": {},
          "output_type": "execute_result"
        }
      ],
      "source": [
        "X"
      ]
    },
    {
      "cell_type": "code",
      "execution_count": null,
      "metadata": {
        "colab": {
          "base_uri": "https://localhost:8080/",
          "height": 206
        },
        "id": "e6KzPsUpSVFr",
        "outputId": "7bc7e90f-9b04-46ee-83d3-bc0a204e2aee"
      },
      "outputs": [
        {
          "data": {
            "text/html": [
              "\n",
              "  <div id=\"df-e19791c1-b48d-4895-adb4-064701168b1c\">\n",
              "    <div class=\"colab-df-container\">\n",
              "      <div>\n",
              "<style scoped>\n",
              "    .dataframe tbody tr th:only-of-type {\n",
              "        vertical-align: middle;\n",
              "    }\n",
              "\n",
              "    .dataframe tbody tr th {\n",
              "        vertical-align: top;\n",
              "    }\n",
              "\n",
              "    .dataframe thead th {\n",
              "        text-align: right;\n",
              "    }\n",
              "</style>\n",
              "<table border=\"1\" class=\"dataframe\">\n",
              "  <thead>\n",
              "    <tr style=\"text-align: right;\">\n",
              "      <th></th>\n",
              "      <th>sepal length (cm)</th>\n",
              "      <th>sepal width (cm)</th>\n",
              "      <th>petal length (cm)</th>\n",
              "      <th>petal width (cm)</th>\n",
              "    </tr>\n",
              "  </thead>\n",
              "  <tbody>\n",
              "    <tr>\n",
              "      <th>70</th>\n",
              "      <td>5.9</td>\n",
              "      <td>3.2</td>\n",
              "      <td>4.8</td>\n",
              "      <td>1.8</td>\n",
              "    </tr>\n",
              "    <tr>\n",
              "      <th>15</th>\n",
              "      <td>5.7</td>\n",
              "      <td>4.4</td>\n",
              "      <td>1.5</td>\n",
              "      <td>0.4</td>\n",
              "    </tr>\n",
              "    <tr>\n",
              "      <th>140</th>\n",
              "      <td>6.7</td>\n",
              "      <td>3.1</td>\n",
              "      <td>5.6</td>\n",
              "      <td>2.4</td>\n",
              "    </tr>\n",
              "    <tr>\n",
              "      <th>34</th>\n",
              "      <td>4.9</td>\n",
              "      <td>3.1</td>\n",
              "      <td>1.5</td>\n",
              "      <td>0.2</td>\n",
              "    </tr>\n",
              "    <tr>\n",
              "      <th>122</th>\n",
              "      <td>7.7</td>\n",
              "      <td>2.8</td>\n",
              "      <td>6.7</td>\n",
              "      <td>2.0</td>\n",
              "    </tr>\n",
              "  </tbody>\n",
              "</table>\n",
              "</div>\n",
              "      <button class=\"colab-df-convert\" onclick=\"convertToInteractive('df-e19791c1-b48d-4895-adb4-064701168b1c')\"\n",
              "              title=\"Convert this dataframe to an interactive table.\"\n",
              "              style=\"display:none;\">\n",
              "        \n",
              "  <svg xmlns=\"http://www.w3.org/2000/svg\" height=\"24px\"viewBox=\"0 0 24 24\"\n",
              "       width=\"24px\">\n",
              "    <path d=\"M0 0h24v24H0V0z\" fill=\"none\"/>\n",
              "    <path d=\"M18.56 5.44l.94 2.06.94-2.06 2.06-.94-2.06-.94-.94-2.06-.94 2.06-2.06.94zm-11 1L8.5 8.5l.94-2.06 2.06-.94-2.06-.94L8.5 2.5l-.94 2.06-2.06.94zm10 10l.94 2.06.94-2.06 2.06-.94-2.06-.94-.94-2.06-.94 2.06-2.06.94z\"/><path d=\"M17.41 7.96l-1.37-1.37c-.4-.4-.92-.59-1.43-.59-.52 0-1.04.2-1.43.59L10.3 9.45l-7.72 7.72c-.78.78-.78 2.05 0 2.83L4 21.41c.39.39.9.59 1.41.59.51 0 1.02-.2 1.41-.59l7.78-7.78 2.81-2.81c.8-.78.8-2.07 0-2.86zM5.41 20L4 18.59l7.72-7.72 1.47 1.35L5.41 20z\"/>\n",
              "  </svg>\n",
              "      </button>\n",
              "      \n",
              "  <style>\n",
              "    .colab-df-container {\n",
              "      display:flex;\n",
              "      flex-wrap:wrap;\n",
              "      gap: 12px;\n",
              "    }\n",
              "\n",
              "    .colab-df-convert {\n",
              "      background-color: #E8F0FE;\n",
              "      border: none;\n",
              "      border-radius: 50%;\n",
              "      cursor: pointer;\n",
              "      display: none;\n",
              "      fill: #1967D2;\n",
              "      height: 32px;\n",
              "      padding: 0 0 0 0;\n",
              "      width: 32px;\n",
              "    }\n",
              "\n",
              "    .colab-df-convert:hover {\n",
              "      background-color: #E2EBFA;\n",
              "      box-shadow: 0px 1px 2px rgba(60, 64, 67, 0.3), 0px 1px 3px 1px rgba(60, 64, 67, 0.15);\n",
              "      fill: #174EA6;\n",
              "    }\n",
              "\n",
              "    [theme=dark] .colab-df-convert {\n",
              "      background-color: #3B4455;\n",
              "      fill: #D2E3FC;\n",
              "    }\n",
              "\n",
              "    [theme=dark] .colab-df-convert:hover {\n",
              "      background-color: #434B5C;\n",
              "      box-shadow: 0px 1px 3px 1px rgba(0, 0, 0, 0.15);\n",
              "      filter: drop-shadow(0px 1px 2px rgba(0, 0, 0, 0.3));\n",
              "      fill: #FFFFFF;\n",
              "    }\n",
              "  </style>\n",
              "\n",
              "      <script>\n",
              "        const buttonEl =\n",
              "          document.querySelector('#df-e19791c1-b48d-4895-adb4-064701168b1c button.colab-df-convert');\n",
              "        buttonEl.style.display =\n",
              "          google.colab.kernel.accessAllowed ? 'block' : 'none';\n",
              "\n",
              "        async function convertToInteractive(key) {\n",
              "          const element = document.querySelector('#df-e19791c1-b48d-4895-adb4-064701168b1c');\n",
              "          const dataTable =\n",
              "            await google.colab.kernel.invokeFunction('convertToInteractive',\n",
              "                                                     [key], {});\n",
              "          if (!dataTable) return;\n",
              "\n",
              "          const docLinkHtml = 'Like what you see? Visit the ' +\n",
              "            '<a target=\"_blank\" href=https://colab.research.google.com/notebooks/data_table.ipynb>data table notebook</a>'\n",
              "            + ' to learn more about interactive tables.';\n",
              "          element.innerHTML = '';\n",
              "          dataTable['output_type'] = 'display_data';\n",
              "          await google.colab.output.renderOutput(dataTable, element);\n",
              "          const docLink = document.createElement('div');\n",
              "          docLink.innerHTML = docLinkHtml;\n",
              "          element.appendChild(docLink);\n",
              "        }\n",
              "      </script>\n",
              "    </div>\n",
              "  </div>\n",
              "  "
            ],
            "text/plain": [
              "     sepal length (cm)  sepal width (cm)  petal length (cm)  petal width (cm)\n",
              "70                 5.9               3.2                4.8               1.8\n",
              "15                 5.7               4.4                1.5               0.4\n",
              "140                6.7               3.1                5.6               2.4\n",
              "34                 4.9               3.1                1.5               0.2\n",
              "122                7.7               2.8                6.7               2.0"
            ]
          },
          "execution_count": 6,
          "metadata": {},
          "output_type": "execute_result"
        }
      ],
      "source": [
        "# Retorna uma amostra (aleatória) de n elementos, no nosso exemplo 5 elementos\n",
        "X.sample(5) "
      ]
    },
    {
      "cell_type": "code",
      "execution_count": null,
      "metadata": {
        "colab": {
          "base_uri": "https://localhost:8080/",
          "height": 300
        },
        "id": "0R6lBcXJSbwV",
        "outputId": "1db08648-fe01-45fd-92cf-84462fe83f2b"
      },
      "outputs": [
        {
          "data": {
            "text/html": [
              "\n",
              "  <div id=\"df-04cf5590-3ef4-467d-a943-99a48526a09e\">\n",
              "    <div class=\"colab-df-container\">\n",
              "      <div>\n",
              "<style scoped>\n",
              "    .dataframe tbody tr th:only-of-type {\n",
              "        vertical-align: middle;\n",
              "    }\n",
              "\n",
              "    .dataframe tbody tr th {\n",
              "        vertical-align: top;\n",
              "    }\n",
              "\n",
              "    .dataframe thead th {\n",
              "        text-align: right;\n",
              "    }\n",
              "</style>\n",
              "<table border=\"1\" class=\"dataframe\">\n",
              "  <thead>\n",
              "    <tr style=\"text-align: right;\">\n",
              "      <th></th>\n",
              "      <th>sepal length (cm)</th>\n",
              "      <th>sepal width (cm)</th>\n",
              "      <th>petal length (cm)</th>\n",
              "      <th>petal width (cm)</th>\n",
              "    </tr>\n",
              "  </thead>\n",
              "  <tbody>\n",
              "    <tr>\n",
              "      <th>count</th>\n",
              "      <td>150.000000</td>\n",
              "      <td>150.000000</td>\n",
              "      <td>150.000000</td>\n",
              "      <td>150.000000</td>\n",
              "    </tr>\n",
              "    <tr>\n",
              "      <th>mean</th>\n",
              "      <td>5.843333</td>\n",
              "      <td>3.057333</td>\n",
              "      <td>3.758000</td>\n",
              "      <td>1.199333</td>\n",
              "    </tr>\n",
              "    <tr>\n",
              "      <th>std</th>\n",
              "      <td>0.828066</td>\n",
              "      <td>0.435866</td>\n",
              "      <td>1.765298</td>\n",
              "      <td>0.762238</td>\n",
              "    </tr>\n",
              "    <tr>\n",
              "      <th>min</th>\n",
              "      <td>4.300000</td>\n",
              "      <td>2.000000</td>\n",
              "      <td>1.000000</td>\n",
              "      <td>0.100000</td>\n",
              "    </tr>\n",
              "    <tr>\n",
              "      <th>25%</th>\n",
              "      <td>5.100000</td>\n",
              "      <td>2.800000</td>\n",
              "      <td>1.600000</td>\n",
              "      <td>0.300000</td>\n",
              "    </tr>\n",
              "    <tr>\n",
              "      <th>50%</th>\n",
              "      <td>5.800000</td>\n",
              "      <td>3.000000</td>\n",
              "      <td>4.350000</td>\n",
              "      <td>1.300000</td>\n",
              "    </tr>\n",
              "    <tr>\n",
              "      <th>75%</th>\n",
              "      <td>6.400000</td>\n",
              "      <td>3.300000</td>\n",
              "      <td>5.100000</td>\n",
              "      <td>1.800000</td>\n",
              "    </tr>\n",
              "    <tr>\n",
              "      <th>max</th>\n",
              "      <td>7.900000</td>\n",
              "      <td>4.400000</td>\n",
              "      <td>6.900000</td>\n",
              "      <td>2.500000</td>\n",
              "    </tr>\n",
              "  </tbody>\n",
              "</table>\n",
              "</div>\n",
              "      <button class=\"colab-df-convert\" onclick=\"convertToInteractive('df-04cf5590-3ef4-467d-a943-99a48526a09e')\"\n",
              "              title=\"Convert this dataframe to an interactive table.\"\n",
              "              style=\"display:none;\">\n",
              "        \n",
              "  <svg xmlns=\"http://www.w3.org/2000/svg\" height=\"24px\"viewBox=\"0 0 24 24\"\n",
              "       width=\"24px\">\n",
              "    <path d=\"M0 0h24v24H0V0z\" fill=\"none\"/>\n",
              "    <path d=\"M18.56 5.44l.94 2.06.94-2.06 2.06-.94-2.06-.94-.94-2.06-.94 2.06-2.06.94zm-11 1L8.5 8.5l.94-2.06 2.06-.94-2.06-.94L8.5 2.5l-.94 2.06-2.06.94zm10 10l.94 2.06.94-2.06 2.06-.94-2.06-.94-.94-2.06-.94 2.06-2.06.94z\"/><path d=\"M17.41 7.96l-1.37-1.37c-.4-.4-.92-.59-1.43-.59-.52 0-1.04.2-1.43.59L10.3 9.45l-7.72 7.72c-.78.78-.78 2.05 0 2.83L4 21.41c.39.39.9.59 1.41.59.51 0 1.02-.2 1.41-.59l7.78-7.78 2.81-2.81c.8-.78.8-2.07 0-2.86zM5.41 20L4 18.59l7.72-7.72 1.47 1.35L5.41 20z\"/>\n",
              "  </svg>\n",
              "      </button>\n",
              "      \n",
              "  <style>\n",
              "    .colab-df-container {\n",
              "      display:flex;\n",
              "      flex-wrap:wrap;\n",
              "      gap: 12px;\n",
              "    }\n",
              "\n",
              "    .colab-df-convert {\n",
              "      background-color: #E8F0FE;\n",
              "      border: none;\n",
              "      border-radius: 50%;\n",
              "      cursor: pointer;\n",
              "      display: none;\n",
              "      fill: #1967D2;\n",
              "      height: 32px;\n",
              "      padding: 0 0 0 0;\n",
              "      width: 32px;\n",
              "    }\n",
              "\n",
              "    .colab-df-convert:hover {\n",
              "      background-color: #E2EBFA;\n",
              "      box-shadow: 0px 1px 2px rgba(60, 64, 67, 0.3), 0px 1px 3px 1px rgba(60, 64, 67, 0.15);\n",
              "      fill: #174EA6;\n",
              "    }\n",
              "\n",
              "    [theme=dark] .colab-df-convert {\n",
              "      background-color: #3B4455;\n",
              "      fill: #D2E3FC;\n",
              "    }\n",
              "\n",
              "    [theme=dark] .colab-df-convert:hover {\n",
              "      background-color: #434B5C;\n",
              "      box-shadow: 0px 1px 3px 1px rgba(0, 0, 0, 0.15);\n",
              "      filter: drop-shadow(0px 1px 2px rgba(0, 0, 0, 0.3));\n",
              "      fill: #FFFFFF;\n",
              "    }\n",
              "  </style>\n",
              "\n",
              "      <script>\n",
              "        const buttonEl =\n",
              "          document.querySelector('#df-04cf5590-3ef4-467d-a943-99a48526a09e button.colab-df-convert');\n",
              "        buttonEl.style.display =\n",
              "          google.colab.kernel.accessAllowed ? 'block' : 'none';\n",
              "\n",
              "        async function convertToInteractive(key) {\n",
              "          const element = document.querySelector('#df-04cf5590-3ef4-467d-a943-99a48526a09e');\n",
              "          const dataTable =\n",
              "            await google.colab.kernel.invokeFunction('convertToInteractive',\n",
              "                                                     [key], {});\n",
              "          if (!dataTable) return;\n",
              "\n",
              "          const docLinkHtml = 'Like what you see? Visit the ' +\n",
              "            '<a target=\"_blank\" href=https://colab.research.google.com/notebooks/data_table.ipynb>data table notebook</a>'\n",
              "            + ' to learn more about interactive tables.';\n",
              "          element.innerHTML = '';\n",
              "          dataTable['output_type'] = 'display_data';\n",
              "          await google.colab.output.renderOutput(dataTable, element);\n",
              "          const docLink = document.createElement('div');\n",
              "          docLink.innerHTML = docLinkHtml;\n",
              "          element.appendChild(docLink);\n",
              "        }\n",
              "      </script>\n",
              "    </div>\n",
              "  </div>\n",
              "  "
            ],
            "text/plain": [
              "       sepal length (cm)  sepal width (cm)  petal length (cm)  \\\n",
              "count         150.000000        150.000000         150.000000   \n",
              "mean            5.843333          3.057333           3.758000   \n",
              "std             0.828066          0.435866           1.765298   \n",
              "min             4.300000          2.000000           1.000000   \n",
              "25%             5.100000          2.800000           1.600000   \n",
              "50%             5.800000          3.000000           4.350000   \n",
              "75%             6.400000          3.300000           5.100000   \n",
              "max             7.900000          4.400000           6.900000   \n",
              "\n",
              "       petal width (cm)  \n",
              "count        150.000000  \n",
              "mean           1.199333  \n",
              "std            0.762238  \n",
              "min            0.100000  \n",
              "25%            0.300000  \n",
              "50%            1.300000  \n",
              "75%            1.800000  \n",
              "max            2.500000  "
            ]
          },
          "execution_count": 7,
          "metadata": {},
          "output_type": "execute_result"
        }
      ],
      "source": [
        "# Retorna uma análise descritiva do dataset\n",
        "X.describe() "
      ]
    },
    {
      "cell_type": "markdown",
      "metadata": {
        "id": "Q2WIQqJrSjh3"
      },
      "source": [
        "## Métricas \n",
        "\n",
        "Medidas de posição"
      ]
    },
    {
      "cell_type": "markdown",
      "metadata": {
        "id": "DI9njuAwTxSY"
      },
      "source": [
        "### Média Aritmética"
      ]
    },
    {
      "cell_type": "markdown",
      "metadata": {
        "id": "R8_p40izS16o"
      },
      "source": [
        "A média ou média aritmética, nada mais é do que a soma de todos os dados da amostra dividido pela quantidade de amostras. "
      ]
    },
    {
      "cell_type": "code",
      "execution_count": null,
      "metadata": {
        "colab": {
          "base_uri": "https://localhost:8080/"
        },
        "id": "xTnX4TLNS22_",
        "outputId": "674fa4e2-89a7-4c2c-f792-a4fa84f24dbe"
      },
      "outputs": [
        {
          "name": "stdout",
          "output_type": "stream",
          "text": [
            "Média sepal length \t 5.84\n",
            "Média sepal width \t 3.06\n",
            "Média petal length \t 3.76\n",
            "Média petal width \t 1.2\n"
          ]
        }
      ],
      "source": [
        "# Média da coluna\n",
        "print(\"Média sepal length \\t\", round(X['sepal length (cm)'].mean(),2))\n",
        "print(\"Média sepal width \\t\", round(X['sepal width (cm)'].mean(),2))\n",
        "print(\"Média petal length \\t\", round(X['petal length (cm)'].mean(),2))\n",
        "print(\"Média petal width \\t\", round(X['petal width (cm)'].mean(),2))"
      ]
    },
    {
      "cell_type": "markdown",
      "metadata": {
        "id": "0hmrn2PLTDQB"
      },
      "source": [
        "### Mediana\n",
        "\n",
        "Mediana é o valor representado pela amostra central, estando as amostras ordenadas em valores crescentes, caso o total de elementos for par, será necessário calcular a média dos dois valores centrais."
      ]
    },
    {
      "cell_type": "markdown",
      "metadata": {
        "id": "BVKeoMZSd2on"
      },
      "source": [
        "Para obtermos a mediana de uma conjunto de dados devemos proceder da seguinte maneira:\n",
        "1. Ordenar o conjunto de dados;\n",
        "2. Identificar o número de observações (registros) do conjunto de dados ($n$);\n",
        "3. Identicar o elemento mediano:\n",
        "\n",
        "> Quando $n$ for ímpar, a posição do elemento mediano será obtida da seguinte forma:\n",
        "\n",
        "\n",
        "# $$Elemento_{Md} = \\frac{n+1}2$$\n",
        "\n",
        "> Quando $n$ for par, a posição do elemento mediano será obtida da seguinte forma:\n",
        "\n",
        "\n",
        "# $$Elemento_{Md} = \\frac{n}2$$\n",
        "\n",
        "4. Obter a mediana:\n",
        "\n",
        "> Quando $n$ for ímpar:\n",
        "\n",
        "\n",
        "# $$Md = X_{Elemento_{Md}}$$\n",
        "\n",
        "> Quando $n$ for par:\n",
        "\n",
        "\n",
        "# $$Md = \\frac{X_{Elemento_{Md}} + X_{Elemento_{Md}+1}}2$$\n",
        "***"
      ]
    },
    {
      "cell_type": "code",
      "execution_count": null,
      "metadata": {
        "colab": {
          "base_uri": "https://localhost:8080/"
        },
        "id": "r5TaIrEeS8Uh",
        "outputId": "d3772821-7781-4c54-a581-d6d3ef3ab55b"
      },
      "outputs": [
        {
          "name": "stdout",
          "output_type": "stream",
          "text": [
            "Média sepal length \t 5.8\n",
            "Média sepal width \t 3.0\n",
            "Média petal length \t 4.35\n",
            "Média petal width \t 1.3\n"
          ]
        }
      ],
      "source": [
        "# Mediana da coluna\n",
        "print(\"Média sepal length \\t\", round(X['sepal length (cm)'].median(),2))\n",
        "print(\"Média sepal width \\t\", round(X['sepal width (cm)'].median(),2))\n",
        "print(\"Média petal length \\t\", round(X['petal length (cm)'].median(),2))\n",
        "print(\"Média petal width \\t\", round(X['petal width (cm)'].median(),2))\n"
      ]
    },
    {
      "cell_type": "markdown",
      "metadata": {
        "id": "XDTMTLRdTUBb"
      },
      "source": [
        "### Moda\n",
        "\n",
        "A Moda é o valor que aparece com mais frequência em um conjunto de dados, ou seja, o valor que se repete mais vezes. Para fazermos o cálculo da moda de um conjunto de dados, basta encontrar os dados que mais aparecem no conjunto."
      ]
    },
    {
      "cell_type": "code",
      "execution_count": null,
      "metadata": {
        "colab": {
          "base_uri": "https://localhost:8080/"
        },
        "id": "xC8fe2Q3TI9c",
        "outputId": "50df5667-e9a2-4b9f-be87-78b5fbf7e91c"
      },
      "outputs": [
        {
          "name": "stdout",
          "output_type": "stream",
          "text": [
            "Média sepal length \t 0    5.0\n",
            "dtype: float64\n",
            "Média sepal width \t 0    3.0\n",
            "dtype: float64\n",
            "Média petal length \t 0    1.4\n",
            "1    1.5\n",
            "dtype: float64\n",
            "Média petal width \t 0    0.2\n",
            "dtype: float64\n"
          ]
        }
      ],
      "source": [
        "# Moda da coluna\n",
        "print(\"Média sepal length \\t\", (X['sepal length (cm)'].mode()))\n",
        "print(\"Média sepal width \\t\", (X['sepal width (cm)'].mode()))\n",
        "print(\"Média petal length \\t\", (X['petal length (cm)'].mode()))\n",
        "print(\"Média petal width \\t\", (X['petal width (cm)'].mode()))"
      ]
    },
    {
      "cell_type": "markdown",
      "metadata": {
        "id": "CESnNcMiUDy3"
      },
      "source": [
        "###**Variância**\n",
        "\n",
        "A variância é uma medida de dispersão dos dados, mede o quão afastados os dados estão da média. Quanto maior a variância, mais afastados os dados encontram-se da média. Assim temos a variância populacional."
      ]
    },
    {
      "cell_type": "code",
      "execution_count": null,
      "metadata": {
        "colab": {
          "base_uri": "https://localhost:8080/"
        },
        "id": "7-9UtB_GUAk6",
        "outputId": "64dc24ae-b34a-4c75-c632-d2fa746659c5"
      },
      "outputs": [
        {
          "name": "stdout",
          "output_type": "stream",
          "text": [
            "Variância  0.6856935123042507\n"
          ]
        }
      ],
      "source": [
        "# Variância da coluna\n",
        "variancia = X['sepal length (cm)'].var() \n",
        "print(\"Variância \", variancia)"
      ]
    },
    {
      "cell_type": "markdown",
      "metadata": {
        "id": "kH3Bxab8UVj3"
      },
      "source": [
        "### **Desvio Padrão**\n",
        "\n",
        "O desvio padrão (standard deviation) é a raiz quadrada da variância. Toda discussão em relação à variância populacional Vs. amostral se aplica, com as devidas mudanças, ao desvio padrão."
      ]
    },
    {
      "cell_type": "code",
      "execution_count": null,
      "metadata": {
        "colab": {
          "base_uri": "https://localhost:8080/"
        },
        "id": "nlJJlzY8UGGG",
        "outputId": "999a0307-88e7-4291-9bfa-76cb457cf824"
      },
      "outputs": [
        {
          "name": "stdout",
          "output_type": "stream",
          "text": [
            "Desvio padrão  0.828066127977863\n"
          ]
        }
      ],
      "source": [
        "# Desvio padrão da coluna\n",
        "desvio = X['sepal length (cm)'].std() \n",
        "print(\"Desvio padrão \", desvio)"
      ]
    },
    {
      "cell_type": "markdown",
      "metadata": {
        "id": "lyxoVIjXUi_v"
      },
      "source": [
        "###**Quantis**\n",
        "\n",
        "Quantis são pontos que dividem uma distribuição de probabilidade em partições de tamanhos iguais.  Eles podem ser quartis (sendo o 1º quartil correspondente a 25% dos dados, o segundo quartil correspondente a 50% dos dados – a mediana e o 3º quartil correspondente a 75% dos dados) ou percentis (dividem a amostra em 100 partes).\n",
        "\n",
        "H"
      ]
    },
    {
      "cell_type": "code",
      "execution_count": null,
      "metadata": {
        "colab": {
          "base_uri": "https://localhost:8080/"
        },
        "id": "Z6OKEVIZUc2I",
        "outputId": "9b2ce678-9604-45a4-f49b-071579e0363e"
      },
      "outputs": [
        {
          "name": "stdout",
          "output_type": "stream",
          "text": [
            "Primeiro quartil  5.1\n",
            "Segundo quartil (Mediana) 5.8\n",
            "Terceiro quartil  6.4\n"
          ]
        }
      ],
      "source": [
        "Q1 = X['sepal length (cm)'].quantile(0.25)\n",
        "Q2 = X['sepal length (cm)'].quantile(0.5)\n",
        "Q3 = X['sepal length (cm)'].quantile(0.75)\n",
        "print('Primeiro quartil ', Q1)\n",
        "print('Segundo quartil (Mediana)', Q2)\n",
        "print('Terceiro quartil ', Q3)"
      ]
    },
    {
      "cell_type": "markdown",
      "metadata": {
        "id": "049G5llfU1c6"
      },
      "source": [
        "###**Intervalo Interquartil (IQR)**\n",
        "\n",
        "O IQR (do inglês, Interquartile Range), é a diferença entre o terceiro e primeiro quartis: IQR = Q3−Q1. É uma medida de dispersão robusta muito utilizada, por exemplo, quando os dados contêm muitos outliers por ser menos sensível às variações nos extremos do conjunto."
      ]
    },
    {
      "cell_type": "code",
      "execution_count": null,
      "metadata": {
        "colab": {
          "base_uri": "https://localhost:8080/"
        },
        "id": "E7mjsUy3U6DX",
        "outputId": "f68fcbe7-2d32-4c7e-bcb2-658506ab3da7"
      },
      "outputs": [
        {
          "name": "stdout",
          "output_type": "stream",
          "text": [
            "Intervalo interquartil  1.3000000000000007\n"
          ]
        }
      ],
      "source": [
        "IQR = Q3 - Q1\n",
        "print('Intervalo interquartil ', IQR)"
      ]
    },
    {
      "cell_type": "markdown",
      "metadata": {
        "id": "kO5GHB3IU17n"
      },
      "source": [
        "###**Boxplots**\n",
        "\n",
        "Boxplot é utilizado para avaliar e comparar o formato, tendência central e variabilidade de distribuições de amostra, e para procurar por outliers. Por padrão, um boxplot demonstra a mediana, os quartis, o intervalo interquartil(IQR) e outliers para cada variável. "
      ]
    },
    {
      "cell_type": "markdown",
      "metadata": {
        "id": "AwJBI4NWhXNq"
      },
      "source": [
        "![intervalo_interquartil-1.webp](data:image/webp;base64,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)"
      ]
    },
    {
      "cell_type": "markdown",
      "metadata": {
        "id": "HRn7z7wfeXQE"
      },
      "source": [
        "\n",
        "O box plot dá uma idéia da posição, dispersão, assimetria, caudas e dados discrepantes (outliers). A posição central é dada pela mediana e a dispersão por $IIQ$. As posições relativas de $Q1$, $Mediana$ e $Q3$ dão uma noção da simetria da distribuição. Os comprimentos das cauda são dados pelas linhas que vão do retângulo aos valores remotos e pelos valores atípicos."
      ]
    },
    {
      "cell_type": "markdown",
      "metadata": {
        "id": "BiFVdFeQU1_f"
      },
      "source": [
        "\n",
        "\n",
        "\n",
        "No jupyter notebook utilizamos a função .boxplot() da biblioteca gráfica Seaborn. Como demonstrado abaixo:"
      ]
    },
    {
      "cell_type": "code",
      "execution_count": null,
      "metadata": {
        "colab": {
          "base_uri": "https://localhost:8080/",
          "height": 351
        },
        "id": "AksOmkbbUuMm",
        "outputId": "bb6bbd05-e7ab-43c9-b08a-5f77bc5e9928"
      },
      "outputs": [
        {
          "name": "stderr",
          "output_type": "stream",
          "text": [
            "/usr/local/lib/python3.7/dist-packages/seaborn/_decorators.py:43: FutureWarning: Pass the following variable as a keyword arg: x. From version 0.12, the only valid positional argument will be `data`, and passing other arguments without an explicit keyword will result in an error or misinterpretation.\n",
            "  FutureWarning\n"
          ]
        },
        {
          "data": {
            "text/plain": [
              "<matplotlib.axes._subplots.AxesSubplot at 0x7f0b8f57be50>"
            ]
          },
          "execution_count": 24,
          "metadata": {},
          "output_type": "execute_result"
        },
        {
          "data": {
            "image/png": "[encoded data removed]",
            "text/plain": [
              "<Figure size 432x288 with 1 Axes>"
            ]
          },
          "metadata": {
            "needs_background": "light"
          },
          "output_type": "display_data"
        }
      ],
      "source": [
        "sns.boxplot(X['sepal length (cm)'])"
      ]
    },
    {
      "cell_type": "markdown",
      "metadata": {
        "id": "tQdCvnzhVxCA"
      },
      "source": [
        "###**Histogramas**\n",
        "\n",
        "\n",
        "Um histograma é uma visualização gráfica de dados usando barras de diferentes alturas. Em um histograma, cada barra agrupa números em intervalos. As barras mais altas mostram que mais dados estão nesse intervalo. Um histograma exibe a forma e distribuição de dados amostrais discretos ou contínuos."
      ]
    },
    {
      "cell_type": "code",
      "execution_count": null,
      "metadata": {
        "colab": {
          "base_uri": "https://localhost:8080/",
          "height": 351
        },
        "id": "iwozISaOViFl",
        "outputId": "b25575ef-3468-47c1-b3cc-b7082ec67027"
      },
      "outputs": [
        {
          "name": "stderr",
          "output_type": "stream",
          "text": [
            "/usr/local/lib/python3.7/dist-packages/seaborn/distributions.py:2619: FutureWarning: `distplot` is a deprecated function and will be removed in a future version. Please adapt your code to use either `displot` (a figure-level function with similar flexibility) or `histplot` (an axes-level function for histograms).\n",
            "  warnings.warn(msg, FutureWarning)\n"
          ]
        },
        {
          "data": {
            "text/plain": [
              "<matplotlib.axes._subplots.AxesSubplot at 0x7f0b8e5d1a90>"
            ]
          },
          "execution_count": 25,
          "metadata": {},
          "output_type": "execute_result"
        },
        {
          "data": {
            "image/png": "[encoded data removed]",
            "text/plain": [
              "<Figure size 432x288 with 1 Axes>"
            ]
          },
          "metadata": {
            "needs_background": "light"
          },
          "output_type": "display_data"
        }
      ],
      "source": [
        "sns.distplot(X['sepal length (cm)']) "
      ]
    },
    {
      "cell_type": "markdown",
      "metadata": {
        "id": "Y9_wjVnlV8W6"
      },
      "source": [
        "Vocês devem ter observado que utilizamos na célula acima a função distplot. Essa função combina a função hist da biblioteca matplotlib (com cálculo automático de um bom tamanho de bins¹ padrão) com as funções kdeplot (ajuste e plota uma estimativa de densidade de kernel univariada ou bivariada) e  rugplot (plota um “tique” para cada ocorrência em uma variável do dataset) da biblioteca Seaborn."
      ]
    },
    {
      "cell_type": "markdown",
      "metadata": {
        "id": "jq8bs1TLV8hG"
      },
      "source": [
        "###**Assimetria (Skewness)**\n",
        "\n",
        "Assimetria é, na verdade, uma medida de simetria. Ela nos diz o quão simétrica é a distribuição dos dados em torno da média. E junto com a curtose (kurtosis) que veremos em seguida, é uma medida muito boa para informar a aparência ou forma da distribuição dos dados."
      ]
    },
    {
      "cell_type": "code",
      "execution_count": null,
      "metadata": {
        "colab": {
          "base_uri": "https://localhost:8080/"
        },
        "id": "fN6wAv_HWLaJ",
        "outputId": "d613a1e5-7c37-4d25-bb2f-ec7e99fd446b"
      },
      "outputs": [
        {
          "name": "stdout",
          "output_type": "stream",
          "text": [
            "Curtose  -0.5520640413156395\n"
          ]
        }
      ],
      "source": [
        "curtose = X['sepal length (cm)'].kurtosis()\n",
        "print('Curtose ', curtose)"
      ]
    },
    {
      "cell_type": "markdown",
      "metadata": {
        "id": "pusUApgAV8ko"
      },
      "source": [
        "##**Referência** "
      ]
    },
    {
      "cell_type": "markdown",
      "metadata": {
        "id": "yyWhLnScV8sO"
      },
      "source": [
        "Estatística Prática Para Cientistas de Dados\n",
        "\n",
        "https://www.amazon.com.br/gp/product/855080603X/ref=as_li_qf_asin_il_tl?ie=UTF8&tag=dadosaocubo-20&creative=9325&linkCode=as2&creativeASIN=855080603X&linkId=317ae2fe1e7913a11f6be91200db400f"
      ]
    },
    {
      "cell_type": "code",
      "execution_count": null,
      "metadata": {
        "id": "JiLINub_V1q7"
      },
      "outputs": [],
      "source": []
    }
  ],
  "metadata": {
    "colab": {
      "include_colab_link": true,
      "provenance": []
    },
    "kernelspec": {
      "display_name": "Python 3",
      "language": "python",
      "name": "python3"
    },
    "language_info": {
      "name": "python",
      "version": "3.10.2"
    },
    "vscode": {
      "interpreter": {
        "hash": "4f88dcba8d6815c5855e6c9ee3a17b25f591aa877fe6d8a099a93603a93c5cd7"
      }
    }
  },
  "nbformat": 4,
  "nbformat_minor": 0
}
