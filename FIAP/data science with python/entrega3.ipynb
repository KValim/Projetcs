{
 "cells": [
  {
   "attachments": {},
   "cell_type": "markdown",
   "metadata": {},
   "source": [
    "# Intro\n",
    "\n",
    "Utilizando uma base de dados do Kaggle, realize uma Classificação com a Reg Logística ou Árvore de Decisão (caso na atividade anterior tenha já utilizado RegLog, utilize nesta Árvore). Não esqueça de separar treino e teste, bem como de calcular as devidas métricas. Em seguida, realize um processo de AutoML com H2O, e aí as métricas melhoraram?"
   ]
  }
 ],
 "metadata": {
  "language_info": {
   "name": "python"
  },
  "orig_nbformat": 4
 },
 "nbformat": 4,
 "nbformat_minor": 2
}
