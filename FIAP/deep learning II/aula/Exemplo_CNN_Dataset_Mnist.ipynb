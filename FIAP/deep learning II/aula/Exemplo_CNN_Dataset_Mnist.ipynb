{
  "cells": [
    {
      "cell_type": "code",
      "execution_count": 1,
      "metadata": {
        "id": "wKphugNdAzIJ"
      },
      "outputs": [],
      "source": [
        "from keras.datasets import mnist\n",
        "import matplotlib.pyplot as plt\n",
        "from keras.models import Sequential, load_model\n",
        "from keras.layers import Dense\n",
        "from keras.layers import Dropout\n",
        "from keras.layers import Flatten\n",
        "from keras.layers.convolutional import Conv2D\n",
        "from keras.layers.convolutional import MaxPooling2D\n",
        "from keras.utils import np_utils\n",
        "from keras import backend as K\n",
        "#from keras.preprocessing.image import img_to_array, load_img\n",
        "import numpy as np"
      ]
    },
    {
      "attachments": {},
      "cell_type": "markdown",
      "metadata": {
        "id": "eaj3gyn4AzIO"
      },
      "source": [
        " Carrega os dados do dataset MNIST"
      ]
    },
    {
      "cell_type": "code",
      "execution_count": 2,
      "metadata": {
        "colab": {
          "base_uri": "https://localhost:8080/"
        },
        "id": "mGJcC88tAzIP",
        "outputId": "3dcfae5c-6a4f-485a-f9f3-96838a2b18f4"
      },
      "outputs": [
        {
          "name": "stdout",
          "output_type": "stream",
          "text": [
            "Downloading data from https://storage.googleapis.com/tensorflow/tf-keras-datasets/mnist.npz\n",
            "11490434/11490434 [==============================] - 0s 0us/step\n"
          ]
        }
      ],
      "source": [
        "(X_train, y_train), (X_test, y_test) = mnist.load_data()"
      ]
    },
    {
      "attachments": {},
      "cell_type": "markdown",
      "metadata": {
        "id": "wchq4BLlAzIS"
      },
      "source": [
        "Plota 4 imagens de exemplo em escala de cinza"
      ]
    },
    {
      "cell_type": "code",
      "execution_count": 3,
      "metadata": {
        "colab": {
          "base_uri": "https://localhost:8080/",
          "height": 432
        },
        "id": "sDdT4RRmAzIT",
        "outputId": "cb87fa9a-7462-408d-b17e-003037dda598"
      },
      "outputs": [
        {
          "data": {
            "image/png": "[encoded data removed]",
            "text/plain": [
              "<Figure size 640x480 with 4 Axes>"
            ]
          },
          "metadata": {},
          "output_type": "display_data"
        }
      ],
      "source": [
        "plt.figure(0)\n",
        "plt.subplot(221)\n",
        "plt.imshow(X_train[0], cmap=plt.get_cmap('gray'))\n",
        "plt.subplot(222)\n",
        "plt.imshow(X_train[1], cmap=plt.get_cmap('gray'))\n",
        "plt.subplot(223)\n",
        "plt.imshow(X_train[2], cmap=plt.get_cmap('gray'))\n",
        "plt.subplot(224)\n",
        "plt.imshow(X_train[3], cmap=plt.get_cmap('gray'))\n",
        "#Mostra o as imagens\n",
        "plt.show()"
      ]
    },
    {
      "cell_type": "code",
      "execution_count": 4,
      "metadata": {
        "colab": {
          "base_uri": "https://localhost:8080/"
        },
        "id": "7UVpu4e2o4mH",
        "outputId": "19e1bf20-4618-4eca-d11a-e21daa368232"
      },
      "outputs": [
        {
          "name": "stdout",
          "output_type": "stream",
          "text": [
            "[[  0   0   0   0   0   0   0   0   0   0   0   0   0   0   0   0   0   0\n",
            "    0   0   0   0   0   0   0   0   0   0]\n",
            " [  0   0   0   0   0   0   0   0   0   0   0   0   0   0   0   0   0   0\n",
            "    0   0   0   0   0   0   0   0   0   0]\n",
            " [  0   0   0   0   0   0   0   0   0   0   0   0   0   0   0   0   0   0\n",
            "    0   0   0   0   0   0   0   0   0   0]\n",
            " [  0   0   0   0   0   0   0   0   0   0   0   0   0   0   0   0   0   0\n",
            "    0   0   0   0   0   0   0   0   0   0]\n",
            " [  0   0   0   0   0   0   0   0   0   0   0   0   0   0   0   0   0   0\n",
            "    0   0   0   0   0   0   0   0   0   0]\n",
            " [  0   0   0   0   0   0   0   0   0   0   0   0   3  18  18  18 126 136\n",
            "  175  26 166 255 247 127   0   0   0   0]\n",
            " [  0   0   0   0   0   0   0   0  30  36  94 154 170 253 253 253 253 253\n",
            "  225 172 253 242 195  64   0   0   0   0]\n",
            " [  0   0   0   0   0   0   0  49 238 253 253 253 253 253 253 253 253 251\n",
            "   93  82  82  56  39   0   0   0   0   0]\n",
            " [  0   0   0   0   0   0   0  18 219 253 253 253 253 253 198 182 247 241\n",
            "    0   0   0   0   0   0   0   0   0   0]\n",
            " [  0   0   0   0   0   0   0   0  80 156 107 253 253 205  11   0  43 154\n",
            "    0   0   0   0   0   0   0   0   0   0]\n",
            " [  0   0   0   0   0   0   0   0   0  14   1 154 253  90   0   0   0   0\n",
            "    0   0   0   0   0   0   0   0   0   0]\n",
            " [  0   0   0   0   0   0   0   0   0   0   0 139 253 190   2   0   0   0\n",
            "    0   0   0   0   0   0   0   0   0   0]\n",
            " [  0   0   0   0   0   0   0   0   0   0   0  11 190 253  70   0   0   0\n",
            "    0   0   0   0   0   0   0   0   0   0]\n",
            " [  0   0   0   0   0   0   0   0   0   0   0   0  35 241 225 160 108   1\n",
            "    0   0   0   0   0   0   0   0   0   0]\n",
            " [  0   0   0   0   0   0   0   0   0   0   0   0   0  81 240 253 253 119\n",
            "   25   0   0   0   0   0   0   0   0   0]\n",
            " [  0   0   0   0   0   0   0   0   0   0   0   0   0   0  45 186 253 253\n",
            "  150  27   0   0   0   0   0   0   0   0]\n",
            " [  0   0   0   0   0   0   0   0   0   0   0   0   0   0   0  16  93 252\n",
            "  253 187   0   0   0   0   0   0   0   0]\n",
            " [  0   0   0   0   0   0   0   0   0   0   0   0   0   0   0   0   0 249\n",
            "  253 249  64   0   0   0   0   0   0   0]\n",
            " [  0   0   0   0   0   0   0   0   0   0   0   0   0   0  46 130 183 253\n",
            "  253 207   2   0   0   0   0   0   0   0]\n",
            " [  0   0   0   0   0   0   0   0   0   0   0   0  39 148 229 253 253 253\n",
            "  250 182   0   0   0   0   0   0   0   0]\n",
            " [  0   0   0   0   0   0   0   0   0   0  24 114 221 253 253 253 253 201\n",
            "   78   0   0   0   0   0   0   0   0   0]\n",
            " [  0   0   0   0   0   0   0   0  23  66 213 253 253 253 253 198  81   2\n",
            "    0   0   0   0   0   0   0   0   0   0]\n",
            " [  0   0   0   0   0   0  18 171 219 253 253 253 253 195  80   9   0   0\n",
            "    0   0   0   0   0   0   0   0   0   0]\n",
            " [  0   0   0   0  55 172 226 253 253 253 253 244 133  11   0   0   0   0\n",
            "    0   0   0   0   0   0   0   0   0   0]\n",
            " [  0   0   0   0 136 253 253 253 212 135 132  16   0   0   0   0   0   0\n",
            "    0   0   0   0   0   0   0   0   0   0]\n",
            " [  0   0   0   0   0   0   0   0   0   0   0   0   0   0   0   0   0   0\n",
            "    0   0   0   0   0   0   0   0   0   0]\n",
            " [  0   0   0   0   0   0   0   0   0   0   0   0   0   0   0   0   0   0\n",
            "    0   0   0   0   0   0   0   0   0   0]\n",
            " [  0   0   0   0   0   0   0   0   0   0   0   0   0   0   0   0   0   0\n",
            "    0   0   0   0   0   0   0   0   0   0]]\n"
          ]
        }
      ],
      "source": [
        "print(X_train[0])"
      ]
    },
    {
      "cell_type": "code",
      "execution_count": 5,
      "metadata": {
        "colab": {
          "base_uri": "https://localhost:8080/"
        },
        "id": "_huEjKB2sucn",
        "outputId": "e971c524-7603-4dcc-816b-eb5e08594479"
      },
      "outputs": [
        {
          "data": {
            "text/plain": [
              "(60000, 28, 28)"
            ]
          },
          "execution_count": 5,
          "metadata": {},
          "output_type": "execute_result"
        }
      ],
      "source": [
        "X_train.shape"
      ]
    },
    {
      "cell_type": "code",
      "execution_count": 6,
      "metadata": {
        "colab": {
          "base_uri": "https://localhost:8080/"
        },
        "id": "Wmg2j51YtCFM",
        "outputId": "9eda65c3-c82b-4d82-fe2b-65deaf51cc72"
      },
      "outputs": [
        {
          "data": {
            "text/plain": [
              "(10000, 28, 28)"
            ]
          },
          "execution_count": 6,
          "metadata": {},
          "output_type": "execute_result"
        }
      ],
      "source": [
        "X_test.shape"
      ]
    },
    {
      "cell_type": "code",
      "execution_count": 7,
      "metadata": {
        "colab": {
          "base_uri": "https://localhost:8080/"
        },
        "id": "nVeYZtOOZ5uU",
        "outputId": "515ad805-4de1-4ec4-f5a1-60a19b1672ca"
      },
      "outputs": [
        {
          "name": "stdout",
          "output_type": "stream",
          "text": [
            "5\n",
            "0\n",
            "4\n",
            "1\n"
          ]
        }
      ],
      "source": [
        "print(y_train[0])\n",
        "print(y_train[1])\n",
        "print(y_train[2])\n",
        "print(y_train[3])"
      ]
    },
    {
      "attachments": {},
      "cell_type": "markdown",
      "metadata": {
        "id": "0NyH1OVIAzIX"
      },
      "source": [
        "Apenas ajusta a matriz para as dimensões esperadas do TensorFlow"
      ]
    },
    {
      "cell_type": "code",
      "execution_count": 8,
      "metadata": {
        "colab": {
          "base_uri": "https://localhost:8080/"
        },
        "id": "CmLUvIRHvNrR",
        "outputId": "8abee764-1fda-49d8-8e76-91c727011624"
      },
      "outputs": [
        {
          "data": {
            "text/plain": [
              "array([5, 0, 4, ..., 5, 6, 8], dtype=uint8)"
            ]
          },
          "execution_count": 8,
          "metadata": {},
          "output_type": "execute_result"
        }
      ],
      "source": [
        "y_train"
      ]
    },
    {
      "cell_type": "code",
      "execution_count": 9,
      "metadata": {
        "colab": {
          "base_uri": "https://localhost:8080/"
        },
        "id": "74-AABCMAzIY",
        "outputId": "ec762d8a-dda9-4166-a15d-34cd0a54c3f6"
      },
      "outputs": [
        {
          "name": "stdout",
          "output_type": "stream",
          "text": [
            "(28, 28, 1)\n"
          ]
        }
      ],
      "source": [
        "img_rows, img_cols = 28, 28\n",
        "\n",
        "X_train = X_train.reshape(X_train.shape[0], img_rows, img_cols, 1)\n",
        "X_test = X_test.reshape(X_test.shape[0], img_rows, img_cols, 1)\n",
        "input_shape = (img_rows, img_cols, 1)\n",
        "print(input_shape)\n",
        "# Normaliza as entradas de 0-255 para 0-1\n",
        "X_train = X_train / 255\n",
        "X_test = X_test / 255\n"
      ]
    },
    {
      "cell_type": "code",
      "execution_count": 10,
      "metadata": {
        "id": "SkH-FcReMM8l"
      },
      "outputs": [],
      "source": [
        "# Gera os vetores com as classes do conjunto de dados de treinamento e teste\n",
        "y_train = np_utils.to_categorical(y_train)\n",
        "y_test = np_utils.to_categorical(y_test)\n",
        "num_classes = y_test.shape[1]"
      ]
    },
    {
      "cell_type": "code",
      "execution_count": 11,
      "metadata": {
        "colab": {
          "base_uri": "https://localhost:8080/"
        },
        "id": "eMfTIZUYetRN",
        "outputId": "98eb2eaa-fc00-4a0f-a325-b0db079db148"
      },
      "outputs": [
        {
          "name": "stdout",
          "output_type": "stream",
          "text": [
            "(60000, 28, 28, 1)\n",
            "(60000, 10)\n",
            "(10000, 28, 28, 1)\n",
            "(10000, 10)\n"
          ]
        }
      ],
      "source": [
        "print(X_train.shape)\n",
        "print(y_train.shape)\n",
        "print(X_test.shape)\n",
        "print(y_test.shape)"
      ]
    },
    {
      "cell_type": "code",
      "execution_count": 12,
      "metadata": {
        "colab": {
          "base_uri": "https://localhost:8080/"
        },
        "id": "A-bo1kGQvZwO",
        "outputId": "ef08efb8-cb89-4e34-fbd0-0110b9c8010f"
      },
      "outputs": [
        {
          "name": "stdout",
          "output_type": "stream",
          "text": [
            "[0. 0. 0. 0. 0. 1. 0. 0. 0. 0.]\n",
            "[1. 0. 0. 0. 0. 0. 0. 0. 0. 0.]\n",
            "[0. 0. 0. 0. 1. 0. 0. 0. 0. 0.]\n",
            "[0. 1. 0. 0. 0. 0. 0. 0. 0. 0.]\n"
          ]
        }
      ],
      "source": [
        "print(y_train[0])\n",
        "print(y_train[1])\n",
        "print(y_train[2])\n",
        "print(y_train[3])"
      ]
    },
    {
      "attachments": {},
      "cell_type": "markdown",
      "metadata": {
        "id": "hbh3hTgiAzIc"
      },
      "source": [
        "Cria o modelo da rede neural Convolucional"
      ]
    },
    {
      "cell_type": "code",
      "execution_count": 13,
      "metadata": {
        "colab": {
          "base_uri": "https://localhost:8080/"
        },
        "id": "Ugv-XjmYAzIc",
        "outputId": "804f7f67-56d8-4a70-9941-e6316ad79d69"
      },
      "outputs": [
        {
          "name": "stdout",
          "output_type": "stream",
          "text": [
            "(None, 24, 24, 32)\n",
            "(None, 12, 12, 32)\n",
            "(None, 8, 8, 64)\n",
            "(None, 4, 4, 64)\n",
            "(None, 1024)\n",
            "(None, 32)\n",
            "(None, 16)\n",
            "(None, 10)\n"
          ]
        }
      ],
      "source": [
        "# Cria o modelo\n",
        "model = Sequential()\n",
        "#Convolução 2D com função de ativação Rectified Linear Units 32 kernels/Pesos (filtros) \n",
        "\n",
        "model.add(Conv2D(32, (5, 5), input_shape=(28, 28, 1), activation='relu'))#\n",
        "#model.add(Conv2D(10, (3, 3), input_shape=(64, 64, 3), activation='relu'))#\n",
        "#model.add(Conv2D(10, (3, 3), activation='relu'))#\n",
        "\n",
        "print( model.output_shape)\n",
        "#Camada de Pooling \t    \n",
        "model.add(MaxPooling2D(pool_size=(2, 2)))\n",
        "print( model.output_shape)\n",
        "#Convolução 2D com função de ativação Rectified Linear Units 64 kernels/Pesos (filtros) \n",
        "model.add(Conv2D(64, (5, 5), activation='relu'))\n",
        "#model.add(Conv2D(10, (3, 3), activation='relu'))#\n",
        "#model.add(Conv2D(10, (3, 3), activation='relu'))#\n",
        "print( model.output_shape)\n",
        "#Camada de Pooling \t\n",
        "model.add(MaxPooling2D(pool_size=(2, 2)))\n",
        "print( model.output_shape)\n",
        "#Remove 20% das ativações de entrada aleatoriamente \n",
        "model.add(Dropout(0.2))\n",
        "#Converte o conjunto de imagens e um vetor unidimensional para a entrada da rede neural totalmente conectada\n",
        "model.add(Flatten())\n",
        "print( model.output_shape)\n",
        "\n",
        "model.add(Dense(32, activation='relu'))\n",
        "print( model.output_shape)\n",
        "model.add(Dense(16, activation='relu'))\n",
        "print( model.output_shape)\n",
        "#Função de Ativação Softmax\n",
        "model.add(Dense(num_classes, activation='softmax'))\n",
        "print( model.output_shape)"
      ]
    },
    {
      "attachments": {},
      "cell_type": "markdown",
      "metadata": {
        "id": "1sw2JYjfAzIg"
      },
      "source": [
        "Compilando o modelo escolhendo como se dará nossa perda, otimização e métricas (parâmetros do Keras)\n",
        "mais informações em https://keras.io/losses/\n",
        "mais informações em https://keras.io/optimizers/\n",
        "mais informações em https://keras.io/metrics/"
      ]
    },
    {
      "attachments": {},
      "cell_type": "markdown",
      "metadata": {
        "id": "6b4GXdQuXjkH"
      },
      "source": [
        "![Função Softma](https://telescopeinstorage.blob.core.windows.net/datasets/funcaosoftmax.png)"
      ]
    },
    {
      "cell_type": "code",
      "execution_count": 14,
      "metadata": {
        "id": "nhA_ZpHiAzIg"
      },
      "outputs": [],
      "source": [
        "model.compile(loss='categorical_crossentropy', optimizer='adam', metrics=['accuracy'])"
      ]
    },
    {
      "attachments": {},
      "cell_type": "markdown",
      "metadata": {
        "id": "lJpe5jICAzIj"
      },
      "source": [
        "Treinamento do modelo com **conjunto de validação**"
      ]
    },
    {
      "attachments": {},
      "cell_type": "markdown",
      "metadata": {
        "id": "l6h3WFOsWESz"
      },
      "source": [
        "![Conjunto de Treinamento, Validação e Teste](https://telescopeinstorage.blob.core.windows.net/datasets/validation-set-768x242.jpeg)"
      ]
    },
    {
      "cell_type": "code",
      "execution_count": 15,
      "metadata": {
        "colab": {
          "base_uri": "https://localhost:8080/"
        },
        "id": "H3w5FtDrAzIk",
        "outputId": "7e2e8d0c-0905-4198-ee43-fa783f80e470"
      },
      "outputs": [
        {
          "name": "stdout",
          "output_type": "stream",
          "text": [
            "Epoch 1/20\n",
            "96/96 [==============================] - 11s 110ms/step - loss: 0.7528 - accuracy: 0.7699 - val_loss: 0.1794 - val_accuracy: 0.9478\n",
            "Epoch 2/20\n",
            "96/96 [==============================] - 10s 108ms/step - loss: 0.1686 - accuracy: 0.9510 - val_loss: 0.1098 - val_accuracy: 0.9674\n",
            "Epoch 3/20\n",
            "96/96 [==============================] - 11s 113ms/step - loss: 0.1116 - accuracy: 0.9659 - val_loss: 0.0802 - val_accuracy: 0.9787\n",
            "Epoch 4/20\n",
            "96/96 [==============================] - 10s 107ms/step - loss: 0.0831 - accuracy: 0.9747 - val_loss: 0.0670 - val_accuracy: 0.9818\n",
            "Epoch 5/20\n",
            "96/96 [==============================] - 10s 107ms/step - loss: 0.0695 - accuracy: 0.9783 - val_loss: 0.0613 - val_accuracy: 0.9825\n",
            "Epoch 6/20\n",
            "96/96 [==============================] - 10s 108ms/step - loss: 0.0580 - accuracy: 0.9822 - val_loss: 0.0548 - val_accuracy: 0.9842\n",
            "Epoch 7/20\n",
            "96/96 [==============================] - 10s 108ms/step - loss: 0.0498 - accuracy: 0.9848 - val_loss: 0.0522 - val_accuracy: 0.9843\n",
            "Epoch 8/20\n",
            "96/96 [==============================] - 10s 107ms/step - loss: 0.0472 - accuracy: 0.9860 - val_loss: 0.0461 - val_accuracy: 0.9852\n",
            "Epoch 9/20\n",
            "96/96 [==============================] - 10s 107ms/step - loss: 0.0396 - accuracy: 0.9873 - val_loss: 0.0463 - val_accuracy: 0.9868\n",
            "Epoch 10/20\n",
            "96/96 [==============================] - 10s 108ms/step - loss: 0.0370 - accuracy: 0.9885 - val_loss: 0.0411 - val_accuracy: 0.9883\n",
            "Epoch 11/20\n",
            "96/96 [==============================] - 11s 110ms/step - loss: 0.0329 - accuracy: 0.9897 - val_loss: 0.0399 - val_accuracy: 0.9886\n",
            "Epoch 12/20\n",
            "96/96 [==============================] - 10s 108ms/step - loss: 0.0304 - accuracy: 0.9903 - val_loss: 0.0406 - val_accuracy: 0.9887\n",
            "Epoch 13/20\n",
            "96/96 [==============================] - 10s 108ms/step - loss: 0.0297 - accuracy: 0.9904 - val_loss: 0.0381 - val_accuracy: 0.9896\n",
            "Epoch 14/20\n",
            "96/96 [==============================] - 10s 108ms/step - loss: 0.0254 - accuracy: 0.9916 - val_loss: 0.0388 - val_accuracy: 0.9894\n",
            "Epoch 15/20\n",
            "96/96 [==============================] - 10s 107ms/step - loss: 0.0251 - accuracy: 0.9919 - val_loss: 0.0368 - val_accuracy: 0.9892\n",
            "Epoch 16/20\n",
            "96/96 [==============================] - 10s 108ms/step - loss: 0.0234 - accuracy: 0.9927 - val_loss: 0.0354 - val_accuracy: 0.9898\n",
            "Epoch 17/20\n",
            "96/96 [==============================] - 10s 107ms/step - loss: 0.0214 - accuracy: 0.9928 - val_loss: 0.0363 - val_accuracy: 0.9902\n",
            "Epoch 18/20\n",
            "96/96 [==============================] - 10s 108ms/step - loss: 0.0201 - accuracy: 0.9937 - val_loss: 0.0345 - val_accuracy: 0.9908\n",
            "Epoch 19/20\n",
            "96/96 [==============================] - 10s 108ms/step - loss: 0.0170 - accuracy: 0.9941 - val_loss: 0.0370 - val_accuracy: 0.9899\n",
            "Epoch 20/20\n",
            "96/96 [==============================] - 10s 107ms/step - loss: 0.0176 - accuracy: 0.9944 - val_loss: 0.0346 - val_accuracy: 0.9906\n"
          ]
        }
      ],
      "source": [
        "history = model.fit(X_train, y_train, validation_split = 0.2, epochs=20, batch_size=500)"
      ]
    },
    {
      "attachments": {},
      "cell_type": "markdown",
      "metadata": {
        "id": "WkuYRzHEAzIn"
      },
      "source": [
        "Plotagem da acurácia de Treinamento e Validação"
      ]
    },
    {
      "cell_type": "code",
      "execution_count": 21,
      "metadata": {
        "id": "FeHD_SXwAzIo"
      },
      "outputs": [
        {
          "data": {
            "image/png": "[encoded data removed]",
            "text/plain": [
              "<Figure size 640x480 with 1 Axes>"
            ]
          },
          "metadata": {},
          "output_type": "display_data"
        }
      ],
      "source": [
        "plt.figure(1)\n",
        "plt.plot(history.history['accuracy'])\n",
        "plt.plot(history.history['val_accuracy'])\n",
        "plt.title('model accuracy')\n",
        "plt.ylabel('accuracy')\n",
        "plt.xlabel('epoch')\n",
        "plt.legend(['train', 'validation'], loc='best')\n",
        "plt.show()"
      ]
    },
    {
      "attachments": {},
      "cell_type": "markdown",
      "metadata": {
        "id": "lxX0T5xdAzIq"
      },
      "source": [
        "Avaliação final do modelo no conjunto de testes"
      ]
    },
    {
      "cell_type": "code",
      "execution_count": 17,
      "metadata": {
        "id": "thvnp8WAAzIr"
      },
      "outputs": [
        {
          "name": "stdout",
          "output_type": "stream",
          "text": [
            "Erro da CNN: 0.68%\n",
            "Acurária da CNN: 99.32%\n"
          ]
        }
      ],
      "source": [
        "scores = model.evaluate(X_test, y_test, verbose=0)\n",
        "print(\"Erro da CNN: %.2f%%\" % (100-scores[1]*100))\n",
        "print(\"Acurária da CNN: %.2f%%\" % (scores[1]*100))"
      ]
    },
    {
      "cell_type": "code",
      "execution_count": 18,
      "metadata": {
        "id": "yp83-Zutzwzp"
      },
      "outputs": [
        {
          "data": {
            "text/plain": [
              "[0.02122916653752327, 0.9932000041007996]"
            ]
          },
          "execution_count": 18,
          "metadata": {},
          "output_type": "execute_result"
        }
      ],
      "source": [
        "scores"
      ]
    },
    {
      "attachments": {},
      "cell_type": "markdown",
      "metadata": {
        "id": "WOCKIShRAzIt"
      },
      "source": [
        "Salva o modelo"
      ]
    },
    {
      "cell_type": "code",
      "execution_count": 19,
      "metadata": {
        "id": "J9FNrfNGAzIu"
      },
      "outputs": [],
      "source": [
        "model.save('MNIST.hdf5', )"
      ]
    },
    {
      "cell_type": "code",
      "execution_count": 20,
      "metadata": {
        "id": "v5bYTlBRAzIx"
      },
      "outputs": [],
      "source": [
        "model_loaded  = load_model('MNIST.hdf5')"
      ]
    }
  ],
  "metadata": {
    "accelerator": "GPU",
    "colab": {
      "provenance": []
    },
    "kernelspec": {
      "display_name": "Python 3",
      "language": "python",
      "name": "python3"
    },
    "language_info": {
      "codemirror_mode": {
        "name": "ipython",
        "version": 3
      },
      "file_extension": ".py",
      "mimetype": "text/x-python",
      "name": "python",
      "nbconvert_exporter": "python",
      "pygments_lexer": "ipython3",
      "version": "3.10.2"
    }
  },
  "nbformat": 4,
  "nbformat_minor": 0
}
