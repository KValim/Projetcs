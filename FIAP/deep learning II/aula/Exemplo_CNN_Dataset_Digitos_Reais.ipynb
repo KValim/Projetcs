{
  "cells": [
    {
      "attachments": {},
      "cell_type": "markdown",
      "metadata": {
        "id": "AvMeZ9GnrDNW"
      },
      "source": [
        "##Classificação de Imagens Reais"
      ]
    },
    {
      "attachments": {},
      "cell_type": "markdown",
      "metadata": {
        "id": "FF1phSI0q2iv"
      },
      "source": [
        "Baixe o seguinte arquivo: https://www.dropbox.com/s/sofyakylqodcrd3/Digitos.zip?dl=0"
      ]
    },
    {
      "attachments": {},
      "cell_type": "markdown",
      "metadata": {
        "id": "aGX8W352rI8x"
      },
      "source": [
        "Faça o upload desse aquivo para a pasta principal de arquivos do Google Colab"
      ]
    },
    {
      "cell_type": "code",
      "execution_count": 1,
      "metadata": {
        "id": "Z-dlXc3p_aEL"
      },
      "outputs": [],
      "source": [
        "import matplotlib.pyplot as plt\n",
        "from keras.models import Sequential\n",
        "from keras.layers import Dense\n",
        "from keras.layers import Dropout\n",
        "from keras.layers import Flatten\n",
        "from keras.layers.convolutional import Conv2D\n",
        "from keras.layers.convolutional import MaxPooling2D,AveragePooling2D\n",
        "from tensorflow.keras.utils import img_to_array , load_img\n",
        "import numpy as np\n",
        "from keras import preprocessing\n",
        "\n",
        "from keras.callbacks import ModelCheckpoint\n"
      ]
    },
    {
      "cell_type": "code",
      "execution_count": 2,
      "metadata": {
        "id": "hTccMVr9gJ_z"
      },
      "outputs": [],
      "source": [
        "import zipfile"
      ]
    },
    {
      "cell_type": "code",
      "execution_count": 5,
      "metadata": {
        "id": "kAsEKWj9gNWQ"
      },
      "outputs": [],
      "source": [
        "with zipfile.ZipFile('Digitos.zip', 'r') as zip_ref:\n",
        "    zip_ref.extractall('Datasets')"
      ]
    },
    {
      "cell_type": "code",
      "execution_count": 6,
      "metadata": {
        "id": "FLyqlsKVDhUl"
      },
      "outputs": [
        {
          "name": "stdout",
          "output_type": "stream",
          "text": [
            "Found 5473 images belonging to 10 classes.\n"
          ]
        }
      ],
      "source": [
        "train_datagen = preprocessing.image.ImageDataGenerator(validation_split=0.20)\n",
        "train_generator = train_datagen.flow_from_directory(\n",
        "    'Datasets/Digitos/Treinamento',\n",
        "    batch_size=200,\n",
        "    color_mode = 'grayscale',\n",
        "    subset='training',\n",
        "    target_size=(30, 30))\n"
      ]
    },
    {
      "cell_type": "code",
      "execution_count": 8,
      "metadata": {
        "id": "_BaY8FN6fR6x"
      },
      "outputs": [
        {
          "name": "stdout",
          "output_type": "stream",
          "text": [
            "Found 1363 images belonging to 10 classes.\n"
          ]
        }
      ],
      "source": [
        "valid_generator = train_datagen.flow_from_directory(\n",
        "    'Datasets/Digitos/Treinamento',\n",
        "    batch_size=200,\n",
        "    color_mode = 'grayscale',\n",
        "    subset='validation',\n",
        "    target_size=(30, 30))"
      ]
    },
    {
      "cell_type": "code",
      "execution_count": 9,
      "metadata": {
        "id": "j_lsEBqlfu4a"
      },
      "outputs": [
        {
          "data": {
            "image/png": "[encoded data removed]",
            "text/plain": [
              "<Figure size 640x480 with 1 Axes>"
            ]
          },
          "metadata": {},
          "output_type": "display_data"
        }
      ],
      "source": [
        "#Visualizando \n",
        "x,y = train_generator.next()\n",
        "for i in range(0,1):\n",
        "    image = x[i]   \n",
        "    plt.imshow(image[:,:,0], cmap=plt.get_cmap('gray'))\n",
        "    plt.show()"
      ]
    },
    {
      "cell_type": "code",
      "execution_count": 10,
      "metadata": {
        "id": "Nx9NfTsMngki"
      },
      "outputs": [
        {
          "data": {
            "text/plain": [
              "(200, 30, 30, 1)"
            ]
          },
          "execution_count": 10,
          "metadata": {},
          "output_type": "execute_result"
        }
      ],
      "source": [
        "x.shape"
      ]
    },
    {
      "cell_type": "code",
      "execution_count": 11,
      "metadata": {
        "id": "K8Kcd-yAnlfJ"
      },
      "outputs": [
        {
          "data": {
            "text/plain": [
              "(30, 30, 1)"
            ]
          },
          "execution_count": 11,
          "metadata": {},
          "output_type": "execute_result"
        }
      ],
      "source": [
        "image.shape"
      ]
    },
    {
      "cell_type": "code",
      "execution_count": 12,
      "metadata": {
        "id": "rdrlDd0WeLZD"
      },
      "outputs": [
        {
          "data": {
            "text/plain": [
              "array([0., 1., 0., 0., 0., 0., 0., 0., 0., 0.], dtype=float32)"
            ]
          },
          "execution_count": 12,
          "metadata": {},
          "output_type": "execute_result"
        }
      ],
      "source": [
        "y[0]"
      ]
    },
    {
      "cell_type": "code",
      "execution_count": 13,
      "metadata": {
        "id": "NbOaV-gQgXpH"
      },
      "outputs": [],
      "source": [
        "num_classes = 10\n",
        "\n",
        "STEP_SIZE_TRAIN=train_generator.n//train_generator.batch_size\n",
        "STEP_SIZE_VALID=valid_generator.n//valid_generator.batch_size\n"
      ]
    },
    {
      "cell_type": "code",
      "execution_count": 14,
      "metadata": {
        "id": "kxlPBEOxgZMM"
      },
      "outputs": [
        {
          "name": "stdout",
          "output_type": "stream",
          "text": [
            "(None, 24, 24, 32)\n",
            "(None, 12, 12, 32)\n",
            "(None, 8, 8, 64)\n",
            "(None, 4, 4, 64)\n",
            "(None, 2, 2, 128)\n",
            "(None, 1, 1, 128)\n",
            "(None, 128)\n",
            "(None, 512)\n",
            "(None, 128)\n",
            "(None, 64)\n",
            "(None, 10)\n"
          ]
        }
      ],
      "source": [
        "# Cria o modelo\n",
        "model = Sequential()\n",
        "#Convolução 2D com função de ativação Rectified Linear Units 32 kernels/Pesos (filtros) \n",
        "model.add(Conv2D(32, (7, 7), input_shape=(30,30,1), activation='relu')) #, data_format='channels_first'\n",
        "print( model.output_shape)\n",
        "#Camada de Pooling \t    \n",
        "model.add(AveragePooling2D(pool_size=(2, 2)))\n",
        "print( model.output_shape)\n",
        "\t\n",
        "#Convolução 2D com função de ativação Rectified Linear Units 64 kernels/Pesos (filtros) \n",
        "model.add(Conv2D(64, (5, 5), activation='relu'))\n",
        "print( model.output_shape)\n",
        "#Camada de Pooling \t\n",
        "model.add(AveragePooling2D(pool_size=(2, 2)))\n",
        "print( model.output_shape)\n",
        "\n",
        "#Convolução 2D com função de ativação Rectified Linear Units 128 kernels/Pesos (filtros) \n",
        "model.add(Conv2D(128, (3, 3), activation='relu'))\n",
        "print( model.output_shape)\n",
        "#Camada de Pooling \t\n",
        "model.add(AveragePooling2D(pool_size=(2, 2)))\n",
        "print( model.output_shape)\n",
        "\n",
        "#Remove 30% dos dados de entrada aleatoriamente \n",
        "model.add(Dropout(0.3))\n",
        "#Converte o conjunto de imagens e um vetor unidimensional para a entrada da rede neural totalmente conectada\n",
        "model.add(Flatten())\n",
        "print( model.output_shape)\n",
        "\n",
        "model.add(Dense(512, activation='relu'))\n",
        "print( model.output_shape)\n",
        "model.add(Dense(128, activation='relu'))\n",
        "print( model.output_shape)\n",
        "model.add(Dense(64, activation='relu'))\n",
        "print( model.output_shape)\n",
        "model.add(Dense(num_classes, activation='softmax'))\n",
        "print( model.output_shape)\n"
      ]
    },
    {
      "cell_type": "code",
      "execution_count": 15,
      "metadata": {
        "id": "9Zo-NEaegdNh"
      },
      "outputs": [],
      "source": [
        "model.compile(loss='categorical_crossentropy', optimizer='adam', metrics=['accuracy'])"
      ]
    },
    {
      "cell_type": "code",
      "execution_count": 16,
      "metadata": {
        "id": "az7y6EhkgiOe"
      },
      "outputs": [
        {
          "name": "stdout",
          "output_type": "stream",
          "text": [
            "Model: \"sequential\"\n",
            "_________________________________________________________________\n",
            " Layer (type)                Output Shape              Param #   \n",
            "=================================================================\n",
            " conv2d (Conv2D)             (None, 24, 24, 32)        1600      \n",
            "                                                                 \n",
            " average_pooling2d (AverageP  (None, 12, 12, 32)       0         \n",
            " ooling2D)                                                       \n",
            "                                                                 \n",
            " conv2d_1 (Conv2D)           (None, 8, 8, 64)          51264     \n",
            "                                                                 \n",
            " average_pooling2d_1 (Averag  (None, 4, 4, 64)         0         \n",
            " ePooling2D)                                                     \n",
            "                                                                 \n",
            " conv2d_2 (Conv2D)           (None, 2, 2, 128)         73856     \n",
            "                                                                 \n",
            " average_pooling2d_2 (Averag  (None, 1, 1, 128)        0         \n",
            " ePooling2D)                                                     \n",
            "                                                                 \n",
            " dropout (Dropout)           (None, 1, 1, 128)         0         \n",
            "                                                                 \n",
            " flatten (Flatten)           (None, 128)               0         \n",
            "                                                                 \n",
            " dense (Dense)               (None, 512)               66048     \n",
            "                                                                 \n",
            " dense_1 (Dense)             (None, 128)               65664     \n",
            "                                                                 \n",
            " dense_2 (Dense)             (None, 64)                8256      \n",
            "                                                                 \n",
            " dense_3 (Dense)             (None, 10)                650       \n",
            "                                                                 \n",
            "=================================================================\n",
            "Total params: 267,338\n",
            "Trainable params: 267,338\n",
            "Non-trainable params: 0\n",
            "_________________________________________________________________\n",
            "Epoch 1/10\n"
          ]
        },
        {
          "name": "stderr",
          "output_type": "stream",
          "text": [
            "C:\\Users\\KAIQUEHENRIQUEVALIM\\AppData\\Local\\Temp\\ipykernel_17264\\2336998042.py:6: UserWarning: `Model.fit_generator` is deprecated and will be removed in a future version. Please use `Model.fit`, which supports generators.\n",
            "  model.fit_generator(train_generator,\n"
          ]
        },
        {
          "name": "stdout",
          "output_type": "stream",
          "text": [
            "27/27 [==============================] - ETA: 0s - loss: 2.0059 - accuracy: 0.4872\n",
            "Epoch 1: val_accuracy improved from -inf to 0.92250, saving model to model_best.h5\n",
            "27/27 [==============================] - 25s 895ms/step - loss: 2.0059 - accuracy: 0.4872 - val_loss: 0.3542 - val_accuracy: 0.9225\n",
            "Epoch 2/10\n",
            "27/27 [==============================] - ETA: 0s - loss: 0.3341 - accuracy: 0.8875\n",
            "Epoch 2: val_accuracy improved from 0.92250 to 0.98583, saving model to model_best.h5\n",
            "27/27 [==============================] - 2s 83ms/step - loss: 0.3341 - accuracy: 0.8875 - val_loss: 0.0519 - val_accuracy: 0.9858\n",
            "Epoch 3/10\n",
            "27/27 [==============================] - ETA: 0s - loss: 0.1466 - accuracy: 0.9501\n",
            "Epoch 3: val_accuracy improved from 0.98583 to 0.99167, saving model to model_best.h5\n",
            "27/27 [==============================] - 2s 77ms/step - loss: 0.1466 - accuracy: 0.9501 - val_loss: 0.0294 - val_accuracy: 0.9917\n",
            "Epoch 4/10\n",
            "27/27 [==============================] - ETA: 0s - loss: 0.0671 - accuracy: 0.9805\n",
            "Epoch 4: val_accuracy improved from 0.99167 to 0.99417, saving model to model_best.h5\n",
            "27/27 [==============================] - 2s 78ms/step - loss: 0.0671 - accuracy: 0.9805 - val_loss: 0.0141 - val_accuracy: 0.9942\n",
            "Epoch 5/10\n",
            "27/27 [==============================] - ETA: 0s - loss: 0.0420 - accuracy: 0.9882\n",
            "Epoch 5: val_accuracy did not improve from 0.99417\n",
            "27/27 [==============================] - 2s 84ms/step - loss: 0.0420 - accuracy: 0.9882 - val_loss: 0.0274 - val_accuracy: 0.9933\n",
            "Epoch 6/10\n",
            "27/27 [==============================] - ETA: 0s - loss: 0.0324 - accuracy: 0.9894\n",
            "Epoch 6: val_accuracy improved from 0.99417 to 0.99583, saving model to model_best.h5\n",
            "27/27 [==============================] - 2s 81ms/step - loss: 0.0324 - accuracy: 0.9894 - val_loss: 0.0156 - val_accuracy: 0.9958\n",
            "Epoch 7/10\n",
            "27/27 [==============================] - ETA: 0s - loss: 0.0323 - accuracy: 0.9907\n",
            "Epoch 7: val_accuracy improved from 0.99583 to 0.99750, saving model to model_best.h5\n",
            "27/27 [==============================] - 2s 87ms/step - loss: 0.0323 - accuracy: 0.9907 - val_loss: 0.0056 - val_accuracy: 0.9975\n",
            "Epoch 8/10\n",
            "27/27 [==============================] - ETA: 0s - loss: 0.0273 - accuracy: 0.9917\n",
            "Epoch 8: val_accuracy did not improve from 0.99750\n",
            "27/27 [==============================] - 2s 79ms/step - loss: 0.0273 - accuracy: 0.9917 - val_loss: 0.0113 - val_accuracy: 0.9975\n",
            "Epoch 9/10\n",
            "27/27 [==============================] - ETA: 0s - loss: 0.0209 - accuracy: 0.9939\n",
            "Epoch 9: val_accuracy improved from 0.99750 to 0.99833, saving model to model_best.h5\n",
            "27/27 [==============================] - 2s 77ms/step - loss: 0.0209 - accuracy: 0.9939 - val_loss: 0.0051 - val_accuracy: 0.9983\n",
            "Epoch 10/10\n",
            "27/27 [==============================] - ETA: 0s - loss: 0.0184 - accuracy: 0.9953\n",
            "Epoch 10: val_accuracy did not improve from 0.99833\n",
            "27/27 [==============================] - 2s 83ms/step - loss: 0.0184 - accuracy: 0.9953 - val_loss: 0.0036 - val_accuracy: 0.9975\n"
          ]
        },
        {
          "data": {
            "text/plain": [
              "<keras.callbacks.History at 0x15cc1bef2e0>"
            ]
          },
          "execution_count": 16,
          "metadata": {},
          "output_type": "execute_result"
        }
      ],
      "source": [
        "mcp_save = ModelCheckpoint('model_best.h5', monitor='val_accuracy', mode= 'auto', save_weights_only=True, save_best_only=True, verbose =1)\n",
        "#reduce_lr_loss = ReduceLROnPlateau(monitor='val_loss', factor=0.1, patience=7, verbose=1, epsilon=1e-4, mode='min')\n",
        "\n",
        "model.summary()\n",
        "\n",
        "model.fit_generator(train_generator, \n",
        "                    steps_per_epoch=STEP_SIZE_TRAIN,\n",
        "                    validation_data=valid_generator,\n",
        "                    validation_steps=STEP_SIZE_VALID,\n",
        "                    epochs=10, callbacks=[mcp_save])"
      ]
    },
    {
      "cell_type": "code",
      "execution_count": 17,
      "metadata": {
        "id": "k2dFjFKUgpnA"
      },
      "outputs": [
        {
          "name": "stdout",
          "output_type": "stream",
          "text": [
            "Found 73 images belonging to 10 classes.\n"
          ]
        }
      ],
      "source": [
        "test_datagen = preprocessing.image.ImageDataGenerator()\n",
        "test_generator = test_datagen.flow_from_directory(\n",
        "    'Datasets/Digitos/Teste',\n",
        "    batch_size=1,\n",
        "    color_mode = 'grayscale',    \n",
        "    target_size=(30, 30))"
      ]
    },
    {
      "cell_type": "code",
      "execution_count": 18,
      "metadata": {
        "id": "R-oBAzcAgzwL"
      },
      "outputs": [
        {
          "name": "stderr",
          "output_type": "stream",
          "text": [
            "C:\\Users\\KAIQUEHENRIQUEVALIM\\AppData\\Local\\Temp\\ipykernel_17264\\1459900303.py:1: UserWarning: `Model.evaluate_generator` is deprecated and will be removed in a future version. Please use `Model.evaluate`, which supports generators.\n",
            "  scores = model.evaluate_generator(test_generator)\n"
          ]
        },
        {
          "name": "stdout",
          "output_type": "stream",
          "text": [
            "[0.0019177680369466543, 1.0]\n"
          ]
        }
      ],
      "source": [
        "scores = model.evaluate_generator(test_generator)   \n",
        "print(scores)"
      ]
    },
    {
      "cell_type": "code",
      "execution_count": 19,
      "metadata": {
        "id": "2uDyTaiCg0-H"
      },
      "outputs": [
        {
          "name": "stderr",
          "output_type": "stream",
          "text": [
            "C:\\Users\\KAIQUEHENRIQUEVALIM\\AppData\\Local\\Temp\\ipykernel_17264\\3347971648.py:1: UserWarning: `Model.predict_generator` is deprecated and will be removed in a future version. Please use `Model.predict`, which supports generators.\n",
            "  predictions = model.predict_generator(test_generator)\n"
          ]
        },
        {
          "name": "stdout",
          "output_type": "stream",
          "text": [
            "[[9.74392567e-10 1.58027041e-14 3.13661874e-09 6.57016585e-12\n",
            "  8.15505788e-11 4.82917599e-08 9.85608608e-08 5.52241759e-12\n",
            "  9.99999642e-01 2.25475119e-07]\n",
            " [9.99971271e-01 1.24641339e-11 1.30686195e-09 7.55800613e-08\n",
            "  1.27591438e-05 8.41887049e-06 6.45616353e-07 1.43254056e-07\n",
            "  8.26102394e-07 5.97096096e-06]\n",
            " [7.03946762e-11 9.21248494e-12 1.00000000e+00 8.87314527e-11\n",
            "  2.86790773e-12 2.27042829e-09 6.88216801e-12 4.07555980e-08\n",
            "  1.59569549e-08 3.01641601e-10]\n",
            " [8.07391189e-06 4.78243692e-07 5.93575237e-07 1.68411464e-06\n",
            "  1.88472917e-08 9.99934196e-01 3.28948779e-08 5.52488359e-07\n",
            "  1.22092197e-05 4.21174082e-05]\n",
            " [1.89769835e-07 1.53542579e-09 4.57663162e-07 1.01571684e-08\n",
            "  3.45958995e-08 8.26120959e-05 2.07174500e-09 9.21603984e-08\n",
            "  5.81699831e-04 9.99334872e-01]\n",
            " [1.78381342e-07 3.09353099e-11 6.26218175e-11 1.02859254e-07\n",
            "  1.32942244e-08 8.04018839e-07 9.99592483e-01 3.44995943e-14\n",
            "  4.06323292e-04 6.33352190e-11]\n",
            " [1.05284997e-07 1.01100261e-04 1.26433970e-05 5.68273151e-07\n",
            "  4.55477469e-08 3.16948245e-08 4.79367483e-11 9.99687433e-01\n",
            "  2.77457133e-08 1.98005495e-04]\n",
            " [2.29716647e-06 1.53868657e-03 1.11904781e-04 9.39516485e-06\n",
            "  4.76261590e-07 3.79203107e-06 1.96099825e-09 9.96724784e-01\n",
            "  6.48988816e-07 1.60803541e-03]\n",
            " [3.38882202e-08 2.96676490e-07 2.10956443e-08 9.96356785e-01\n",
            "  1.50796264e-08 3.60732805e-03 1.69710074e-05 5.21753876e-08\n",
            "  1.83385037e-05 1.55434691e-07]\n",
            " [9.96775687e-01 3.05497683e-10 6.82431562e-07 3.33185358e-06\n",
            "  5.82913090e-05 3.09096613e-05 3.98069460e-05 1.48742515e-06\n",
            "  2.99130939e-03 9.83936479e-05]\n",
            " [2.81312627e-08 1.61249282e-05 4.69148517e-06 4.39642008e-06\n",
            "  5.74678403e-08 9.22062204e-10 1.00231559e-10 9.99973893e-01\n",
            "  2.56953250e-08 8.08907998e-07]\n",
            " [5.74649161e-13 2.65300993e-11 1.00000000e+00 9.89890068e-14\n",
            "  1.48160862e-13 2.14566234e-12 1.33266648e-15 1.43917511e-09\n",
            "  4.39260472e-13 1.50753923e-11]\n",
            " [9.48712113e-07 3.69306568e-14 1.66878706e-08 2.46715176e-10\n",
            "  2.47761234e-09 2.45185788e-07 1.84413480e-07 3.96179450e-10\n",
            "  9.99995112e-01 3.51090011e-06]\n",
            " [2.41643592e-15 4.09090675e-17 3.21550019e-17 1.14392328e-12\n",
            "  2.82966098e-12 7.19606327e-14 1.00000000e+00 6.34635482e-24\n",
            "  2.72764493e-12 3.69436714e-21]\n",
            " [3.78501198e-07 2.94373697e-14 1.07614994e-06 2.14003520e-11\n",
            "  8.66393801e-09 1.23938526e-06 2.85629615e-12 2.65090936e-08\n",
            "  4.11892979e-05 9.99956012e-01]\n",
            " [1.77691311e-06 3.96457551e-07 2.09319111e-07 6.62438726e-09\n",
            "  9.99967694e-01 1.71238704e-10 2.98077575e-05 5.33291775e-08\n",
            "  1.17696928e-08 9.38249034e-09]\n",
            " [4.02271917e-06 1.41282854e-07 4.88961263e-08 1.01578868e-09\n",
            "  9.99987602e-01 1.31870181e-09 8.10444635e-06 3.34919315e-09\n",
            "  6.44810871e-09 6.76180534e-08]\n",
            " [2.61757009e-07 9.99552071e-01 3.30586386e-06 1.69684005e-04\n",
            "  4.73082982e-05 1.29704486e-05 4.92760919e-05 1.64606157e-04\n",
            "  3.63365587e-08 4.90935292e-07]\n",
            " [1.34211353e-17 1.00000000e+00 3.27365278e-13 1.13151625e-14\n",
            "  4.06728080e-12 8.71440680e-12 3.41424502e-12 2.56125382e-14\n",
            "  1.12046762e-16 1.00201997e-15]\n",
            " [5.10969374e-04 2.65572499e-03 5.24766278e-04 9.29833889e-01\n",
            "  1.14321352e-04 5.28217703e-02 1.10578518e-02 1.40918919e-03\n",
            "  1.00760069e-03 6.39912541e-05]\n",
            " [5.00829517e-11 6.70353786e-19 2.24271101e-12 1.84534750e-14\n",
            "  6.01456927e-13 1.75359685e-10 6.05871187e-10 1.22213598e-14\n",
            "  1.00000000e+00 3.63958397e-09]\n",
            " [5.99683735e-05 5.50421419e-07 6.07126822e-06 5.89137890e-05\n",
            "  1.27273125e-07 9.99440134e-01 3.77468095e-05 4.36824962e-07\n",
            "  3.94519040e-04 1.45494778e-06]\n",
            " [1.49748822e-12 1.56484015e-09 1.57265856e-09 1.47019952e-09\n",
            "  1.42109701e-11 1.22468354e-15 4.75596040e-15 1.00000000e+00\n",
            "  2.44254660e-12 8.78990325e-10]\n",
            " [5.19702502e-04 3.31099259e-09 4.69353145e-05 2.12077396e-07\n",
            "  1.18105913e-06 5.86263603e-04 4.01721323e-09 2.85680071e-05\n",
            "  1.57639679e-05 9.98801351e-01]\n",
            " [1.73641899e-18 1.00000000e+00 1.49205613e-13 2.40819980e-15\n",
            "  1.54311514e-12 3.52949831e-12 1.35093651e-12 8.21561502e-16\n",
            "  3.65932171e-18 2.80926716e-17]\n",
            " [1.21636333e-07 1.06671302e-12 9.84794383e-07 7.30255093e-11\n",
            "  3.38710571e-08 1.00574448e-06 6.58534512e-12 7.69209265e-08\n",
            "  3.44083383e-05 9.99963284e-01]\n",
            " [6.60234535e-14 1.00000000e+00 9.24475996e-10 2.30275890e-12\n",
            "  3.61002073e-09 6.27936014e-09 3.43607032e-09 1.08546646e-12\n",
            "  1.33889536e-12 1.08621217e-12]\n",
            " [1.17522092e-07 1.49937804e-07 9.99788105e-01 2.07401263e-06\n",
            "  2.96439016e-08 1.76884930e-06 4.96324787e-07 4.04011735e-05\n",
            "  1.66206548e-04 7.91022558e-07]\n",
            " [9.85070528e-07 7.19113733e-13 7.21883680e-07 5.90329244e-11\n",
            "  5.42401857e-08 7.51968571e-07 4.97307924e-12 7.87088140e-07\n",
            "  4.86229555e-06 9.99991775e-01]\n",
            " [9.27263197e-11 5.67007663e-10 9.99999166e-01 1.93224436e-09\n",
            "  1.43825594e-11 7.82059140e-11 6.34022002e-11 7.89593742e-07\n",
            "  5.89438676e-09 1.19784793e-10]\n",
            " [9.93817627e-01 2.96153466e-08 2.01396088e-05 3.51250196e-06\n",
            "  1.49935379e-03 5.29199315e-04 1.66564118e-04 1.08734803e-05\n",
            "  8.59180116e-04 3.09343636e-03]\n",
            " [9.99782383e-01 7.75732993e-13 3.99447628e-11 6.86464885e-09\n",
            "  2.04948214e-04 1.48660551e-08 2.74760987e-06 1.25661268e-08\n",
            "  7.13623785e-06 2.74698073e-06]\n",
            " [2.61642803e-17 1.00000000e+00 7.52883812e-13 4.30913145e-13\n",
            "  7.58168441e-12 2.06990952e-11 4.20044451e-11 2.28320712e-14\n",
            "  3.90848762e-17 1.70955879e-16]\n",
            " [8.12153230e-05 1.19446315e-06 1.67158248e-06 2.06789802e-04\n",
            "  9.63596176e-05 1.70625426e-04 9.99420166e-01 7.26715621e-09\n",
            "  2.20365928e-05 3.14189599e-08]\n",
            " [9.35000299e-10 1.05955278e-09 9.99997735e-01 2.40961695e-09\n",
            "  4.70607685e-11 2.66055200e-09 3.34954321e-11 2.25112581e-06\n",
            "  9.83002302e-09 1.78598869e-09]\n",
            " [7.80863552e-09 1.31383470e-13 6.32416830e-09 2.63436647e-12\n",
            "  2.63291389e-09 2.28664803e-08 3.25971888e-14 1.70338144e-08\n",
            "  1.65279900e-07 9.99999881e-01]\n",
            " [2.95462331e-13 4.38092861e-11 1.00000000e+00 1.87789823e-12\n",
            "  1.44798033e-13 3.57072634e-13 3.91792786e-14 3.20792970e-09\n",
            "  5.37136134e-12 2.83560800e-13]\n",
            " [6.71266662e-07 1.94065084e-04 6.49287222e-06 9.96521831e-01\n",
            "  2.63094921e-06 5.42048831e-04 2.71239807e-03 1.38442365e-05\n",
            "  5.82901066e-06 8.75337705e-08]\n",
            " [6.33382886e-12 1.45335735e-08 8.45149062e-10 3.44080542e-09\n",
            "  1.25145727e-10 5.99254296e-15 2.07842370e-14 1.00000000e+00\n",
            "  2.88699598e-12 1.68488490e-09]\n",
            " [1.13870966e-08 1.69330509e-14 2.63918469e-08 1.42178274e-11\n",
            "  5.65807790e-10 1.59303539e-07 1.31403608e-08 1.03237384e-10\n",
            "  9.99994159e-01 5.60346689e-06]\n",
            " [1.62276163e-04 1.47037592e-03 2.98736384e-04 7.51768748e-05\n",
            "  9.81950283e-01 3.17545619e-06 1.56289432e-02 3.69544432e-04\n",
            "  1.40800184e-05 2.74950053e-05]\n",
            " [5.34225553e-10 2.86062285e-09 5.84146953e-10 9.99957561e-01\n",
            "  2.73076450e-10 3.80006823e-05 3.71315627e-06 1.50110147e-09\n",
            "  7.60234229e-07 1.42350676e-09]\n",
            " [3.28095560e-08 1.16406196e-09 9.99965429e-01 4.03503613e-08\n",
            "  1.02779452e-09 4.43650060e-06 2.25796848e-09 7.56715826e-06\n",
            "  1.96542005e-05 2.84654743e-06]\n",
            " [3.83533028e-09 7.02023067e-15 2.42432463e-10 7.99260727e-11\n",
            "  2.95756648e-11 1.67829608e-08 6.78401830e-06 3.69819220e-13\n",
            "  9.99993205e-01 2.24822427e-09]\n",
            " [7.69397488e-08 9.53860399e-06 4.04779627e-07 3.39028716e-08\n",
            "  1.46151280e-07 2.81562498e-05 1.23852276e-10 6.64330364e-05\n",
            "  9.70584006e-06 9.99885559e-01]\n",
            " [1.68110564e-05 1.72897398e-06 1.10882615e-06 1.24921833e-04\n",
            "  2.84275884e-04 5.46661395e-05 9.99515772e-01 9.65622071e-09\n",
            "  7.51779851e-07 6.26866248e-09]\n",
            " [1.07430108e-03 8.48033407e-04 4.69591061e-04 3.02870595e-03\n",
            "  4.03165213e-05 9.93078768e-01 9.79940058e-04 4.95558888e-05\n",
            "  3.62174353e-04 6.86032799e-05]\n",
            " [5.78561753e-07 1.18350764e-13 4.18859969e-09 1.85400961e-09\n",
            "  3.69868830e-10 3.14409976e-06 3.62749870e-06 4.07319838e-11\n",
            "  9.99992251e-01 3.24512456e-07]\n",
            " [2.08819290e-12 1.13807033e-10 1.00000000e+00 2.13125511e-13\n",
            "  5.18067143e-13 2.78030932e-11 2.87808476e-15 3.73013220e-09\n",
            "  2.50658695e-12 3.27310845e-10]\n",
            " [9.99894738e-01 9.73017579e-15 6.84498369e-09 7.01660330e-09\n",
            "  6.20495015e-08 1.11348354e-05 3.51724658e-08 4.59477745e-09\n",
            "  8.13378501e-05 1.26155201e-05]\n",
            " [2.03258228e-08 9.99788821e-01 8.66001074e-07 8.40969960e-07\n",
            "  1.72226119e-05 8.54373939e-05 1.06723026e-04 7.87787826e-08\n",
            "  3.71272235e-09 9.15705822e-09]\n",
            " [4.12523787e-06 7.98064048e-06 3.08510562e-06 2.91098058e-06\n",
            "  5.71519898e-09 9.99977231e-01 1.06267919e-07 2.87406237e-07\n",
            "  3.98645352e-06 3.54498468e-07]\n",
            " [8.85334472e-08 6.72160071e-12 1.92826306e-08 4.12848777e-08\n",
            "  2.31213648e-09 1.87984867e-07 2.40223992e-04 3.15985599e-10\n",
            "  9.99759495e-01 2.70947051e-08]\n",
            " [3.01530841e-03 1.84827033e-04 2.58330867e-04 3.97918993e-05\n",
            "  9.93005693e-01 1.49889238e-05 2.27006082e-03 1.18288168e-04\n",
            "  2.87664152e-04 8.05151125e-04]\n",
            " [7.07541393e-13 1.00000000e+00 4.91557328e-09 4.47138604e-10\n",
            "  6.33299280e-09 8.06607314e-09 3.11701243e-08 3.32397415e-10\n",
            "  1.12923256e-11 1.49074624e-11]\n",
            " [7.83769057e-12 6.16204346e-16 7.44024688e-16 1.85824203e-11\n",
            "  2.97056296e-10 3.14580588e-12 1.00000000e+00 1.52684536e-20\n",
            "  5.66029112e-10 9.43020474e-18]\n",
            " [9.99948025e-01 2.17346991e-11 8.52194870e-10 6.22050820e-08\n",
            "  4.38345596e-05 1.63619723e-06 1.97506893e-06 8.06216605e-08\n",
            "  8.99506404e-07 3.35985283e-06]\n",
            " [5.43733808e-11 6.43399503e-08 1.13051846e-10 9.99998808e-01\n",
            "  4.44683540e-10 5.31260923e-07 6.48323010e-07 1.04207754e-08\n",
            "  3.98864408e-09 4.30009917e-11]\n",
            " [5.48883982e-05 5.25044186e-08 3.11059409e-08 1.78747669e-05\n",
            "  2.61540317e-05 3.88677690e-05 9.99859571e-01 1.46803944e-10\n",
            "  2.59160834e-06 1.58546887e-09]\n",
            " [5.04617055e-05 6.63302444e-06 4.56460111e-06 1.55689559e-05\n",
            "  1.14251691e-06 9.99773800e-01 9.17464931e-05 1.17919512e-07\n",
            "  5.18391389e-05 4.10741040e-06]\n",
            " [2.31347769e-07 2.55865916e-06 7.84762815e-05 7.88120531e-07\n",
            "  1.27502034e-07 1.14889129e-08 2.69574613e-10 9.99067605e-01\n",
            "  5.62096545e-07 8.49506643e-04]\n",
            " [1.37661394e-13 8.91776236e-12 1.00000000e+00 1.80505066e-13\n",
            "  3.58520586e-14 4.57618372e-13 1.38225358e-15 1.72433090e-09\n",
            "  3.13637408e-13 1.69200591e-12]\n",
            " [1.84204207e-08 3.71660371e-14 2.32750152e-09 5.28695386e-11\n",
            "  2.82990936e-10 5.02655695e-08 7.87661463e-07 1.28055361e-11\n",
            "  9.99998927e-01 2.39354421e-07]\n",
            " [3.05373682e-09 7.41423397e-16 3.20267479e-10 3.81502902e-12\n",
            "  1.58281957e-10 1.59225930e-08 4.13506474e-09 5.19542569e-12\n",
            "  9.99999523e-01 4.45161874e-07]\n",
            " [9.99820530e-01 2.05186382e-10 1.24422046e-08 3.71960596e-07\n",
            "  1.24612896e-04 2.95794216e-05 8.21632875e-06 4.42802303e-07\n",
            "  5.20189360e-06 1.10646652e-05]\n",
            " [7.86750358e-14 1.00000000e+00 1.27402000e-09 3.27971699e-12\n",
            "  2.94959568e-09 8.98952024e-09 4.18545376e-09 1.78355258e-12\n",
            "  3.05034578e-12 1.67271774e-12]\n",
            " [4.26908120e-10 7.27566341e-10 2.08951723e-09 5.67181475e-11\n",
            "  6.39265377e-11 6.58541950e-08 1.15746502e-14 7.92374237e-07\n",
            "  4.14727630e-08 9.99999166e-01]\n",
            " [9.96278584e-01 3.72040642e-13 5.42945600e-09 1.95808116e-08\n",
            "  1.95611967e-04 6.23899382e-07 5.32770991e-06 7.75546241e-08\n",
            "  3.00045894e-03 5.19252673e-04]\n",
            " [2.50019184e-07 3.21552140e-09 2.69249645e-09 2.92392881e-11\n",
            "  9.99998689e-01 7.35929221e-13 7.69611063e-07 1.87939051e-08\n",
            "  2.67419466e-07 8.13831207e-08]\n",
            " [8.26387669e-09 1.72304408e-14 6.06967063e-08 5.14947373e-12\n",
            "  1.07588549e-09 1.50878350e-07 2.03930148e-13 4.96392483e-09\n",
            "  1.32554205e-05 9.99986529e-01]\n",
            " [8.12997168e-05 2.19216986e-06 4.49053332e-05 1.21560483e-03\n",
            "  6.46930346e-07 9.96485114e-01 6.50039641e-04 1.05020285e-06\n",
            "  1.51540269e-03 3.75808122e-06]\n",
            " [1.84454066e-07 9.99717414e-01 2.07515277e-05 9.44795738e-06\n",
            "  1.86307472e-04 2.19227277e-05 3.94507515e-05 4.23658912e-06\n",
            "  3.00745597e-08 1.78424543e-07]\n",
            " [2.36627571e-07 1.75602430e-08 7.21094340e-09 8.09364589e-11\n",
            "  9.99999404e-01 1.28626276e-11 4.04191127e-07 1.24128718e-09\n",
            "  1.86810706e-10 4.82405449e-09]]\n"
          ]
        }
      ],
      "source": [
        "predictions = model.predict_generator(test_generator)\n",
        "print(predictions)"
      ]
    },
    {
      "cell_type": "code",
      "execution_count": 20,
      "metadata": {
        "id": "JG9lcmU0gtgZ"
      },
      "outputs": [
        {
          "name": "stdout",
          "output_type": "stream",
          "text": [
            "8\n"
          ]
        }
      ],
      "source": [
        "res1 = np.argmax(predictions[0,:])\n",
        "print(res1) "
      ]
    },
    {
      "attachments": {},
      "cell_type": "markdown",
      "metadata": {
        "id": "BtaLUbZ1mpu2"
      },
      "source": [
        "Como Fazer a predição de uma imagem PNG?"
      ]
    },
    {
      "cell_type": "code",
      "execution_count": 21,
      "metadata": {
        "id": "rrmeie27nHvg"
      },
      "outputs": [
        {
          "data": {
            "image/png": "[encoded data removed]",
            "text/plain": [
              "<Figure size 640x480 with 1 Axes>"
            ]
          },
          "metadata": {},
          "output_type": "display_data"
        }
      ],
      "source": [
        "#fileimg = r'D:\\digito_7_2SAN.png'\n",
        "fileimg = r'Datasets/Digitos/Teste/7/7_8850.png'\n",
        "\n",
        "img = load_img(fileimg , color_mode = \"grayscale\", target_size=(30, 30))\n",
        "\n",
        "#\n",
        "x = img_to_array(img)\n",
        "\n",
        "plt.imshow(x[:,:,0], cmap=plt.get_cmap('gray'))\n",
        "plt.show()"
      ]
    },
    {
      "cell_type": "code",
      "execution_count": 22,
      "metadata": {
        "id": "zjF5TrAinZFj"
      },
      "outputs": [
        {
          "data": {
            "text/plain": [
              "(30, 30, 1)"
            ]
          },
          "execution_count": 22,
          "metadata": {},
          "output_type": "execute_result"
        }
      ],
      "source": [
        "x.shape"
      ]
    },
    {
      "cell_type": "code",
      "execution_count": 23,
      "metadata": {
        "id": "IFLveOHmnw5R"
      },
      "outputs": [
        {
          "data": {
            "text/plain": [
              "(1, 30, 30, 1)"
            ]
          },
          "execution_count": 23,
          "metadata": {},
          "output_type": "execute_result"
        }
      ],
      "source": [
        "x = np.expand_dims(x, axis=0)\n",
        "x.shape"
      ]
    },
    {
      "cell_type": "code",
      "execution_count": 24,
      "metadata": {
        "id": "te7CvbA2moT8"
      },
      "outputs": [
        {
          "name": "stdout",
          "output_type": "stream",
          "text": [
            "1/1 [==============================] - 0s 63ms/step\n",
            "7\n"
          ]
        }
      ],
      "source": [
        "y_pred = model.predict(x)\n",
        "\n",
        "res = np.argmax(y_pred)\n",
        "print(res)"
      ]
    },
    {
      "cell_type": "code",
      "execution_count": 25,
      "metadata": {
        "id": "NOTuya-1MGRB"
      },
      "outputs": [
        {
          "data": {
            "text/plain": [
              "array([[1.4974882e-12, 1.5648401e-09, 1.5726586e-09, 1.4701995e-09,\n",
              "        1.4210970e-11, 1.2246835e-15, 4.7559604e-15, 1.0000000e+00,\n",
              "        2.4425466e-12, 8.7899032e-10]], dtype=float32)"
            ]
          },
          "execution_count": 25,
          "metadata": {},
          "output_type": "execute_result"
        }
      ],
      "source": [
        "y_pred"
      ]
    },
    {
      "cell_type": "code",
      "execution_count": 26,
      "metadata": {
        "id": "PZJPF99ewuQ8"
      },
      "outputs": [
        {
          "data": {
            "text/plain": [
              "{'0': 0,\n",
              " '1': 1,\n",
              " '2': 2,\n",
              " '3': 3,\n",
              " '4': 4,\n",
              " '5': 5,\n",
              " '6': 6,\n",
              " '7': 7,\n",
              " '8': 8,\n",
              " '9': 9}"
            ]
          },
          "execution_count": 26,
          "metadata": {},
          "output_type": "execute_result"
        }
      ],
      "source": [
        "train_generator.class_indices"
      ]
    }
  ],
  "metadata": {
    "accelerator": "GPU",
    "colab": {
      "provenance": []
    },
    "kernelspec": {
      "display_name": "Python 3",
      "name": "python3"
    },
    "language_info": {
      "codemirror_mode": {
        "name": "ipython",
        "version": 3
      },
      "file_extension": ".py",
      "mimetype": "text/x-python",
      "name": "python",
      "nbconvert_exporter": "python",
      "pygments_lexer": "ipython3",
      "version": "3.10.2"
    }
  },
  "nbformat": 4,
  "nbformat_minor": 0
}
