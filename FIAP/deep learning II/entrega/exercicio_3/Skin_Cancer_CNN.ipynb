{
  "cells": [
    {
      "cell_type": "code",
      "execution_count": 1,
      "id": "c4bf3b4b-6fcb-4e0e-9b03-d2873031d978",
      "metadata": {
        "ExecuteTime": {
          "end_time": "2023-06-05T02:17:05.096004+00:00",
          "start_time": "2023-06-05T02:17:00.409877+00:00"
        },
        "jupyter": {
          "outputs_hidden": true,
          "source_hidden": false
        },
        "noteable": {
          "cell_type": "code"
        },
        "scrolled": false
      },
      "outputs": [
        {
          "name": "stdout",
          "output_type": "stream",
          "text": [
            "Requirement already satisfied: tensorflow in c:\\users\\kaiquehenriquevalim\\appdata\\local\\programs\\python\\python310\\lib\\site-packages (2.10.1)\n",
            "Requirement already satisfied: absl-py>=1.0.0 in c:\\users\\kaiquehenriquevalim\\appdata\\local\\programs\\python\\python310\\lib\\site-packages (from tensorflow) (1.3.0)\n",
            "Requirement already satisfied: astunparse>=1.6.0 in c:\\users\\kaiquehenriquevalim\\appdata\\local\\programs\\python\\python310\\lib\\site-packages (from tensorflow) (1.6.3)\n",
            "Requirement already satisfied: flatbuffers>=2.0 in c:\\users\\kaiquehenriquevalim\\appdata\\local\\programs\\python\\python310\\lib\\site-packages (from tensorflow) (22.10.26)\n",
            "Requirement already satisfied: gast<=0.4.0,>=0.2.1 in c:\\users\\kaiquehenriquevalim\\appdata\\local\\programs\\python\\python310\\lib\\site-packages (from tensorflow) (0.4.0)\n",
            "Requirement already satisfied: google-pasta>=0.1.1 in c:\\users\\kaiquehenriquevalim\\appdata\\local\\programs\\python\\python310\\lib\\site-packages (from tensorflow) (0.2.0)\n",
            "Requirement already satisfied: h5py>=2.9.0 in c:\\users\\kaiquehenriquevalim\\appdata\\local\\programs\\python\\python310\\lib\\site-packages (from tensorflow) (3.7.0)\n",
            "Requirement already satisfied: keras-preprocessing>=1.1.1 in c:\\users\\kaiquehenriquevalim\\appdata\\local\\programs\\python\\python310\\lib\\site-packages (from tensorflow) (1.1.2)\n",
            "Requirement already satisfied: libclang>=13.0.0 in c:\\users\\kaiquehenriquevalim\\appdata\\local\\programs\\python\\python310\\lib\\site-packages (from tensorflow) (14.0.6)\n",
            "Requirement already satisfied: numpy>=1.20 in c:\\users\\kaiquehenriquevalim\\appdata\\local\\programs\\python\\python310\\lib\\site-packages (from tensorflow) (1.23.3)\n",
            "Requirement already satisfied: opt-einsum>=2.3.2 in c:\\users\\kaiquehenriquevalim\\appdata\\local\\programs\\python\\python310\\lib\\site-packages (from tensorflow) (3.3.0)\n",
            "Requirement already satisfied: packaging in c:\\users\\kaiquehenriquevalim\\appdata\\local\\programs\\python\\python310\\lib\\site-packages (from tensorflow) (23.1)\n",
            "Requirement already satisfied: protobuf<3.20,>=3.9.2 in c:\\users\\kaiquehenriquevalim\\appdata\\local\\programs\\python\\python310\\lib\\site-packages (from tensorflow) (3.19.6)\n",
            "Requirement already satisfied: setuptools in c:\\users\\kaiquehenriquevalim\\appdata\\local\\programs\\python\\python310\\lib\\site-packages (from tensorflow) (58.1.0)\n",
            "Requirement already satisfied: six>=1.12.0 in c:\\users\\kaiquehenriquevalim\\appdata\\roaming\\python\\python310\\site-packages (from tensorflow) (1.16.0)\n",
            "Requirement already satisfied: termcolor>=1.1.0 in c:\\users\\kaiquehenriquevalim\\appdata\\local\\programs\\python\\python310\\lib\\site-packages (from tensorflow) (2.1.0)\n",
            "Requirement already satisfied: typing-extensions>=3.6.6 in c:\\users\\kaiquehenriquevalim\\appdata\\local\\programs\\python\\python310\\lib\\site-packages (from tensorflow) (4.4.0)\n",
            "Requirement already satisfied: wrapt>=1.11.0 in c:\\users\\kaiquehenriquevalim\\appdata\\local\\programs\\python\\python310\\lib\\site-packages (from tensorflow) (1.14.1)\n",
            "Requirement already satisfied: tensorflow-io-gcs-filesystem>=0.23.1 in c:\\users\\kaiquehenriquevalim\\appdata\\local\\programs\\python\\python310\\lib\\site-packages (from tensorflow) (0.27.0)\n",
            "Requirement already satisfied: grpcio<2.0,>=1.24.3 in c:\\users\\kaiquehenriquevalim\\appdata\\local\\programs\\python\\python310\\lib\\site-packages (from tensorflow) (1.50.0)\n",
            "Requirement already satisfied: tensorboard<2.11,>=2.10 in c:\\users\\kaiquehenriquevalim\\appdata\\local\\programs\\python\\python310\\lib\\site-packages (from tensorflow) (2.10.1)\n",
            "Requirement already satisfied: tensorflow-estimator<2.11,>=2.10.0 in c:\\users\\kaiquehenriquevalim\\appdata\\local\\programs\\python\\python310\\lib\\site-packages (from tensorflow) (2.10.0)\n",
            "Requirement already satisfied: keras<2.11,>=2.10.0 in c:\\users\\kaiquehenriquevalim\\appdata\\local\\programs\\python\\python310\\lib\\site-packages (from tensorflow) (2.10.0)\n",
            "Requirement already satisfied: wheel<1.0,>=0.23.0 in c:\\users\\kaiquehenriquevalim\\appdata\\local\\programs\\python\\python310\\lib\\site-packages (from astunparse>=1.6.0->tensorflow) (0.38.4)\n",
            "Requirement already satisfied: google-auth<3,>=1.6.3 in c:\\users\\kaiquehenriquevalim\\appdata\\local\\programs\\python\\python310\\lib\\site-packages (from tensorboard<2.11,>=2.10->tensorflow) (2.14.1)\n",
            "Requirement already satisfied: google-auth-oauthlib<0.5,>=0.4.1 in c:\\users\\kaiquehenriquevalim\\appdata\\local\\programs\\python\\python310\\lib\\site-packages (from tensorboard<2.11,>=2.10->tensorflow) (0.4.6)\n",
            "Requirement already satisfied: markdown>=2.6.8 in c:\\users\\kaiquehenriquevalim\\appdata\\local\\programs\\python\\python310\\lib\\site-packages (from tensorboard<2.11,>=2.10->tensorflow) (3.3.6)\n",
            "Requirement already satisfied: requests<3,>=2.21.0 in c:\\users\\kaiquehenriquevalim\\appdata\\local\\programs\\python\\python310\\lib\\site-packages (from tensorboard<2.11,>=2.10->tensorflow) (2.29.0)\n",
            "Requirement already satisfied: tensorboard-data-server<0.7.0,>=0.6.0 in c:\\users\\kaiquehenriquevalim\\appdata\\local\\programs\\python\\python310\\lib\\site-packages (from tensorboard<2.11,>=2.10->tensorflow) (0.6.1)\n",
            "Requirement already satisfied: tensorboard-plugin-wit>=1.6.0 in c:\\users\\kaiquehenriquevalim\\appdata\\local\\programs\\python\\python310\\lib\\site-packages (from tensorboard<2.11,>=2.10->tensorflow) (1.8.1)\n",
            "Requirement already satisfied: werkzeug>=1.0.1 in c:\\users\\kaiquehenriquevalim\\appdata\\local\\programs\\python\\python310\\lib\\site-packages (from tensorboard<2.11,>=2.10->tensorflow) (2.2.2)\n",
            "Requirement already satisfied: cachetools<6.0,>=2.0.0 in c:\\users\\kaiquehenriquevalim\\appdata\\local\\programs\\python\\python310\\lib\\site-packages (from google-auth<3,>=1.6.3->tensorboard<2.11,>=2.10->tensorflow) (5.2.0)\n",
            "Requirement already satisfied: pyasn1-modules>=0.2.1 in c:\\users\\kaiquehenriquevalim\\appdata\\local\\programs\\python\\python310\\lib\\site-packages (from google-auth<3,>=1.6.3->tensorboard<2.11,>=2.10->tensorflow) (0.2.8)\n",
            "Requirement already satisfied: rsa<5,>=3.1.4 in c:\\users\\kaiquehenriquevalim\\appdata\\local\\programs\\python\\python310\\lib\\site-packages (from google-auth<3,>=1.6.3->tensorboard<2.11,>=2.10->tensorflow) (4.9)\n",
            "Requirement already satisfied: requests-oauthlib>=0.7.0 in c:\\users\\kaiquehenriquevalim\\appdata\\local\\programs\\python\\python310\\lib\\site-packages (from google-auth-oauthlib<0.5,>=0.4.1->tensorboard<2.11,>=2.10->tensorflow) (1.3.1)\n",
            "Requirement already satisfied: charset-normalizer<4,>=2 in c:\\users\\kaiquehenriquevalim\\appdata\\local\\programs\\python\\python310\\lib\\site-packages (from requests<3,>=2.21.0->tensorboard<2.11,>=2.10->tensorflow) (2.1.0)\n",
            "Requirement already satisfied: idna<4,>=2.5 in c:\\users\\kaiquehenriquevalim\\appdata\\local\\programs\\python\\python310\\lib\\site-packages (from requests<3,>=2.21.0->tensorboard<2.11,>=2.10->tensorflow) (2.8)\n",
            "Requirement already satisfied: urllib3<1.27,>=1.21.1 in c:\\users\\kaiquehenriquevalim\\appdata\\local\\programs\\python\\python310\\lib\\site-packages (from requests<3,>=2.21.0->tensorboard<2.11,>=2.10->tensorflow) (1.26.12)\n",
            "Requirement already satisfied: certifi>=2017.4.17 in c:\\users\\kaiquehenriquevalim\\appdata\\local\\programs\\python\\python310\\lib\\site-packages (from requests<3,>=2.21.0->tensorboard<2.11,>=2.10->tensorflow) (2022.6.15)\n",
            "Requirement already satisfied: MarkupSafe>=2.1.1 in c:\\users\\kaiquehenriquevalim\\appdata\\local\\programs\\python\\python310\\lib\\site-packages (from werkzeug>=1.0.1->tensorboard<2.11,>=2.10->tensorflow) (2.1.1)\n",
            "Requirement already satisfied: pyasn1<0.5.0,>=0.4.6 in c:\\users\\kaiquehenriquevalim\\appdata\\local\\programs\\python\\python310\\lib\\site-packages (from pyasn1-modules>=0.2.1->google-auth<3,>=1.6.3->tensorboard<2.11,>=2.10->tensorflow) (0.4.8)\n",
            "Requirement already satisfied: oauthlib>=3.0.0 in c:\\users\\kaiquehenriquevalim\\appdata\\local\\programs\\python\\python310\\lib\\site-packages (from requests-oauthlib>=0.7.0->google-auth-oauthlib<0.5,>=0.4.1->tensorboard<2.11,>=2.10->tensorflow) (3.2.2)\n"
          ]
        },
        {
          "name": "stderr",
          "output_type": "stream",
          "text": [
            "WARNING: Ignoring invalid distribution -2o (c:\\users\\kaiquehenriquevalim\\appdata\\local\\programs\\python\\python310\\lib\\site-packages)\n",
            "WARNING: Ignoring invalid distribution -2o (c:\\users\\kaiquehenriquevalim\\appdata\\local\\programs\\python\\python310\\lib\\site-packages)\n"
          ]
        }
      ],
      "source": [
        "!pip install tensorflow"
      ]
    },
    {
      "cell_type": "code",
      "execution_count": 2,
      "id": "3ec6d2bb-78c5-4e61-9b9a-dec5a8cbfc68",
      "metadata": {
        "jupyter": {
          "outputs_hidden": true,
          "source_hidden": false
        },
        "noteable": {
          "cell_type": "code"
        }
      },
      "outputs": [
        {
          "name": "stdout",
          "output_type": "stream",
          "text": [
            "Requirement already satisfied: scikit-learn in c:\\users\\kaiquehenriquevalim\\appdata\\local\\programs\\python\\python310\\lib\\site-packages (1.2.2)\n",
            "Requirement already satisfied: numpy>=1.17.3 in c:\\users\\kaiquehenriquevalim\\appdata\\local\\programs\\python\\python310\\lib\\site-packages (from scikit-learn) (1.23.3)\n",
            "Requirement already satisfied: scipy>=1.3.2 in c:\\users\\kaiquehenriquevalim\\appdata\\local\\programs\\python\\python310\\lib\\site-packages (from scikit-learn) (1.9.3)\n",
            "Requirement already satisfied: joblib>=1.1.1 in c:\\users\\kaiquehenriquevalim\\appdata\\local\\programs\\python\\python310\\lib\\site-packages (from scikit-learn) (1.2.0)\n",
            "Requirement already satisfied: threadpoolctl>=2.0.0 in c:\\users\\kaiquehenriquevalim\\appdata\\local\\programs\\python\\python310\\lib\\site-packages (from scikit-learn) (3.1.0)\n"
          ]
        },
        {
          "name": "stderr",
          "output_type": "stream",
          "text": [
            "WARNING: Ignoring invalid distribution -2o (c:\\users\\kaiquehenriquevalim\\appdata\\local\\programs\\python\\python310\\lib\\site-packages)\n",
            "WARNING: Ignoring invalid distribution -2o (c:\\users\\kaiquehenriquevalim\\appdata\\local\\programs\\python\\python310\\lib\\site-packages)\n"
          ]
        }
      ],
      "source": [
        "!pip install -U scikit-learn"
      ]
    },
    {
      "cell_type": "code",
      "execution_count": 3,
      "id": "6a350f3f-4a58-4b00-9ae8-ed5ca8d70d37",
      "metadata": {
        "ExecuteTime": {
          "end_time": "2023-06-05T02:16:42.068739+00:00",
          "start_time": "2023-06-05T02:16:41.909265+00:00"
        },
        "jupyter": {
          "outputs_hidden": false,
          "source_hidden": false
        },
        "noteable": {
          "cell_type": "code"
        }
      },
      "outputs": [],
      "source": [
        "# Importando as bibliotecas necessárias\n",
        "import os\n",
        "import zipfile\n",
        "import numpy as np\n",
        "import pandas as pd\n",
        "import matplotlib.pyplot as plt\n",
        "import seaborn as sns\n",
        "import tensorflow as tf\n",
        "from tensorflow.keras import layers\n",
        "from tensorflow.keras import models\n",
        "from tensorflow.keras.utils import to_categorical\n",
        "from sklearn.model_selection import train_test_split\n",
        "from sklearn.preprocessing import LabelEncoder\n",
        "from sklearn.metrics import classification_report\n",
        "from sklearn.metrics import confusion_matrix\n",
        "from keras.callbacks import EarlyStopping\n",
        "from PIL import Image\n",
        "\n",
        "# Configurando o matplotlib\n",
        "plt.style.use('fivethirtyeight')\n",
        "plt.rcParams['figure.figsize'] = [10, 5]"
      ]
    },
    {
      "cell_type": "code",
      "execution_count": 4,
      "id": "a3938203-dfe1-4c51-8cad-f5bea31a65fd",
      "metadata": {
        "ExecuteTime": null,
        "jupyter": {
          "outputs_hidden": false,
          "source_hidden": false
        },
        "noteable": {
          "cell_type": "code"
        },
        "scrolled": false
      },
      "outputs": [
        {
          "data": {
            "text/html": [
              "<div>\n",
              "<style scoped>\n",
              "    .dataframe tbody tr th:only-of-type {\n",
              "        vertical-align: middle;\n",
              "    }\n",
              "\n",
              "    .dataframe tbody tr th {\n",
              "        vertical-align: top;\n",
              "    }\n",
              "\n",
              "    .dataframe thead th {\n",
              "        text-align: right;\n",
              "    }\n",
              "</style>\n",
              "<table border=\"1\" class=\"dataframe\">\n",
              "  <thead>\n",
              "    <tr style=\"text-align: right;\">\n",
              "      <th></th>\n",
              "      <th>lesion_id</th>\n",
              "      <th>image_id</th>\n",
              "      <th>dx</th>\n",
              "      <th>dx_type</th>\n",
              "      <th>age</th>\n",
              "      <th>sex</th>\n",
              "      <th>localization</th>\n",
              "    </tr>\n",
              "  </thead>\n",
              "  <tbody>\n",
              "    <tr>\n",
              "      <th>0</th>\n",
              "      <td>HAM_0000118</td>\n",
              "      <td>ISIC_0027419</td>\n",
              "      <td>bkl</td>\n",
              "      <td>histo</td>\n",
              "      <td>80.0</td>\n",
              "      <td>male</td>\n",
              "      <td>scalp</td>\n",
              "    </tr>\n",
              "    <tr>\n",
              "      <th>1</th>\n",
              "      <td>HAM_0000118</td>\n",
              "      <td>ISIC_0025030</td>\n",
              "      <td>bkl</td>\n",
              "      <td>histo</td>\n",
              "      <td>80.0</td>\n",
              "      <td>male</td>\n",
              "      <td>scalp</td>\n",
              "    </tr>\n",
              "    <tr>\n",
              "      <th>2</th>\n",
              "      <td>HAM_0002730</td>\n",
              "      <td>ISIC_0026769</td>\n",
              "      <td>bkl</td>\n",
              "      <td>histo</td>\n",
              "      <td>80.0</td>\n",
              "      <td>male</td>\n",
              "      <td>scalp</td>\n",
              "    </tr>\n",
              "    <tr>\n",
              "      <th>3</th>\n",
              "      <td>HAM_0002730</td>\n",
              "      <td>ISIC_0025661</td>\n",
              "      <td>bkl</td>\n",
              "      <td>histo</td>\n",
              "      <td>80.0</td>\n",
              "      <td>male</td>\n",
              "      <td>scalp</td>\n",
              "    </tr>\n",
              "    <tr>\n",
              "      <th>4</th>\n",
              "      <td>HAM_0001466</td>\n",
              "      <td>ISIC_0031633</td>\n",
              "      <td>bkl</td>\n",
              "      <td>histo</td>\n",
              "      <td>75.0</td>\n",
              "      <td>male</td>\n",
              "      <td>ear</td>\n",
              "    </tr>\n",
              "  </tbody>\n",
              "</table>\n",
              "</div>"
            ],
            "text/plain": [
              "     lesion_id      image_id   dx dx_type   age   sex localization\n",
              "0  HAM_0000118  ISIC_0027419  bkl   histo  80.0  male        scalp\n",
              "1  HAM_0000118  ISIC_0025030  bkl   histo  80.0  male        scalp\n",
              "2  HAM_0002730  ISIC_0026769  bkl   histo  80.0  male        scalp\n",
              "3  HAM_0002730  ISIC_0025661  bkl   histo  80.0  male        scalp\n",
              "4  HAM_0001466  ISIC_0031633  bkl   histo  75.0  male          ear"
            ]
          },
          "execution_count": 4,
          "metadata": {},
          "output_type": "execute_result"
        }
      ],
      "source": [
        "# Download\n",
        "# https://www.dropbox.com/s/8o4ysiccspp46ov/skin-cancer-mnist-ham10000.zip?dl=1\n",
        "\n",
        "# Load the metadata\n",
        "metadata = pd.read_csv('data/skin-cancer-mnist-ham10000/HAM10000_metadata.csv')\n",
        "\n",
        "# Print the first 5 rows of the metadata\n",
        "metadata.head()"
      ]
    },
    {
      "cell_type": "code",
      "execution_count": 5,
      "id": "3b0d7490-fc51-48ec-8a42-48d080a68e52",
      "metadata": {
        "jupyter": {
          "outputs_hidden": false,
          "source_hidden": false
        },
        "noteable": {
          "cell_type": "code"
        }
      },
      "outputs": [
        {
          "name": "stdout",
          "output_type": "stream",
          "text": [
            "Images shape: (5000, 32, 32, 3)\n",
            "Labels shape: (5000,)\n"
          ]
        }
      ],
      "source": [
        "# Preparação dos dados\n",
        "\n",
        "# Carregar as imagens e os rótulos\n",
        "images = []\n",
        "labels = []\n",
        "\n",
        "# Caminho para as imagens\n",
        "image_path = 'data/skin-cancer-mnist-ham10000/HAM10000_images_part_1/'\n",
        "\n",
        "# Loop através de todas as imagens no diretório\n",
        "for img in os.listdir(image_path):\n",
        "    # Carregar a imagem\n",
        "    image = Image.open(image_path + img)\n",
        "    # Redimensionar a imagem para 32x32 pixels\n",
        "    image = image.resize((32, 32))\n",
        "    # Converter a imagem para array numpy\n",
        "    image = np.array(image)\n",
        "    # Adicionar a imagem à lista de imagens\n",
        "    images.append(image)\n",
        "\n",
        "    # Adicionar o rótulo à lista de rótulos\n",
        "    labels.append(metadata[metadata['image_id'] == img.split('.')[0]]['dx'].values[0])\n",
        "\n",
        "# Converter listas em arrays numpy\n",
        "images = np.array(images)\n",
        "labels = np.array(labels)\n",
        "\n",
        "# Print the shape of the images and labels\n",
        "print('Images shape:', images.shape)\n",
        "print('Labels shape:', labels.shape)"
      ]
    },
    {
      "cell_type": "code",
      "execution_count": 6,
      "id": "b72907e1-ed3f-4220-944e-4a19e593fba4",
      "metadata": {
        "ExecuteTime": {
          "end_time": "2023-06-05T02:14:18.665337+00:00",
          "start_time": "2023-06-05T02:14:18.477645+00:00"
        },
        "jupyter": {
          "outputs_hidden": false,
          "source_hidden": false
        },
        "noteable": {
          "cell_type": "code"
        }
      },
      "outputs": [
        {
          "name": "stdout",
          "output_type": "stream",
          "text": [
            "Train set shape: (2800, 32, 32, 3) (2800, 7)\n",
            "Validation set shape: (700, 32, 32, 3) (700, 7)\n",
            "Test set shape: (1500, 32, 32, 3) (1500, 7)\n"
          ]
        }
      ],
      "source": [
        "# Codificar os rótulos\n",
        "le = LabelEncoder()\n",
        "labels = le.fit_transform(labels)\n",
        "labels = to_categorical(labels)\n",
        "\n",
        "# Dividir os dados em conjuntos de treinamento, validação e teste\n",
        "x_train, x_test, y_train, y_test = train_test_split(images, labels, test_size=0.3, stratify=labels, random_state=42)\n",
        "x_train, x_val, y_train, y_val = train_test_split(x_train, y_train, test_size=0.2, stratify=y_train, random_state=42)\n",
        "\n",
        "# Print the shape of the train, validation and test sets\n",
        "print('Train set shape:', x_train.shape, y_train.shape)\n",
        "print('Validation set shape:', x_val.shape, y_val.shape)\n",
        "print('Test set shape:', x_test.shape, y_test.shape)"
      ]
    },
    {
      "cell_type": "code",
      "execution_count": 7,
      "id": "62230ff5-a51d-4d97-b261-939de487e821",
      "metadata": {
        "jupyter": {
          "outputs_hidden": false,
          "source_hidden": false
        },
        "noteable": {
          "cell_type": "code"
        }
      },
      "outputs": [
        {
          "name": "stdout",
          "output_type": "stream",
          "text": [
            "Model: \"sequential\"\n",
            "_________________________________________________________________\n",
            " Layer (type)                Output Shape              Param #   \n",
            "=================================================================\n",
            " conv2d (Conv2D)             (None, 30, 30, 32)        896       \n",
            "                                                                 \n",
            " max_pooling2d (MaxPooling2D  (None, 15, 15, 32)       0         \n",
            " )                                                               \n",
            "                                                                 \n",
            " conv2d_1 (Conv2D)           (None, 13, 13, 64)        18496     \n",
            "                                                                 \n",
            " max_pooling2d_1 (MaxPooling  (None, 6, 6, 64)         0         \n",
            " 2D)                                                             \n",
            "                                                                 \n",
            " conv2d_2 (Conv2D)           (None, 4, 4, 64)          36928     \n",
            "                                                                 \n",
            " flatten (Flatten)           (None, 1024)              0         \n",
            "                                                                 \n",
            " dense (Dense)               (None, 64)                65600     \n",
            "                                                                 \n",
            " dense_1 (Dense)             (None, 7)                 455       \n",
            "                                                                 \n",
            "=================================================================\n",
            "Total params: 122,375\n",
            "Trainable params: 122,375\n",
            "Non-trainable params: 0\n",
            "_________________________________________________________________\n"
          ]
        }
      ],
      "source": [
        "# Definindo a arquitetura da rede\n",
        "model = models.Sequential()\n",
        "model.add(layers.Conv2D(32, (3, 3), activation='relu', input_shape=(32, 32, 3)))\n",
        "model.add(layers.MaxPooling2D((2, 2)))\n",
        "model.add(layers.Conv2D(64, (3, 3), activation='relu'))\n",
        "model.add(layers.MaxPooling2D((2, 2)))\n",
        "model.add(layers.Conv2D(64, (3, 3), activation='relu'))\n",
        "\n",
        "model.add(layers.Flatten())\n",
        "model.add(layers.Dense(64, activation='relu'))\n",
        "model.add(layers.Dense(7, activation='softmax'))\n",
        "\n",
        "# Print the model summary\n",
        "model.summary()"
      ]
    },
    {
      "cell_type": "code",
      "execution_count": 8,
      "id": "ba7fafb2",
      "metadata": {},
      "outputs": [],
      "source": [
        "early_stopping = EarlyStopping(monitor='val_accuracy', patience=10)\n",
        "\n",
        "# Compilando o modelo\n",
        "model.compile(\n",
        "    optimizer='adam',\n",
        "    loss='categorical_crossentropy',\n",
        "    metrics=['accuracy']\n",
        "    )"
      ]
    },
    {
      "cell_type": "code",
      "execution_count": 9,
      "id": "97e9c1a7-a129-42c6-a856-4e8a09e2f378",
      "metadata": {
        "jupyter": {
          "outputs_hidden": false,
          "source_hidden": false
        },
        "noteable": {
          "cell_type": "code"
        }
      },
      "outputs": [
        {
          "name": "stdout",
          "output_type": "stream",
          "text": [
            "Epoch 1/1000\n",
            "175/175 [==============================] - 2s 8ms/step - loss: 1.9888 - accuracy: 0.6511 - val_loss: 0.9191 - val_accuracy: 0.6800\n",
            "Epoch 2/1000\n",
            "175/175 [==============================] - 1s 7ms/step - loss: 0.9360 - accuracy: 0.6882 - val_loss: 0.9060 - val_accuracy: 0.6943\n",
            "Epoch 3/1000\n",
            "175/175 [==============================] - 1s 7ms/step - loss: 0.8804 - accuracy: 0.7007 - val_loss: 0.8929 - val_accuracy: 0.6814\n",
            "Epoch 4/1000\n",
            "175/175 [==============================] - 1s 7ms/step - loss: 0.8516 - accuracy: 0.7025 - val_loss: 0.8355 - val_accuracy: 0.7014\n",
            "Epoch 5/1000\n",
            "175/175 [==============================] - 1s 7ms/step - loss: 0.8261 - accuracy: 0.7029 - val_loss: 0.8419 - val_accuracy: 0.7029\n",
            "Epoch 6/1000\n",
            "175/175 [==============================] - 1s 7ms/step - loss: 0.8033 - accuracy: 0.7161 - val_loss: 0.8581 - val_accuracy: 0.6914\n",
            "Epoch 7/1000\n",
            "175/175 [==============================] - 1s 7ms/step - loss: 0.7724 - accuracy: 0.7250 - val_loss: 0.8453 - val_accuracy: 0.6971\n",
            "Epoch 8/1000\n",
            "175/175 [==============================] - 1s 7ms/step - loss: 0.7441 - accuracy: 0.7371 - val_loss: 1.0482 - val_accuracy: 0.7114\n",
            "Epoch 9/1000\n",
            "175/175 [==============================] - 1s 7ms/step - loss: 0.7485 - accuracy: 0.7314 - val_loss: 0.8306 - val_accuracy: 0.7000\n",
            "Epoch 10/1000\n",
            "175/175 [==============================] - 1s 7ms/step - loss: 0.7310 - accuracy: 0.7421 - val_loss: 0.8841 - val_accuracy: 0.7000\n",
            "Epoch 11/1000\n",
            "175/175 [==============================] - 1s 7ms/step - loss: 0.7051 - accuracy: 0.7432 - val_loss: 0.8147 - val_accuracy: 0.7157\n",
            "Epoch 12/1000\n",
            "175/175 [==============================] - 1s 7ms/step - loss: 0.6644 - accuracy: 0.7532 - val_loss: 0.8900 - val_accuracy: 0.7200\n",
            "Epoch 13/1000\n",
            "175/175 [==============================] - 1s 7ms/step - loss: 0.6710 - accuracy: 0.7536 - val_loss: 0.8258 - val_accuracy: 0.7186\n",
            "Epoch 14/1000\n",
            "175/175 [==============================] - 1s 7ms/step - loss: 0.6787 - accuracy: 0.7568 - val_loss: 0.8531 - val_accuracy: 0.7171\n",
            "Epoch 15/1000\n",
            "175/175 [==============================] - 1s 7ms/step - loss: 0.6361 - accuracy: 0.7636 - val_loss: 0.8587 - val_accuracy: 0.7200\n",
            "Epoch 16/1000\n",
            "175/175 [==============================] - 1s 7ms/step - loss: 0.6143 - accuracy: 0.7796 - val_loss: 0.8922 - val_accuracy: 0.7357\n",
            "Epoch 17/1000\n",
            "175/175 [==============================] - 1s 7ms/step - loss: 0.5980 - accuracy: 0.7825 - val_loss: 0.9778 - val_accuracy: 0.7214\n",
            "Epoch 18/1000\n",
            "175/175 [==============================] - 1s 7ms/step - loss: 0.5742 - accuracy: 0.7907 - val_loss: 0.8878 - val_accuracy: 0.7257\n",
            "Epoch 19/1000\n",
            "175/175 [==============================] - 1s 7ms/step - loss: 0.5536 - accuracy: 0.7982 - val_loss: 0.9538 - val_accuracy: 0.6857\n",
            "Epoch 20/1000\n",
            "175/175 [==============================] - 1s 7ms/step - loss: 0.5648 - accuracy: 0.7886 - val_loss: 0.8494 - val_accuracy: 0.7186\n",
            "Epoch 21/1000\n",
            "175/175 [==============================] - 1s 7ms/step - loss: 0.5636 - accuracy: 0.7971 - val_loss: 0.8879 - val_accuracy: 0.7257\n",
            "Epoch 22/1000\n",
            "175/175 [==============================] - 1s 7ms/step - loss: 0.4908 - accuracy: 0.8254 - val_loss: 0.9723 - val_accuracy: 0.7214\n",
            "Epoch 23/1000\n",
            "175/175 [==============================] - 1s 7ms/step - loss: 0.5251 - accuracy: 0.8082 - val_loss: 1.0384 - val_accuracy: 0.7043\n",
            "Epoch 24/1000\n",
            "175/175 [==============================] - 1s 7ms/step - loss: 0.5023 - accuracy: 0.8118 - val_loss: 0.9610 - val_accuracy: 0.7286\n",
            "Epoch 25/1000\n",
            "175/175 [==============================] - 1s 7ms/step - loss: 0.4637 - accuracy: 0.8289 - val_loss: 0.9060 - val_accuracy: 0.7071\n",
            "Epoch 26/1000\n",
            "175/175 [==============================] - 1s 7ms/step - loss: 0.4185 - accuracy: 0.8468 - val_loss: 0.9897 - val_accuracy: 0.7157\n"
          ]
        }
      ],
      "source": [
        "# Treinando o modelo\n",
        "history = model.fit(\n",
        "    x_train, y_train,\n",
        "    epochs=1000,\n",
        "    batch_size=16,\n",
        "    validation_data=(x_val, y_val),\n",
        "    callbacks=[early_stopping],\n",
        "    verbose=1\n",
        "    )"
      ]
    },
    {
      "cell_type": "code",
      "execution_count": 10,
      "id": "6b4e73e1-3a88-4682-8488-4afc0372d29d",
      "metadata": {
        "jupyter": {
          "outputs_hidden": false,
          "source_hidden": false
        },
        "noteable": {
          "cell_type": "code"
        }
      },
      "outputs": [
        {
          "data": {
            "image/png": "[encoded data removed]",
            "text/plain": [
              "<Figure size 1000x500 with 1 Axes>"
            ]
          },
          "metadata": {},
          "output_type": "display_data"
        }
      ],
      "source": [
        "# Plotando a acurácia de treinamento e validação ao longo das épocas\n",
        "plt.plot(history.history['accuracy'])\n",
        "plt.plot(history.history['val_accuracy'])\n",
        "plt.title('Model accuracy')\n",
        "plt.ylabel('Accuracy')\n",
        "plt.xlabel('Epoch')\n",
        "plt.legend(['Train', 'Validation'], loc='upper left')\n",
        "plt.show()"
      ]
    },
    {
      "cell_type": "code",
      "execution_count": 11,
      "id": "754f88e5-d33f-457c-be47-853d0a383785",
      "metadata": {
        "jupyter": {
          "outputs_hidden": false,
          "source_hidden": false
        },
        "noteable": {
          "cell_type": "code"
        }
      },
      "outputs": [
        {
          "name": "stdout",
          "output_type": "stream",
          "text": [
            "47/47 [==============================] - 0s 4ms/step - loss: 0.9958 - accuracy: 0.7167\n",
            "Test accuracy: 0.7166666388511658\n"
          ]
        }
      ],
      "source": [
        "# Avaliando o modelo no conjunto de teste\n",
        "test_loss, test_acc = model.evaluate(x_test, y_test)\n",
        "\n",
        "print('Test accuracy:', test_acc)"
      ]
    }
  ],
  "metadata": {
    "kernelspec": {
      "display_name": "Python 3",
      "language": "python",
      "name": "python3"
    },
    "language_info": {
      "codemirror_mode": {
        "name": "ipython",
        "version": 3
      },
      "file_extension": ".py",
      "mimetype": "text/x-python",
      "name": "python",
      "nbconvert_exporter": "python",
      "pygments_lexer": "ipython3",
      "version": "3.10.2"
    },
    "noteable": {
      "last_delta_id": "cc211825-d3b8-44b1-8023-238bcf35f264",
      "last_transaction_id": "5e0f174e-76e8-4174-a09c-cd58c85d2458"
    },
    "noteable-chatgpt": {
      "create_notebook": {
        "openai_conversation_id": "3893b9a1-3b85-542f-9bdf-23c0403f6522",
        "openai_ephemeral_user_id": "5731e3a0-5038-5f73-ba91-c05b6c8c86b5",
        "openai_subdivision1_iso_code": "BR-SP"
      }
    },
    "nteract": {
      "version": "noteable@2.9.0"
    },
    "selected_hardware_size": "small"
  },
  "nbformat": 4,
  "nbformat_minor": 5
}
