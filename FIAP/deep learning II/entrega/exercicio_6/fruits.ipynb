{
  "cells": [
    {
      "attachments": {},
      "cell_type": "markdown",
      "metadata": {},
      "source": [
        "# Projeto de Classificação de Frutas\n",
        "\n",
        "Este notebook é uma reescrita do notebook original, seguindo as instruções fornecidas. O objetivo é criar um modelo de aprendizado de máquina para classificar diferentes tipos de frutas.\n",
        "\n",
        "As instruções gerais para este projeto são as seguintes:\n",
        "\n",
        "- Utilizaremos a LetNet-5 como exemplo inicial, bem como o exemplo visto em sala de aula do dataset minst.\n",
        "- Iniciaremos o trabalho com parte do dataset e iremos adicionar gradativamente mais tipos distintos de frutas.\n",
        "- É permitido usar outras abordagens e arquiteturas.\n",
        "- É permitido o uso de Autoencoders.\n",
        "- É obrigatório o uso de CNN.\n",
        "- É permitido o uso de técnicas de processamento de imagens.\n",
        "- Não é permitido o uso de modelos pré-treinados.\n",
        "- Faremos uma boa distribuição dos dados de teste, treinamento e validação.\n",
        "\n",
        "Além disso, seguiremos as seguintes instruções adicionais:\n",
        "\n",
        "- Separaremos bem as células.\n",
        "- Criaremos uma etapa de EDA básica.\n",
        "- Comentaremos o código devidamente e criaremos markdowns explicativos.\n",
        "- Todas as predições não podem possuir lags de predição, poucos lags são permitidos.\n",
        "- Escreveremos os comentários e markdowns em português."
      ]
    },
    {
      "attachments": {},
      "cell_type": "markdown",
      "metadata": {},
      "source": [
        "## Importação das bibliotecas\n",
        "\n",
        "Primeiro, vamos importar todas as bibliotecas necessárias para o projeto."
      ]
    },
    {
      "cell_type": "code",
      "execution_count": 29,
      "metadata": {
        "id": "Z-dlXc3p_aEL"
      },
      "outputs": [],
      "source": [
        "import os\n",
        "import shutil\n",
        "import numpy as np\n",
        "import matplotlib.pyplot as plt\n",
        "\n",
        "from keras.models import Sequential\n",
        "from keras.layers import Dense\n",
        "from keras.layers import Dropout\n",
        "from keras.layers import Flatten\n",
        "from keras.layers.convolutional import Conv2D\n",
        "from keras.layers.convolutional import MaxPooling2D,AveragePooling2D\n",
        "from tensorflow.keras.utils import img_to_array , load_img\n",
        "from keras import preprocessing\n",
        "from keras.callbacks import ModelCheckpoint\n",
        "\n"
      ]
    },
    {
      "attachments": {},
      "cell_type": "markdown",
      "metadata": {},
      "source": [
        "## Preparação dos dados\n",
        "\n",
        "Agora, vamos preparar os dados para serem alimentados no modelo. Isso inclui a divisão dos dados em conjuntos de treinamento, validação e teste, bem como a normalização dos dados."
      ]
    },
    {
      "cell_type": "code",
      "execution_count": 30,
      "metadata": {},
      "outputs": [],
      "source": [
        "import contextlib\n",
        "source_dir = 'fruits/fruits-360_dataset/fruits-360/Training'\n",
        "dest_dir = 'fruits/fruits-360_dataset/fruits-360/Training_30_fruits'\n",
        "\n",
        "# Cria o diretório de destino se ele não existir\n",
        "with contextlib.suppress(Exception):\n",
        "    if not os.path.exists(dest_dir):\n",
        "        os.makedirs(dest_dir)\n",
        "\n",
        "# Copia as pastas das 30 primeiras frutas para o diretório de destino\n",
        "fruits = ['Apple Braeburn', 'Apple Golden 1', 'Apple Golden 2', 'Apple Golden 3', 'Apple Granny Smith', 'Apple Red 1', 'Apple Red 2', 'Apple Red 3', 'Apple Red Delicious', 'Apple Red Yellow 1', 'Apricot', 'Avocado', 'Avocado ripe', 'Banana', 'Banana Lady Finger', 'Banana Red', 'Cactus fruit', 'Cantaloupe 1', 'Cantaloupe 2', 'Carambula', 'Cherry 1', 'Cherry 2', 'Cherry Rainier', 'Cherry Wax Black', 'Cherry Wax Red', 'Cherry Wax Yellow', 'Chestnut', 'Clementine', 'Cocos', 'Dates']\n",
        "\n",
        "with contextlib.suppress(Exception):\n",
        "    for fruit in fruits:\n",
        "        src_path = os.path.join(source_dir, fruit)\n",
        "        dest_path = os.path.join(dest_dir, fruit)\n",
        "        shutil.copytree(src_path, dest_path)"
      ]
    },
    {
      "cell_type": "code",
      "execution_count": 31,
      "metadata": {},
      "outputs": [
        {
          "name": "stdout",
          "output_type": "stream",
          "text": [
            "Found 12018 images belonging to 30 classes.\n"
          ]
        }
      ],
      "source": [
        "train_datagen = preprocessing.image.ImageDataGenerator(validation_split=0.20)\n",
        "train_generator = train_datagen.flow_from_directory(\n",
        "    'fruits/fruits-360_dataset/fruits-360/Training_30_fruits',\n",
        "    batch_size=200,\n",
        "    color_mode='rgb',\n",
        "    subset='training',\n",
        "    target_size=(30, 30)\n",
        "    )\n"
      ]
    },
    {
      "cell_type": "code",
      "execution_count": 32,
      "metadata": {
        "id": "_BaY8FN6fR6x"
      },
      "outputs": [
        {
          "name": "stdout",
          "output_type": "stream",
          "text": [
            "Found 2994 images belonging to 30 classes.\n"
          ]
        }
      ],
      "source": [
        "valid_generator = train_datagen.flow_from_directory(\n",
        "    'fruits/fruits-360_dataset/fruits-360/Training_30_fruits',\n",
        "    batch_size=200,\n",
        "    color_mode = 'rgb',\n",
        "    subset='validation',\n",
        "    target_size=(30, 30)\n",
        "    )"
      ]
    },
    {
      "cell_type": "code",
      "execution_count": 33,
      "metadata": {
        "id": "j_lsEBqlfu4a"
      },
      "outputs": [
        {
          "data": {
            "image/png": "[encoded data removed]",
            "text/plain": [
              "<Figure size 640x480 with 1 Axes>"
            ]
          },
          "metadata": {},
          "output_type": "display_data"
        }
      ],
      "source": [
        "#Visualizando \n",
        "x,y = train_generator.next()\n",
        "for i in range(1):\n",
        "    image = x[i]   \n",
        "    plt.imshow(image[:,:,0])\n",
        "    plt.show()"
      ]
    },
    {
      "attachments": {},
      "cell_type": "markdown",
      "metadata": {},
      "source": [
        "## Construção do Modelo\n",
        "\n",
        "Agora, vamos construir o modelo de rede neural convolucional (CNN). Estamos usando a arquitetura LeNet-5 como nosso ponto de partida."
      ]
    },
    {
      "cell_type": "code",
      "execution_count": 34,
      "metadata": {
        "id": "NbOaV-gQgXpH"
      },
      "outputs": [],
      "source": [
        "num_classes = y[0].shape[0]\n",
        "\n",
        "STEP_SIZE_TRAIN=train_generator.n//train_generator.batch_size\n",
        "STEP_SIZE_VALID=valid_generator.n//valid_generator.batch_size\n"
      ]
    },
    {
      "cell_type": "code",
      "execution_count": 35,
      "metadata": {
        "id": "kxlPBEOxgZMM"
      },
      "outputs": [
        {
          "name": "stdout",
          "output_type": "stream",
          "text": [
            "(None, 24, 24, 32)\n",
            "(None, 12, 12, 32)\n",
            "(None, 8, 8, 64)\n",
            "(None, 4, 4, 64)\n",
            "(None, 2, 2, 128)\n",
            "(None, 1, 1, 128)\n",
            "(None, 128)\n",
            "(None, 512)\n",
            "(None, 128)\n",
            "(None, 64)\n",
            "(None, 30)\n"
          ]
        }
      ],
      "source": [
        "# Cria o modelo\n",
        "model = Sequential()\n",
        "#Convolução 2D com função de ativação Rectified Linear Units 32 kernels/Pesos (filtros) \n",
        "model.add(Conv2D(32, (7, 7), input_shape=(30,30,3), activation='relu')) #, data_format='channels_first'\n",
        "print( model.output_shape)\n",
        "#Camada de Pooling \t    \n",
        "model.add(AveragePooling2D(pool_size=(2, 2)))\n",
        "print( model.output_shape)\n",
        "\t\n",
        "#Convolução 2D com função de ativação Rectified Linear Units 64 kernels/Pesos (filtros) \n",
        "model.add(Conv2D(64, (5, 5), activation='relu'))\n",
        "print( model.output_shape)\n",
        "#Camada de Pooling \t\n",
        "model.add(AveragePooling2D(pool_size=(2, 2)))\n",
        "print( model.output_shape)\n",
        "\n",
        "#Convolução 2D com função de ativação Rectified Linear Units 128 kernels/Pesos (filtros) \n",
        "model.add(Conv2D(128, (3, 3), activation='relu'))\n",
        "print( model.output_shape)\n",
        "#Camada de Pooling \t\n",
        "model.add(AveragePooling2D(pool_size=(2, 2)))\n",
        "print( model.output_shape)\n",
        "\n",
        "#Remove 30% dos dados de entrada aleatoriamente \n",
        "model.add(Dropout(0.3))\n",
        "#Converte o conjunto de imagens e um vetor unidimensional para a entrada da rede neural totalmente conectada\n",
        "model.add(Flatten())\n",
        "print( model.output_shape)\n",
        "\n",
        "model.add(Dense(512, activation='relu'))\n",
        "print( model.output_shape)\n",
        "model.add(Dense(128, activation='relu'))\n",
        "print( model.output_shape)\n",
        "model.add(Dense(64, activation='relu'))\n",
        "print( model.output_shape)\n",
        "model.add(Dense(num_classes, activation='softmax'))\n",
        "print( model.output_shape)\n"
      ]
    },
    {
      "attachments": {},
      "cell_type": "markdown",
      "metadata": {},
      "source": [
        "## Treinamento do Modelo\n",
        "\n",
        "Agora que temos nosso modelo construído, vamos treiná-lo com nossos dados de treinamento."
      ]
    },
    {
      "cell_type": "code",
      "execution_count": 36,
      "metadata": {
        "id": "9Zo-NEaegdNh"
      },
      "outputs": [],
      "source": [
        "model.compile(loss='categorical_crossentropy', optimizer='adam', metrics=['accuracy'])"
      ]
    },
    {
      "cell_type": "code",
      "execution_count": 37,
      "metadata": {
        "id": "az7y6EhkgiOe"
      },
      "outputs": [
        {
          "name": "stdout",
          "output_type": "stream",
          "text": [
            "Model: \"sequential_1\"\n",
            "_________________________________________________________________\n",
            " Layer (type)                Output Shape              Param #   \n",
            "=================================================================\n",
            " conv2d_3 (Conv2D)           (None, 24, 24, 32)        4736      \n",
            "                                                                 \n",
            " average_pooling2d_3 (Averag  (None, 12, 12, 32)       0         \n",
            " ePooling2D)                                                     \n",
            "                                                                 \n",
            " conv2d_4 (Conv2D)           (None, 8, 8, 64)          51264     \n",
            "                                                                 \n",
            " average_pooling2d_4 (Averag  (None, 4, 4, 64)         0         \n",
            " ePooling2D)                                                     \n",
            "                                                                 \n",
            " conv2d_5 (Conv2D)           (None, 2, 2, 128)         73856     \n",
            "                                                                 \n",
            " average_pooling2d_5 (Averag  (None, 1, 1, 128)        0         \n",
            " ePooling2D)                                                     \n",
            "                                                                 \n",
            " dropout_1 (Dropout)         (None, 1, 1, 128)         0         \n",
            "                                                                 \n",
            " flatten_1 (Flatten)         (None, 128)               0         \n",
            "                                                                 \n",
            " dense_4 (Dense)             (None, 512)               66048     \n",
            "                                                                 \n",
            " dense_5 (Dense)             (None, 128)               65664     \n",
            "                                                                 \n",
            " dense_6 (Dense)             (None, 64)                8256      \n",
            "                                                                 \n",
            " dense_7 (Dense)             (None, 30)                1950      \n",
            "                                                                 \n",
            "=================================================================\n",
            "Total params: 271,774\n",
            "Trainable params: 271,774\n",
            "Non-trainable params: 0\n",
            "_________________________________________________________________\n",
            "Epoch 1/10\n"
          ]
        },
        {
          "name": "stderr",
          "output_type": "stream",
          "text": [
            "C:\\Users\\KAIQUEHENRIQUEVALIM\\AppData\\Local\\Temp\\ipykernel_17368\\1174510854.py:6: UserWarning: `Model.fit_generator` is deprecated and will be removed in a future version. Please use `Model.fit`, which supports generators.\n",
            "  history = model.fit_generator(train_generator,\n"
          ]
        },
        {
          "name": "stdout",
          "output_type": "stream",
          "text": [
            "60/60 [==============================] - ETA: 0s - loss: 2.4862 - accuracy: 0.3082\n",
            "Epoch 1: val_accuracy improved from -inf to 0.70857, saving model to model_best.h5\n",
            "60/60 [==============================] - 11s 180ms/step - loss: 2.4862 - accuracy: 0.3082 - val_loss: 0.8986 - val_accuracy: 0.7086\n",
            "Epoch 2/10\n",
            "60/60 [==============================] - ETA: 0s - loss: 0.5151 - accuracy: 0.8213\n",
            "Epoch 2: val_accuracy improved from 0.70857 to 0.88821, saving model to model_best.h5\n",
            "60/60 [==============================] - 7s 109ms/step - loss: 0.5151 - accuracy: 0.8213 - val_loss: 0.5087 - val_accuracy: 0.8882\n",
            "Epoch 3/10\n",
            "60/60 [==============================] - ETA: 0s - loss: 0.2896 - accuracy: 0.8999\n",
            "Epoch 3: val_accuracy did not improve from 0.88821\n",
            "60/60 [==============================] - 6s 108ms/step - loss: 0.2896 - accuracy: 0.8999 - val_loss: 0.4948 - val_accuracy: 0.8593\n",
            "Epoch 4/10\n",
            "60/60 [==============================] - ETA: 0s - loss: 0.1837 - accuracy: 0.9341\n",
            "Epoch 4: val_accuracy improved from 0.88821 to 0.90393, saving model to model_best.h5\n",
            "60/60 [==============================] - 6s 106ms/step - loss: 0.1837 - accuracy: 0.9341 - val_loss: 0.4971 - val_accuracy: 0.9039\n",
            "Epoch 5/10\n",
            "60/60 [==============================] - ETA: 0s - loss: 0.1148 - accuracy: 0.9596\n",
            "Epoch 5: val_accuracy improved from 0.90393 to 0.91143, saving model to model_best.h5\n",
            "60/60 [==============================] - 6s 106ms/step - loss: 0.1148 - accuracy: 0.9596 - val_loss: 0.5782 - val_accuracy: 0.9114\n",
            "Epoch 6/10\n",
            "60/60 [==============================] - ETA: 0s - loss: 0.0576 - accuracy: 0.9794\n",
            "Epoch 6: val_accuracy did not improve from 0.91143\n",
            "60/60 [==============================] - 6s 108ms/step - loss: 0.0576 - accuracy: 0.9794 - val_loss: 0.7426 - val_accuracy: 0.8818\n",
            "Epoch 7/10\n",
            "60/60 [==============================] - ETA: 0s - loss: 0.0788 - accuracy: 0.9727\n",
            "Epoch 7: val_accuracy did not improve from 0.91143\n",
            "60/60 [==============================] - 6s 106ms/step - loss: 0.0788 - accuracy: 0.9727 - val_loss: 0.6712 - val_accuracy: 0.8904\n",
            "Epoch 8/10\n",
            "60/60 [==============================] - ETA: 0s - loss: 0.0451 - accuracy: 0.9846\n",
            "Epoch 8: val_accuracy did not improve from 0.91143\n",
            "60/60 [==============================] - 6s 107ms/step - loss: 0.0451 - accuracy: 0.9846 - val_loss: 0.7982 - val_accuracy: 0.8907\n",
            "Epoch 9/10\n",
            "60/60 [==============================] - ETA: 0s - loss: 0.0293 - accuracy: 0.9887\n",
            "Epoch 9: val_accuracy improved from 0.91143 to 0.92964, saving model to model_best.h5\n",
            "60/60 [==============================] - 7s 108ms/step - loss: 0.0293 - accuracy: 0.9887 - val_loss: 0.5065 - val_accuracy: 0.9296\n",
            "Epoch 10/10\n",
            "60/60 [==============================] - ETA: 0s - loss: 0.1213 - accuracy: 0.9610\n",
            "Epoch 10: val_accuracy did not improve from 0.92964\n",
            "60/60 [==============================] - 7s 110ms/step - loss: 0.1213 - accuracy: 0.9610 - val_loss: 0.4422 - val_accuracy: 0.9129\n"
          ]
        }
      ],
      "source": [
        "mcp_save = ModelCheckpoint('model_best.h5', monitor='val_accuracy', mode= 'auto', save_weights_only=True, save_best_only=True, verbose =1)\n",
        "#reduce_lr_loss = ReduceLROnPlateau(monitor='val_loss', factor=0.1, patience=7, verbose=1, epsilon=1e-4, mode='min')\n",
        "\n",
        "model.summary()\n",
        "\n",
        "history = model.fit_generator(train_generator, \n",
        "                    steps_per_epoch=STEP_SIZE_TRAIN,\n",
        "                    validation_data=valid_generator,\n",
        "                    validation_steps=STEP_SIZE_VALID,\n",
        "                    epochs=10, callbacks=[mcp_save])"
      ]
    },
    {
      "attachments": {},
      "cell_type": "markdown",
      "metadata": {},
      "source": [
        "## Avaliação do Modelo\n",
        "\n",
        "Após o treinamento, vamos avaliar o desempenho do nosso modelo nos dados de teste."
      ]
    },
    {
      "cell_type": "code",
      "execution_count": 38,
      "metadata": {},
      "outputs": [],
      "source": [
        "import contextlib\n",
        "source_dir = 'fruits/fruits-360_dataset/fruits-360/Test'\n",
        "dest_dir = 'fruits/fruits-360_dataset/fruits-360/Test_30_fruits'\n",
        "\n",
        "# Cria o diretório de destino se ele não existir\n",
        "with contextlib.suppress(Exception):\n",
        "    if not os.path.exists(dest_dir):\n",
        "        os.makedirs(dest_dir)\n",
        "        \n",
        "# Copia as pastas das 30 primeiras frutas para o diretório de destino\n",
        "fruits = ['Apple Braeburn', 'Apple Golden 1', 'Apple Golden 2', 'Apple Golden 3', 'Apple Granny Smith', 'Apple Red 1', 'Apple Red 2', 'Apple Red 3', 'Apple Red Delicious', 'Apple Red Yellow 1', 'Apricot', 'Avocado', 'Avocado ripe', 'Banana', 'Banana Lady Finger', 'Banana Red', 'Cactus fruit', 'Cantaloupe 1', 'Cantaloupe 2', 'Carambula', 'Cherry 1', 'Cherry 2', 'Cherry Rainier', 'Cherry Wax Black', 'Cherry Wax Red', 'Cherry Wax Yellow', 'Chestnut', 'Clementine', 'Cocos', 'Dates']\n",
        "\n",
        "with contextlib.suppress(Exception):\n",
        "    for fruit in fruits:\n",
        "        src_path = os.path.join(source_dir, fruit)\n",
        "        dest_path = os.path.join(dest_dir, fruit)\n",
        "        shutil.copytree(src_path, dest_path)\n"
      ]
    },
    {
      "cell_type": "code",
      "execution_count": 39,
      "metadata": {
        "id": "k2dFjFKUgpnA"
      },
      "outputs": [
        {
          "name": "stdout",
          "output_type": "stream",
          "text": [
            "Found 5035 images belonging to 30 classes.\n"
          ]
        }
      ],
      "source": [
        "test_datagen = preprocessing.image.ImageDataGenerator()\n",
        "test_generator = test_datagen.flow_from_directory(\n",
        "    'fruits/fruits-360_dataset/fruits-360/Test_30_fruits',\n",
        "    batch_size=1,\n",
        "    color_mode = 'rgb',    \n",
        "    target_size=(30, 30))"
      ]
    },
    {
      "cell_type": "code",
      "execution_count": 40,
      "metadata": {
        "id": "R-oBAzcAgzwL"
      },
      "outputs": [
        {
          "name": "stderr",
          "output_type": "stream",
          "text": [
            "C:\\Users\\KAIQUEHENRIQUEVALIM\\AppData\\Local\\Temp\\ipykernel_17368\\1459900303.py:1: UserWarning: `Model.evaluate_generator` is deprecated and will be removed in a future version. Please use `Model.evaluate`, which supports generators.\n",
            "  scores = model.evaluate_generator(test_generator)\n"
          ]
        },
        {
          "name": "stdout",
          "output_type": "stream",
          "text": [
            "[0.5300417542457581, 0.9096325635910034]\n"
          ]
        }
      ],
      "source": [
        "scores = model.evaluate_generator(test_generator)   \n",
        "print(scores)"
      ]
    },
    {
      "cell_type": "code",
      "execution_count": 60,
      "metadata": {
        "id": "2uDyTaiCg0-H"
      },
      "outputs": [
        {
          "name": "stderr",
          "output_type": "stream",
          "text": [
            "C:\\Users\\KAIQUEHENRIQUEVALIM\\AppData\\Local\\Temp\\ipykernel_17368\\4127305638.py:1: UserWarning: `Model.predict_generator` is deprecated and will be removed in a future version. Please use `Model.predict`, which supports generators.\n",
            "  predictions = model.predict_generator(test_generator)\n"
          ]
        },
        {
          "data": {
            "text/plain": [
              "array([[3.7585865e-10, 1.9610187e-09, 8.8432995e-07, ..., 1.6458137e-11,\n",
              "        1.6090504e-11, 1.5231582e-13],\n",
              "       [3.6615172e-13, 3.7133502e-06, 9.3211070e-14, ..., 1.5853681e-13,\n",
              "        1.7985613e-18, 2.4373278e-14],\n",
              "       [1.5179194e-16, 5.9505030e-15, 4.1171497e-11, ..., 3.4534079e-17,\n",
              "        1.1711433e-10, 9.9998653e-01],\n",
              "       ...,\n",
              "       [7.0058424e-19, 5.4991529e-21, 2.6201753e-15, ..., 5.0357899e-20,\n",
              "        3.5559580e-12, 3.4649116e-07],\n",
              "       [4.0730419e-10, 3.2283522e-14, 8.9324317e-15, ..., 9.9964058e-01,\n",
              "        4.3483348e-14, 1.6057509e-12],\n",
              "       [2.5656644e-07, 2.8188448e-05, 2.2856052e-04, ..., 2.0384849e-10,\n",
              "        1.2055851e-10, 1.5275520e-11]], dtype=float32)"
            ]
          },
          "execution_count": 60,
          "metadata": {},
          "output_type": "execute_result"
        }
      ],
      "source": [
        "predictions = model.predict_generator(test_generator)\n",
        "predictions"
      ]
    },
    {
      "cell_type": "code",
      "execution_count": 42,
      "metadata": {
        "id": "JG9lcmU0gtgZ"
      },
      "outputs": [
        {
          "name": "stdout",
          "output_type": "stream",
          "text": [
            "8\n"
          ]
        }
      ],
      "source": [
        "res1 = np.argmax(predictions[0,:])\n",
        "print(res1) "
      ]
    },
    {
      "attachments": {},
      "cell_type": "markdown",
      "metadata": {
        "id": "BtaLUbZ1mpu2"
      },
      "source": [
        "Como Fazer a predição de uma imagem PNG?"
      ]
    },
    {
      "cell_type": "code",
      "execution_count": 43,
      "metadata": {
        "id": "rrmeie27nHvg"
      },
      "outputs": [
        {
          "data": {
            "image/png": "[encoded data removed]",
            "text/plain": [
              "<Figure size 640x480 with 1 Axes>"
            ]
          },
          "metadata": {},
          "output_type": "display_data"
        }
      ],
      "source": [
        "#fileimg = r'D:\\digito_7_2SAN.png'\n",
        "fileimg = r'fruits\\fruits-360_dataset\\fruits-360\\Test_30_fruits\\Dates\\4_100.jpg'\n",
        "\n",
        "img = load_img(fileimg , color_mode = \"rgb\", target_size=(30, 30))\n",
        "\n",
        "#\n",
        "x = img_to_array(img)\n",
        "\n",
        "plt.imshow(x[:,:,0])\n",
        "plt.show()"
      ]
    },
    {
      "cell_type": "code",
      "execution_count": 44,
      "metadata": {
        "id": "IFLveOHmnw5R"
      },
      "outputs": [
        {
          "data": {
            "text/plain": [
              "(1, 30, 30, 3)"
            ]
          },
          "execution_count": 44,
          "metadata": {},
          "output_type": "execute_result"
        }
      ],
      "source": [
        "x = np.expand_dims(x, axis=0)\n",
        "x.shape"
      ]
    },
    {
      "cell_type": "code",
      "execution_count": 45,
      "metadata": {
        "id": "te7CvbA2moT8"
      },
      "outputs": [
        {
          "name": "stdout",
          "output_type": "stream",
          "text": [
            "1/1 [==============================] - 0s 78ms/step\n",
            "29\n"
          ]
        }
      ],
      "source": [
        "y_pred = model.predict(x)\n",
        "\n",
        "res = np.argmax(y_pred)\n",
        "print(res)"
      ]
    },
    {
      "cell_type": "code",
      "execution_count": 46,
      "metadata": {
        "id": "NOTuya-1MGRB"
      },
      "outputs": [
        {
          "data": {
            "text/plain": [
              "array([[6.98696673e-16, 2.86898563e-14, 1.23958524e-10, 3.40963762e-14,\n",
              "        1.45967460e-14, 1.84091826e-12, 3.76271076e-14, 5.58606648e-18,\n",
              "        6.88704517e-07, 8.28646972e-17, 1.78863355e-16, 1.02039965e-11,\n",
              "        2.62585345e-05, 1.58266729e-07, 6.85794088e-10, 1.58018429e-06,\n",
              "        1.13630056e-08, 1.51111212e-09, 7.28982087e-13, 1.15687087e-11,\n",
              "        4.44794812e-10, 5.53960350e-11, 1.04465603e-10, 1.09803942e-07,\n",
              "        2.73397125e-12, 3.89025644e-07, 2.21487497e-07, 1.73284928e-16,\n",
              "        2.46484277e-10, 9.99970555e-01]], dtype=float32)"
            ]
          },
          "execution_count": 46,
          "metadata": {},
          "output_type": "execute_result"
        }
      ],
      "source": [
        "y_pred"
      ]
    },
    {
      "cell_type": "code",
      "execution_count": 47,
      "metadata": {
        "id": "PZJPF99ewuQ8"
      },
      "outputs": [
        {
          "data": {
            "text/plain": [
              "{'Apple Braeburn': 0,\n",
              " 'Apple Golden 1': 1,\n",
              " 'Apple Golden 2': 2,\n",
              " 'Apple Golden 3': 3,\n",
              " 'Apple Granny Smith': 4,\n",
              " 'Apple Red 1': 5,\n",
              " 'Apple Red 2': 6,\n",
              " 'Apple Red 3': 7,\n",
              " 'Apple Red Delicious': 8,\n",
              " 'Apple Red Yellow 1': 9,\n",
              " 'Apricot': 10,\n",
              " 'Avocado': 11,\n",
              " 'Avocado ripe': 12,\n",
              " 'Banana': 13,\n",
              " 'Banana Lady Finger': 14,\n",
              " 'Banana Red': 15,\n",
              " 'Cactus fruit': 16,\n",
              " 'Cantaloupe 1': 17,\n",
              " 'Cantaloupe 2': 18,\n",
              " 'Carambula': 19,\n",
              " 'Cherry 1': 20,\n",
              " 'Cherry 2': 21,\n",
              " 'Cherry Rainier': 22,\n",
              " 'Cherry Wax Black': 23,\n",
              " 'Cherry Wax Red': 24,\n",
              " 'Cherry Wax Yellow': 25,\n",
              " 'Chestnut': 26,\n",
              " 'Clementine': 27,\n",
              " 'Cocos': 28,\n",
              " 'Dates': 29}"
            ]
          },
          "execution_count": 47,
          "metadata": {},
          "output_type": "execute_result"
        }
      ],
      "source": [
        "train_generator.class_indices"
      ]
    },
    {
      "cell_type": "code",
      "execution_count": 48,
      "metadata": {},
      "outputs": [
        {
          "data": {
            "image/png": "[encoded data removed]",
            "text/plain": [
              "<Figure size 1200x400 with 2 Axes>"
            ]
          },
          "metadata": {},
          "output_type": "display_data"
        }
      ],
      "source": [
        "# Plotando as curvas de perda e acurácia durante o treinamento\n",
        "\n",
        "# Definindo o tamanho da figura\n",
        "plt.figure(figsize=(12, 4))\n",
        "\n",
        "# Subplot 1: curva de perda\n",
        "plt.subplot(1, 2, 1)\n",
        "plt.plot(history.history['loss'], label='Perda (treinamento)')\n",
        "plt.plot(history.history['val_loss'], label='Perda (validação)')\n",
        "plt.title('Perda do Modelo durante o Treinamento')\n",
        "plt.xlabel('Época')\n",
        "plt.ylabel('Perda')\n",
        "plt.legend()\n",
        "\n",
        "# Subplot 2: curva de acurácia\n",
        "plt.subplot(1, 2, 2)\n",
        "plt.plot(history.history['accuracy'], label='Acurácia (treinamento)')\n",
        "plt.plot(history.history['val_accuracy'], label='Acurácia (validação)')\n",
        "plt.title('Acurácia do Modelo durante o Treinamento')\n",
        "plt.xlabel('Época')\n",
        "plt.ylabel('Acurácia')\n",
        "plt.legend()\n",
        "\n",
        "# Mostrando a figura\n",
        "plt.show()"
      ]
    }
  ],
  "metadata": {
    "accelerator": "GPU",
    "colab": {
      "provenance": []
    },
    "kernelspec": {
      "display_name": "Python 3",
      "name": "python3"
    },
    "language_info": {
      "codemirror_mode": {
        "name": "ipython",
        "version": 3
      },
      "file_extension": ".py",
      "mimetype": "text/x-python",
      "name": "python",
      "nbconvert_exporter": "python",
      "pygments_lexer": "ipython3",
      "version": "3.10.2"
    }
  },
  "nbformat": 4,
  "nbformat_minor": 0
}
