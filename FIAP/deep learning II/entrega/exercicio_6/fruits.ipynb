{
  "cells": [
    {
      "attachments": {},
      "cell_type": "markdown",
      "metadata": {},
      "source": [
        "# Projeto de Classificação de Frutas"
      ]
    },
    {
      "attachments": {},
      "cell_type": "markdown",
      "metadata": {},
      "source": [
        "## Importação das bibliotecas"
      ]
    },
    {
      "cell_type": "code",
      "execution_count": 39,
      "metadata": {
        "id": "Z-dlXc3p_aEL"
      },
      "outputs": [],
      "source": [
        "import os\n",
        "import shutil\n",
        "import contextlib\n",
        "import numpy as np\n",
        "import matplotlib.pyplot as plt\n",
        "\n",
        "from keras.models import Sequential\n",
        "from keras.layers import Dense\n",
        "from keras.layers import Dropout\n",
        "from keras.layers import Flatten\n",
        "from keras.layers.convolutional import Conv2D\n",
        "from keras.layers.convolutional import MaxPooling2D,AveragePooling2D\n",
        "from tensorflow.keras.utils import img_to_array , load_img\n",
        "from keras import preprocessing\n",
        "from keras.callbacks import ModelCheckpoint\n",
        "from sklearn.metrics import confusion_matrix\n",
        "\n",
        "import seaborn as sns\n",
        "import warnings\n",
        "warnings.filterwarnings('ignore')"
      ]
    },
    {
      "attachments": {},
      "cell_type": "markdown",
      "metadata": {},
      "source": [
        "## Preparação dos dados"
      ]
    },
    {
      "cell_type": "code",
      "execution_count": 22,
      "metadata": {},
      "outputs": [],
      "source": [
        "import contextlib\n",
        "source_dir = 'fruits/fruits-360_dataset/fruits-360/Training'\n",
        "dest_dir = 'fruits/fruits-360_dataset/fruits-360/Training_30_fruits'\n",
        "\n",
        "# Cria o diretório de destino se ele não existir\n",
        "with contextlib.suppress(Exception):\n",
        "    if not os.path.exists(dest_dir):\n",
        "        os.makedirs(dest_dir)\n",
        "\n",
        "# Copia as pastas das 30 primeiras frutas para o diretório de destino\n",
        "fruits = ['Apple Braeburn', 'Apple Golden 1', 'Apple Golden 2', 'Apple Golden 3', 'Apple Granny Smith', 'Apple Red 1', 'Apple Red 2', 'Apple Red 3', 'Apple Red Delicious', 'Apple Red Yellow 1', 'Apricot', 'Avocado', 'Avocado ripe', 'Banana', 'Banana Lady Finger', 'Banana Red', 'Cactus fruit', 'Cantaloupe 1', 'Cantaloupe 2', 'Carambula', 'Cherry 1', 'Cherry 2', 'Cherry Rainier', 'Cherry Wax Black', 'Cherry Wax Red', 'Cherry Wax Yellow', 'Chestnut', 'Clementine', 'Cocos', 'Dates']\n",
        "\n",
        "with contextlib.suppress(Exception):\n",
        "    for fruit in fruits:\n",
        "        src_path = os.path.join(source_dir, fruit)\n",
        "        dest_path = os.path.join(dest_dir, fruit)\n",
        "        shutil.copytree(src_path, dest_path)"
      ]
    },
    {
      "cell_type": "code",
      "execution_count": 23,
      "metadata": {},
      "outputs": [
        {
          "name": "stdout",
          "output_type": "stream",
          "text": [
            "Found 12018 images belonging to 30 classes.\n"
          ]
        }
      ],
      "source": [
        "train_datagen = preprocessing.image.ImageDataGenerator(validation_split=0.20)\n",
        "train_generator = train_datagen.flow_from_directory(\n",
        "    'fruits/fruits-360_dataset/fruits-360/Training_30_fruits',\n",
        "    batch_size=200,\n",
        "    color_mode='rgb',\n",
        "    subset='training',\n",
        "    target_size=(30, 30)\n",
        "    )\n"
      ]
    },
    {
      "cell_type": "code",
      "execution_count": 24,
      "metadata": {
        "id": "_BaY8FN6fR6x"
      },
      "outputs": [
        {
          "name": "stdout",
          "output_type": "stream",
          "text": [
            "Found 2994 images belonging to 30 classes.\n"
          ]
        }
      ],
      "source": [
        "valid_generator = train_datagen.flow_from_directory(\n",
        "    'fruits/fruits-360_dataset/fruits-360/Training_30_fruits',\n",
        "    batch_size=200,\n",
        "    color_mode = 'rgb',\n",
        "    subset='validation',\n",
        "    target_size=(30, 30)\n",
        "    )"
      ]
    },
    {
      "cell_type": "code",
      "execution_count": 25,
      "metadata": {
        "id": "j_lsEBqlfu4a"
      },
      "outputs": [
        {
          "data": {
            "image/png": "[encoded data removed]",
            "text/plain": [
              "<Figure size 640x480 with 1 Axes>"
            ]
          },
          "metadata": {},
          "output_type": "display_data"
        }
      ],
      "source": [
        "#Visualizando \n",
        "x,y = train_generator.next()\n",
        "for i in range(1):\n",
        "    image = x[i]   \n",
        "    plt.imshow(image[:,:,0])\n",
        "    plt.show()"
      ]
    },
    {
      "attachments": {},
      "cell_type": "markdown",
      "metadata": {},
      "source": [
        "## Construção do Modelo\n"
      ]
    },
    {
      "cell_type": "code",
      "execution_count": 26,
      "metadata": {
        "id": "NbOaV-gQgXpH"
      },
      "outputs": [],
      "source": [
        "num_classes = y[0].shape[0]\n",
        "\n",
        "STEP_SIZE_TRAIN=train_generator.n//train_generator.batch_size\n",
        "STEP_SIZE_VALID=valid_generator.n//valid_generator.batch_size"
      ]
    },
    {
      "cell_type": "code",
      "execution_count": 27,
      "metadata": {
        "id": "kxlPBEOxgZMM"
      },
      "outputs": [
        {
          "name": "stdout",
          "output_type": "stream",
          "text": [
            "Model: \"sequential_1\"\n",
            "_________________________________________________________________\n",
            " Layer (type)                Output Shape              Param #   \n",
            "=================================================================\n",
            " conv2d_3 (Conv2D)           (None, 24, 24, 32)        4736      \n",
            "                                                                 \n",
            " average_pooling2d_3 (Averag  (None, 12, 12, 32)       0         \n",
            " ePooling2D)                                                     \n",
            "                                                                 \n",
            " conv2d_4 (Conv2D)           (None, 8, 8, 64)          51264     \n",
            "                                                                 \n",
            " average_pooling2d_4 (Averag  (None, 4, 4, 64)         0         \n",
            " ePooling2D)                                                     \n",
            "                                                                 \n",
            " conv2d_5 (Conv2D)           (None, 2, 2, 128)         73856     \n",
            "                                                                 \n",
            " average_pooling2d_5 (Averag  (None, 1, 1, 128)        0         \n",
            " ePooling2D)                                                     \n",
            "                                                                 \n",
            " dropout_1 (Dropout)         (None, 1, 1, 128)         0         \n",
            "                                                                 \n",
            " flatten_1 (Flatten)         (None, 128)               0         \n",
            "                                                                 \n",
            " dense_4 (Dense)             (None, 512)               66048     \n",
            "                                                                 \n",
            " dense_5 (Dense)             (None, 128)               65664     \n",
            "                                                                 \n",
            " dense_6 (Dense)             (None, 64)                8256      \n",
            "                                                                 \n",
            " dense_7 (Dense)             (None, 30)                1950      \n",
            "                                                                 \n",
            "=================================================================\n",
            "Total params: 271,774\n",
            "Trainable params: 271,774\n",
            "Non-trainable params: 0\n",
            "_________________________________________________________________\n"
          ]
        }
      ],
      "source": [
        "# Cria o modelo\n",
        "model = Sequential()\n",
        "\n",
        "#Convolução 2D com função de ativação Rectified Linear Units 32 kernels/Pesos (filtros) \n",
        "model.add(Conv2D(32, (7, 7), input_shape=(30,30,3), activation='relu')) \n",
        "\n",
        "#Camada de Pooling \t    \n",
        "model.add(AveragePooling2D(pool_size=(2, 2)))\n",
        "\t\n",
        "#Convolução 2D com função de ativação Rectified Linear Units 64 kernels/Pesos (filtros) \n",
        "model.add(Conv2D(64, (5, 5), activation='relu'))\n",
        "\n",
        "#Camada de Pooling \t\n",
        "model.add(AveragePooling2D(pool_size=(2, 2)))\n",
        "\n",
        "#Convolução 2D com função de ativação Rectified Linear Units 128 kernels/Pesos (filtros) \n",
        "model.add(Conv2D(128, (3, 3), activation='relu'))\n",
        "\n",
        "#Camada de Pooling \t\n",
        "model.add(AveragePooling2D(pool_size=(2, 2)))\n",
        "\n",
        "\n",
        "#Remove 30% dos dados de entrada aleatoriamente \n",
        "model.add(Dropout(0.3))\n",
        "\n",
        "#Converte o conjunto de imagens e um vetor unidimensional para a entrada da rede neural totalmente conectada\n",
        "model.add(Flatten())\n",
        "\n",
        "model.add(Dense(512, activation='relu'))\n",
        "\n",
        "model.add(Dense(128, activation='relu'))\n",
        "\n",
        "model.add(Dense(64, activation='relu'))\n",
        "\n",
        "model.add(Dense(num_classes, activation='softmax'))\n",
        "\n",
        "# Compilando o modelo\n",
        "model.compile(loss='categorical_crossentropy', optimizer='adam', metrics=['accuracy'])\n",
        "\n",
        "# Imprimindo o resumo do modelo\n",
        "model.summary()"
      ]
    },
    {
      "attachments": {},
      "cell_type": "markdown",
      "metadata": {},
      "source": [
        "## Treinamento do Modelo\n",
        "\n",
        "Agora que temos nosso modelo construído, vamos treiná-lo com nossos dados de treinamento."
      ]
    },
    {
      "cell_type": "code",
      "execution_count": 28,
      "metadata": {
        "id": "az7y6EhkgiOe"
      },
      "outputs": [
        {
          "name": "stdout",
          "output_type": "stream",
          "text": [
            "Model: \"sequential_1\"\n",
            "_________________________________________________________________\n",
            " Layer (type)                Output Shape              Param #   \n",
            "=================================================================\n",
            " conv2d_3 (Conv2D)           (None, 24, 24, 32)        4736      \n",
            "                                                                 \n",
            " average_pooling2d_3 (Averag  (None, 12, 12, 32)       0         \n",
            " ePooling2D)                                                     \n",
            "                                                                 \n",
            " conv2d_4 (Conv2D)           (None, 8, 8, 64)          51264     \n",
            "                                                                 \n",
            " average_pooling2d_4 (Averag  (None, 4, 4, 64)         0         \n",
            " ePooling2D)                                                     \n",
            "                                                                 \n",
            " conv2d_5 (Conv2D)           (None, 2, 2, 128)         73856     \n",
            "                                                                 \n",
            " average_pooling2d_5 (Averag  (None, 1, 1, 128)        0         \n",
            " ePooling2D)                                                     \n",
            "                                                                 \n",
            " dropout_1 (Dropout)         (None, 1, 1, 128)         0         \n",
            "                                                                 \n",
            " flatten_1 (Flatten)         (None, 128)               0         \n",
            "                                                                 \n",
            " dense_4 (Dense)             (None, 512)               66048     \n",
            "                                                                 \n",
            " dense_5 (Dense)             (None, 128)               65664     \n",
            "                                                                 \n",
            " dense_6 (Dense)             (None, 64)                8256      \n",
            "                                                                 \n",
            " dense_7 (Dense)             (None, 30)                1950      \n",
            "                                                                 \n",
            "=================================================================\n",
            "Total params: 271,774\n",
            "Trainable params: 271,774\n",
            "Non-trainable params: 0\n",
            "_________________________________________________________________\n",
            "Epoch 1/10\n",
            "60/60 [==============================] - ETA: 0s - loss: 2.9281 - accuracy: 0.2841\n",
            "Epoch 1: val_accuracy improved from -inf to 0.60250, saving model to model_best.h5\n",
            "60/60 [==============================] - 9s 134ms/step - loss: 2.9281 - accuracy: 0.2841 - val_loss: 1.2595 - val_accuracy: 0.6025\n",
            "Epoch 2/10\n",
            "60/60 [==============================] - ETA: 0s - loss: 0.8124 - accuracy: 0.7128\n",
            "Epoch 2: val_accuracy improved from 0.60250 to 0.84250, saving model to model_best.h5\n",
            "60/60 [==============================] - 8s 132ms/step - loss: 0.8124 - accuracy: 0.7128 - val_loss: 0.5707 - val_accuracy: 0.8425\n",
            "Epoch 3/10\n",
            "60/60 [==============================] - ETA: 0s - loss: 0.3315 - accuracy: 0.8820\n",
            "Epoch 3: val_accuracy improved from 0.84250 to 0.85250, saving model to model_best.h5\n",
            "60/60 [==============================] - 8s 128ms/step - loss: 0.3315 - accuracy: 0.8820 - val_loss: 0.6783 - val_accuracy: 0.8525\n",
            "Epoch 4/10\n",
            "60/60 [==============================] - ETA: 0s - loss: 0.1967 - accuracy: 0.9304\n",
            "Epoch 4: val_accuracy improved from 0.85250 to 0.88679, saving model to model_best.h5\n",
            "60/60 [==============================] - 8s 126ms/step - loss: 0.1967 - accuracy: 0.9304 - val_loss: 0.5893 - val_accuracy: 0.8868\n",
            "Epoch 5/10\n",
            "60/60 [==============================] - ETA: 0s - loss: 0.1720 - accuracy: 0.9386\n",
            "Epoch 5: val_accuracy did not improve from 0.88679\n",
            "60/60 [==============================] - 8s 130ms/step - loss: 0.1720 - accuracy: 0.9386 - val_loss: 0.8034 - val_accuracy: 0.8396\n",
            "Epoch 6/10\n",
            "60/60 [==============================] - ETA: 0s - loss: 0.1220 - accuracy: 0.9541\n",
            "Epoch 6: val_accuracy improved from 0.88679 to 0.91321, saving model to model_best.h5\n",
            "60/60 [==============================] - 8s 134ms/step - loss: 0.1220 - accuracy: 0.9541 - val_loss: 0.5633 - val_accuracy: 0.9132\n",
            "Epoch 7/10\n",
            "60/60 [==============================] - ETA: 0s - loss: 0.0761 - accuracy: 0.9736\n",
            "Epoch 7: val_accuracy did not improve from 0.91321\n",
            "60/60 [==============================] - 8s 131ms/step - loss: 0.0761 - accuracy: 0.9736 - val_loss: 0.9332 - val_accuracy: 0.8875\n",
            "Epoch 8/10\n",
            "60/60 [==============================] - ETA: 0s - loss: 0.0502 - accuracy: 0.9827\n",
            "Epoch 8: val_accuracy did not improve from 0.91321\n",
            "60/60 [==============================] - 8s 126ms/step - loss: 0.0502 - accuracy: 0.9827 - val_loss: 0.8205 - val_accuracy: 0.9021\n",
            "Epoch 9/10\n",
            "60/60 [==============================] - ETA: 0s - loss: 0.0415 - accuracy: 0.9865\n",
            "Epoch 9: val_accuracy improved from 0.91321 to 0.91536, saving model to model_best.h5\n",
            "60/60 [==============================] - 8s 125ms/step - loss: 0.0415 - accuracy: 0.9865 - val_loss: 0.6617 - val_accuracy: 0.9154\n",
            "Epoch 10/10\n",
            "60/60 [==============================] - ETA: 0s - loss: 0.0933 - accuracy: 0.9673\n",
            "Epoch 10: val_accuracy did not improve from 0.91536\n",
            "60/60 [==============================] - 7s 123ms/step - loss: 0.0933 - accuracy: 0.9673 - val_loss: 0.9874 - val_accuracy: 0.8921\n"
          ]
        }
      ],
      "source": [
        "mcp_save = ModelCheckpoint('model_best.h5', monitor='val_accuracy', mode= 'auto', save_weights_only=True, save_best_only=True, verbose =1)\n",
        "#reduce_lr_loss = ReduceLROnPlateau(monitor='val_loss', factor=0.1, patience=7, verbose=1, epsilon=1e-4, mode='min')\n",
        "\n",
        "model.summary()\n",
        "\n",
        "history = model.fit_generator(train_generator, \n",
        "                    steps_per_epoch=STEP_SIZE_TRAIN,\n",
        "                    validation_data=valid_generator,\n",
        "                    validation_steps=STEP_SIZE_VALID,\n",
        "                    epochs=10, callbacks=[mcp_save])"
      ]
    },
    {
      "attachments": {},
      "cell_type": "markdown",
      "metadata": {},
      "source": [
        "## Avaliação do Modelo\n"
      ]
    },
    {
      "cell_type": "code",
      "execution_count": 29,
      "metadata": {},
      "outputs": [],
      "source": [
        "source_dir = 'fruits/fruits-360_dataset/fruits-360/Test'\n",
        "dest_dir = 'fruits/fruits-360_dataset/fruits-360/Test_30_fruits'\n",
        "\n",
        "# Cria o diretório de destino se ele não existir\n",
        "with contextlib.suppress(Exception):\n",
        "    if not os.path.exists(dest_dir):\n",
        "        os.makedirs(dest_dir)\n",
        "        \n",
        "# Copia as pastas das 30 primeiras frutas para o diretório de destino\n",
        "fruits = [\n",
        "    'Apple Braeburn', 'Apple Golden 1', 'Apple Golden 2', \n",
        "    'Apple Golden 3', 'Apple Granny Smith', 'Apple Red 1', \n",
        "    'Apple Red 2', 'Apple Red 3', 'Apple Red Delicious', \n",
        "    'Apple Red Yellow 1', 'Apricot', 'Avocado', 'Avocado ripe', \n",
        "    'Banana', 'Banana Lady Finger', 'Banana Red', 'Cactus fruit', \n",
        "    'Cantaloupe 1', 'Cantaloupe 2', 'Carambula', 'Cherry 1', \n",
        "    'Cherry 2', 'Cherry Rainier', 'Cherry Wax Black', 'Cherry Wax Red', \n",
        "    'Cherry Wax Yellow', 'Chestnut', 'Clementine', 'Cocos', 'Dates'\n",
        "    ]\n",
        "\n",
        "with contextlib.suppress(Exception):\n",
        "    for fruit in fruits:\n",
        "        src_path = os.path.join(source_dir, fruit)\n",
        "        dest_path = os.path.join(dest_dir, fruit)\n",
        "        shutil.copytree(src_path, dest_path)\n"
      ]
    },
    {
      "cell_type": "code",
      "execution_count": 30,
      "metadata": {
        "id": "k2dFjFKUgpnA"
      },
      "outputs": [
        {
          "name": "stdout",
          "output_type": "stream",
          "text": [
            "Found 5035 images belonging to 30 classes.\n"
          ]
        }
      ],
      "source": [
        "test_datagen = preprocessing.image.ImageDataGenerator()\n",
        "test_generator = test_datagen.flow_from_directory(\n",
        "    'fruits/fruits-360_dataset/fruits-360/Test_30_fruits',\n",
        "    batch_size=1,\n",
        "    color_mode = 'rgb',    \n",
        "    target_size=(30, 30))"
      ]
    },
    {
      "cell_type": "code",
      "execution_count": 31,
      "metadata": {
        "id": "R-oBAzcAgzwL"
      },
      "outputs": [
        {
          "data": {
            "text/plain": [
              "[0.43425965309143066, 0.9006951451301575]"
            ]
          },
          "execution_count": 31,
          "metadata": {},
          "output_type": "execute_result"
        }
      ],
      "source": [
        "scores = model.evaluate_generator(test_generator)   \n",
        "scores"
      ]
    },
    {
      "cell_type": "code",
      "execution_count": 32,
      "metadata": {
        "id": "2uDyTaiCg0-H"
      },
      "outputs": [
        {
          "data": {
            "text/plain": [
              "array([[2.7479538e-13, 2.3601722e-12, 5.7199677e-13, ..., 5.2410697e-11,\n",
              "        4.2081507e-09, 7.1462103e-15],\n",
              "       [3.2325060e-15, 2.0923069e-16, 3.4815876e-14, ..., 5.5911374e-13,\n",
              "        1.4431498e-07, 2.2933384e-09],\n",
              "       [6.9398839e-14, 5.7964339e-10, 2.9946199e-07, ..., 1.0996514e-12,\n",
              "        2.6122651e-09, 3.8534051e-11],\n",
              "       ...,\n",
              "       [7.1906827e-21, 1.4828883e-17, 2.8458632e-13, ..., 6.0210554e-19,\n",
              "        2.1319675e-11, 6.3914615e-07],\n",
              "       [3.0184669e-08, 2.3405114e-01, 7.6104403e-01, ..., 2.9322378e-10,\n",
              "        7.8184724e-12, 1.0798539e-11],\n",
              "       [2.6025197e-20, 3.5296641e-26, 1.1245695e-18, ..., 1.7848353e-25,\n",
              "        9.0154060e-27, 9.9999309e-01]], dtype=float32)"
            ]
          },
          "execution_count": 32,
          "metadata": {},
          "output_type": "execute_result"
        }
      ],
      "source": [
        "predictions = model.predict_generator(test_generator)\n",
        "predictions"
      ]
    },
    {
      "cell_type": "code",
      "execution_count": 34,
      "metadata": {
        "id": "rrmeie27nHvg"
      },
      "outputs": [
        {
          "data": {
            "image/png": "[encoded data removed]",
            "text/plain": [
              "<Figure size 640x480 with 1 Axes>"
            ]
          },
          "metadata": {},
          "output_type": "display_data"
        }
      ],
      "source": [
        "#fileimg = r'D:\\digito_7_2SAN.png'\n",
        "fileimg = r'fruits\\fruits-360_dataset\\fruits-360\\Test_30_fruits\\Dates\\4_100.jpg'\n",
        "\n",
        "img = load_img(fileimg , color_mode = \"rgb\", target_size=(30, 30))\n",
        "\n",
        "x = img_to_array(img)\n",
        "\n",
        "plt.imshow(x[:,:,0])\n",
        "plt.show()"
      ]
    },
    {
      "cell_type": "code",
      "execution_count": 35,
      "metadata": {
        "id": "te7CvbA2moT8"
      },
      "outputs": [
        {
          "name": "stdout",
          "output_type": "stream",
          "text": [
            "1/1 [==============================] - 0s 65ms/step\n",
            "29\n"
          ]
        }
      ],
      "source": [
        "x = np.expand_dims(x, axis=0)\n",
        "y_pred = model.predict(x)\n",
        "\n",
        "res = np.argmax(y_pred)\n",
        "res"
      ]
    },
    {
      "cell_type": "code",
      "execution_count": 36,
      "metadata": {
        "id": "NOTuya-1MGRB"
      },
      "outputs": [
        {
          "data": {
            "text/plain": [
              "array([[2.60251975e-20, 3.52966414e-26, 1.12456952e-18, 9.08801884e-20,\n",
              "        1.50331598e-23, 1.42736897e-13, 1.70679661e-24, 7.58827595e-15,\n",
              "        1.55680991e-12, 9.87144328e-24, 1.27463354e-20, 1.88174639e-20,\n",
              "        7.21665464e-15, 7.41410417e-23, 1.24716337e-15, 6.90849765e-06,\n",
              "        1.01000111e-26, 3.20733729e-21, 1.88182264e-23, 5.32905663e-27,\n",
              "        1.48134528e-19, 2.44706446e-14, 2.38085416e-22, 7.42776933e-25,\n",
              "        4.84674878e-24, 6.61111634e-23, 1.11294179e-15, 1.78483527e-25,\n",
              "        9.01540595e-27, 9.99993086e-01]], dtype=float32)"
            ]
          },
          "execution_count": 36,
          "metadata": {},
          "output_type": "execute_result"
        }
      ],
      "source": [
        "y_pred"
      ]
    },
    {
      "cell_type": "code",
      "execution_count": 37,
      "metadata": {},
      "outputs": [
        {
          "data": {
            "image/png": "[encoded data removed]",
            "text/plain": [
              "<Figure size 1200x400 with 2 Axes>"
            ]
          },
          "metadata": {},
          "output_type": "display_data"
        }
      ],
      "source": [
        "# Plotando as curvas de perda e acurácia durante o treinamento\n",
        "\n",
        "# Definindo o tamanho da figura\n",
        "plt.figure(figsize=(12, 4))\n",
        "\n",
        "# Subplot 1: curva de perda\n",
        "plt.subplot(1, 2, 1)\n",
        "plt.plot(history.history['loss'], label='Perda (treinamento)')\n",
        "plt.plot(history.history['val_loss'], label='Perda (validação)')\n",
        "plt.title('Perda do Modelo durante o Treinamento')\n",
        "plt.xlabel('Época')\n",
        "plt.ylabel('Perda')\n",
        "plt.legend()\n",
        "\n",
        "# Subplot 2: curva de acurácia\n",
        "plt.subplot(1, 2, 2)\n",
        "plt.plot(history.history['accuracy'], label='Acurácia (treinamento)')\n",
        "plt.plot(history.history['val_accuracy'], label='Acurácia (validação)')\n",
        "plt.title('Acurácia do Modelo durante o Treinamento')\n",
        "plt.xlabel('Época')\n",
        "plt.ylabel('Acurácia')\n",
        "plt.legend()\n",
        "\n",
        "# Mostrando a figura\n",
        "plt.show()"
      ]
    }
  ],
  "metadata": {
    "accelerator": "GPU",
    "colab": {
      "provenance": []
    },
    "kernelspec": {
      "display_name": "Python 3",
      "name": "python3"
    },
    "language_info": {
      "codemirror_mode": {
        "name": "ipython",
        "version": 3
      },
      "file_extension": ".py",
      "mimetype": "text/x-python",
      "name": "python",
      "nbconvert_exporter": "python",
      "pygments_lexer": "ipython3",
      "version": "3.10.2"
    }
  },
  "nbformat": 4,
  "nbformat_minor": 0
}
