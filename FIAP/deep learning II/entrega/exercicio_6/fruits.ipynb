{
  "cells": [
    {
      "attachments": {},
      "cell_type": "markdown",
      "metadata": {},
      "source": [
        "# Projeto de Classificação de Frutas\n",
        "\n",
        "Este notebook é uma reescrita do notebook original, seguindo as instruções fornecidas. O objetivo é criar um modelo de aprendizado de máquina para classificar diferentes tipos de frutas.\n",
        "\n",
        "As instruções gerais para este projeto são as seguintes:\n",
        "\n",
        "- Utilizaremos a LetNet-5 como exemplo inicial, bem como o exemplo visto em sala de aula do dataset minst.\n",
        "- Iniciaremos o trabalho com parte do dataset e iremos adicionar gradativamente mais tipos distintos de frutas.\n",
        "- É permitido usar outras abordagens e arquiteturas.\n",
        "- É permitido o uso de Autoencoders.\n",
        "- É obrigatório o uso de CNN.\n",
        "- É permitido o uso de técnicas de processamento de imagens.\n",
        "- Não é permitido o uso de modelos pré-treinados.\n",
        "- Faremos uma boa distribuição dos dados de teste, treinamento e validação.\n",
        "\n",
        "Além disso, seguiremos as seguintes instruções adicionais:\n",
        "\n",
        "- Separaremos bem as células.\n",
        "- Criaremos uma etapa de EDA básica.\n",
        "- Comentaremos o código devidamente e criaremos markdowns explicativos.\n",
        "- Todas as predições não podem possuir lags de predição, poucos lags são permitidos.\n",
        "- Escreveremos os comentários e markdowns em português."
      ]
    },
    {
      "attachments": {},
      "cell_type": "markdown",
      "metadata": {},
      "source": [
        "## Importação das bibliotecas\n",
        "\n",
        "Primeiro, vamos importar todas as bibliotecas necessárias para o projeto."
      ]
    },
    {
      "cell_type": "code",
      "execution_count": 1,
      "metadata": {
        "id": "Z-dlXc3p_aEL"
      },
      "outputs": [],
      "source": [
        "import os\n",
        "import shutil\n",
        "import numpy as np\n",
        "import matplotlib.pyplot as plt\n",
        "\n",
        "from keras.models import Sequential\n",
        "from keras.layers import Dense\n",
        "from keras.layers import Dropout\n",
        "from keras.layers import Flatten\n",
        "from keras.layers.convolutional import Conv2D\n",
        "from keras.layers.convolutional import MaxPooling2D,AveragePooling2D\n",
        "from tensorflow.keras.utils import img_to_array , load_img\n",
        "from keras import preprocessing\n",
        "from keras.callbacks import ModelCheckpoint\n",
        "\n"
      ]
    },
    {
      "attachments": {},
      "cell_type": "markdown",
      "metadata": {},
      "source": [
        "## Preparação dos dados\n",
        "\n",
        "Agora, vamos preparar os dados para serem alimentados no modelo. Isso inclui a divisão dos dados em conjuntos de treinamento, validação e teste, bem como a normalização dos dados."
      ]
    },
    {
      "cell_type": "code",
      "execution_count": 6,
      "metadata": {},
      "outputs": [],
      "source": [
        "import contextlib\n",
        "source_dir = 'fruits/fruits-360_dataset/fruits-360/Training'\n",
        "dest_dir = 'fruits/fruits-360_dataset/fruits-360/Training_30_fruits'\n",
        "\n",
        "# Cria o diretório de destino se ele não existir\n",
        "with contextlib.suppress(Exception):\n",
        "    if not os.path.exists(dest_dir):\n",
        "        os.makedirs(dest_dir)\n",
        "\n",
        "# Copia as pastas das 30 primeiras frutas para o diretório de destino\n",
        "fruits = ['Apple Braeburn', 'Apple Golden 1', 'Apple Golden 2', 'Apple Golden 3', 'Apple Granny Smith', 'Apple Red 1', 'Apple Red 2', 'Apple Red 3', 'Apple Red Delicious', 'Apple Red Yellow 1', 'Apricot', 'Avocado', 'Avocado ripe', 'Banana', 'Banana Lady Finger', 'Banana Red', 'Cactus fruit', 'Cantaloupe 1', 'Cantaloupe 2', 'Carambula', 'Cherry 1', 'Cherry 2', 'Cherry Rainier', 'Cherry Wax Black', 'Cherry Wax Red', 'Cherry Wax Yellow', 'Chestnut', 'Clementine', 'Cocos', 'Dates']\n",
        "\n",
        "with contextlib.suppress(Exception):\n",
        "    for fruit in fruits:\n",
        "        src_path = os.path.join(source_dir, fruit)\n",
        "        dest_path = os.path.join(dest_dir, fruit)\n",
        "        shutil.copytree(src_path, dest_path)"
      ]
    },
    {
      "cell_type": "code",
      "execution_count": 7,
      "metadata": {},
      "outputs": [
        {
          "name": "stdout",
          "output_type": "stream",
          "text": [
            "Found 12018 images belonging to 30 classes.\n"
          ]
        }
      ],
      "source": [
        "train_datagen = preprocessing.image.ImageDataGenerator(validation_split=0.20)\n",
        "train_generator = train_datagen.flow_from_directory(\n",
        "    'fruits/fruits-360_dataset/fruits-360/Training_30_fruits',\n",
        "    batch_size=200,\n",
        "    color_mode='rgb',\n",
        "    subset='training',\n",
        "    target_size=(30, 30)\n",
        "    )\n"
      ]
    },
    {
      "cell_type": "code",
      "execution_count": 8,
      "metadata": {
        "id": "_BaY8FN6fR6x"
      },
      "outputs": [
        {
          "name": "stdout",
          "output_type": "stream",
          "text": [
            "Found 2994 images belonging to 30 classes.\n"
          ]
        }
      ],
      "source": [
        "valid_generator = train_datagen.flow_from_directory(\n",
        "    'fruits/fruits-360_dataset/fruits-360/Training_30_fruits',\n",
        "    batch_size=200,\n",
        "    color_mode = 'rgb',\n",
        "    subset='validation',\n",
        "    target_size=(30, 30)\n",
        "    )"
      ]
    },
    {
      "cell_type": "code",
      "execution_count": 9,
      "metadata": {
        "id": "j_lsEBqlfu4a"
      },
      "outputs": [
        {
          "data": {
            "image/png": "[encoded data removed]",
            "text/plain": [
              "<Figure size 640x480 with 1 Axes>"
            ]
          },
          "metadata": {},
          "output_type": "display_data"
        }
      ],
      "source": [
        "#Visualizando \n",
        "x,y = train_generator.next()\n",
        "for i in range(1):\n",
        "    image = x[i]   \n",
        "    plt.imshow(image[:,:,0])\n",
        "    plt.show()"
      ]
    },
    {
      "attachments": {},
      "cell_type": "markdown",
      "metadata": {},
      "source": [
        "## Construção do Modelo\n",
        "\n",
        "Agora, vamos construir o modelo de rede neural convolucional (CNN). Estamos usando a arquitetura LeNet-5 como nosso ponto de partida."
      ]
    },
    {
      "cell_type": "code",
      "execution_count": 13,
      "metadata": {
        "id": "NbOaV-gQgXpH"
      },
      "outputs": [],
      "source": [
        "num_classes = y[0].shape[0]\n",
        "\n",
        "STEP_SIZE_TRAIN=train_generator.n//train_generator.batch_size\n",
        "STEP_SIZE_VALID=valid_generator.n//valid_generator.batch_size\n"
      ]
    },
    {
      "cell_type": "code",
      "execution_count": 14,
      "metadata": {
        "id": "kxlPBEOxgZMM"
      },
      "outputs": [
        {
          "name": "stdout",
          "output_type": "stream",
          "text": [
            "(None, 24, 24, 32)\n",
            "(None, 12, 12, 32)\n",
            "(None, 8, 8, 64)\n",
            "(None, 4, 4, 64)\n",
            "(None, 2, 2, 128)\n",
            "(None, 1, 1, 128)\n",
            "(None, 128)\n",
            "(None, 512)\n",
            "(None, 128)\n",
            "(None, 64)\n",
            "(None, 30)\n"
          ]
        }
      ],
      "source": [
        "# Cria o modelo\n",
        "model = Sequential()\n",
        "#Convolução 2D com função de ativação Rectified Linear Units 32 kernels/Pesos (filtros) \n",
        "model.add(Conv2D(32, (7, 7), input_shape=(30,30,3), activation='relu')) #, data_format='channels_first'\n",
        "print( model.output_shape)\n",
        "#Camada de Pooling \t    \n",
        "model.add(AveragePooling2D(pool_size=(2, 2)))\n",
        "print( model.output_shape)\n",
        "\t\n",
        "#Convolução 2D com função de ativação Rectified Linear Units 64 kernels/Pesos (filtros) \n",
        "model.add(Conv2D(64, (5, 5), activation='relu'))\n",
        "print( model.output_shape)\n",
        "#Camada de Pooling \t\n",
        "model.add(AveragePooling2D(pool_size=(2, 2)))\n",
        "print( model.output_shape)\n",
        "\n",
        "#Convolução 2D com função de ativação Rectified Linear Units 128 kernels/Pesos (filtros) \n",
        "model.add(Conv2D(128, (3, 3), activation='relu'))\n",
        "print( model.output_shape)\n",
        "#Camada de Pooling \t\n",
        "model.add(AveragePooling2D(pool_size=(2, 2)))\n",
        "print( model.output_shape)\n",
        "\n",
        "#Remove 30% dos dados de entrada aleatoriamente \n",
        "model.add(Dropout(0.3))\n",
        "#Converte o conjunto de imagens e um vetor unidimensional para a entrada da rede neural totalmente conectada\n",
        "model.add(Flatten())\n",
        "print( model.output_shape)\n",
        "\n",
        "model.add(Dense(512, activation='relu'))\n",
        "print( model.output_shape)\n",
        "model.add(Dense(128, activation='relu'))\n",
        "print( model.output_shape)\n",
        "model.add(Dense(64, activation='relu'))\n",
        "print( model.output_shape)\n",
        "model.add(Dense(num_classes, activation='softmax'))\n",
        "print( model.output_shape)\n"
      ]
    },
    {
      "attachments": {},
      "cell_type": "markdown",
      "metadata": {},
      "source": [
        "## Treinamento do Modelo\n",
        "\n",
        "Agora que temos nosso modelo construído, vamos treiná-lo com nossos dados de treinamento."
      ]
    },
    {
      "cell_type": "code",
      "execution_count": 15,
      "metadata": {
        "id": "9Zo-NEaegdNh"
      },
      "outputs": [],
      "source": [
        "model.compile(loss='categorical_crossentropy', optimizer='adam', metrics=['accuracy'])"
      ]
    },
    {
      "cell_type": "code",
      "execution_count": 16,
      "metadata": {
        "id": "az7y6EhkgiOe"
      },
      "outputs": [
        {
          "name": "stdout",
          "output_type": "stream",
          "text": [
            "Model: \"sequential\"\n",
            "_________________________________________________________________\n",
            " Layer (type)                Output Shape              Param #   \n",
            "=================================================================\n",
            " conv2d (Conv2D)             (None, 24, 24, 32)        4736      \n",
            "                                                                 \n",
            " average_pooling2d (AverageP  (None, 12, 12, 32)       0         \n",
            " ooling2D)                                                       \n",
            "                                                                 \n",
            " conv2d_1 (Conv2D)           (None, 8, 8, 64)          51264     \n",
            "                                                                 \n",
            " average_pooling2d_1 (Averag  (None, 4, 4, 64)         0         \n",
            " ePooling2D)                                                     \n",
            "                                                                 \n",
            " conv2d_2 (Conv2D)           (None, 2, 2, 128)         73856     \n",
            "                                                                 \n",
            " average_pooling2d_2 (Averag  (None, 1, 1, 128)        0         \n",
            " ePooling2D)                                                     \n",
            "                                                                 \n",
            " dropout (Dropout)           (None, 1, 1, 128)         0         \n",
            "                                                                 \n",
            " flatten (Flatten)           (None, 128)               0         \n",
            "                                                                 \n",
            " dense (Dense)               (None, 512)               66048     \n",
            "                                                                 \n",
            " dense_1 (Dense)             (None, 128)               65664     \n",
            "                                                                 \n",
            " dense_2 (Dense)             (None, 64)                8256      \n",
            "                                                                 \n",
            " dense_3 (Dense)             (None, 30)                1950      \n",
            "                                                                 \n",
            "=================================================================\n",
            "Total params: 271,774\n",
            "Trainable params: 271,774\n",
            "Non-trainable params: 0\n",
            "_________________________________________________________________\n",
            "Epoch 1/10\n"
          ]
        },
        {
          "name": "stderr",
          "output_type": "stream",
          "text": [
            "C:\\Users\\KAIQUEHENRIQUEVALIM\\AppData\\Local\\Temp\\ipykernel_17368\\2336998042.py:6: UserWarning: `Model.fit_generator` is deprecated and will be removed in a future version. Please use `Model.fit`, which supports generators.\n",
            "  model.fit_generator(train_generator,\n"
          ]
        },
        {
          "name": "stdout",
          "output_type": "stream",
          "text": [
            "60/60 [==============================] - ETA: 0s - loss: 2.0782 - accuracy: 0.4281\n",
            "Epoch 1: val_accuracy improved from -inf to 0.78714, saving model to model_best.h5\n",
            "60/60 [==============================] - 13s 201ms/step - loss: 2.0782 - accuracy: 0.4281 - val_loss: 0.7123 - val_accuracy: 0.7871\n",
            "Epoch 2/10\n",
            "60/60 [==============================] - ETA: 0s - loss: 0.3953 - accuracy: 0.8589\n",
            "Epoch 2: val_accuracy improved from 0.78714 to 0.87036, saving model to model_best.h5\n",
            "60/60 [==============================] - 7s 113ms/step - loss: 0.3953 - accuracy: 0.8589 - val_loss: 0.6451 - val_accuracy: 0.8704\n",
            "Epoch 3/10\n",
            "60/60 [==============================] - ETA: 0s - loss: 0.1760 - accuracy: 0.9345\n",
            "Epoch 3: val_accuracy improved from 0.87036 to 0.88750, saving model to model_best.h5\n",
            "60/60 [==============================] - 7s 113ms/step - loss: 0.1760 - accuracy: 0.9345 - val_loss: 0.5648 - val_accuracy: 0.8875\n",
            "Epoch 4/10\n",
            "60/60 [==============================] - ETA: 0s - loss: 0.0928 - accuracy: 0.9668\n",
            "Epoch 4: val_accuracy did not improve from 0.88750\n",
            "60/60 [==============================] - 7s 112ms/step - loss: 0.0928 - accuracy: 0.9668 - val_loss: 0.5160 - val_accuracy: 0.8807\n",
            "Epoch 5/10\n",
            "60/60 [==============================] - ETA: 0s - loss: 0.0935 - accuracy: 0.9681\n",
            "Epoch 5: val_accuracy improved from 0.88750 to 0.90321, saving model to model_best.h5\n",
            "60/60 [==============================] - 7s 112ms/step - loss: 0.0935 - accuracy: 0.9681 - val_loss: 0.6320 - val_accuracy: 0.9032\n",
            "Epoch 6/10\n",
            "60/60 [==============================] - ETA: 0s - loss: 0.0567 - accuracy: 0.9843\n",
            "Epoch 6: val_accuracy improved from 0.90321 to 0.91571, saving model to model_best.h5\n",
            "60/60 [==============================] - 7s 115ms/step - loss: 0.0567 - accuracy: 0.9843 - val_loss: 0.3353 - val_accuracy: 0.9157\n",
            "Epoch 7/10\n",
            "60/60 [==============================] - ETA: 0s - loss: 0.0907 - accuracy: 0.9684\n",
            "Epoch 7: val_accuracy did not improve from 0.91571\n",
            "60/60 [==============================] - 7s 117ms/step - loss: 0.0907 - accuracy: 0.9684 - val_loss: 0.6970 - val_accuracy: 0.8921\n",
            "Epoch 8/10\n",
            "60/60 [==============================] - ETA: 0s - loss: 0.0330 - accuracy: 0.9891\n",
            "Epoch 8: val_accuracy did not improve from 0.91571\n",
            "60/60 [==============================] - 7s 109ms/step - loss: 0.0330 - accuracy: 0.9891 - val_loss: 0.6341 - val_accuracy: 0.9111\n",
            "Epoch 9/10\n",
            "60/60 [==============================] - ETA: 0s - loss: 0.0694 - accuracy: 0.9784\n",
            "Epoch 9: val_accuracy did not improve from 0.91571\n",
            "60/60 [==============================] - 7s 113ms/step - loss: 0.0694 - accuracy: 0.9784 - val_loss: 0.6195 - val_accuracy: 0.8875\n",
            "Epoch 10/10\n",
            "60/60 [==============================] - ETA: 0s - loss: 0.1241 - accuracy: 0.9591\n",
            "Epoch 10: val_accuracy improved from 0.91571 to 0.92179, saving model to model_best.h5\n",
            "60/60 [==============================] - 7s 112ms/step - loss: 0.1241 - accuracy: 0.9591 - val_loss: 0.5388 - val_accuracy: 0.9218\n"
          ]
        },
        {
          "data": {
            "text/plain": [
              "<keras.callbacks.History at 0x277e1447ca0>"
            ]
          },
          "execution_count": 16,
          "metadata": {},
          "output_type": "execute_result"
        }
      ],
      "source": [
        "mcp_save = ModelCheckpoint('model_best.h5', monitor='val_accuracy', mode= 'auto', save_weights_only=True, save_best_only=True, verbose =1)\n",
        "#reduce_lr_loss = ReduceLROnPlateau(monitor='val_loss', factor=0.1, patience=7, verbose=1, epsilon=1e-4, mode='min')\n",
        "\n",
        "model.summary()\n",
        "\n",
        "model.fit_generator(train_generator, \n",
        "                    steps_per_epoch=STEP_SIZE_TRAIN,\n",
        "                    validation_data=valid_generator,\n",
        "                    validation_steps=STEP_SIZE_VALID,\n",
        "                    epochs=10, callbacks=[mcp_save])"
      ]
    },
    {
      "attachments": {},
      "cell_type": "markdown",
      "metadata": {},
      "source": [
        "## Avaliação do Modelo\n",
        "\n",
        "Após o treinamento, vamos avaliar o desempenho do nosso modelo nos dados de teste."
      ]
    },
    {
      "cell_type": "code",
      "execution_count": 18,
      "metadata": {},
      "outputs": [],
      "source": [
        "import contextlib\n",
        "source_dir = 'fruits/fruits-360_dataset/fruits-360/Test'\n",
        "dest_dir = 'fruits/fruits-360_dataset/fruits-360/Test_30_fruits'\n",
        "\n",
        "# Cria o diretório de destino se ele não existir\n",
        "with contextlib.suppress(Exception):\n",
        "    if not os.path.exists(dest_dir):\n",
        "        os.makedirs(dest_dir)\n",
        "        \n",
        "# Copia as pastas das 30 primeiras frutas para o diretório de destino\n",
        "fruits = ['Apple Braeburn', 'Apple Golden 1', 'Apple Golden 2', 'Apple Golden 3', 'Apple Granny Smith', 'Apple Red 1', 'Apple Red 2', 'Apple Red 3', 'Apple Red Delicious', 'Apple Red Yellow 1', 'Apricot', 'Avocado', 'Avocado ripe', 'Banana', 'Banana Lady Finger', 'Banana Red', 'Cactus fruit', 'Cantaloupe 1', 'Cantaloupe 2', 'Carambula', 'Cherry 1', 'Cherry 2', 'Cherry Rainier', 'Cherry Wax Black', 'Cherry Wax Red', 'Cherry Wax Yellow', 'Chestnut', 'Clementine', 'Cocos', 'Dates']\n",
        "\n",
        "with contextlib.suppress(Exception):\n",
        "    for fruit in fruits:\n",
        "        src_path = os.path.join(source_dir, fruit)\n",
        "        dest_path = os.path.join(dest_dir, fruit)\n",
        "        shutil.copytree(src_path, dest_path)\n"
      ]
    },
    {
      "cell_type": "code",
      "execution_count": 19,
      "metadata": {
        "id": "k2dFjFKUgpnA"
      },
      "outputs": [
        {
          "name": "stdout",
          "output_type": "stream",
          "text": [
            "Found 5035 images belonging to 30 classes.\n"
          ]
        }
      ],
      "source": [
        "test_datagen = preprocessing.image.ImageDataGenerator()\n",
        "test_generator = test_datagen.flow_from_directory(\n",
        "    'fruits/fruits-360_dataset/fruits-360/Test_30_fruits',\n",
        "    batch_size=1,\n",
        "    color_mode = 'rgb',    \n",
        "    target_size=(30, 30))"
      ]
    },
    {
      "cell_type": "code",
      "execution_count": 20,
      "metadata": {
        "id": "R-oBAzcAgzwL"
      },
      "outputs": [
        {
          "name": "stderr",
          "output_type": "stream",
          "text": [
            "C:\\Users\\KAIQUEHENRIQUEVALIM\\AppData\\Local\\Temp\\ipykernel_17368\\1459900303.py:1: UserWarning: `Model.evaluate_generator` is deprecated and will be removed in a future version. Please use `Model.evaluate`, which supports generators.\n",
            "  scores = model.evaluate_generator(test_generator)\n"
          ]
        },
        {
          "name": "stdout",
          "output_type": "stream",
          "text": [
            "[0.3353519141674042, 0.9090367555618286]\n"
          ]
        }
      ],
      "source": [
        "scores = model.evaluate_generator(test_generator)   \n",
        "print(scores)"
      ]
    },
    {
      "cell_type": "code",
      "execution_count": 21,
      "metadata": {
        "id": "2uDyTaiCg0-H"
      },
      "outputs": [
        {
          "name": "stderr",
          "output_type": "stream",
          "text": [
            "C:\\Users\\KAIQUEHENRIQUEVALIM\\AppData\\Local\\Temp\\ipykernel_17368\\3347971648.py:1: UserWarning: `Model.predict_generator` is deprecated and will be removed in a future version. Please use `Model.predict`, which supports generators.\n",
            "  predictions = model.predict_generator(test_generator)\n"
          ]
        },
        {
          "name": "stdout",
          "output_type": "stream",
          "text": [
            "[[1.27578156e-12 1.62169984e-12 6.84564786e-15 ... 3.70669218e-10\n",
            "  3.09139796e-06 1.69519765e-09]\n",
            " [4.11511320e-12 1.04965077e-08 5.64146473e-12 ... 1.84132077e-07\n",
            "  1.47002172e-21 2.65527538e-27]\n",
            " [2.78189070e-18 3.23088041e-18 7.27268444e-18 ... 1.40989871e-14\n",
            "  4.87419272e-10 7.85469606e-11]\n",
            " ...\n",
            " [1.37989028e-14 7.55115727e-15 1.09286474e-13 ... 9.22314114e-10\n",
            "  2.83019716e-07 1.32409162e-11]\n",
            " [3.84649112e-28 1.80549876e-20 1.98553842e-30 ... 1.19151159e-18\n",
            "  9.87842546e-20 1.00789101e-19]\n",
            " [1.35895971e-25 3.60231912e-23 2.59925623e-33 ... 7.39263090e-24\n",
            "  1.38553298e-21 6.48309570e-22]]\n"
          ]
        }
      ],
      "source": [
        "predictions = model.predict_generator(test_generator)\n",
        "print(predictions)"
      ]
    },
    {
      "cell_type": "code",
      "execution_count": 22,
      "metadata": {
        "id": "JG9lcmU0gtgZ"
      },
      "outputs": [
        {
          "name": "stdout",
          "output_type": "stream",
          "text": [
            "26\n"
          ]
        }
      ],
      "source": [
        "res1 = np.argmax(predictions[0,:])\n",
        "print(res1) "
      ]
    },
    {
      "attachments": {},
      "cell_type": "markdown",
      "metadata": {
        "id": "BtaLUbZ1mpu2"
      },
      "source": [
        "Como Fazer a predição de uma imagem PNG?"
      ]
    },
    {
      "cell_type": "code",
      "execution_count": 23,
      "metadata": {
        "id": "rrmeie27nHvg"
      },
      "outputs": [
        {
          "data": {
            "image/png": "[encoded data removed]",
            "text/plain": [
              "<Figure size 640x480 with 1 Axes>"
            ]
          },
          "metadata": {},
          "output_type": "display_data"
        }
      ],
      "source": [
        "#fileimg = r'D:\\digito_7_2SAN.png'\n",
        "fileimg = r'fruits\\fruits-360_dataset\\fruits-360\\Test_30_fruits\\Dates\\4_100.jpg'\n",
        "\n",
        "img = load_img(fileimg , color_mode = \"rgb\", target_size=(30, 30))\n",
        "\n",
        "#\n",
        "x = img_to_array(img)\n",
        "\n",
        "plt.imshow(x[:,:,0])\n",
        "plt.show()"
      ]
    },
    {
      "cell_type": "code",
      "execution_count": 25,
      "metadata": {
        "id": "IFLveOHmnw5R"
      },
      "outputs": [
        {
          "data": {
            "text/plain": [
              "(1, 30, 30, 3)"
            ]
          },
          "execution_count": 25,
          "metadata": {},
          "output_type": "execute_result"
        }
      ],
      "source": [
        "x = np.expand_dims(x, axis=0)\n",
        "x.shape"
      ]
    },
    {
      "cell_type": "code",
      "execution_count": 26,
      "metadata": {
        "id": "te7CvbA2moT8"
      },
      "outputs": [
        {
          "name": "stdout",
          "output_type": "stream",
          "text": [
            "1/1 [==============================] - 0s 70ms/step\n",
            "29\n"
          ]
        }
      ],
      "source": [
        "y_pred = model.predict(x)\n",
        "\n",
        "res = np.argmax(y_pred)\n",
        "print(res)"
      ]
    },
    {
      "cell_type": "code",
      "execution_count": 27,
      "metadata": {
        "id": "NOTuya-1MGRB"
      },
      "outputs": [
        {
          "data": {
            "text/plain": [
              "array([[6.3672342e-13, 5.9631175e-11, 3.0548942e-12, 1.3533523e-10,\n",
              "        5.3925669e-10, 5.2286564e-11, 2.4509371e-13, 2.3609847e-13,\n",
              "        1.9754049e-07, 6.6006457e-11, 4.0576258e-13, 8.8131236e-10,\n",
              "        2.4322679e-07, 1.3048501e-05, 4.8182420e-11, 4.3673504e-06,\n",
              "        1.5089209e-07, 6.7022867e-08, 7.6155150e-12, 4.3581508e-08,\n",
              "        5.1543680e-09, 6.7531909e-12, 1.0429684e-11, 4.1753569e-07,\n",
              "        6.4631887e-09, 7.9099982e-14, 1.5672080e-07, 8.6491264e-10,\n",
              "        2.6739666e-11, 9.9998128e-01]], dtype=float32)"
            ]
          },
          "execution_count": 27,
          "metadata": {},
          "output_type": "execute_result"
        }
      ],
      "source": [
        "y_pred"
      ]
    },
    {
      "cell_type": "code",
      "execution_count": 28,
      "metadata": {
        "id": "PZJPF99ewuQ8"
      },
      "outputs": [
        {
          "data": {
            "text/plain": [
              "{'Apple Braeburn': 0,\n",
              " 'Apple Golden 1': 1,\n",
              " 'Apple Golden 2': 2,\n",
              " 'Apple Golden 3': 3,\n",
              " 'Apple Granny Smith': 4,\n",
              " 'Apple Red 1': 5,\n",
              " 'Apple Red 2': 6,\n",
              " 'Apple Red 3': 7,\n",
              " 'Apple Red Delicious': 8,\n",
              " 'Apple Red Yellow 1': 9,\n",
              " 'Apricot': 10,\n",
              " 'Avocado': 11,\n",
              " 'Avocado ripe': 12,\n",
              " 'Banana': 13,\n",
              " 'Banana Lady Finger': 14,\n",
              " 'Banana Red': 15,\n",
              " 'Cactus fruit': 16,\n",
              " 'Cantaloupe 1': 17,\n",
              " 'Cantaloupe 2': 18,\n",
              " 'Carambula': 19,\n",
              " 'Cherry 1': 20,\n",
              " 'Cherry 2': 21,\n",
              " 'Cherry Rainier': 22,\n",
              " 'Cherry Wax Black': 23,\n",
              " 'Cherry Wax Red': 24,\n",
              " 'Cherry Wax Yellow': 25,\n",
              " 'Chestnut': 26,\n",
              " 'Clementine': 27,\n",
              " 'Cocos': 28,\n",
              " 'Dates': 29}"
            ]
          },
          "execution_count": 28,
          "metadata": {},
          "output_type": "execute_result"
        }
      ],
      "source": [
        "train_generator.class_indices"
      ]
    }
  ],
  "metadata": {
    "accelerator": "GPU",
    "colab": {
      "provenance": []
    },
    "kernelspec": {
      "display_name": "Python 3",
      "name": "python3"
    },
    "language_info": {
      "codemirror_mode": {
        "name": "ipython",
        "version": 3
      },
      "file_extension": ".py",
      "mimetype": "text/x-python",
      "name": "python",
      "nbconvert_exporter": "python",
      "pygments_lexer": "ipython3",
      "version": "3.10.2"
    }
  },
  "nbformat": 4,
  "nbformat_minor": 0
}
