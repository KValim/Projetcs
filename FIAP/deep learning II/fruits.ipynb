{
  "cells": [
    {
      "cell_type": "code",
      "execution_count": 1,
      "metadata": {
        "id": "Z-dlXc3p_aEL"
      },
      "outputs": [],
      "source": [
        "import matplotlib.pyplot as plt\n",
        "from keras.models import Sequential\n",
        "from keras.layers import Dense\n",
        "from keras.layers import Dropout\n",
        "from keras.layers import Flatten\n",
        "from keras.layers.convolutional import Conv2D\n",
        "from keras.layers.convolutional import MaxPooling2D,AveragePooling2D\n",
        "from tensorflow.keras.utils import img_to_array , load_img\n",
        "import numpy as np\n",
        "from keras import preprocessing\n",
        "\n",
        "from keras.callbacks import ModelCheckpoint\n"
      ]
    },
    {
      "cell_type": "code",
      "execution_count": 2,
      "metadata": {
        "id": "hTccMVr9gJ_z"
      },
      "outputs": [],
      "source": [
        "import zipfile"
      ]
    },
    {
      "cell_type": "code",
      "execution_count": 26,
      "metadata": {
        "id": "kAsEKWj9gNWQ"
      },
      "outputs": [],
      "source": [
        "with zipfile.ZipFile('fruits.zip', 'r') as zip_ref:\n",
        "    zip_ref.extractall('fruits')"
      ]
    },
    {
      "cell_type": "code",
      "execution_count": 91,
      "metadata": {},
      "outputs": [],
      "source": [
        "import os\n",
        "import shutil\n",
        "\n",
        "source_dir = 'fruits/fruits-360_dataset/fruits-360/Training'\n",
        "dest_dir = 'fruits/fruits-360_dataset/fruits-360/Training_30_fruits'\n",
        "\n",
        "# Cria o diretório de destino se ele não existir\n",
        "if not os.path.exists(dest_dir):\n",
        "    os.makedirs(dest_dir)\n",
        "\n",
        "# Copia as pastas das 30 primeiras frutas para o diretório de destino\n",
        "fruits = ['Apple Braeburn', 'Apple Golden 1', 'Apple Golden 2', 'Apple Golden 3', 'Apple Granny Smith', 'Apple Red 1', 'Apple Red 2', 'Apple Red 3', 'Apple Red Delicious', 'Apple Red Yellow 1', 'Apricot', 'Avocado', 'Avocado ripe', 'Banana', 'Banana Lady Finger', 'Banana Red', 'Cactus fruit', 'Cantaloupe 1', 'Cantaloupe 2', 'Carambula', 'Cherry 1', 'Cherry 2', 'Cherry Rainier', 'Cherry Wax Black', 'Cherry Wax Red', 'Cherry Wax Yellow', 'Chestnut', 'Clementine', 'Cocos', 'Dates']\n",
        "\n",
        "for fruit in fruits:\n",
        "    src_path = os.path.join(source_dir, fruit)\n",
        "    dest_path = os.path.join(dest_dir, fruit)\n",
        "    shutil.copytree(src_path, dest_path)\n"
      ]
    },
    {
      "cell_type": "code",
      "execution_count": 3,
      "metadata": {},
      "outputs": [
        {
          "name": "stdout",
          "output_type": "stream",
          "text": [
            "Found 12018 images belonging to 30 classes.\n"
          ]
        }
      ],
      "source": [
        "train_datagen = preprocessing.image.ImageDataGenerator(validation_split=0.20)\n",
        "train_generator = train_datagen.flow_from_directory(\n",
        "    'fruits/fruits-360_dataset/fruits-360/Training_30_fruits',\n",
        "    batch_size=200,\n",
        "    color_mode='rgb',\n",
        "    subset='training',\n",
        "    target_size=(30, 30))\n"
      ]
    },
    {
      "cell_type": "code",
      "execution_count": 4,
      "metadata": {
        "id": "_BaY8FN6fR6x"
      },
      "outputs": [
        {
          "name": "stdout",
          "output_type": "stream",
          "text": [
            "Found 2994 images belonging to 30 classes.\n"
          ]
        }
      ],
      "source": [
        "valid_generator = train_datagen.flow_from_directory(\n",
        "    'fruits/fruits-360_dataset/fruits-360/Training_30_fruits',\n",
        "    batch_size=200,\n",
        "    color_mode = 'rgb',\n",
        "    subset='validation',\n",
        "    target_size=(30, 30))"
      ]
    },
    {
      "cell_type": "code",
      "execution_count": 5,
      "metadata": {
        "id": "j_lsEBqlfu4a"
      },
      "outputs": [
        {
          "data": {
            "image/png": "[encoded data removed]",
            "text/plain": [
              "<Figure size 640x480 with 1 Axes>"
            ]
          },
          "metadata": {},
          "output_type": "display_data"
        }
      ],
      "source": [
        "#Visualizando \n",
        "x,y = train_generator.next()\n",
        "for i in range(1):\n",
        "    image = x[i]   \n",
        "    plt.imshow(image[:,:,0])\n",
        "    plt.show()"
      ]
    },
    {
      "cell_type": "code",
      "execution_count": 6,
      "metadata": {
        "id": "Nx9NfTsMngki"
      },
      "outputs": [
        {
          "data": {
            "text/plain": [
              "(200, 30, 30, 3)"
            ]
          },
          "execution_count": 6,
          "metadata": {},
          "output_type": "execute_result"
        }
      ],
      "source": [
        "x.shape"
      ]
    },
    {
      "cell_type": "code",
      "execution_count": 7,
      "metadata": {
        "id": "K8Kcd-yAnlfJ"
      },
      "outputs": [
        {
          "data": {
            "text/plain": [
              "(30, 30, 3)"
            ]
          },
          "execution_count": 7,
          "metadata": {},
          "output_type": "execute_result"
        }
      ],
      "source": [
        "image.shape"
      ]
    },
    {
      "cell_type": "code",
      "execution_count": 8,
      "metadata": {
        "id": "rdrlDd0WeLZD"
      },
      "outputs": [
        {
          "data": {
            "text/plain": [
              "array([0., 0., 0., 0., 0., 0., 0., 0., 0., 0., 0., 0., 0., 1., 0., 0., 0.,\n",
              "       0., 0., 0., 0., 0., 0., 0., 0., 0., 0., 0., 0., 0.], dtype=float32)"
            ]
          },
          "execution_count": 8,
          "metadata": {},
          "output_type": "execute_result"
        }
      ],
      "source": [
        "y[0]"
      ]
    },
    {
      "cell_type": "code",
      "execution_count": 9,
      "metadata": {
        "id": "NbOaV-gQgXpH"
      },
      "outputs": [],
      "source": [
        "num_classes = y[0].shape[0]\n",
        "\n",
        "STEP_SIZE_TRAIN=train_generator.n//train_generator.batch_size\n",
        "STEP_SIZE_VALID=valid_generator.n//valid_generator.batch_size\n"
      ]
    },
    {
      "cell_type": "code",
      "execution_count": 10,
      "metadata": {
        "id": "kxlPBEOxgZMM"
      },
      "outputs": [
        {
          "name": "stdout",
          "output_type": "stream",
          "text": [
            "(None, 24, 24, 32)\n",
            "(None, 12, 12, 32)\n",
            "(None, 8, 8, 64)\n",
            "(None, 4, 4, 64)\n",
            "(None, 2, 2, 128)\n",
            "(None, 1, 1, 128)\n",
            "(None, 128)\n",
            "(None, 512)\n",
            "(None, 128)\n",
            "(None, 64)\n",
            "(None, 30)\n"
          ]
        }
      ],
      "source": [
        "# Cria o modelo\n",
        "model = Sequential()\n",
        "#Convolução 2D com função de ativação Rectified Linear Units 32 kernels/Pesos (filtros) \n",
        "model.add(Conv2D(32, (7, 7), input_shape=(30,30,3), activation='relu')) #, data_format='channels_first'\n",
        "print( model.output_shape)\n",
        "#Camada de Pooling \t    \n",
        "model.add(AveragePooling2D(pool_size=(2, 2)))\n",
        "print( model.output_shape)\n",
        "\t\n",
        "#Convolução 2D com função de ativação Rectified Linear Units 64 kernels/Pesos (filtros) \n",
        "model.add(Conv2D(64, (5, 5), activation='relu'))\n",
        "print( model.output_shape)\n",
        "#Camada de Pooling \t\n",
        "model.add(AveragePooling2D(pool_size=(2, 2)))\n",
        "print( model.output_shape)\n",
        "\n",
        "#Convolução 2D com função de ativação Rectified Linear Units 128 kernels/Pesos (filtros) \n",
        "model.add(Conv2D(128, (3, 3), activation='relu'))\n",
        "print( model.output_shape)\n",
        "#Camada de Pooling \t\n",
        "model.add(AveragePooling2D(pool_size=(2, 2)))\n",
        "print( model.output_shape)\n",
        "\n",
        "#Remove 30% dos dados de entrada aleatoriamente \n",
        "model.add(Dropout(0.3))\n",
        "#Converte o conjunto de imagens e um vetor unidimensional para a entrada da rede neural totalmente conectada\n",
        "model.add(Flatten())\n",
        "print( model.output_shape)\n",
        "\n",
        "model.add(Dense(512, activation='relu'))\n",
        "print( model.output_shape)\n",
        "model.add(Dense(128, activation='relu'))\n",
        "print( model.output_shape)\n",
        "model.add(Dense(64, activation='relu'))\n",
        "print( model.output_shape)\n",
        "model.add(Dense(num_classes, activation='softmax'))\n",
        "print( model.output_shape)\n"
      ]
    },
    {
      "cell_type": "code",
      "execution_count": 11,
      "metadata": {
        "id": "9Zo-NEaegdNh"
      },
      "outputs": [],
      "source": [
        "model.compile(loss='categorical_crossentropy', optimizer='adam', metrics=['accuracy'])"
      ]
    },
    {
      "cell_type": "code",
      "execution_count": 12,
      "metadata": {
        "id": "az7y6EhkgiOe"
      },
      "outputs": [
        {
          "name": "stdout",
          "output_type": "stream",
          "text": [
            "Model: \"sequential\"\n",
            "_________________________________________________________________\n",
            " Layer (type)                Output Shape              Param #   \n",
            "=================================================================\n",
            " conv2d (Conv2D)             (None, 24, 24, 32)        4736      \n",
            "                                                                 \n",
            " average_pooling2d (AverageP  (None, 12, 12, 32)       0         \n",
            " ooling2D)                                                       \n",
            "                                                                 \n",
            " conv2d_1 (Conv2D)           (None, 8, 8, 64)          51264     \n",
            "                                                                 \n",
            " average_pooling2d_1 (Averag  (None, 4, 4, 64)         0         \n",
            " ePooling2D)                                                     \n",
            "                                                                 \n",
            " conv2d_2 (Conv2D)           (None, 2, 2, 128)         73856     \n",
            "                                                                 \n",
            " average_pooling2d_2 (Averag  (None, 1, 1, 128)        0         \n",
            " ePooling2D)                                                     \n",
            "                                                                 \n",
            " dropout (Dropout)           (None, 1, 1, 128)         0         \n",
            "                                                                 \n",
            " flatten (Flatten)           (None, 128)               0         \n",
            "                                                                 \n",
            " dense (Dense)               (None, 512)               66048     \n",
            "                                                                 \n",
            " dense_1 (Dense)             (None, 128)               65664     \n",
            "                                                                 \n",
            " dense_2 (Dense)             (None, 64)                8256      \n",
            "                                                                 \n",
            " dense_3 (Dense)             (None, 30)                1950      \n",
            "                                                                 \n",
            "=================================================================\n",
            "Total params: 271,774\n",
            "Trainable params: 271,774\n",
            "Non-trainable params: 0\n",
            "_________________________________________________________________\n",
            "Epoch 1/10\n"
          ]
        },
        {
          "name": "stderr",
          "output_type": "stream",
          "text": [
            "C:\\Users\\KAIQUEHENRIQUEVALIM\\AppData\\Local\\Temp\\ipykernel_10476\\2336998042.py:6: UserWarning: `Model.fit_generator` is deprecated and will be removed in a future version. Please use `Model.fit`, which supports generators.\n",
            "  model.fit_generator(train_generator,\n"
          ]
        },
        {
          "name": "stdout",
          "output_type": "stream",
          "text": [
            "60/60 [==============================] - ETA: 0s - loss: 2.4538 - accuracy: 0.3535\n",
            "Epoch 1: val_accuracy improved from -inf to 0.71786, saving model to model_best.h5\n",
            "60/60 [==============================] - 44s 736ms/step - loss: 2.4538 - accuracy: 0.3535 - val_loss: 0.9045 - val_accuracy: 0.7179\n",
            "Epoch 2/10\n",
            "60/60 [==============================] - ETA: 0s - loss: 0.5433 - accuracy: 0.8087\n",
            "Epoch 2: val_accuracy improved from 0.71786 to 0.83714, saving model to model_best.h5\n",
            "60/60 [==============================] - 7s 124ms/step - loss: 0.5433 - accuracy: 0.8087 - val_loss: 0.7672 - val_accuracy: 0.8371\n",
            "Epoch 3/10\n",
            "60/60 [==============================] - ETA: 0s - loss: 0.2550 - accuracy: 0.9087\n",
            "Epoch 3: val_accuracy improved from 0.83714 to 0.83786, saving model to model_best.h5\n",
            "60/60 [==============================] - 7s 114ms/step - loss: 0.2550 - accuracy: 0.9087 - val_loss: 0.7689 - val_accuracy: 0.8379\n",
            "Epoch 4/10\n",
            "60/60 [==============================] - ETA: 0s - loss: 0.1713 - accuracy: 0.9354\n",
            "Epoch 4: val_accuracy improved from 0.83786 to 0.84821, saving model to model_best.h5\n",
            "60/60 [==============================] - 7s 113ms/step - loss: 0.1713 - accuracy: 0.9354 - val_loss: 0.7526 - val_accuracy: 0.8482\n",
            "Epoch 5/10\n",
            "60/60 [==============================] - ETA: 0s - loss: 0.1721 - accuracy: 0.9424\n",
            "Epoch 5: val_accuracy improved from 0.84821 to 0.87071, saving model to model_best.h5\n",
            "60/60 [==============================] - 7s 115ms/step - loss: 0.1721 - accuracy: 0.9424 - val_loss: 0.5689 - val_accuracy: 0.8707\n",
            "Epoch 6/10\n",
            "60/60 [==============================] - ETA: 0s - loss: 0.1227 - accuracy: 0.9567\n",
            "Epoch 6: val_accuracy improved from 0.87071 to 0.89286, saving model to model_best.h5\n",
            "60/60 [==============================] - 7s 121ms/step - loss: 0.1227 - accuracy: 0.9567 - val_loss: 0.5381 - val_accuracy: 0.8929\n",
            "Epoch 7/10\n",
            "60/60 [==============================] - ETA: 0s - loss: 0.1091 - accuracy: 0.9609\n",
            "Epoch 7: val_accuracy did not improve from 0.89286\n",
            "60/60 [==============================] - 7s 123ms/step - loss: 0.1091 - accuracy: 0.9609 - val_loss: 0.7985 - val_accuracy: 0.8718\n",
            "Epoch 8/10\n",
            "60/60 [==============================] - ETA: 0s - loss: 0.0409 - accuracy: 0.9865\n",
            "Epoch 8: val_accuracy improved from 0.89286 to 0.89393, saving model to model_best.h5\n",
            "60/60 [==============================] - 7s 112ms/step - loss: 0.0409 - accuracy: 0.9865 - val_loss: 0.8956 - val_accuracy: 0.8939\n",
            "Epoch 9/10\n",
            "59/60 [============================>.] - ETA: 0s - loss: 0.0332 - accuracy: 0.9878\n",
            "Epoch 9: val_accuracy did not improve from 0.89393\n",
            "60/60 [==============================] - 7s 114ms/step - loss: 0.0333 - accuracy: 0.9878 - val_loss: 0.7866 - val_accuracy: 0.8900\n",
            "Epoch 10/10\n",
            "60/60 [==============================] - ETA: 0s - loss: 0.0594 - accuracy: 0.9797\n",
            "Epoch 10: val_accuracy improved from 0.89393 to 0.91536, saving model to model_best.h5\n",
            "60/60 [==============================] - 7s 114ms/step - loss: 0.0594 - accuracy: 0.9797 - val_loss: 0.5240 - val_accuracy: 0.9154\n"
          ]
        },
        {
          "data": {
            "text/plain": [
              "<keras.callbacks.History at 0x20717a33640>"
            ]
          },
          "execution_count": 12,
          "metadata": {},
          "output_type": "execute_result"
        }
      ],
      "source": [
        "mcp_save = ModelCheckpoint('model_best.h5', monitor='val_accuracy', mode= 'auto', save_weights_only=True, save_best_only=True, verbose =1)\n",
        "#reduce_lr_loss = ReduceLROnPlateau(monitor='val_loss', factor=0.1, patience=7, verbose=1, epsilon=1e-4, mode='min')\n",
        "\n",
        "model.summary()\n",
        "\n",
        "model.fit_generator(train_generator, \n",
        "                    steps_per_epoch=STEP_SIZE_TRAIN,\n",
        "                    validation_data=valid_generator,\n",
        "                    validation_steps=STEP_SIZE_VALID,\n",
        "                    epochs=10, callbacks=[mcp_save])"
      ]
    },
    {
      "cell_type": "code",
      "execution_count": 15,
      "metadata": {},
      "outputs": [],
      "source": [
        "import os\n",
        "import shutil\n",
        "\n",
        "source_dir = 'fruits/fruits-360_dataset/fruits-360/Test'\n",
        "dest_dir = 'fruits/fruits-360_dataset/fruits-360/Test_30_fruits'\n",
        "\n",
        "# Cria o diretório de destino se ele não existir\n",
        "if not os.path.exists(dest_dir):\n",
        "    os.makedirs(dest_dir)\n",
        "\n",
        "# Copia as pastas das 30 primeiras frutas para o diretório de destino\n",
        "fruits = ['Apple Braeburn', 'Apple Golden 1', 'Apple Golden 2', 'Apple Golden 3', 'Apple Granny Smith', 'Apple Red 1', 'Apple Red 2', 'Apple Red 3', 'Apple Red Delicious', 'Apple Red Yellow 1', 'Apricot', 'Avocado', 'Avocado ripe', 'Banana', 'Banana Lady Finger', 'Banana Red', 'Cactus fruit', 'Cantaloupe 1', 'Cantaloupe 2', 'Carambula', 'Cherry 1', 'Cherry 2', 'Cherry Rainier', 'Cherry Wax Black', 'Cherry Wax Red', 'Cherry Wax Yellow', 'Chestnut', 'Clementine', 'Cocos', 'Dates']\n",
        "\n",
        "for fruit in fruits:\n",
        "    src_path = os.path.join(source_dir, fruit)\n",
        "    dest_path = os.path.join(dest_dir, fruit)\n",
        "    shutil.copytree(src_path, dest_path)\n"
      ]
    },
    {
      "cell_type": "code",
      "execution_count": 18,
      "metadata": {
        "id": "k2dFjFKUgpnA"
      },
      "outputs": [
        {
          "name": "stdout",
          "output_type": "stream",
          "text": [
            "Found 5035 images belonging to 30 classes.\n"
          ]
        }
      ],
      "source": [
        "test_datagen = preprocessing.image.ImageDataGenerator()\n",
        "test_generator = test_datagen.flow_from_directory(\n",
        "    'fruits/fruits-360_dataset/fruits-360/Test_30_fruits',\n",
        "    batch_size=1,\n",
        "    color_mode = 'rgb',    \n",
        "    target_size=(30, 30))"
      ]
    },
    {
      "cell_type": "code",
      "execution_count": 19,
      "metadata": {
        "id": "R-oBAzcAgzwL"
      },
      "outputs": [
        {
          "name": "stderr",
          "output_type": "stream",
          "text": [
            "C:\\Users\\KAIQUEHENRIQUEVALIM\\AppData\\Local\\Temp\\ipykernel_10476\\1459900303.py:1: UserWarning: `Model.evaluate_generator` is deprecated and will be removed in a future version. Please use `Model.evaluate`, which supports generators.\n",
            "  scores = model.evaluate_generator(test_generator)\n"
          ]
        },
        {
          "name": "stdout",
          "output_type": "stream",
          "text": [
            "[0.44218289852142334, 0.9195630550384521]\n"
          ]
        }
      ],
      "source": [
        "scores = model.evaluate_generator(test_generator)   \n",
        "print(scores)"
      ]
    },
    {
      "cell_type": "code",
      "execution_count": 20,
      "metadata": {
        "id": "2uDyTaiCg0-H"
      },
      "outputs": [
        {
          "name": "stderr",
          "output_type": "stream",
          "text": [
            "C:\\Users\\KAIQUEHENRIQUEVALIM\\AppData\\Local\\Temp\\ipykernel_10476\\3347971648.py:1: UserWarning: `Model.predict_generator` is deprecated and will be removed in a future version. Please use `Model.predict`, which supports generators.\n",
            "  predictions = model.predict_generator(test_generator)\n"
          ]
        },
        {
          "name": "stdout",
          "output_type": "stream",
          "text": [
            "[[4.0838655e-22 3.0355196e-22 7.9333337e-12 ... 1.5363860e-21\n",
            "  1.8654100e-06 9.6695248e-06]\n",
            " [1.1417748e-22 2.1795126e-17 3.9724178e-16 ... 9.2343848e-09\n",
            "  6.0326447e-27 8.9425203e-25]\n",
            " [7.4875953e-11 1.6048361e-11 9.3393297e-08 ... 6.5711197e-14\n",
            "  1.0696439e-09 6.5102075e-09]\n",
            " ...\n",
            " [8.7257780e-32 2.6786192e-31 8.9026767e-22 ... 4.2038620e-32\n",
            "  5.0761208e-20 2.9918315e-16]\n",
            " [9.9648571e-01 2.0900880e-11 1.3134840e-14 ... 1.2690990e-10\n",
            "  1.1600524e-14 4.5845184e-14]\n",
            " [3.3821475e-02 3.0163872e-07 7.2319450e-10 ... 1.7159855e-10\n",
            "  1.2928503e-10 1.3582740e-11]]\n"
          ]
        }
      ],
      "source": [
        "predictions = model.predict_generator(test_generator)\n",
        "print(predictions)"
      ]
    },
    {
      "cell_type": "code",
      "execution_count": 21,
      "metadata": {
        "id": "JG9lcmU0gtgZ"
      },
      "outputs": [
        {
          "name": "stdout",
          "output_type": "stream",
          "text": [
            "8\n"
          ]
        }
      ],
      "source": [
        "res1 = np.argmax(predictions[0,:])\n",
        "print(res1) "
      ]
    },
    {
      "attachments": {},
      "cell_type": "markdown",
      "metadata": {
        "id": "BtaLUbZ1mpu2"
      },
      "source": [
        "Como Fazer a predição de uma imagem PNG?"
      ]
    },
    {
      "cell_type": "code",
      "execution_count": 38,
      "metadata": {
        "id": "rrmeie27nHvg"
      },
      "outputs": [
        {
          "data": {
            "image/png": "[encoded data removed]",
            "text/plain": [
              "<Figure size 640x480 with 1 Axes>"
            ]
          },
          "metadata": {},
          "output_type": "display_data"
        }
      ],
      "source": [
        "#fileimg = r'D:\\digito_7_2SAN.png'\n",
        "fileimg = r'fruits\\fruits-360_dataset\\fruits-360\\Test_30_fruits\\Dates\\4_100.jpg'\n",
        "\n",
        "img = load_img(fileimg , color_mode = \"rgb\", target_size=(30, 30))\n",
        "\n",
        "#\n",
        "x = img_to_array(img)\n",
        "\n",
        "plt.imshow(x[:,:,0])\n",
        "plt.show()"
      ]
    },
    {
      "cell_type": "code",
      "execution_count": 39,
      "metadata": {
        "id": "zjF5TrAinZFj"
      },
      "outputs": [
        {
          "data": {
            "text/plain": [
              "(30, 30, 3)"
            ]
          },
          "execution_count": 39,
          "metadata": {},
          "output_type": "execute_result"
        }
      ],
      "source": [
        "x.shape"
      ]
    },
    {
      "cell_type": "code",
      "execution_count": 40,
      "metadata": {
        "id": "IFLveOHmnw5R"
      },
      "outputs": [
        {
          "data": {
            "text/plain": [
              "(1, 30, 30, 3)"
            ]
          },
          "execution_count": 40,
          "metadata": {},
          "output_type": "execute_result"
        }
      ],
      "source": [
        "x = np.expand_dims(x, axis=0)\n",
        "x.shape"
      ]
    },
    {
      "cell_type": "code",
      "execution_count": 41,
      "metadata": {
        "id": "te7CvbA2moT8"
      },
      "outputs": [
        {
          "name": "stdout",
          "output_type": "stream",
          "text": [
            "1/1 [==============================] - 0s 16ms/step\n",
            "29\n"
          ]
        }
      ],
      "source": [
        "y_pred = model.predict(x)\n",
        "\n",
        "res = np.argmax(y_pred)\n",
        "print(res)"
      ]
    },
    {
      "cell_type": "code",
      "execution_count": 42,
      "metadata": {
        "id": "NOTuya-1MGRB"
      },
      "outputs": [
        {
          "data": {
            "text/plain": [
              "array([[3.88874653e-35, 1.53647074e-32, 3.50175965e-11, 3.60878706e-21,\n",
              "        2.51077228e-28, 4.78821909e-22, 9.37211563e-24, 6.73361319e-23,\n",
              "        3.98034050e-10, 3.06856874e-24, 5.47210500e-26, 2.48381368e-20,\n",
              "        7.82288345e-10, 2.54714877e-15, 3.82772198e-15, 1.01571349e-10,\n",
              "        1.10057332e-18, 4.29188962e-28, 4.90933341e-20, 8.39498854e-17,\n",
              "        7.95068193e-22, 6.46291367e-17, 1.88191220e-18, 3.90747601e-16,\n",
              "        1.11806643e-19, 8.99918592e-26, 1.00540065e-08, 2.87887989e-27,\n",
              "        9.37681194e-14, 1.00000000e+00]], dtype=float32)"
            ]
          },
          "execution_count": 42,
          "metadata": {},
          "output_type": "execute_result"
        }
      ],
      "source": [
        "y_pred"
      ]
    },
    {
      "cell_type": "code",
      "execution_count": 43,
      "metadata": {
        "id": "PZJPF99ewuQ8"
      },
      "outputs": [
        {
          "data": {
            "text/plain": [
              "{'Apple Braeburn': 0,\n",
              " 'Apple Golden 1': 1,\n",
              " 'Apple Golden 2': 2,\n",
              " 'Apple Golden 3': 3,\n",
              " 'Apple Granny Smith': 4,\n",
              " 'Apple Red 1': 5,\n",
              " 'Apple Red 2': 6,\n",
              " 'Apple Red 3': 7,\n",
              " 'Apple Red Delicious': 8,\n",
              " 'Apple Red Yellow 1': 9,\n",
              " 'Apricot': 10,\n",
              " 'Avocado': 11,\n",
              " 'Avocado ripe': 12,\n",
              " 'Banana': 13,\n",
              " 'Banana Lady Finger': 14,\n",
              " 'Banana Red': 15,\n",
              " 'Cactus fruit': 16,\n",
              " 'Cantaloupe 1': 17,\n",
              " 'Cantaloupe 2': 18,\n",
              " 'Carambula': 19,\n",
              " 'Cherry 1': 20,\n",
              " 'Cherry 2': 21,\n",
              " 'Cherry Rainier': 22,\n",
              " 'Cherry Wax Black': 23,\n",
              " 'Cherry Wax Red': 24,\n",
              " 'Cherry Wax Yellow': 25,\n",
              " 'Chestnut': 26,\n",
              " 'Clementine': 27,\n",
              " 'Cocos': 28,\n",
              " 'Dates': 29}"
            ]
          },
          "execution_count": 43,
          "metadata": {},
          "output_type": "execute_result"
        }
      ],
      "source": [
        "train_generator.class_indices"
      ]
    }
  ],
  "metadata": {
    "accelerator": "GPU",
    "colab": {
      "provenance": []
    },
    "kernelspec": {
      "display_name": "Python 3",
      "name": "python3"
    },
    "language_info": {
      "codemirror_mode": {
        "name": "ipython",
        "version": 3
      },
      "file_extension": ".py",
      "mimetype": "text/x-python",
      "name": "python",
      "nbconvert_exporter": "python",
      "pygments_lexer": "ipython3",
      "version": "3.10.2"
    }
  },
  "nbformat": 4,
  "nbformat_minor": 0
}
