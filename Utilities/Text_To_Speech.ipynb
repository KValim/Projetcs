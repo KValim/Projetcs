{
  "nbformat": 4,
  "nbformat_minor": 0,
  "metadata": {
    "colab": {
      "provenance": [],
      "authorship_tag": "ABX9TyOo1irePSHRIDivzlA5seBh",
      "include_colab_link": true
    },
    "kernelspec": {
      "name": "python3",
      "display_name": "Python 3"
    },
    "language_info": {
      "name": "python"
    }
  },
  "cells": [
    {
      "cell_type": "markdown",
      "metadata": {
        "id": "view-in-github",
        "colab_type": "text"
      },
      "source": [
        "<a href=\"https://colab.research.google.com/github/KValim/Projetcs/blob/main/Utilities/Text_To_Speech.ipynb\" target=\"_parent\"><img src=\"https://colab.research.google.com/assets/colab-badge.svg\" alt=\"Open In Colab\"/></a>"
      ]
    },
    {
      "cell_type": "code",
      "source": [
        "# pip install vosk"
      ],
      "metadata": {
        "id": "YeePIvpYjke4"
      },
      "execution_count": null,
      "outputs": []
    },
    {
      "cell_type": "code",
      "execution_count": null,
      "metadata": {
        "id": "8swpAvj_jdrX"
      },
      "outputs": [],
      "source": [
        "from vosk import Model, KaldiRecognizer"
      ]
    },
    {
      "cell_type": "code",
      "source": [
        "FRAME_RATE = 16000\n",
        "CHANNELS = 1\n",
        "\n",
        "model = Model(model_name=\"vosk-model-small-pt-0.3\") # modelo leve\n",
        "# model = Model(model_name=\"vosk-model-pt-fb-v0.1.1-20220516_2113\") # modelo pesado\n",
        "\n",
        "\n",
        "rec = KaldiRecognizer(model, FRAME_RATE)\n",
        "rec.SetWords(True)"
      ],
      "metadata": {
        "colab": {
          "base_uri": "https://localhost:8080/"
        },
        "id": "Jfe7iHpwjf4l",
        "outputId": "063dab43-8963-418f-9d9c-209eb5656225"
      },
      "execution_count": null,
      "outputs": [
        {
          "output_type": "stream",
          "name": "stderr",
          "text": [
            "vosk-model-small-pt-0.3.zip: 100%|██████████| 31.0M/31.0M [00:02<00:00, 13.2MB/s]\n"
          ]
        }
      ]
    },
    {
      "cell_type": "code",
      "source": [
        "# pip install pydub"
      ],
      "metadata": {
        "id": "_vft3Kzxjsj_"
      },
      "execution_count": null,
      "outputs": []
    },
    {
      "cell_type": "code",
      "source": [
        "from pydub import AudioSegment"
      ],
      "metadata": {
        "id": "Ks9XpmwIjgne"
      },
      "execution_count": null,
      "outputs": []
    },
    {
      "cell_type": "code",
      "source": [
        "mp3 = AudioSegment.from_mp3('audio.mp3')\n",
        "mp3 = mp3.set_channels(CHANNELS)\n",
        "mp3 = mp3.set_frame_rate(FRAME_RATE)"
      ],
      "metadata": {
        "id": "qp3gu-Cojwvp"
      },
      "execution_count": null,
      "outputs": []
    },
    {
      "cell_type": "code",
      "source": [
        "rec.AcceptWaveform(mp3.raw_data)\n",
        "result = rec.Result()"
      ],
      "metadata": {
        "id": "BPw4XcvYj2p9"
      },
      "execution_count": null,
      "outputs": []
    },
    {
      "cell_type": "code",
      "source": [
        "import json\n",
        "\n",
        "text = json.loads(result)[\"text\"]"
      ],
      "metadata": {
        "id": "C4F2TbZskAmx"
      },
      "execution_count": null,
      "outputs": []
    },
    {
      "cell_type": "code",
      "source": [
        "text"
      ],
      "metadata": {
        "id": "mmWKh41wkHxj",
        "colab": {
          "base_uri": "https://localhost:8080/",
          "height": 105
        },
        "outputId": "97396867-9ba0-4f98-ad8b-140cdd7f9389"
      },
      "execution_count": null,
      "outputs": [
        {
          "output_type": "execute_result",
          "data": {
            "text/plain": [
              "'ele teria que se licenciamento então é por exemplo em casa é um caso que vem pra cá terei de corrigir pelo menos em clique aqui e acho que você falou tudo isso aqui pra baixo também é assim cidade só deveriam aparecer nosso comunicações vodafone e esta série é e mel imediato após a áfrica ainda estão nunca vai parecer mesmo tanto aqui por exemplo quem está falando que tudo isso não que lhe for e será que dentro daqueles alzheimer exatamente está aparecendo depois de sua casa idêntico ao terceiro porque o processo de molho em água morna por aí de uma história sobre a um sim isso assim bem mas acho que de bom é tá no lugar errado também é esse o que eu aqui é só planejamento ministério internacional que tem baixo estão errados e o que rola tem aqui que me são de mim por exemplo seca boas colocar a margarina e que é a única ex se você viu esse por exemplo não quem aí a um momento tão pouco mais para cima de mim de mim não deveria aparecer nenhum dos nossos centros de custos isso tudo deve ser o sonho é outro tipo não necessariamente por que o faturamento indolor outra moeda estrangeira e de negócios internacionais caso por exemplo não são tem os casos também tem que avisar por que podem ser senão entre mim por exemplo a gente fatura essa fé que ao pé do francês na razão social essa razão social assim você que aquela é o mesmo mais perto do ps e é que se refere nosso um só lá em cima também dezenove tem um só francês que a gente vai ter que tomar cuidado para ver a origem deste faturamento porque tudo que for origem sabe ai gente essa é nossa tem que tomar cuidado porque tem os professores e que não sempre faturamento agora tem outro sistema há em mim então maravilhoso aí tudo que vem indireta do código a gente sabe que não tinha publicidade do canal que é que são também que tomam nessa nesses casos porque a vocação enterrada em posso até que possa trabalho trabalho atrás de selecionar pontos que eu sei que não são de de animais batem o que eu já vi vários que não são de mim que estão entrando no planejamento a publicidade que nacional não tem dois problemas em mim um que todos os casos de praticamente todos programado comercial aí os que não são gene também estão entrando para ele são dois problemas na bíblia que nossos e dos casos que nem nem se fala em caso de então a pedir para depois de passar direitinho porque o faturamento eu estou fazendo pra eu ver essa questão da alocação gente vamos fazer assim qualquer resultado daniel sexo que você está lançando eu preciso pegar um exemplo que querem perder muito do cliente que não é só para explicar pintam planilha de deus para resultado para sempre de custo o que você é o centro de dias ou tarde tá o que você vai que é o correto é a gente tem que olhar planilha de que o amor utiliza para fazer essa provisão de'"
            ],
            "application/vnd.google.colaboratory.intrinsic+json": {
              "type": "string"
            }
          },
          "metadata": {},
          "execution_count": 17
        }
      ]
    },
    {
      "cell_type": "code",
      "source": [
        "import subprocess\n",
        "subprocess.check_output(\"python recasepunc/recasepunc.py\")"
      ],
      "metadata": {
        "id": "ZzZc60EQlBq9"
      },
      "execution_count": null,
      "outputs": []
    }
  ]
}