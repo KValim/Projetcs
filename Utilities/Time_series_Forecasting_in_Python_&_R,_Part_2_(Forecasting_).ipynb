{
  "cells": [
    {
      "cell_type": "markdown",
      "metadata": {
        "id": "view-in-github",
        "colab_type": "text"
      },
      "source": [
        "<a href=\"https://colab.research.google.com/github/KValim/Projetcs/blob/main/Utilities/Time_series_Forecasting_in_Python_%26_R%2C_Part_2_(Forecasting_).ipynb\" target=\"_parent\"><img src=\"https://colab.research.google.com/assets/colab-badge.svg\" alt=\"Open In Colab\"/></a>"
      ]
    },
    {
      "cell_type": "markdown",
      "metadata": {
        "id": "uKN3K6BQeFjt"
      },
      "source": [
        "# Time series Forecasting in Python & R, Part 2 (Forecasting )\n",
        "> In the second part of this blog series on forecasting I discuss forecasting steps, evaluation of forecasting methods, model selection, combinining models for robust and accurate forecasting and forecast uncertainty.  \n",
        "\n",
        "- toc: true \n",
        "- badges: true\n",
        "- comments: true\n",
        "- categories: [forecasting,R,Python,rpy2,altair, fbprophet, ensemble_forecast, uncertainty, simulation]\n",
        "- hide: false"
      ]
    },
    {
      "cell_type": "markdown",
      "metadata": {
        "id": "PQ62LtwZeFjx"
      },
      "source": [
        "## Overview\n",
        "\n",
        "In Part 1, I did exploratory data analysis of sales time series of a French retailer. In this blog I will apply various time series models in Python and R to forecast sales for the next 4 quarters. The forecasting methods I will cover are:\n",
        "   * Seasonal Naive \n",
        "   * Triple Exponential Smoothing (Holt Winter's)\n",
        "   * ETS (State Space Error Trend Seasonality)\n",
        "   * SARIMA\n",
        "   * Facebook Prohet\n",
        "   * Ensemble Forecast\n",
        "\n",
        "For each of these models, I will provide a short description for intuitive understanding of these methods and give references for more academic explanation. For any forecasting model, the general steps are as below.\n",
        "\n",
        "### Forecasting Steps\n",
        "\n",
        "   1. EDA\n",
        "   2. Forecast on test set\n",
        "   3. Evaluate the forecast\n",
        "       - Use appropriate evaluation metric (%MAPE, RMSE, AIC)\n",
        "       - Plot the forecast against train and test data set\n",
        "   4. Check residuals. \n",
        "       - Plot residuals, plot ACF/PACF and Q/Q plots\n",
        "       - Conditions A, B below are essential and C,D are useful. Residuals should be:\n",
        "            1. Uncorrelated\n",
        "            2. Have zero (or close to zero) mean\n",
        "            3. Constant variance\n",
        "            4. Normally distributed \n",
        "            \n",
        "       - First two ensure that there is no more information that can be extracted from the data, while the bottom two keep the variability in the point forecast narrow\n",
        "   5. Select model(s)\n",
        "       - Forecast future series\n",
        "       - Prediction Interval\n",
        "       \n",
        "### Evaluation Metric\n",
        "\n",
        "We evaluate the forecasting model by comparing the fitted & predicted values against the actual values in training and test sets. Note that residuals are the difference between training data and fitted values, while forecast error is the difference between test data and predicted values. We use residuals to check performance of the model while errors for checking accuracy/uncertainty of the future forecast.\n",
        "\n",
        "As a general rule, if the data has no outliers RMSE (Root Mean Square Error) is a good metric to use. %MAPE (Mean Absolute Percentage Error) provides a more inutitive understanding as it is expressed in percentage. We do not use %MAPE if the series is intermittent to avoid division by zero. Note that both these measures are not scale independent but to keep things simple I will use RSME and MAPE. \n",
        "\n",
        "\n",
        "![Evaluation Metric](https://raw.githubusercontent.com/pawarbi/blog/master/images/emetric.JPG \"Evaluation Metric\")"
      ]
    },
    {
      "cell_type": "markdown",
      "metadata": {
        "id": "kF4CVb_ZeFj0"
      },
      "source": [
        "#### Importing libraries\n"
      ]
    },
    {
      "cell_type": "code",
      "source": [
        "!pip install pmdarima"
      ],
      "metadata": {
        "colab": {
          "base_uri": "https://localhost:8080/"
        },
        "id": "5aXq_wrAehKh",
        "outputId": "5faeda1b-6f56-40d9-8685-30aa64443e38"
      },
      "execution_count": 33,
      "outputs": [
        {
          "output_type": "stream",
          "name": "stdout",
          "text": [
            "Looking in indexes: https://pypi.org/simple, https://us-python.pkg.dev/colab-wheels/public/simple/\n",
            "Requirement already satisfied: pmdarima in /usr/local/lib/python3.8/dist-packages (2.0.2)\n",
            "Requirement already satisfied: scipy>=1.3.2 in /usr/local/lib/python3.8/dist-packages (from pmdarima) (1.7.3)\n",
            "Requirement already satisfied: scikit-learn>=0.22 in /usr/local/lib/python3.8/dist-packages (from pmdarima) (1.0.2)\n",
            "Requirement already satisfied: setuptools!=50.0.0,>=38.6.0 in /usr/local/lib/python3.8/dist-packages (from pmdarima) (57.4.0)\n",
            "Requirement already satisfied: urllib3 in /usr/local/lib/python3.8/dist-packages (from pmdarima) (1.24.3)\n",
            "Requirement already satisfied: numpy>=1.21.2 in /usr/local/lib/python3.8/dist-packages (from pmdarima) (1.21.6)\n",
            "Requirement already satisfied: Cython!=0.29.18,!=0.29.31,>=0.29 in /usr/local/lib/python3.8/dist-packages (from pmdarima) (0.29.32)\n",
            "Requirement already satisfied: pandas>=0.19 in /usr/local/lib/python3.8/dist-packages (from pmdarima) (1.3.5)\n",
            "Requirement already satisfied: joblib>=0.11 in /usr/local/lib/python3.8/dist-packages (from pmdarima) (1.2.0)\n",
            "Requirement already satisfied: statsmodels>=0.13.2 in /usr/local/lib/python3.8/dist-packages (from pmdarima) (0.13.5)\n",
            "Requirement already satisfied: pytz>=2017.3 in /usr/local/lib/python3.8/dist-packages (from pandas>=0.19->pmdarima) (2022.6)\n",
            "Requirement already satisfied: python-dateutil>=2.7.3 in /usr/local/lib/python3.8/dist-packages (from pandas>=0.19->pmdarima) (2.8.2)\n",
            "Requirement already satisfied: six>=1.5 in /usr/local/lib/python3.8/dist-packages (from python-dateutil>=2.7.3->pandas>=0.19->pmdarima) (1.15.0)\n",
            "Requirement already satisfied: threadpoolctl>=2.0.0 in /usr/local/lib/python3.8/dist-packages (from scikit-learn>=0.22->pmdarima) (3.1.0)\n",
            "Requirement already satisfied: packaging>=21.3 in /usr/local/lib/python3.8/dist-packages (from statsmodels>=0.13.2->pmdarima) (21.3)\n",
            "Requirement already satisfied: patsy>=0.5.2 in /usr/local/lib/python3.8/dist-packages (from statsmodels>=0.13.2->pmdarima) (0.5.3)\n",
            "Requirement already satisfied: pyparsing!=3.0.5,>=2.0.2 in /usr/local/lib/python3.8/dist-packages (from packaging>=21.3->statsmodels>=0.13.2->pmdarima) (3.0.9)\n"
          ]
        }
      ]
    },
    {
      "cell_type": "code",
      "source": [
        "!pip install prophet"
      ],
      "metadata": {
        "colab": {
          "base_uri": "https://localhost:8080/"
        },
        "id": "3f7mTk_TfEsY",
        "outputId": "36d69c07-3e0a-4208-f596-88ccb17784d6"
      },
      "execution_count": 34,
      "outputs": [
        {
          "output_type": "stream",
          "name": "stdout",
          "text": [
            "Looking in indexes: https://pypi.org/simple, https://us-python.pkg.dev/colab-wheels/public/simple/\n",
            "Requirement already satisfied: prophet in /usr/local/lib/python3.8/dist-packages (1.1.1)\n",
            "Requirement already satisfied: convertdate>=2.1.2 in /usr/local/lib/python3.8/dist-packages (from prophet) (2.4.0)\n",
            "Requirement already satisfied: wheel>=0.37.0 in /usr/local/lib/python3.8/dist-packages (from prophet) (0.38.4)\n",
            "Requirement already satisfied: setuptools-git>=1.2 in /usr/local/lib/python3.8/dist-packages (from prophet) (1.2)\n",
            "Requirement already satisfied: setuptools>=42 in /usr/local/lib/python3.8/dist-packages (from prophet) (57.4.0)\n",
            "Requirement already satisfied: numpy>=1.15.4 in /usr/local/lib/python3.8/dist-packages (from prophet) (1.21.6)\n",
            "Requirement already satisfied: holidays>=0.14.2 in /usr/local/lib/python3.8/dist-packages (from prophet) (0.17.2)\n",
            "Requirement already satisfied: tqdm>=4.36.1 in /usr/local/lib/python3.8/dist-packages (from prophet) (4.64.1)\n",
            "Requirement already satisfied: matplotlib>=2.0.0 in /usr/local/lib/python3.8/dist-packages (from prophet) (3.2.2)\n",
            "Requirement already satisfied: cmdstanpy>=1.0.4 in /usr/local/lib/python3.8/dist-packages (from prophet) (1.0.8)\n",
            "Requirement already satisfied: python-dateutil>=2.8.0 in /usr/local/lib/python3.8/dist-packages (from prophet) (2.8.2)\n",
            "Requirement already satisfied: pandas>=1.0.4 in /usr/local/lib/python3.8/dist-packages (from prophet) (1.3.5)\n",
            "Requirement already satisfied: LunarCalendar>=0.0.9 in /usr/local/lib/python3.8/dist-packages (from prophet) (0.0.9)\n",
            "Requirement already satisfied: pymeeus<=1,>=0.3.13 in /usr/local/lib/python3.8/dist-packages (from convertdate>=2.1.2->prophet) (0.5.12)\n",
            "Requirement already satisfied: korean-lunar-calendar in /usr/local/lib/python3.8/dist-packages (from holidays>=0.14.2->prophet) (0.3.1)\n",
            "Requirement already satisfied: hijri-converter in /usr/local/lib/python3.8/dist-packages (from holidays>=0.14.2->prophet) (2.2.4)\n",
            "Requirement already satisfied: pytz in /usr/local/lib/python3.8/dist-packages (from LunarCalendar>=0.0.9->prophet) (2022.6)\n",
            "Requirement already satisfied: ephem>=3.7.5.3 in /usr/local/lib/python3.8/dist-packages (from LunarCalendar>=0.0.9->prophet) (4.1.3)\n",
            "Requirement already satisfied: pyparsing!=2.0.4,!=2.1.2,!=2.1.6,>=2.0.1 in /usr/local/lib/python3.8/dist-packages (from matplotlib>=2.0.0->prophet) (3.0.9)\n",
            "Requirement already satisfied: kiwisolver>=1.0.1 in /usr/local/lib/python3.8/dist-packages (from matplotlib>=2.0.0->prophet) (1.4.4)\n",
            "Requirement already satisfied: cycler>=0.10 in /usr/local/lib/python3.8/dist-packages (from matplotlib>=2.0.0->prophet) (0.11.0)\n",
            "Requirement already satisfied: six>=1.5 in /usr/local/lib/python3.8/dist-packages (from python-dateutil>=2.8.0->prophet) (1.15.0)\n"
          ]
        }
      ]
    },
    {
      "cell_type": "code",
      "execution_count": 35,
      "metadata": {
        "id": "WwmPaX_KeFj1"
      },
      "outputs": [],
      "source": [
        "#collapse-hide\n",
        "#Author: Sandeep Pawar\n",
        "#Version: 1.0\n",
        "#Date Mar 27, 2020\n",
        "\n",
        "import pandas as pd\n",
        "import numpy as np\n",
        "import itertools\n",
        "\n",
        "#Plotting libraries\n",
        "import matplotlib.pyplot as plt\n",
        "import seaborn as sns\n",
        "import altair as alt\n",
        "plt.style.use('seaborn-white')\n",
        "pd.plotting.register_matplotlib_converters()\n",
        "%matplotlib inline\n",
        "\n",
        "#statistics libraries\n",
        "import statsmodels.api as sm\n",
        "import scipy\n",
        "from scipy.stats import anderson\n",
        "from statsmodels.tools.eval_measures import rmse\n",
        "from statsmodels.tsa.stattools import adfuller\n",
        "from statsmodels.graphics.tsaplots import month_plot, seasonal_plot, plot_acf, plot_pacf, quarter_plot\n",
        "from statsmodels.tsa.seasonal import seasonal_decompose\n",
        "from statsmodels.tsa.holtwinters import ExponentialSmoothing, SimpleExpSmoothing\n",
        "from statsmodels.stats.diagnostic import acorr_ljungbox as ljung\n",
        "from statsmodels.tsa.statespace.tools import diff as diff\n",
        "from statsmodels.tsa.statespace.sarimax import SARIMAX\n",
        "import pmdarima as pm\n",
        "from pmdarima import ARIMA, auto_arima\n",
        "from scipy import signal\n",
        "from scipy.stats import shapiro\n",
        "from scipy.stats import boxcox\n",
        "from scipy.special import inv_boxcox\n",
        "from sklearn.preprocessing import StandardScaler\n",
        "from scipy.stats import jarque_bera as jb\n",
        "from itertools import combinations\n",
        "\n",
        "import prophet as Prophet\n",
        "\n",
        "\n",
        "#library to use R in Python \n",
        "import rpy2\n",
        "from rpy2.robjects import pandas2ri\n",
        "pandas2ri.activate()\n",
        " \n",
        "\n",
        "\n",
        "import warnings\n",
        "warnings.filterwarnings(\"ignore\")\n",
        "np.random.seed(786)\n",
        "\n",
        "\n",
        "\n"
      ]
    },
    {
      "cell_type": "markdown",
      "metadata": {
        "id": "aRspxOjweFj4"
      },
      "source": [
        "#### Library versions"
      ]
    },
    {
      "cell_type": "code",
      "execution_count": 36,
      "metadata": {
        "id": "ikOBoWF4eFj5",
        "outputId": "af2ed8e3-9364-4616-cdd8-1442c63fd415",
        "colab": {
          "base_uri": "https://localhost:8080/"
        }
      },
      "outputs": [
        {
          "output_type": "stream",
          "name": "stdout",
          "text": [
            "Pandas: 1.3.5\n",
            "Statsmodels: 0.13.5\n",
            "Scipy: 1.7.3\n",
            "Rpy2: 3.5.5\n",
            "Numpy: 1.21.6\n"
          ]
        }
      ],
      "source": [
        "#Printing library versions\n",
        "\n",
        "print('Pandas:', pd.__version__)\n",
        "print('Statsmodels:', sm.__version__)\n",
        "print('Scipy:', scipy.__version__)\n",
        "print('Rpy2:', rpy2.__version__)\n",
        "print('Numpy:', np.__version__)"
      ]
    },
    {
      "cell_type": "markdown",
      "metadata": {
        "id": "CNAOWvZkeFj7"
      },
      "source": [
        "#### Various functions used \n",
        "\n",
        "Below are some of the custom functions I wrote for forecast accuracy, gridsearching, residual diagnostics."
      ]
    },
    {
      "cell_type": "code",
      "execution_count": 37,
      "metadata": {
        "id": "g3ydSI6JeFj8"
      },
      "outputs": [],
      "source": [
        "def MAPE(y_true, y_pred): \n",
        "    \"\"\"\n",
        "    %Error compares true value with predicted value. Lower the better. Use this along with rmse(). If the series has \n",
        "    outliers, compare/select model using MAPE instead of rmse()\n",
        "    \n",
        "    \"\"\"\n",
        "    y_true, y_pred = np.array(y_true), np.array(y_pred)\n",
        "    return np.mean(np.abs((y_true - y_pred) / y_true)) * 100\n",
        "\n",
        "def HWGrid(train, test, seasonal_periods):\n",
        "    \"\"\"\n",
        "    Author: Sandeep Pawar twitter: @PawarBI\n",
        "    Functions returns a dataframe with parameters of the Holt-Winter's method and corresponding train & test evaluation scores. \n",
        "    It also does a quick check of the residuals using Ljung-Box test and Shapiro test for normality. \n",
        "    Residuals must be uncorrelated. \n",
        "    \n",
        "    train: (pandas series)\n",
        "        -  Training data\n",
        "        \n",
        "    test: (pandas series)\n",
        "        -  Test data\n",
        "    \n",
        "    Seasonal_periods: int\n",
        "        - No of seasonas in the time period. e.g. 4 for Quarterly, 12 for Monthly, 52 for Weekly data\n",
        "        \n",
        "    \"\"\"\n",
        "\n",
        "\n",
        "    trend      = ['add','mul']\n",
        "    seasonal   = ['add','mul']\n",
        "    damped     = [False, True]\n",
        "    use_boxcox = [False, True, 'log']\n",
        "\n",
        "    params = itertools.product(trend,seasonal,damped,use_boxcox)\n",
        "\n",
        "    result_df = pd.DataFrame(columns=['Trend', 'Seasonal', 'Damped', 'BoxCox','AICc Train',  \n",
        "                                      '%MAPE_Train', 'RMSE_Train', '%MAPE_Test', \n",
        "                                      'RMSE_Test', \"Resid_LJ\", \"Resid_Norm\",\"Resid_mean\" ])\n",
        "    \n",
        "    \n",
        "    for trend,seasonal,damped,use_boxcox in params:\n",
        "    \n",
        "            model = ExponentialSmoothing(train, \n",
        "                                     trend=trend,\n",
        "                                     damped=damped,\n",
        "                                     seasonal=seasonal,\n",
        "                                     seasonal_periods=seasonal_periods).fit(use_boxcox=use_boxcox)\n",
        "    \n",
        "    \n",
        "            \n",
        "            mape1=MAPE(train,model.fittedvalues) \n",
        "            rmse1=rmse(train,model.fittedvalues)\n",
        "\n",
        "            mape2=MAPE(test,model.forecast(len(test))) \n",
        "            rmse2=rmse(test,model.forecast(len(test)))\n",
        "\n",
        "            aicc1 = model.aicc.round(1)\n",
        "\n",
        "               \n",
        "    \n",
        "            lj_p_val = np.mean(ljung(x=model.resid, lags=10)[1])\n",
        "            norm_p_val =  jb(model.resid)[1]#shapiro(model.resid)[1]\n",
        "    \n",
        "            lj = \"Uncorrelated\" if lj_p_val > 0.05 else \"Correlated\"\n",
        "            norm = \"Normal\" if norm_p_val > 0.05 else \"Non-Normal\"\n",
        "            \n",
        "    \n",
        "            result_df = result_df.append({'Trend':trend       ,\n",
        "                              'Seasonal': seasonal            ,\n",
        "                              'Damped':damped                 ,\n",
        "                              'BoxCox':use_boxcox             ,\n",
        "                              '%MAPE_Train':np.round(mape1,2) ,\n",
        "                              'RMSE_Train':np.round(rmse1,1)  ,\n",
        "                              'AICc Train':aicc1              ,\n",
        "                              '%MAPE_Test':np.round(mape2,2)  ,\n",
        "                              'RMSE_Test':np.round(rmse2,1)   ,\n",
        "                              'Resid_LJ' :lj                  ,\n",
        "                              'Resid_Norm':norm               ,\n",
        "                              'Resid_mean':np.round(model.resid.mean(),1)} , ignore_index=True, sort=False)\n",
        "    \n",
        "    \n",
        "    return result_df.sort_values(by=[\"RMSE_Test\", \"%MAPE_Test\",\"RMSE_Train\",\"%MAPE_Train\"]).style.format({\"%MAPE_Train\": \"{:20,.2f}%\", \"%MAPE_Test\": \"{:20,.2f}%\"}).highlight_min(color='lightgreen')\n",
        "    \n",
        "\n"
      ]
    },
    {
      "cell_type": "markdown",
      "metadata": {
        "id": "ysQX7oDXeFj-"
      },
      "source": [
        "Calculating cross-validation score for Holt-Winter's method in Python "
      ]
    },
    {
      "cell_type": "code",
      "execution_count": 38,
      "metadata": {
        "id": "HOfHfU5weFj_"
      },
      "outputs": [],
      "source": [
        "def hw_cv(series, seasonal_periods, initial_train_window, test_window):\n",
        "    \n",
        "    from statsmodels.tools.eval_measures import rmse\n",
        "    import warnings\n",
        "    warnings.filterwarnings(\"ignore\")\n",
        "    \n",
        "    \"\"\"\n",
        "     Author: Sandeep Pawar\n",
        "     Date: 4/15/2020\n",
        "     Ver: 1.0\n",
        "     \n",
        "     Returns Rolling and Expanding cross-validation scores (avg rmse), along with model paramters\n",
        "     for Triple Exponential Smoothing method. Expanding expands the training set each time by adding one observation, \n",
        "     while rolling slides the training and test by one observation each time. \n",
        "     \n",
        "     Output shows parameters used and Rolling & Expanding cv scores. Output is in below order:\n",
        "          1. Trend 2. Seasonal 3. Damped 4. use_boxcox 5. Rolling cv 6. Expanding cv \n",
        "     \n",
        "     Requirements: Pandas, Numpy, Statsmodels, itertools, rmse \n",
        "     \n",
        "     series: Pandas Series\n",
        "             Time series \n",
        "     \n",
        "     seasonal_periods: int\n",
        "             No of seasonal periods in a full cycle (e.g. 4 in quarter, 12 in monthly, 52 in weekly data)\n",
        "             \n",
        "     initial_train_window: int\n",
        "             Minimum training set length. Recommended to use minimum 2 * seasonal_periods\n",
        "     \n",
        "     test_window: int\n",
        "             Test set length. Recommended to use equal to forecast horizon\n",
        "             \n",
        "     e.g. hw_cv(ts[\"Sales\"], 4, 12, 6 )\n",
        "          Output: add add False False    R: 41.3   ,E: 39.9\n",
        "\n",
        "          \n",
        "     Note: This function can take anywhere from 5-15 min to run full output        \n",
        "    \n",
        "     \n",
        "    \n",
        "    \n",
        "    \"\"\"\n",
        "    \n",
        "    \n",
        "    def expanding_tscv(series,trend,seasonal,seasonal_periods,damped,boxcox,initial_train_window, test_window):\n",
        "        i =  0\n",
        "        x = initial_train_window\n",
        "        t = test_window\n",
        "        errors_roll=[]\n",
        "\n",
        "        while (i+x+t) <len(series):\n",
        "            train_ts=series[:(i+x)].values\n",
        "            test_ts= series[(i+x):(i+x+t)].values\n",
        "            model_roll = ExponentialSmoothing(train_ts,\n",
        "                                         trend=trend,\n",
        "                                         seasonal=seasonal,\n",
        "                                         seasonal_periods=seasonal_periods,\n",
        "                                         damped=damped).fit(use_boxcox=boxcox)\n",
        "\n",
        "            fcast = model_roll.forecast(t)\n",
        "\n",
        "            error_roll = rmse(test_ts, fcast)\n",
        "\n",
        "            errors_roll.append(error_roll)\n",
        "\n",
        "            i=i+1\n",
        "\n",
        "\n",
        "        return np.mean(errors_roll).round(1)\n",
        "\n",
        "    def rolling_tscv(series,trend,seasonal,seasonal_periods,damped,boxcox,initial_train_window, test_window):\n",
        "        i =  0\n",
        "        x = initial_train_window\n",
        "        t = test_window\n",
        "        errors_roll=[]\n",
        "\n",
        "        while (i+x+t) <len(series):\n",
        "            train_ts=series[(i):(i+x)].values\n",
        "            test_ts= series[(i+x):(i+x+t)].values\n",
        "            model_roll = ExponentialSmoothing(train_ts,\n",
        "                                         trend=trend,\n",
        "                                         seasonal=seasonal,\n",
        "                                         seasonal_periods=seasonal_periods,\n",
        "                                         damped=damped).fit(use_boxcox=boxcox)\n",
        "\n",
        "            fcast = model_roll.forecast(t)\n",
        "\n",
        "            error_roll = rmse(test_ts, fcast)\n",
        "\n",
        "            errors_roll.append(error_roll)\n",
        "\n",
        "            i=i+1\n",
        "\n",
        "   \n",
        "        return np.mean(errors_roll).round(1)\n",
        "   \n",
        "    trend      = ['add','mul']\n",
        "    seasonal   = ['add','mul']\n",
        "    damped     = [False, True]\n",
        "    use_boxcox = [False, True, 'log']\n",
        "\n",
        "    params = itertools.product(trend,seasonal,damped,use_boxcox)\n",
        "\n",
        "    for trend,seasonal,damped,use_boxcox in params:\n",
        "        r=rolling_tscv(data[\"Sales\"], trend, seasonal, 4, damped, use_boxcox, 12,4)\n",
        "        e=expanding_tscv(data[\"Sales\"], trend, seasonal, 4, damped, use_boxcox, 12,4)\n",
        "        result = print(trend, seasonal, damped, use_boxcox,\"   R:\", r,\"  ,E:\", e)\n",
        "          \n",
        "    return result"
      ]
    },
    {
      "cell_type": "markdown",
      "metadata": {
        "id": "2rqRytc8eFkB"
      },
      "source": [
        "Function for residual diagnostics"
      ]
    },
    {
      "cell_type": "code",
      "execution_count": 39,
      "metadata": {
        "id": "iDGwH_ZGeFkC"
      },
      "outputs": [],
      "source": [
        "def residcheck(residuals, lags):\n",
        "    \"\"\"\n",
        "    Function to check if the residuals are white noise. Ideally the residuals should be uncorrelated, zero mean, \n",
        "    constant variance and normally distributed. First two are must, while last two are good to have. \n",
        "    If the first two are not met, we have not fully captured the information from the data for prediction. \n",
        "    Consider different model and/or add exogenous variable. \n",
        "    \n",
        "    If Ljung Box test shows p> 0.05, the residuals as a group are white noise. Some lags might still be significant. \n",
        "    \n",
        "    Lags should be min(2*seasonal_period, T/5)\n",
        "    \n",
        "    plots from: https://tomaugspurger.github.io/modern-7-timeseries.html\n",
        "    \n",
        "    \"\"\"\n",
        "    resid_mean = np.mean(residuals)\n",
        "    lj_p_val = np.mean(ljung(x=residuals, lags=lags)[1])\n",
        "    norm_p_val =  jb(residuals)[1]\n",
        "    adfuller_p = adfuller(residuals)[1]\n",
        "    \n",
        "    \n",
        "    \n",
        "    fig = plt.figure(figsize=(10,8))\n",
        "    layout = (2, 2)\n",
        "    ts_ax = plt.subplot2grid(layout, (0, 0), colspan=2);\n",
        "    acf_ax = plt.subplot2grid(layout, (1, 0));\n",
        "    kde_ax = plt.subplot2grid(layout, (1, 1));\n",
        "\n",
        "    residuals.plot(ax=ts_ax)\n",
        "    plot_acf(residuals, lags=lags, ax=acf_ax);\n",
        "    sns.kdeplot(residuals);\n",
        "    #[ax.set_xlim(1.5) for ax in [acf_ax, kde_ax]]\n",
        "    sns.despine()\n",
        "    plt.tight_layout();\n",
        "    \n",
        "    print(\"** Mean of the residuals: \", np.around(resid_mean,2))\n",
        "    \n",
        "    print(\"\\n** Ljung Box Test, p-value:\", np.around(lj_p_val,3), \"(>0.05, Uncorrelated)\" if (lj_p_val > 0.05) else \"(<0.05, Correlated)\")\n",
        "    \n",
        "    print(\"\\n** Jarque Bera Normality Test, p_value:\", np.around(norm_p_val,3), \"(>0.05, Normal)\" if (norm_p_val>0.05) else \"(<0.05, Not-normal)\")\n",
        "    \n",
        "    print(\"\\n** AD Fuller, p_value:\", np.around(adfuller_p,3), \"(>0.05, Non-stationary)\" if (adfuller_p > 0.05) else \"(<0.05, Stationary)\")\n",
        "    \n",
        "    \n",
        "    \n",
        "    return ts_ax, acf_ax, kde_ax\n"
      ]
    },
    {
      "cell_type": "markdown",
      "metadata": {
        "id": "fnjqAco0eFkE"
      },
      "source": [
        "Function for calculating RMSE & %MAPE "
      ]
    },
    {
      "cell_type": "code",
      "execution_count": 40,
      "metadata": {
        "id": "GKvfQ14keFkE"
      },
      "outputs": [],
      "source": [
        "def accuracy(y1,y2):\n",
        "    \n",
        "    accuracy_df=pd.DataFrame()\n",
        "    \n",
        "    rms_error = np.round(rmse(y1, y2),1)\n",
        "    \n",
        "    map_error = np.round(np.mean(np.abs((np.array(y1) - np.array(y2)) / np.array(y1))) * 100,1)\n",
        "           \n",
        "    accuracy_df=accuracy_df.append({\"RMSE\":rms_error, \"%MAPE\": map_error}, ignore_index=True)\n",
        "    \n",
        "    return accuracy_df\n"
      ]
    },
    {
      "cell_type": "markdown",
      "metadata": {
        "id": "FgUOUNo-eFkF"
      },
      "source": [
        "### Importing Data"
      ]
    },
    {
      "cell_type": "code",
      "execution_count": 41,
      "metadata": {
        "id": "ayp80SmMeFkF",
        "outputId": "b364369e-af00-48a3-c7ed-ada09a08e75a",
        "colab": {
          "base_uri": "https://localhost:8080/",
          "height": 237
        }
      },
      "outputs": [
        {
          "output_type": "execute_result",
          "data": {
            "text/plain": [
              "            Sales\n",
              "Date             \n",
              "2012-03-31  362.0\n",
              "2012-06-30  385.0\n",
              "2012-09-30  432.0\n",
              "2012-12-31  341.0\n",
              "2013-03-31  382.0"
            ],
            "text/html": [
              "\n",
              "  <div id=\"df-391d4a6c-33cc-40be-9050-7bc5f92edca8\">\n",
              "    <div class=\"colab-df-container\">\n",
              "      <div>\n",
              "<style scoped>\n",
              "    .dataframe tbody tr th:only-of-type {\n",
              "        vertical-align: middle;\n",
              "    }\n",
              "\n",
              "    .dataframe tbody tr th {\n",
              "        vertical-align: top;\n",
              "    }\n",
              "\n",
              "    .dataframe thead th {\n",
              "        text-align: right;\n",
              "    }\n",
              "</style>\n",
              "<table border=\"1\" class=\"dataframe\">\n",
              "  <thead>\n",
              "    <tr style=\"text-align: right;\">\n",
              "      <th></th>\n",
              "      <th>Sales</th>\n",
              "    </tr>\n",
              "    <tr>\n",
              "      <th>Date</th>\n",
              "      <th></th>\n",
              "    </tr>\n",
              "  </thead>\n",
              "  <tbody>\n",
              "    <tr>\n",
              "      <th>2012-03-31</th>\n",
              "      <td>362.0</td>\n",
              "    </tr>\n",
              "    <tr>\n",
              "      <th>2012-06-30</th>\n",
              "      <td>385.0</td>\n",
              "    </tr>\n",
              "    <tr>\n",
              "      <th>2012-09-30</th>\n",
              "      <td>432.0</td>\n",
              "    </tr>\n",
              "    <tr>\n",
              "      <th>2012-12-31</th>\n",
              "      <td>341.0</td>\n",
              "    </tr>\n",
              "    <tr>\n",
              "      <th>2013-03-31</th>\n",
              "      <td>382.0</td>\n",
              "    </tr>\n",
              "  </tbody>\n",
              "</table>\n",
              "</div>\n",
              "      <button class=\"colab-df-convert\" onclick=\"convertToInteractive('df-391d4a6c-33cc-40be-9050-7bc5f92edca8')\"\n",
              "              title=\"Convert this dataframe to an interactive table.\"\n",
              "              style=\"display:none;\">\n",
              "        \n",
              "  <svg xmlns=\"http://www.w3.org/2000/svg\" height=\"24px\"viewBox=\"0 0 24 24\"\n",
              "       width=\"24px\">\n",
              "    <path d=\"M0 0h24v24H0V0z\" fill=\"none\"/>\n",
              "    <path d=\"M18.56 5.44l.94 2.06.94-2.06 2.06-.94-2.06-.94-.94-2.06-.94 2.06-2.06.94zm-11 1L8.5 8.5l.94-2.06 2.06-.94-2.06-.94L8.5 2.5l-.94 2.06-2.06.94zm10 10l.94 2.06.94-2.06 2.06-.94-2.06-.94-.94-2.06-.94 2.06-2.06.94z\"/><path d=\"M17.41 7.96l-1.37-1.37c-.4-.4-.92-.59-1.43-.59-.52 0-1.04.2-1.43.59L10.3 9.45l-7.72 7.72c-.78.78-.78 2.05 0 2.83L4 21.41c.39.39.9.59 1.41.59.51 0 1.02-.2 1.41-.59l7.78-7.78 2.81-2.81c.8-.78.8-2.07 0-2.86zM5.41 20L4 18.59l7.72-7.72 1.47 1.35L5.41 20z\"/>\n",
              "  </svg>\n",
              "      </button>\n",
              "      \n",
              "  <style>\n",
              "    .colab-df-container {\n",
              "      display:flex;\n",
              "      flex-wrap:wrap;\n",
              "      gap: 12px;\n",
              "    }\n",
              "\n",
              "    .colab-df-convert {\n",
              "      background-color: #E8F0FE;\n",
              "      border: none;\n",
              "      border-radius: 50%;\n",
              "      cursor: pointer;\n",
              "      display: none;\n",
              "      fill: #1967D2;\n",
              "      height: 32px;\n",
              "      padding: 0 0 0 0;\n",
              "      width: 32px;\n",
              "    }\n",
              "\n",
              "    .colab-df-convert:hover {\n",
              "      background-color: #E2EBFA;\n",
              "      box-shadow: 0px 1px 2px rgba(60, 64, 67, 0.3), 0px 1px 3px 1px rgba(60, 64, 67, 0.15);\n",
              "      fill: #174EA6;\n",
              "    }\n",
              "\n",
              "    [theme=dark] .colab-df-convert {\n",
              "      background-color: #3B4455;\n",
              "      fill: #D2E3FC;\n",
              "    }\n",
              "\n",
              "    [theme=dark] .colab-df-convert:hover {\n",
              "      background-color: #434B5C;\n",
              "      box-shadow: 0px 1px 3px 1px rgba(0, 0, 0, 0.15);\n",
              "      filter: drop-shadow(0px 1px 2px rgba(0, 0, 0, 0.3));\n",
              "      fill: #FFFFFF;\n",
              "    }\n",
              "  </style>\n",
              "\n",
              "      <script>\n",
              "        const buttonEl =\n",
              "          document.querySelector('#df-391d4a6c-33cc-40be-9050-7bc5f92edca8 button.colab-df-convert');\n",
              "        buttonEl.style.display =\n",
              "          google.colab.kernel.accessAllowed ? 'block' : 'none';\n",
              "\n",
              "        async function convertToInteractive(key) {\n",
              "          const element = document.querySelector('#df-391d4a6c-33cc-40be-9050-7bc5f92edca8');\n",
              "          const dataTable =\n",
              "            await google.colab.kernel.invokeFunction('convertToInteractive',\n",
              "                                                     [key], {});\n",
              "          if (!dataTable) return;\n",
              "\n",
              "          const docLinkHtml = 'Like what you see? Visit the ' +\n",
              "            '<a target=\"_blank\" href=https://colab.research.google.com/notebooks/data_table.ipynb>data table notebook</a>'\n",
              "            + ' to learn more about interactive tables.';\n",
              "          element.innerHTML = '';\n",
              "          dataTable['output_type'] = 'display_data';\n",
              "          await google.colab.output.renderOutput(dataTable, element);\n",
              "          const docLink = document.createElement('div');\n",
              "          docLink.innerHTML = docLinkHtml;\n",
              "          element.appendChild(docLink);\n",
              "        }\n",
              "      </script>\n",
              "    </div>\n",
              "  </div>\n",
              "  "
            ]
          },
          "metadata": {},
          "execution_count": 41
        }
      ],
      "source": [
        "\n",
        "path = 'https://raw.githubusercontent.com/pawarbi/datasets/master/timeseries/ts_frenchretail.csv'\n",
        "\n",
        "#Sales numbers are in thousands, so I am dividing by 1000 to make it easier to work with numbers, especially squared errors\n",
        "data = pd.read_csv(path, parse_dates=True, index_col=\"Date\").div(1_000)\n",
        "\n",
        "data.index.freq='Q'\n",
        "\n",
        "data.head()       \n"
      ]
    },
    {
      "cell_type": "code",
      "execution_count": 42,
      "metadata": {
        "scrolled": true,
        "id": "tVjRv0gqeFkG",
        "outputId": "9556357a-4010-4c2f-81c9-03b639e9a1e9",
        "colab": {
          "base_uri": "https://localhost:8080/"
        }
      },
      "outputs": [
        {
          "output_type": "execute_result",
          "data": {
            "text/plain": [
              "DatetimeIndex(['2012-03-31', '2012-06-30', '2012-09-30', '2012-12-31',\n",
              "               '2013-03-31', '2013-06-30', '2013-09-30', '2013-12-31',\n",
              "               '2014-03-31', '2014-06-30', '2014-09-30', '2014-12-31',\n",
              "               '2015-03-31', '2015-06-30', '2015-09-30', '2015-12-31',\n",
              "               '2016-03-31', '2016-06-30', '2016-09-30', '2016-12-31',\n",
              "               '2017-03-31', '2017-06-30', '2017-09-30', '2017-12-31'],\n",
              "              dtype='datetime64[ns]', name='Date', freq='Q-DEC')"
            ]
          },
          "metadata": {},
          "execution_count": 42
        }
      ],
      "source": [
        "data.index"
      ]
    },
    {
      "cell_type": "markdown",
      "metadata": {
        "id": "RO_tiDqReFkH"
      },
      "source": [
        "### Train Test Split:\n",
        "\n",
        "Part 1 on EDA covers this in detail. I will be using both typical train/test split and cross-validation for training & evaluation. \n"
      ]
    },
    {
      "cell_type": "code",
      "execution_count": 43,
      "metadata": {
        "id": "XWdzyY5UeFkI",
        "outputId": "1cb44f85-fb3a-4888-e926-44d7c2408de9",
        "colab": {
          "base_uri": "https://localhost:8080/"
        }
      },
      "outputs": [
        {
          "output_type": "stream",
          "name": "stdout",
          "text": [
            "train_length: 18 \n",
            "test_length: 6\n",
            "BoxCox parameter to linearize the series: -0.21\n"
          ]
        }
      ],
      "source": [
        "#Split into train and test\n",
        "train = data.iloc[:-6]\n",
        "test  = data.iloc[-6:]\n",
        "#forecast horizon\n",
        "h = 6\n",
        "train_length = len(train)\n",
        "\n",
        "print('train_length:',train_length, '\\ntest_length:', len(test) )\n",
        "\n",
        "#Creating BxCox transformed train & test to be used later\n",
        "train_bcox, bcox_lam = boxcox(train[\"Sales\"])\n",
        "print(\"BoxCox parameter to linearize the series:\", bcox_lam.round(2))\n",
        "test_bcox = boxcox(test[\"Sales\"], lmbda=bcox_lam)\n",
        "\n",
        "train_log = np.log(train[\"Sales\"])\n",
        "\n"
      ]
    },
    {
      "cell_type": "code",
      "execution_count": 44,
      "metadata": {
        "id": "Rw6r7KoteFkI",
        "outputId": "7e162365-cf1d-4725-f310-c3df6a6063ab",
        "colab": {
          "base_uri": "https://localhost:8080/",
          "height": 386
        }
      },
      "outputs": [
        {
          "output_type": "execute_result",
          "data": {
            "text/html": [
              "\n",
              "<div id=\"altair-viz-500e62e2b5e948bfa7dae2265bb5b6b4\"></div>\n",
              "<script type=\"text/javascript\">\n",
              "  var VEGA_DEBUG = (typeof VEGA_DEBUG == \"undefined\") ? {} : VEGA_DEBUG;\n",
              "  (function(spec, embedOpt){\n",
              "    let outputDiv = document.currentScript.previousElementSibling;\n",
              "    if (outputDiv.id !== \"altair-viz-500e62e2b5e948bfa7dae2265bb5b6b4\") {\n",
              "      outputDiv = document.getElementById(\"altair-viz-500e62e2b5e948bfa7dae2265bb5b6b4\");\n",
              "    }\n",
              "    const paths = {\n",
              "      \"vega\": \"https://cdn.jsdelivr.net/npm//vega@5?noext\",\n",
              "      \"vega-lib\": \"https://cdn.jsdelivr.net/npm//vega-lib?noext\",\n",
              "      \"vega-lite\": \"https://cdn.jsdelivr.net/npm//vega-lite@4.17.0?noext\",\n",
              "      \"vega-embed\": \"https://cdn.jsdelivr.net/npm//vega-embed@6?noext\",\n",
              "    };\n",
              "\n",
              "    function maybeLoadScript(lib, version) {\n",
              "      var key = `${lib.replace(\"-\", \"\")}_version`;\n",
              "      return (VEGA_DEBUG[key] == version) ?\n",
              "        Promise.resolve(paths[lib]) :\n",
              "        new Promise(function(resolve, reject) {\n",
              "          var s = document.createElement('script');\n",
              "          document.getElementsByTagName(\"head\")[0].appendChild(s);\n",
              "          s.async = true;\n",
              "          s.onload = () => {\n",
              "            VEGA_DEBUG[key] = version;\n",
              "            return resolve(paths[lib]);\n",
              "          };\n",
              "          s.onerror = () => reject(`Error loading script: ${paths[lib]}`);\n",
              "          s.src = paths[lib];\n",
              "        });\n",
              "    }\n",
              "\n",
              "    function showError(err) {\n",
              "      outputDiv.innerHTML = `<div class=\"error\" style=\"color:red;\">${err}</div>`;\n",
              "      throw err;\n",
              "    }\n",
              "\n",
              "    function displayChart(vegaEmbed) {\n",
              "      vegaEmbed(outputDiv, spec, embedOpt)\n",
              "        .catch(err => showError(`Javascript Error: ${err.message}<br>This usually means there's a typo in your chart specification. See the javascript console for the full traceback.`));\n",
              "    }\n",
              "\n",
              "    if(typeof define === \"function\" && define.amd) {\n",
              "      requirejs.config({paths});\n",
              "      require([\"vega-embed\"], displayChart, err => showError(`Error loading script: ${err.message}`));\n",
              "    } else {\n",
              "      maybeLoadScript(\"vega\", \"5\")\n",
              "        .then(() => maybeLoadScript(\"vega-lite\", \"4.17.0\"))\n",
              "        .then(() => maybeLoadScript(\"vega-embed\", \"6\"))\n",
              "        .catch(showError)\n",
              "        .then(() => displayChart(vegaEmbed));\n",
              "    }\n",
              "  })({\"config\": {\"view\": {\"continuousWidth\": 400, \"continuousHeight\": 300}}, \"layer\": [{\"data\": {\"name\": \"data-74dd0b556d75380e7718fb4a77af8d68\"}, \"mark\": {\"type\": \"line\", \"point\": true}, \"encoding\": {\"tooltip\": [{\"field\": \"Date\", \"type\": \"temporal\"}, {\"field\": \"Sales\", \"type\": \"quantitative\"}], \"x\": {\"field\": \"Date\", \"type\": \"temporal\"}, \"y\": {\"field\": \"Sales\", \"type\": \"quantitative\"}}, \"selection\": {\"selector002\": {\"type\": \"interval\", \"bind\": \"scales\"}}}, {\"data\": {\"name\": \"data-74dd0b556d75380e7718fb4a77af8d68\"}, \"mark\": {\"type\": \"trail\", \"color\": \"orange\", \"size\": 1}, \"encoding\": {\"size\": {\"field\": \"Sales\", \"type\": \"quantitative\"}, \"x\": {\"field\": \"Date\", \"type\": \"temporal\"}, \"y\": {\"field\": \"rolling_mean\", \"type\": \"quantitative\"}}, \"transform\": [{\"window\": [{\"op\": \"mean\", \"field\": \"Sales\", \"as\": \"rolling_mean\"}], \"frame\": [-4, 4]}]}, {\"data\": {\"name\": \"data-74dd0b556d75380e7718fb4a77af8d68\"}, \"mark\": {\"type\": \"text\", \"align\": \"left\", \"baseline\": \"top\", \"dx\": 5}, \"encoding\": {\"text\": {\"field\": \"Sales\", \"type\": \"quantitative\"}, \"tooltip\": [{\"field\": \"Date\", \"type\": \"temporal\"}, {\"field\": \"Sales\", \"type\": \"quantitative\"}], \"x\": {\"field\": \"Date\", \"type\": \"temporal\"}, \"y\": {\"field\": \"Sales\", \"type\": \"quantitative\"}}}], \"title\": \"French Retail Sales & 4Q Rolling mean ( in '000)\", \"width\": 600, \"$schema\": \"https://vega.github.io/schema/vega-lite/v4.17.0.json\", \"datasets\": {\"data-74dd0b556d75380e7718fb4a77af8d68\": [{\"Date\": \"2012-03-31T00:00:00\", \"Sales\": 362.0}, {\"Date\": \"2012-06-30T00:00:00\", \"Sales\": 385.0}, {\"Date\": \"2012-09-30T00:00:00\", \"Sales\": 432.0}, {\"Date\": \"2012-12-31T00:00:00\", \"Sales\": 341.0}, {\"Date\": \"2013-03-31T00:00:00\", \"Sales\": 382.0}, {\"Date\": \"2013-06-30T00:00:00\", \"Sales\": 409.0}, {\"Date\": \"2013-09-30T00:00:00\", \"Sales\": 498.0}, {\"Date\": \"2013-12-31T00:00:00\", \"Sales\": 387.0}, {\"Date\": \"2014-03-31T00:00:00\", \"Sales\": 473.0}, {\"Date\": \"2014-06-30T00:00:00\", \"Sales\": 513.0}, {\"Date\": \"2014-09-30T00:00:00\", \"Sales\": 582.0}, {\"Date\": \"2014-12-31T00:00:00\", \"Sales\": 474.0}, {\"Date\": \"2015-03-31T00:00:00\", \"Sales\": 544.0}, {\"Date\": \"2015-06-30T00:00:00\", \"Sales\": 582.0}, {\"Date\": \"2015-09-30T00:00:00\", \"Sales\": 681.0}, {\"Date\": \"2015-12-31T00:00:00\", \"Sales\": 557.0}, {\"Date\": \"2016-03-31T00:00:00\", \"Sales\": 628.0}, {\"Date\": \"2016-06-30T00:00:00\", \"Sales\": 707.0}]}}, {\"mode\": \"vega-lite\"});\n",
              "</script>"
            ],
            "text/plain": [
              "alt.LayerChart(...)"
            ]
          },
          "metadata": {},
          "execution_count": 44
        }
      ],
      "source": [
        "#collapse-hide\n",
        "#Create line chart for Training data. index is reset to use Date column\n",
        "train_chart=alt.Chart(train.reset_index()).mark_line(point=True).encode(\n",
        "    x='Date', \n",
        "    y='Sales', \n",
        "    tooltip=['Date', 'Sales'])\n",
        "\n",
        "#Create Rolling mean. This centered rolling mean \n",
        "rolling_mean = alt.Chart(train.reset_index()).mark_trail(\n",
        "    color='orange',\n",
        "    size=1\n",
        ").transform_window(\n",
        "    rolling_mean='mean(Sales)',\n",
        "    frame=[-4,4]\n",
        ").encode(\n",
        "    x='Date:T',\n",
        "    y='rolling_mean:Q',\n",
        "    size='Sales'\n",
        ")\n",
        "\n",
        "#Add data labels\n",
        "text = train_chart.mark_text(\n",
        "    align='left',\n",
        "    baseline='top',\n",
        "    dx=5  # Moves text to right so it doesn't appear on top of the bar\n",
        ").encode(\n",
        "    text='Sales:Q'\n",
        ")\n",
        "\n",
        "#Add zoom-in/out\n",
        "scales = alt.selection_interval(bind='scales')\n",
        "\n",
        "#Combine everything\n",
        "(train_chart + rolling_mean +text).properties(\n",
        "    width=600, \n",
        "    title=\"French Retail Sales & 4Q Rolling mean ( in '000)\").add_selection(\n",
        "    scales\n",
        ")"
      ]
    },
    {
      "cell_type": "markdown",
      "metadata": {
        "id": "cusgBtqXeFkJ"
      },
      "source": [
        "### Seasonal Naive"
      ]
    },
    {
      "cell_type": "markdown",
      "metadata": {
        "id": "tfUxDViqeFkK"
      },
      "source": [
        "Seasonal naive method uses the observations from the corresponding season from last period. For example, forecast Q3 would be sales from Q3 last year. It does not take any trend or previous history into account. This method, as expected, is not the most accurate but helps create a baseline. As we explore more complex models, we want them to perform better than this and compare them with seasonal naive forecast."
      ]
    },
    {
      "cell_type": "markdown",
      "metadata": {
        "id": "fFGChKmNeFkK"
      },
      "source": [
        "![snaive](https://raw.githubusercontent.com/pawarbi/blog/master/images/naive.JPG \"SeasonalNaive Forecast\")"
      ]
    },
    {
      "cell_type": "markdown",
      "metadata": {
        "id": "LUXfdOVoeFkL"
      },
      "source": [
        "This method is not available in statsmodels library so I wrote a function for it."
      ]
    },
    {
      "cell_type": "code",
      "execution_count": 45,
      "metadata": {
        "id": "o2BRmBRzeFkL"
      },
      "outputs": [],
      "source": [
        "def pysnaive(train_series,seasonal_periods,forecast_horizon):\n",
        "    '''\n",
        "    Python implementation of Seasonal Naive Forecast. \n",
        "    This should work similar to https://otexts.com/fpp2/simple-methods.html\n",
        "    Returns two arrays\n",
        "     > fitted: Values fitted to the training dataset\n",
        "     > fcast: seasonal naive forecast\n",
        "    \n",
        "    Author: Sandeep Pawar\n",
        "    \n",
        "    Date: Apr 9, 2020\n",
        "    \n",
        "    Ver: 1.0\n",
        "    \n",
        "    train_series: Pandas Series\n",
        "        Training Series to be used for forecasting. This should be a valid Pandas Series. \n",
        "        Length of the Training set should be greater than or equal to number of seasonal periods\n",
        "        \n",
        "    Seasonal_periods: int\n",
        "        No of seasonal periods\n",
        "        Yearly=1\n",
        "        Quarterly=4\n",
        "        Monthly=12\n",
        "        Weekly=52\n",
        "        \n",
        "\n",
        "    Forecast_horizon: int\n",
        "        Number of values to forecast into the future\n",
        "    \n",
        "    e.g. \n",
        "    fitted_values = pysnaive(train,12,12)[0]\n",
        "    fcast_values = pysnaive(train,12,12)[1]\n",
        "    '''\n",
        "    \n",
        "    if len(train_series)>= seasonal_periods: #checking if there are enough observations in the training data\n",
        "        \n",
        "        last_season=train_series.iloc[-seasonal_periods:]\n",
        "        \n",
        "        reps=np.int(np.ceil(forecast_horizon/seasonal_periods))\n",
        "        \n",
        "        fcarray=np.tile(last_season,reps)\n",
        "        \n",
        "        fcast=pd.Series(fcarray[:forecast_horizon])\n",
        "        \n",
        "        fitted = train_series.shift(seasonal_periods)\n",
        "        \n",
        "    else:\n",
        "        fcast=print(\"Length of the trainining set must be greater than number of seasonal periods\") \n",
        "    \n",
        "    return fitted, fcast"
      ]
    },
    {
      "cell_type": "code",
      "execution_count": 46,
      "metadata": {
        "id": "A3Kac9hGeFkM"
      },
      "outputs": [],
      "source": [
        "#Before I create the model, I am going to create a dataframe to store all out-of=sample forecasts and the test set\n",
        "predictions = test.copy()\n"
      ]
    },
    {
      "cell_type": "markdown",
      "metadata": {
        "id": "XdxCOFm9eFkM"
      },
      "source": [
        "##### Seasonal Naive Forecast model\n"
      ]
    },
    {
      "cell_type": "code",
      "execution_count": 47,
      "metadata": {
        "id": "zg-CeOKKeFkN",
        "outputId": "bc015870-12a3-4b22-f578-839c31d8028e",
        "colab": {
          "base_uri": "https://localhost:8080/",
          "height": 269
        }
      },
      "outputs": [
        {
          "output_type": "execute_result",
          "data": {
            "text/plain": [
              "            Sales  py_snaive\n",
              "Date                        \n",
              "2016-09-30  773.0      681.0\n",
              "2016-12-31  592.0      557.0\n",
              "2017-03-31  627.0      628.0\n",
              "2017-06-30  725.0      707.0\n",
              "2017-09-30  854.0      681.0\n",
              "2017-12-31  661.0      557.0"
            ],
            "text/html": [
              "\n",
              "  <div id=\"df-ec658049-62c7-4ec6-a81a-4ac044fb5a17\">\n",
              "    <div class=\"colab-df-container\">\n",
              "      <div>\n",
              "<style scoped>\n",
              "    .dataframe tbody tr th:only-of-type {\n",
              "        vertical-align: middle;\n",
              "    }\n",
              "\n",
              "    .dataframe tbody tr th {\n",
              "        vertical-align: top;\n",
              "    }\n",
              "\n",
              "    .dataframe thead th {\n",
              "        text-align: right;\n",
              "    }\n",
              "</style>\n",
              "<table border=\"1\" class=\"dataframe\">\n",
              "  <thead>\n",
              "    <tr style=\"text-align: right;\">\n",
              "      <th></th>\n",
              "      <th>Sales</th>\n",
              "      <th>py_snaive</th>\n",
              "    </tr>\n",
              "    <tr>\n",
              "      <th>Date</th>\n",
              "      <th></th>\n",
              "      <th></th>\n",
              "    </tr>\n",
              "  </thead>\n",
              "  <tbody>\n",
              "    <tr>\n",
              "      <th>2016-09-30</th>\n",
              "      <td>773.0</td>\n",
              "      <td>681.0</td>\n",
              "    </tr>\n",
              "    <tr>\n",
              "      <th>2016-12-31</th>\n",
              "      <td>592.0</td>\n",
              "      <td>557.0</td>\n",
              "    </tr>\n",
              "    <tr>\n",
              "      <th>2017-03-31</th>\n",
              "      <td>627.0</td>\n",
              "      <td>628.0</td>\n",
              "    </tr>\n",
              "    <tr>\n",
              "      <th>2017-06-30</th>\n",
              "      <td>725.0</td>\n",
              "      <td>707.0</td>\n",
              "    </tr>\n",
              "    <tr>\n",
              "      <th>2017-09-30</th>\n",
              "      <td>854.0</td>\n",
              "      <td>681.0</td>\n",
              "    </tr>\n",
              "    <tr>\n",
              "      <th>2017-12-31</th>\n",
              "      <td>661.0</td>\n",
              "      <td>557.0</td>\n",
              "    </tr>\n",
              "  </tbody>\n",
              "</table>\n",
              "</div>\n",
              "      <button class=\"colab-df-convert\" onclick=\"convertToInteractive('df-ec658049-62c7-4ec6-a81a-4ac044fb5a17')\"\n",
              "              title=\"Convert this dataframe to an interactive table.\"\n",
              "              style=\"display:none;\">\n",
              "        \n",
              "  <svg xmlns=\"http://www.w3.org/2000/svg\" height=\"24px\"viewBox=\"0 0 24 24\"\n",
              "       width=\"24px\">\n",
              "    <path d=\"M0 0h24v24H0V0z\" fill=\"none\"/>\n",
              "    <path d=\"M18.56 5.44l.94 2.06.94-2.06 2.06-.94-2.06-.94-.94-2.06-.94 2.06-2.06.94zm-11 1L8.5 8.5l.94-2.06 2.06-.94-2.06-.94L8.5 2.5l-.94 2.06-2.06.94zm10 10l.94 2.06.94-2.06 2.06-.94-2.06-.94-.94-2.06-.94 2.06-2.06.94z\"/><path d=\"M17.41 7.96l-1.37-1.37c-.4-.4-.92-.59-1.43-.59-.52 0-1.04.2-1.43.59L10.3 9.45l-7.72 7.72c-.78.78-.78 2.05 0 2.83L4 21.41c.39.39.9.59 1.41.59.51 0 1.02-.2 1.41-.59l7.78-7.78 2.81-2.81c.8-.78.8-2.07 0-2.86zM5.41 20L4 18.59l7.72-7.72 1.47 1.35L5.41 20z\"/>\n",
              "  </svg>\n",
              "      </button>\n",
              "      \n",
              "  <style>\n",
              "    .colab-df-container {\n",
              "      display:flex;\n",
              "      flex-wrap:wrap;\n",
              "      gap: 12px;\n",
              "    }\n",
              "\n",
              "    .colab-df-convert {\n",
              "      background-color: #E8F0FE;\n",
              "      border: none;\n",
              "      border-radius: 50%;\n",
              "      cursor: pointer;\n",
              "      display: none;\n",
              "      fill: #1967D2;\n",
              "      height: 32px;\n",
              "      padding: 0 0 0 0;\n",
              "      width: 32px;\n",
              "    }\n",
              "\n",
              "    .colab-df-convert:hover {\n",
              "      background-color: #E2EBFA;\n",
              "      box-shadow: 0px 1px 2px rgba(60, 64, 67, 0.3), 0px 1px 3px 1px rgba(60, 64, 67, 0.15);\n",
              "      fill: #174EA6;\n",
              "    }\n",
              "\n",
              "    [theme=dark] .colab-df-convert {\n",
              "      background-color: #3B4455;\n",
              "      fill: #D2E3FC;\n",
              "    }\n",
              "\n",
              "    [theme=dark] .colab-df-convert:hover {\n",
              "      background-color: #434B5C;\n",
              "      box-shadow: 0px 1px 3px 1px rgba(0, 0, 0, 0.15);\n",
              "      filter: drop-shadow(0px 1px 2px rgba(0, 0, 0, 0.3));\n",
              "      fill: #FFFFFF;\n",
              "    }\n",
              "  </style>\n",
              "\n",
              "      <script>\n",
              "        const buttonEl =\n",
              "          document.querySelector('#df-ec658049-62c7-4ec6-a81a-4ac044fb5a17 button.colab-df-convert');\n",
              "        buttonEl.style.display =\n",
              "          google.colab.kernel.accessAllowed ? 'block' : 'none';\n",
              "\n",
              "        async function convertToInteractive(key) {\n",
              "          const element = document.querySelector('#df-ec658049-62c7-4ec6-a81a-4ac044fb5a17');\n",
              "          const dataTable =\n",
              "            await google.colab.kernel.invokeFunction('convertToInteractive',\n",
              "                                                     [key], {});\n",
              "          if (!dataTable) return;\n",
              "\n",
              "          const docLinkHtml = 'Like what you see? Visit the ' +\n",
              "            '<a target=\"_blank\" href=https://colab.research.google.com/notebooks/data_table.ipynb>data table notebook</a>'\n",
              "            + ' to learn more about interactive tables.';\n",
              "          element.innerHTML = '';\n",
              "          dataTable['output_type'] = 'display_data';\n",
              "          await google.colab.output.renderOutput(dataTable, element);\n",
              "          const docLink = document.createElement('div');\n",
              "          docLink.innerHTML = docLinkHtml;\n",
              "          element.appendChild(docLink);\n",
              "        }\n",
              "      </script>\n",
              "    </div>\n",
              "  </div>\n",
              "  "
            ]
          },
          "metadata": {},
          "execution_count": 47
        }
      ],
      "source": [
        "#Fitted values\n",
        "py_snaive_fit = pysnaive(train[\"Sales\"], \n",
        "                     seasonal_periods=4,\n",
        "                     forecast_horizon=6)[0]\n",
        "\n",
        "#forecast\n",
        "py_snaive = pysnaive(train[\"Sales\"], \n",
        "                     seasonal_periods=4,\n",
        "                     forecast_horizon=6)[1]\n",
        "\n",
        "#Residuals\n",
        "py_snaive_resid = (train[\"Sales\"] - py_snaive_fit).dropna()\n",
        "\n",
        "\n",
        "\n",
        "\n",
        "predictions[\"py_snaive\"] = py_snaive.values \n",
        "\n",
        "\n",
        "predictions"
      ]
    },
    {
      "cell_type": "markdown",
      "metadata": {
        "id": "yIDJK9CEeFkN"
      },
      "source": [
        "##### Plot the Forecast"
      ]
    },
    {
      "cell_type": "code",
      "execution_count": 48,
      "metadata": {
        "scrolled": false,
        "id": "OhmsYV0peFkN",
        "outputId": "037c8508-dcf6-46d9-e425-0f911a02d9d6",
        "colab": {
          "base_uri": "https://localhost:8080/",
          "height": 493
        }
      },
      "outputs": [
        {
          "output_type": "display_data",
          "data": {
            "text/plain": [
              "<Figure size 864x576 with 1 Axes>"
            ],
            "image/png": "[encoded data removed]"
          },
          "metadata": {
            "needs_background": "light"
          }
        }
      ],
      "source": [
        "pd.plotting.register_matplotlib_converters()\n",
        "train[\"Sales\"].plot(figsize=(12,8))#, style=\"--\", color=\"gray\", legend=True, label=\"Train\")\n",
        "py_snaive_fit.plot(color=\"b\", legend=True, label=\"SNaive_Fitted\")\n",
        "predictions[\"Sales\"].plot(style=\"--\",color=\"r\", legend=True, label=\"Test\")\n",
        "predictions[\"py_snaive\"].plot(color=\"b\", legend=True, label=\"Snaive_fc\");\n"
      ]
    },
    {
      "cell_type": "markdown",
      "metadata": {
        "id": "OjaddZV-eFkO"
      },
      "source": [
        "##### Model Evaluation:"
      ]
    },
    {
      "cell_type": "code",
      "execution_count": 49,
      "metadata": {
        "id": "h0hrsNnueFkO",
        "outputId": "57bc9ee6-e0e4-416c-cbdb-dfcf569cfbdd",
        "colab": {
          "base_uri": "https://localhost:8080/",
          "height": 81
        }
      },
      "outputs": [
        {
          "output_type": "execute_result",
          "data": {
            "text/plain": [
              "   RMSE  %MAPE\n",
              "0  80.3   13.9"
            ],
            "text/html": [
              "\n",
              "  <div id=\"df-63613488-077d-4cd2-b7ec-038665b95a46\">\n",
              "    <div class=\"colab-df-container\">\n",
              "      <div>\n",
              "<style scoped>\n",
              "    .dataframe tbody tr th:only-of-type {\n",
              "        vertical-align: middle;\n",
              "    }\n",
              "\n",
              "    .dataframe tbody tr th {\n",
              "        vertical-align: top;\n",
              "    }\n",
              "\n",
              "    .dataframe thead th {\n",
              "        text-align: right;\n",
              "    }\n",
              "</style>\n",
              "<table border=\"1\" class=\"dataframe\">\n",
              "  <thead>\n",
              "    <tr style=\"text-align: right;\">\n",
              "      <th></th>\n",
              "      <th>RMSE</th>\n",
              "      <th>%MAPE</th>\n",
              "    </tr>\n",
              "  </thead>\n",
              "  <tbody>\n",
              "    <tr>\n",
              "      <th>0</th>\n",
              "      <td>80.3</td>\n",
              "      <td>13.9</td>\n",
              "    </tr>\n",
              "  </tbody>\n",
              "</table>\n",
              "</div>\n",
              "      <button class=\"colab-df-convert\" onclick=\"convertToInteractive('df-63613488-077d-4cd2-b7ec-038665b95a46')\"\n",
              "              title=\"Convert this dataframe to an interactive table.\"\n",
              "              style=\"display:none;\">\n",
              "        \n",
              "  <svg xmlns=\"http://www.w3.org/2000/svg\" height=\"24px\"viewBox=\"0 0 24 24\"\n",
              "       width=\"24px\">\n",
              "    <path d=\"M0 0h24v24H0V0z\" fill=\"none\"/>\n",
              "    <path d=\"M18.56 5.44l.94 2.06.94-2.06 2.06-.94-2.06-.94-.94-2.06-.94 2.06-2.06.94zm-11 1L8.5 8.5l.94-2.06 2.06-.94-2.06-.94L8.5 2.5l-.94 2.06-2.06.94zm10 10l.94 2.06.94-2.06 2.06-.94-2.06-.94-.94-2.06-.94 2.06-2.06.94z\"/><path d=\"M17.41 7.96l-1.37-1.37c-.4-.4-.92-.59-1.43-.59-.52 0-1.04.2-1.43.59L10.3 9.45l-7.72 7.72c-.78.78-.78 2.05 0 2.83L4 21.41c.39.39.9.59 1.41.59.51 0 1.02-.2 1.41-.59l7.78-7.78 2.81-2.81c.8-.78.8-2.07 0-2.86zM5.41 20L4 18.59l7.72-7.72 1.47 1.35L5.41 20z\"/>\n",
              "  </svg>\n",
              "      </button>\n",
              "      \n",
              "  <style>\n",
              "    .colab-df-container {\n",
              "      display:flex;\n",
              "      flex-wrap:wrap;\n",
              "      gap: 12px;\n",
              "    }\n",
              "\n",
              "    .colab-df-convert {\n",
              "      background-color: #E8F0FE;\n",
              "      border: none;\n",
              "      border-radius: 50%;\n",
              "      cursor: pointer;\n",
              "      display: none;\n",
              "      fill: #1967D2;\n",
              "      height: 32px;\n",
              "      padding: 0 0 0 0;\n",
              "      width: 32px;\n",
              "    }\n",
              "\n",
              "    .colab-df-convert:hover {\n",
              "      background-color: #E2EBFA;\n",
              "      box-shadow: 0px 1px 2px rgba(60, 64, 67, 0.3), 0px 1px 3px 1px rgba(60, 64, 67, 0.15);\n",
              "      fill: #174EA6;\n",
              "    }\n",
              "\n",
              "    [theme=dark] .colab-df-convert {\n",
              "      background-color: #3B4455;\n",
              "      fill: #D2E3FC;\n",
              "    }\n",
              "\n",
              "    [theme=dark] .colab-df-convert:hover {\n",
              "      background-color: #434B5C;\n",
              "      box-shadow: 0px 1px 3px 1px rgba(0, 0, 0, 0.15);\n",
              "      filter: drop-shadow(0px 1px 2px rgba(0, 0, 0, 0.3));\n",
              "      fill: #FFFFFF;\n",
              "    }\n",
              "  </style>\n",
              "\n",
              "      <script>\n",
              "        const buttonEl =\n",
              "          document.querySelector('#df-63613488-077d-4cd2-b7ec-038665b95a46 button.colab-df-convert');\n",
              "        buttonEl.style.display =\n",
              "          google.colab.kernel.accessAllowed ? 'block' : 'none';\n",
              "\n",
              "        async function convertToInteractive(key) {\n",
              "          const element = document.querySelector('#df-63613488-077d-4cd2-b7ec-038665b95a46');\n",
              "          const dataTable =\n",
              "            await google.colab.kernel.invokeFunction('convertToInteractive',\n",
              "                                                     [key], {});\n",
              "          if (!dataTable) return;\n",
              "\n",
              "          const docLinkHtml = 'Like what you see? Visit the ' +\n",
              "            '<a target=\"_blank\" href=https://colab.research.google.com/notebooks/data_table.ipynb>data table notebook</a>'\n",
              "            + ' to learn more about interactive tables.';\n",
              "          element.innerHTML = '';\n",
              "          dataTable['output_type'] = 'display_data';\n",
              "          await google.colab.output.renderOutput(dataTable, element);\n",
              "          const docLink = document.createElement('div');\n",
              "          docLink.innerHTML = docLinkHtml;\n",
              "          element.appendChild(docLink);\n",
              "        }\n",
              "      </script>\n",
              "    </div>\n",
              "  </div>\n",
              "  "
            ]
          },
          "metadata": {},
          "execution_count": 49
        }
      ],
      "source": [
        "#Training score\n",
        "accuracy(train[\"Sales\"].iloc[-len(py_snaive_fit.dropna()):], py_snaive_fit.dropna())"
      ]
    },
    {
      "cell_type": "markdown",
      "metadata": {
        "id": "MilqCu9yeFkO"
      },
      "source": [
        "##### Model Accuracy"
      ]
    },
    {
      "cell_type": "code",
      "execution_count": 50,
      "metadata": {
        "id": "UY5d7GkdeFkP",
        "outputId": "17c7d092-77b7-44df-bd35-0d1aac25f6f3",
        "colab": {
          "base_uri": "https://localhost:8080/",
          "height": 81
        }
      },
      "outputs": [
        {
          "output_type": "execute_result",
          "data": {
            "text/plain": [
              "   RMSE  %MAPE\n",
              "0  92.0    9.4"
            ],
            "text/html": [
              "\n",
              "  <div id=\"df-32d094ff-7fa3-4e09-8555-bda1abb9ddbf\">\n",
              "    <div class=\"colab-df-container\">\n",
              "      <div>\n",
              "<style scoped>\n",
              "    .dataframe tbody tr th:only-of-type {\n",
              "        vertical-align: middle;\n",
              "    }\n",
              "\n",
              "    .dataframe tbody tr th {\n",
              "        vertical-align: top;\n",
              "    }\n",
              "\n",
              "    .dataframe thead th {\n",
              "        text-align: right;\n",
              "    }\n",
              "</style>\n",
              "<table border=\"1\" class=\"dataframe\">\n",
              "  <thead>\n",
              "    <tr style=\"text-align: right;\">\n",
              "      <th></th>\n",
              "      <th>RMSE</th>\n",
              "      <th>%MAPE</th>\n",
              "    </tr>\n",
              "  </thead>\n",
              "  <tbody>\n",
              "    <tr>\n",
              "      <th>0</th>\n",
              "      <td>92.0</td>\n",
              "      <td>9.4</td>\n",
              "    </tr>\n",
              "  </tbody>\n",
              "</table>\n",
              "</div>\n",
              "      <button class=\"colab-df-convert\" onclick=\"convertToInteractive('df-32d094ff-7fa3-4e09-8555-bda1abb9ddbf')\"\n",
              "              title=\"Convert this dataframe to an interactive table.\"\n",
              "              style=\"display:none;\">\n",
              "        \n",
              "  <svg xmlns=\"http://www.w3.org/2000/svg\" height=\"24px\"viewBox=\"0 0 24 24\"\n",
              "       width=\"24px\">\n",
              "    <path d=\"M0 0h24v24H0V0z\" fill=\"none\"/>\n",
              "    <path d=\"M18.56 5.44l.94 2.06.94-2.06 2.06-.94-2.06-.94-.94-2.06-.94 2.06-2.06.94zm-11 1L8.5 8.5l.94-2.06 2.06-.94-2.06-.94L8.5 2.5l-.94 2.06-2.06.94zm10 10l.94 2.06.94-2.06 2.06-.94-2.06-.94-.94-2.06-.94 2.06-2.06.94z\"/><path d=\"M17.41 7.96l-1.37-1.37c-.4-.4-.92-.59-1.43-.59-.52 0-1.04.2-1.43.59L10.3 9.45l-7.72 7.72c-.78.78-.78 2.05 0 2.83L4 21.41c.39.39.9.59 1.41.59.51 0 1.02-.2 1.41-.59l7.78-7.78 2.81-2.81c.8-.78.8-2.07 0-2.86zM5.41 20L4 18.59l7.72-7.72 1.47 1.35L5.41 20z\"/>\n",
              "  </svg>\n",
              "      </button>\n",
              "      \n",
              "  <style>\n",
              "    .colab-df-container {\n",
              "      display:flex;\n",
              "      flex-wrap:wrap;\n",
              "      gap: 12px;\n",
              "    }\n",
              "\n",
              "    .colab-df-convert {\n",
              "      background-color: #E8F0FE;\n",
              "      border: none;\n",
              "      border-radius: 50%;\n",
              "      cursor: pointer;\n",
              "      display: none;\n",
              "      fill: #1967D2;\n",
              "      height: 32px;\n",
              "      padding: 0 0 0 0;\n",
              "      width: 32px;\n",
              "    }\n",
              "\n",
              "    .colab-df-convert:hover {\n",
              "      background-color: #E2EBFA;\n",
              "      box-shadow: 0px 1px 2px rgba(60, 64, 67, 0.3), 0px 1px 3px 1px rgba(60, 64, 67, 0.15);\n",
              "      fill: #174EA6;\n",
              "    }\n",
              "\n",
              "    [theme=dark] .colab-df-convert {\n",
              "      background-color: #3B4455;\n",
              "      fill: #D2E3FC;\n",
              "    }\n",
              "\n",
              "    [theme=dark] .colab-df-convert:hover {\n",
              "      background-color: #434B5C;\n",
              "      box-shadow: 0px 1px 3px 1px rgba(0, 0, 0, 0.15);\n",
              "      filter: drop-shadow(0px 1px 2px rgba(0, 0, 0, 0.3));\n",
              "      fill: #FFFFFF;\n",
              "    }\n",
              "  </style>\n",
              "\n",
              "      <script>\n",
              "        const buttonEl =\n",
              "          document.querySelector('#df-32d094ff-7fa3-4e09-8555-bda1abb9ddbf button.colab-df-convert');\n",
              "        buttonEl.style.display =\n",
              "          google.colab.kernel.accessAllowed ? 'block' : 'none';\n",
              "\n",
              "        async function convertToInteractive(key) {\n",
              "          const element = document.querySelector('#df-32d094ff-7fa3-4e09-8555-bda1abb9ddbf');\n",
              "          const dataTable =\n",
              "            await google.colab.kernel.invokeFunction('convertToInteractive',\n",
              "                                                     [key], {});\n",
              "          if (!dataTable) return;\n",
              "\n",
              "          const docLinkHtml = 'Like what you see? Visit the ' +\n",
              "            '<a target=\"_blank\" href=https://colab.research.google.com/notebooks/data_table.ipynb>data table notebook</a>'\n",
              "            + ' to learn more about interactive tables.';\n",
              "          element.innerHTML = '';\n",
              "          dataTable['output_type'] = 'display_data';\n",
              "          await google.colab.output.renderOutput(dataTable, element);\n",
              "          const docLink = document.createElement('div');\n",
              "          docLink.innerHTML = docLinkHtml;\n",
              "          element.appendChild(docLink);\n",
              "        }\n",
              "      </script>\n",
              "    </div>\n",
              "  </div>\n",
              "  "
            ]
          },
          "metadata": {},
          "execution_count": 50
        }
      ],
      "source": [
        "#Test score\n",
        "accuracy(predictions[\"Sales\"], predictions[\"py_snaive\"])"
      ]
    },
    {
      "cell_type": "markdown",
      "metadata": {
        "id": "V06v2bzkeFkP"
      },
      "source": [
        "##### Residual Check"
      ]
    },
    {
      "cell_type": "code",
      "execution_count": 51,
      "metadata": {
        "id": "nWb259VkeFkP"
      },
      "outputs": [],
      "source": [
        "# residcheck(py_snaive_resid.dropna(),12);\n"
      ]
    },
    {
      "cell_type": "markdown",
      "metadata": {
        "id": "BNVDqAYkeFkQ"
      },
      "source": [
        "##### observations:\n",
        "\n",
        "1. Seasonal naive forecast actually performs quite well considering it's just a logical forecasting method and there is no statistical procedure involved. \n",
        "2. Model captures seasonality and general trend quite well but under forecasts (underfitting)\n",
        "3. Training RMSE is 80.3 and test RMSE is 92 which is less than the standard deviation of the training set (111).\n",
        "4. Residual analysis shows residuls are not stationary and have non-zero mean. Residual plot clearly shows that the model hasn't extracted the trend and seasonal behaviour as well as we would like. Though visually the model seems to perform well, it's not a useful model **on its own**\n",
        "5. Non-zero mean can be fixed by adding the mean back to the forecasts as explained [here](https://otexts.com/fpp2/residuals.html) but in this case the mean is significantly away from zero.\n",
        "5. We could perhaps fit an AR model to the residuals to get more out of it. If you look at the ACF plot, it shows no lags are significant but the PACF plot (see below) shows 4,9,10,11,12 are significant. This is an AR process signature. Thus, if we want to capture information and make this model useful, we can fit an AR model to the residuals to create a 2 layer model\n",
        "6. This shows importance of always checking the residuals after fitting the model"
      ]
    },
    {
      "cell_type": "code",
      "execution_count": 54,
      "metadata": {
        "id": "PjDKi9WKeFkQ",
        "outputId": "2b691ca9-79a7-4e78-c0fb-20864e164948",
        "colab": {
          "base_uri": "https://localhost:8080/",
          "height": 277
        }
      },
      "outputs": [
        {
          "output_type": "display_data",
          "data": {
            "text/plain": [
              "<Figure size 432x288 with 1 Axes>"
            ],
            "image/png": "[encoded data removed]"
          },
          "metadata": {
            "needs_background": "light"
          }
        }
      ],
      "source": [
        "#PACF of Seasonal Snaive model residuals\n",
        "plot_acf(py_snaive_resid);\n",
        "# plot_pacf(py_snaive_resid);"
      ]
    },
    {
      "cell_type": "markdown",
      "metadata": {
        "id": "ow-CdWUieFkQ"
      },
      "source": [
        "### Triple Exponential Smoothing (Holt-Winter's Method)"
      ]
    },
    {
      "cell_type": "markdown",
      "metadata": {
        "id": "DZF9r5e7eFkR"
      },
      "source": [
        "Triple Exponential Smoothing (Holt Winter's method) decomposes the series into level, trend, seasonality. Future values are predicted by combining these systematic factors based on recent history. The intuitive idea here is that the future will behave very similar to recent past, we just have to find how much of the past is relevant. The three systematic components are:\n",
        "   - **Level**, (alpha): Average value around which the series varies. For a seasonal time series, level is obtained by first de-seasonalizing the series and then averaging. Alpha value determines how much of the past to consider and is between [0,1]. alpha=1 means give importance only to the last data point (naive forecast)  \n",
        "   - **Trend**, (beta): Trend is how the level changes over time. Similar to alpha, a beta value closer to 1 indicates the model is considering only the recent trend. Trend also has a damping factor (phi) which determines how much of the recent trend to 'forget'. Consider it as a de-rating factor on trend. \n",
        "   - **Seasonality** (gamma): This factor models how the series behaves in each time period for full season. Recall that in the previous blog about EDA (Part 1), I calculated the seasonal factors. Gamma is the same thing.\n",
        "   \n",
        "This method is called \"Exponential\" because each of the above factors give exponential weightage to the past values.\n",
        "\n",
        "Additive model = (Level + Trend) + Seasonality\n",
        "\n",
        "Multiplicative Model = (Level * Trend) * Seasonality\n",
        "\n",
        "The `Exponentialsmoothing()` method in statsmodels finds the optimal alpha, beta, gamma and phi by minizing the errors.\n"
      ]
    },
    {
      "cell_type": "markdown",
      "metadata": {
        "id": "DIxsB-x8eFkR"
      },
      "source": [
        "![Trend and Seasonality](https://raw.githubusercontent.com/pawarbi/blog/master/images/ets.JPG \"Trend & Seasonality\")"
      ]
    },
    {
      "cell_type": "code",
      "execution_count": 54,
      "metadata": {
        "id": "KsH-gELKeFkR"
      },
      "outputs": [],
      "source": []
    },
    {
      "cell_type": "markdown",
      "metadata": {
        "id": "IH8dsqvheFkR"
      },
      "source": [
        "#### Additive vs Multiplicative\n",
        "\n",
        "Depending on the temporal structure of the time series, trend and seasonality can show additive, multiplicative or mix behaviour. \n",
        "\n",
        "In case of trend, if the time series has linear trend, it's additive. If it is exponentially increasing (power law), a multiplicative model might fit better. \n",
        "\n",
        "Seasonality is calculated relative to the level. If a series has additive seasonality, each season varies +/- relative to the level. E.g. in a quarterly series, in Q1 we might add +30 more units, -60 in Q2, +120 in Q3 and +60 in Q4 relative to level. Thus, seasonality peaks have somehwat fix height relative to level everywhere. On the other hand, in a multiplicative seasonality, the quantities will vary by %, i.e +5% in Q1, -7% in Q2, +10% in Q3 and +5 in Q4 relative to trend. As the level increases or decreases, seasonality can vary by %. \n",
        "\n",
        "For this time series, we identified during EDA (Part 1) that trend is exponential. Seasonality can be modeled as additive or multiplicatives. Note that we can turn a multiplicative component into additive by taking log or using power transform (BoxCox). This is often preferred and may perform better.\n",
        "\n",
        "Refer to Part 1 where I calculated these seasonality factors. \n",
        "\n",
        "I replicated an illustration from Everette Gardener's [paper](https://www.bauer.uh.edu/gardner/docs/pdf/Exp-Sm-1985.pdf) to show this effect below. I highly recommend reading it if you are ineterested in exponential smoothing. \n",
        "\n",
        "![Trend and Seasonality](https://raw.githubusercontent.com/pawarbi/blog/master/images/trend-seas.JPG \"Ref: https://www.bauer.uh.edu/gardner/docs/pdf/Exp-Sm-1985.pdf\")"
      ]
    },
    {
      "cell_type": "markdown",
      "metadata": {
        "id": "LeAVQ46SeFkS"
      },
      "source": [
        "##### Grid Searching Triple Exponential Smoothing (Holt-Winter's Method)"
      ]
    },
    {
      "cell_type": "markdown",
      "metadata": {
        "id": "hJYlo4XgeFkS"
      },
      "source": [
        "Instead of fitting each model individually, I wrote a custom function `HWGrid()` to perform uniform, gridsearch using the model parameters. This function also returns statistics on residuals (Ljung Box test, Normality test and mean). You get model evaluation metric and residual metric for 24 models. This may take a while (5-15 min) on your computer. "
      ]
    },
    {
      "cell_type": "code",
      "execution_count": 55,
      "metadata": {
        "scrolled": false,
        "id": "g9uG7GimeFkS",
        "colab": {
          "base_uri": "https://localhost:8080/",
          "height": 344
        },
        "outputId": "8086992a-7db3-4e24-b077-8333cd58364b"
      },
      "outputs": [
        {
          "output_type": "error",
          "ename": "ValueError",
          "evalue": "ignored",
          "traceback": [
            "\u001b[0;31m---------------------------------------------------------------------------\u001b[0m",
            "\u001b[0;31mValueError\u001b[0m                                Traceback (most recent call last)",
            "\u001b[0;32m<ipython-input-55-826062e33231>\u001b[0m in \u001b[0;36m<module>\u001b[0;34m\u001b[0m\n\u001b[0;32m----> 1\u001b[0;31m \u001b[0mm\u001b[0m\u001b[0;34m=\u001b[0m\u001b[0mHWGrid\u001b[0m\u001b[0;34m(\u001b[0m\u001b[0mtrain\u001b[0m\u001b[0;34m[\u001b[0m\u001b[0;34m\"Sales\"\u001b[0m\u001b[0;34m]\u001b[0m\u001b[0;34m,\u001b[0m \u001b[0mtest\u001b[0m\u001b[0;34m[\u001b[0m\u001b[0;34m\"Sales\"\u001b[0m\u001b[0;34m]\u001b[0m\u001b[0;34m,\u001b[0m \u001b[0mseasonal_periods\u001b[0m\u001b[0;34m=\u001b[0m\u001b[0;36m4\u001b[0m\u001b[0;34m)\u001b[0m\u001b[0;34m\u001b[0m\u001b[0;34m\u001b[0m\u001b[0m\n\u001b[0m",
            "\u001b[0;32m<ipython-input-37-77b51113c673>\u001b[0m in \u001b[0;36mHWGrid\u001b[0;34m(train, test, seasonal_periods)\u001b[0m\n\u001b[1;32m     41\u001b[0m     \u001b[0;32mfor\u001b[0m \u001b[0mtrend\u001b[0m\u001b[0;34m,\u001b[0m\u001b[0mseasonal\u001b[0m\u001b[0;34m,\u001b[0m\u001b[0mdamped\u001b[0m\u001b[0;34m,\u001b[0m\u001b[0muse_boxcox\u001b[0m \u001b[0;32min\u001b[0m \u001b[0mparams\u001b[0m\u001b[0;34m:\u001b[0m\u001b[0;34m\u001b[0m\u001b[0;34m\u001b[0m\u001b[0m\n\u001b[1;32m     42\u001b[0m \u001b[0;34m\u001b[0m\u001b[0m\n\u001b[0;32m---> 43\u001b[0;31m             model = ExponentialSmoothing(train, \n\u001b[0m\u001b[1;32m     44\u001b[0m                                      \u001b[0mtrend\u001b[0m\u001b[0;34m=\u001b[0m\u001b[0mtrend\u001b[0m\u001b[0;34m,\u001b[0m\u001b[0;34m\u001b[0m\u001b[0;34m\u001b[0m\u001b[0m\n\u001b[1;32m     45\u001b[0m                                      \u001b[0mdamped\u001b[0m\u001b[0;34m=\u001b[0m\u001b[0mdamped\u001b[0m\u001b[0;34m,\u001b[0m\u001b[0;34m\u001b[0m\u001b[0;34m\u001b[0m\u001b[0m\n",
            "\u001b[0;32m/usr/local/lib/python3.8/dist-packages/pandas/util/_decorators.py\u001b[0m in \u001b[0;36mwrapper\u001b[0;34m(*args, **kwargs)\u001b[0m\n\u001b[1;32m    205\u001b[0m                 \u001b[0;32melse\u001b[0m\u001b[0;34m:\u001b[0m\u001b[0;34m\u001b[0m\u001b[0;34m\u001b[0m\u001b[0m\n\u001b[1;32m    206\u001b[0m                     \u001b[0mkwargs\u001b[0m\u001b[0;34m[\u001b[0m\u001b[0mnew_arg_name\u001b[0m\u001b[0;34m]\u001b[0m \u001b[0;34m=\u001b[0m \u001b[0mnew_arg_value\u001b[0m\u001b[0;34m\u001b[0m\u001b[0;34m\u001b[0m\u001b[0m\n\u001b[0;32m--> 207\u001b[0;31m             \u001b[0;32mreturn\u001b[0m \u001b[0mfunc\u001b[0m\u001b[0;34m(\u001b[0m\u001b[0;34m*\u001b[0m\u001b[0margs\u001b[0m\u001b[0;34m,\u001b[0m \u001b[0;34m**\u001b[0m\u001b[0mkwargs\u001b[0m\u001b[0;34m)\u001b[0m\u001b[0;34m\u001b[0m\u001b[0;34m\u001b[0m\u001b[0m\n\u001b[0m\u001b[1;32m    208\u001b[0m \u001b[0;34m\u001b[0m\u001b[0m\n\u001b[1;32m    209\u001b[0m         \u001b[0;32mreturn\u001b[0m \u001b[0mcast\u001b[0m\u001b[0;34m(\u001b[0m\u001b[0mF\u001b[0m\u001b[0;34m,\u001b[0m \u001b[0mwrapper\u001b[0m\u001b[0;34m)\u001b[0m\u001b[0;34m\u001b[0m\u001b[0;34m\u001b[0m\u001b[0m\n",
            "\u001b[0;32m/usr/local/lib/python3.8/dist-packages/pandas/util/_decorators.py\u001b[0m in \u001b[0;36mwrapper\u001b[0;34m(*args, **kwargs)\u001b[0m\n\u001b[1;32m    205\u001b[0m                 \u001b[0;32melse\u001b[0m\u001b[0;34m:\u001b[0m\u001b[0;34m\u001b[0m\u001b[0;34m\u001b[0m\u001b[0m\n\u001b[1;32m    206\u001b[0m                     \u001b[0mkwargs\u001b[0m\u001b[0;34m[\u001b[0m\u001b[0mnew_arg_name\u001b[0m\u001b[0;34m]\u001b[0m \u001b[0;34m=\u001b[0m \u001b[0mnew_arg_value\u001b[0m\u001b[0;34m\u001b[0m\u001b[0;34m\u001b[0m\u001b[0m\n\u001b[0;32m--> 207\u001b[0;31m             \u001b[0;32mreturn\u001b[0m \u001b[0mfunc\u001b[0m\u001b[0;34m(\u001b[0m\u001b[0;34m*\u001b[0m\u001b[0margs\u001b[0m\u001b[0;34m,\u001b[0m \u001b[0;34m**\u001b[0m\u001b[0mkwargs\u001b[0m\u001b[0;34m)\u001b[0m\u001b[0;34m\u001b[0m\u001b[0;34m\u001b[0m\u001b[0m\n\u001b[0m\u001b[1;32m    208\u001b[0m \u001b[0;34m\u001b[0m\u001b[0m\n\u001b[1;32m    209\u001b[0m         \u001b[0;32mreturn\u001b[0m \u001b[0mcast\u001b[0m\u001b[0;34m(\u001b[0m\u001b[0mF\u001b[0m\u001b[0;34m,\u001b[0m \u001b[0mwrapper\u001b[0m\u001b[0;34m)\u001b[0m\u001b[0;34m\u001b[0m\u001b[0;34m\u001b[0m\u001b[0m\n",
            "\u001b[0;32m/usr/local/lib/python3.8/dist-packages/pandas/util/_decorators.py\u001b[0m in \u001b[0;36mwrapper\u001b[0;34m(*args, **kwargs)\u001b[0m\n\u001b[1;32m    205\u001b[0m                 \u001b[0;32melse\u001b[0m\u001b[0;34m:\u001b[0m\u001b[0;34m\u001b[0m\u001b[0;34m\u001b[0m\u001b[0m\n\u001b[1;32m    206\u001b[0m                     \u001b[0mkwargs\u001b[0m\u001b[0;34m[\u001b[0m\u001b[0mnew_arg_name\u001b[0m\u001b[0;34m]\u001b[0m \u001b[0;34m=\u001b[0m \u001b[0mnew_arg_value\u001b[0m\u001b[0;34m\u001b[0m\u001b[0;34m\u001b[0m\u001b[0m\n\u001b[0;32m--> 207\u001b[0;31m             \u001b[0;32mreturn\u001b[0m \u001b[0mfunc\u001b[0m\u001b[0;34m(\u001b[0m\u001b[0;34m*\u001b[0m\u001b[0margs\u001b[0m\u001b[0;34m,\u001b[0m \u001b[0;34m**\u001b[0m\u001b[0mkwargs\u001b[0m\u001b[0;34m)\u001b[0m\u001b[0;34m\u001b[0m\u001b[0;34m\u001b[0m\u001b[0m\n\u001b[0m\u001b[1;32m    208\u001b[0m \u001b[0;34m\u001b[0m\u001b[0m\n\u001b[1;32m    209\u001b[0m         \u001b[0;32mreturn\u001b[0m \u001b[0mcast\u001b[0m\u001b[0;34m(\u001b[0m\u001b[0mF\u001b[0m\u001b[0;34m,\u001b[0m \u001b[0mwrapper\u001b[0m\u001b[0;34m)\u001b[0m\u001b[0;34m\u001b[0m\u001b[0;34m\u001b[0m\u001b[0m\n",
            "\u001b[0;32m/usr/local/lib/python3.8/dist-packages/statsmodels/tsa/holtwinters/model.py\u001b[0m in \u001b[0;36mfit\u001b[0;34m(self, smoothing_level, smoothing_trend, smoothing_seasonal, damping_trend, optimized, remove_bias, start_params, method, minimize_kwargs, use_brute, use_boxcox, use_basinhopping, initial_level, initial_trend)\u001b[0m\n\u001b[1;32m   1092\u001b[0m             )\n\u001b[1;32m   1093\u001b[0m         \u001b[0;32mif\u001b[0m \u001b[0muse_boxcox\u001b[0m \u001b[0;32mis\u001b[0m \u001b[0;32mnot\u001b[0m \u001b[0;32mNone\u001b[0m\u001b[0;34m:\u001b[0m\u001b[0;34m\u001b[0m\u001b[0;34m\u001b[0m\u001b[0m\n\u001b[0;32m-> 1094\u001b[0;31m             raise ValueError(\n\u001b[0m\u001b[1;32m   1095\u001b[0m                 \u001b[0;34m\"use_boxcox was set at model initialization and cannot \"\u001b[0m\u001b[0;34m\u001b[0m\u001b[0;34m\u001b[0m\u001b[0m\n\u001b[1;32m   1096\u001b[0m                 \u001b[0;34m\"be changed\"\u001b[0m\u001b[0;34m\u001b[0m\u001b[0;34m\u001b[0m\u001b[0m\n",
            "\u001b[0;31mValueError\u001b[0m: use_boxcox was set at model initialization and cannot be changed"
          ]
        }
      ],
      "source": [
        "m=HWGrid(train[\"Sales\"], test[\"Sales\"], seasonal_periods=4)"
      ]
    },
    {
      "cell_type": "code",
      "execution_count": null,
      "metadata": {
        "id": "G6X_aIAQeFkS"
      },
      "outputs": [],
      "source": [
        "m"
      ]
    },
    {
      "cell_type": "markdown",
      "metadata": {
        "id": "UtMiL3jteFkS"
      },
      "source": [
        "Above resulting dataframe is sorted in ascending order showing model with lowest test RMSE and %MAPE at the top. Cells highlighted in green are the lowest numbers in their respective columns. Some observations from this result:\n",
        "\n",
        "1. Train RMSE is much smaller than test RMSE, showing all the models perform far better on training set than test set\n",
        "2. Models with additive trend and BoxCox=log are at the top. This confirms the finding from the EDA that the trend was more than linear. By taking the 'log', trend is linearized and thus \"additive\" model can be used. \n",
        "3. The top model [\"add\", \"add\", True, False] performed the worst on the train set. AICc is also the highest. \n",
        "4. Top 5 models have used 'log' transformation and generally have very similar performance on the test set. \n",
        "5. All models except one at the bottom as Uncorrelated residuals. Recall that model with uncorrelated residuals has captured as much information as it can from the available data. \n",
        "6. All models are biased (non-zero mean). Ideally we want the model to have zero mean but in this case the means are small and should be added to the forecast to correct the bias. \n",
        "7. All models have residuals that are normal. This is a useful but not necessary condition. Having a model with normal residuals can make prediction interval calculations easier. \n",
        "8. Model selection should always be done by comparing test evaluation metric and not by comparing residual diagnostic \n",
        "metrics.\n",
        "9. Top and fourth model has high AICc. Third and fifth have almost same performance. We want to select a [**parsimonious**](https://stats.stackexchange.com/questions/17565/choosing-the-best-model-from-among-different-best-models) and **simple** model. I will select the model with additive seasonality and trend as it has the lowest AICc in the top 5 models."
      ]
    },
    {
      "cell_type": "code",
      "execution_count": null,
      "metadata": {
        "id": "ST22CYLCeFkT"
      },
      "outputs": [],
      "source": [
        "hw_model = ExponentialSmoothing(train[\"Sales\"],\n",
        "                          trend    =\"add\",\n",
        "                          seasonal = \"add\", \n",
        "                          seasonal_periods=4, \n",
        "                          damped=False).fit(use_boxcox='log')\n",
        "\n",
        "hw_fitted = hw_model.fittedvalues\n",
        "\n",
        "hw_resid = hw_model.resid\n",
        "\n",
        "#Adding the mean of the residuals to correct the bias.\n",
        "py_hw = hw_model.forecast(len(test[\"Sales\"])) + np.mean(hw_resid)\n",
        "\n",
        "predictions[\"py_hw\"] = py_hw\n",
        "\n",
        "#Holt-Winter Parameters\n",
        "hw_model.params_formatted"
      ]
    },
    {
      "cell_type": "markdown",
      "metadata": {
        "id": "AinlYGXweFkT"
      },
      "source": [
        "Note the optimized alpha, beta and gamma parameters.\n",
        "\n",
        "   - alpha: 0.75, i.e 75% weight was given to the last observation\n",
        "   \n",
        "   - beta: learning parameter for trend. very small. Not much weight is given to the recent trend and trend is obatained from distant past\n",
        "   \n",
        "   - gamma: seasonal factor is 0. gamma is usually very small (<0.2) and we want it to be small. If the gamma is high, it can lead to overfitting becuase it means the model is learning too much from recent the recenet data. 0 here indicates seasonality is learned from the earliest season."
      ]
    },
    {
      "cell_type": "code",
      "execution_count": null,
      "metadata": {
        "id": "3DvEYZC_eFkT"
      },
      "outputs": [],
      "source": [
        "#Plotting\n",
        "\n",
        "train[\"Sales\"].plot(figsize=(12,8), style=\"--\", color=\"gray\", legend=True, label=\"Train\")\n",
        "hw_fitted.plot(color=\"b\", legend=True, label=\"HW_Fitted\")\n",
        "predictions[\"Sales\"].plot(style=\"--\",color=\"r\", legend=True, label=\"Test\")\n",
        "predictions[\"py_hw\"].plot(color=\"b\", legend=True, label=\"HW_Forecast\");"
      ]
    },
    {
      "cell_type": "markdown",
      "metadata": {
        "id": "K0AG1UhreFkU"
      },
      "source": [
        "##### Cross-Validation\n",
        "\n",
        "In the above gridsearch, the training set size was fix and we evaluated the model performance by comparing train AICc, RMSE, %MAPE and test RMSE & %MAPE. Test metrics provides true forecast accuracy and should always be used for model selection. This is the preferred approach when the data size is large. But when the time series is short, cross-validation should be used to make sure the model does not overfit the data. The two common approaches are:\n",
        "\n",
        "1. **Expanding window cross-validation**: We start with some initial training & test sets and with each iteration we add one observation to the training set. Forecast errors are calculated with each iteration and averaged to compare model performance. This simulates the performance of the model as we add more observations. For the final forecast we will using all the available history, so using expanding window gives us a good estimate of the forecast accuracy and uncertainty. \n",
        "\n",
        "2. **Rolling Window cross-validation**: Similar to Expanding but the training size remains same, instead it moves by one observation each time. Training and test lengths remain same.\n",
        "\n",
        "Note that AICc, theoretically, provides the same information because it penalizes complex models that overfit.  "
      ]
    },
    {
      "cell_type": "markdown",
      "metadata": {
        "id": "HfeXQQJgeFkU"
      },
      "source": [
        "![cv](https://raw.githubusercontent.com/pawarbi/blog/master/images/Cv2.png \"Cross-Validation Schemes\")"
      ]
    },
    {
      "cell_type": "code",
      "execution_count": null,
      "metadata": {
        "id": "wVPQsq5NeFkU"
      },
      "outputs": [],
      "source": [
        "#I would like to perform 5 fold cross validation, want the training size to be at \n",
        "#least 12 and test window = forecast horizon 24 - 4 - 5 = 15. Initial training size should be min 12, max 15. \n",
        "#I will choose 15\n",
        "\n",
        "hw_cv(data[\"Sales\"], seasonal_periods=4, initial_train_window=15, test_window=4)\n"
      ]
    },
    {
      "cell_type": "markdown",
      "metadata": {
        "id": "7gk17Cy6eFkV"
      },
      "source": [
        "##### Residual Check"
      ]
    },
    {
      "cell_type": "code",
      "execution_count": null,
      "metadata": {
        "id": "R2CFhOKCeFkV"
      },
      "outputs": [],
      "source": [
        "residcheck(hw_resid, 12);"
      ]
    },
    {
      "cell_type": "markdown",
      "metadata": {
        "id": "WhL6ScspeFkV"
      },
      "source": [
        "##### Accuracy\n"
      ]
    },
    {
      "cell_type": "code",
      "execution_count": null,
      "metadata": {
        "id": "vplSXelHeFkV"
      },
      "outputs": [],
      "source": [
        "accuracy(predictions.Sales,predictions[\"py_hw\"] )"
      ]
    },
    {
      "cell_type": "markdown",
      "metadata": {
        "id": "B34zQWhEeFkW"
      },
      "source": [
        "##### Observations:\n",
        "\n",
        "1. In general, cross-validation shows that models with high AICc found in gridsearch have higher cv scores. \n",
        "2. Multiplicative trend models have high cv scores\n",
        "3. The model I chose from the gridsearch (additive trend, seasonality and logged observations) has the lowest expanding cross-validation score. \n",
        "4. Plot shows that the model captures the trend, seasonality very well\n",
        "5. This model predicts more sales than the actual (in test). From the gridsearch table, we see that the %MAPE is ~12%. Thus, if we use the this model, we should let the stakeholders know that the forecast error is +12%\n",
        "6. Residuals are uncorrelated, normal, stationary with a bias (which we already corrected in the forecast)\n",
        "7. Model performed better than seasonal naive approach."
      ]
    },
    {
      "cell_type": "markdown",
      "metadata": {
        "id": "9JBxzYOweFkW"
      },
      "source": [
        "### ETS"
      ]
    },
    {
      "cell_type": "markdown",
      "metadata": {
        "id": "WkAvect_eFkW"
      },
      "source": [
        "ETS standards for Error, Trend, Seasonality model (I have also seen some refer to it as **E**xponen**T**ial **S**moothing). It is similar to Holt-Winter's model above but with a State Space statistical framework. In HoltWinter's, the time series is decomposed into trend and seasonality and exponential weights are used to make the forecast. In a State Space approach, the underlying statistical process is identified and errors are factored in to make the forecast. Holt, Single Exponential Smoothing, Holt-Winter's, certain ARIMA models can all be categorised into ETS class models. \n",
        "\n",
        "ETS models follow a taxonomy of ETS(XYZ) where:\n",
        "    \n",
        "   - X:Error (aka innovations). It can be Additive (A) or Multiplicative (M)\n",
        "   - Y:Trend. Trend component can be No trend (N), additive (A), Multiplicative (M) or damped (Ad)\n",
        "   - Z:Seasonality, Null (N), additive (A) or multiplicative (M)\n",
        "     \n",
        "     \n",
        "Thus, ETS(ANN) is an exponential model with additive error, no trend, no seasonality (i.e single exponential smoothing) and ETS(MAM) is analogous to Holt-Winter's method described above. There can be 24 different ETS models based on above combinations but not all combinations of ETS are stable, especially when error is multiplicative.\n",
        "\n",
        "`statsmodels()` has a statespace implementation of exponential smoothing method in its `tsa.statespace()` [class](https://www.statsmodels.org/stable/statespace.html). It only has addditive error, additive & damped trend models for now (as of 4/20/2020). Recall that we can convert a multiplicative model into additive by power transform, so this is not a problem.\n",
        "\n",
        "Using statespace (ETS) can often work better than Holt Winter because of how the parameters are initialized and optimized. This can make a huge difference in the results as we will see. ETS framework also returns 95% predictive interval which HW does not. \n",
        "\n",
        "Refer to [ch.7](https://otexts.com/fpp2/ets.html) of Hyndman's book for a quick refrence on ETS models and [this](https://robjhyndman.com/papers/hksg.pdf) for more detailed explanation.\n",
        "\n",
        "For this series, we already know that trend is exponential so I will use logged version of the training set and model ETS(AAA) and ETS(AAdA)\n",
        "\n"
      ]
    },
    {
      "cell_type": "markdown",
      "metadata": {
        "id": "98wxNeM7eFkW"
      },
      "source": [
        "#### ETS(A,Ad,A) model with Log"
      ]
    },
    {
      "cell_type": "code",
      "execution_count": null,
      "metadata": {
        "id": "ox_UP2pfeFkX"
      },
      "outputs": [],
      "source": [
        "#https://www.statsmodels.org/stable/statespace.html#\n",
        "ets_LAdA=sm.tsa.statespace.ExponentialSmoothing(train_log,\n",
        "                                           trend=True, \n",
        "                                           initialization_method= 'heuristic', \n",
        "                                           seasonal=4, \n",
        "                                           damped_trend=True).fit()\n",
        "\n",
        "fc_LAdA = np.exp(ets_LAdA.forecast(6)) #inverting the Log\n",
        "\n",
        "predictions[\"LAdA\"]=fc_LAdA"
      ]
    },
    {
      "cell_type": "code",
      "execution_count": null,
      "metadata": {
        "id": "OIbOcIrgeFkX"
      },
      "outputs": [],
      "source": [
        "#Plotting\n",
        "\n",
        "train[\"Sales\"].plot(figsize=(12,8), style=\"--\", color=\"gray\", legend=True, label=\"Train\")\n",
        "np.exp(ets_LAdA.fittedvalues).plot(color=\"b\", legend=True, label=\"Log-AAdA_Fitted\")\n",
        "predictions[\"Sales\"].plot(style=\"--\",color=\"r\", legend=True, label=\"Test\")\n",
        "predictions[\"LAdA\"].plot(color=\"b\", legend=True, label=\"Log-AAdA_Forecast\");"
      ]
    },
    {
      "cell_type": "markdown",
      "metadata": {
        "id": "hyMXJ161eFkX"
      },
      "source": [
        "##### Accuracy"
      ]
    },
    {
      "cell_type": "code",
      "execution_count": null,
      "metadata": {
        "id": "YQPOIAI5eFkX"
      },
      "outputs": [],
      "source": [
        "accuracy(predictions[\"Sales\"],predictions[\"LAdA\"])"
      ]
    },
    {
      "cell_type": "markdown",
      "metadata": {
        "id": "7VSYLiaoeFkY"
      },
      "source": [
        "##### Residual Check"
      ]
    },
    {
      "cell_type": "code",
      "execution_count": null,
      "metadata": {
        "id": "0pB_ny-8eFkY"
      },
      "outputs": [],
      "source": [
        "residcheck(ets_LAdA.resid,12);"
      ]
    },
    {
      "cell_type": "markdown",
      "metadata": {
        "id": "aImbITnjeFkY"
      },
      "source": [
        "##### Observations\n",
        "\n",
        "1. ETS model performed significantly better than Holt-Winter's, despite the fact that they both perform exponential smoothing. RSME is 40.9 compared to 86 for HOlt Winter's. \n",
        "2. The primary reason why ETS performs better is the parameter initialization & optimization. Holt Winter's minimizes the residual error whereas ETS optimizes likelihood. ETS is more likely to obtain global minima faster & more accurately. This doesnt mean ETS will always be better, but in general it should perform better. \n",
        "3. Residuals are uncorrelated, normally distributed with 0 mean. \n",
        "4. The model struggled initially with a poor fit but it learned the systematic components very well and does an excellent job on the test set\n",
        "5. Our observations from EDA and HW model informed the choice to take a log of the training set. In general, it's always a good idea to try log/BoxCox transform to stablize the variance."
      ]
    },
    {
      "cell_type": "markdown",
      "metadata": {
        "id": "jnsYzPQ4eFkY"
      },
      "source": [
        "#### ETS(A,Ad,A)"
      ]
    },
    {
      "cell_type": "code",
      "execution_count": null,
      "metadata": {
        "id": "F0pN279leFkZ"
      },
      "outputs": [],
      "source": [
        "ets_AAdA=sm.tsa.statespace.ExponentialSmoothing(train,\n",
        "                                           trend=True, \n",
        "                                           initialization_method= 'concentrated', \n",
        "                                           seasonal=4, \n",
        "                                           damped_trend=True).fit()\n",
        "\n",
        "fc_AAdA=ets_AAdA.forecast(len(test))\n",
        "\n",
        "predictions[\"AAdA\"]=fc_AAdA\n",
        "\n"
      ]
    },
    {
      "cell_type": "code",
      "execution_count": null,
      "metadata": {
        "scrolled": false,
        "id": "utzqGCCLeFkZ"
      },
      "outputs": [],
      "source": [
        "#Plotting\n",
        "\n",
        "train[\"Sales\"].plot(figsize=(12,8), style=\"--\", color=\"gray\", legend=True, label=\"Train\")\n",
        "ets_AAdA.fittedvalues.plot(color=\"b\", legend=True, label=\"AAdA_Fitted\")\n",
        "predictions[\"Sales\"].plot(style=\"--\",color=\"r\", legend=True, label=\"Test\")\n",
        "predictions[\"AAdA\"].plot(color=\"b\", legend=True, label=\"AAdA_Forecast\");"
      ]
    },
    {
      "cell_type": "markdown",
      "metadata": {
        "id": "ZDxS_FsgeFkZ"
      },
      "source": [
        "##### Accuracy"
      ]
    },
    {
      "cell_type": "code",
      "execution_count": null,
      "metadata": {
        "id": "lxPmHyBPeFkZ"
      },
      "outputs": [],
      "source": [
        "accuracy(predictions[\"Sales\"],predictions[\"AAdA\"])"
      ]
    },
    {
      "cell_type": "markdown",
      "metadata": {
        "id": "jBBcyG_TeFka"
      },
      "source": [
        "##### Residual Check"
      ]
    },
    {
      "cell_type": "code",
      "execution_count": null,
      "metadata": {
        "id": "U7ezHbg0eFka"
      },
      "outputs": [],
      "source": [
        "residcheck(ets_AAdA.resid,12);"
      ]
    },
    {
      "cell_type": "markdown",
      "metadata": {
        "id": "JkN-OoNpeFka"
      },
      "source": [
        "##### Observations:\n",
        "1. (A,Ad,A) model without taking log also does very well, slightly worse than with log\n",
        "2. Residuals are uncorrelated, look more normal than log version but are slightly biased (0.4 mean)\n",
        "3. Fit looks better than logged model\n",
        "4. Since we are using the damped model, notice how the trend has slowed down and Q3 forecast is lower than actual sales. This was the main reason I chose this model and the reason will be apparent later as we explore more models."
      ]
    },
    {
      "cell_type": "markdown",
      "metadata": {
        "id": "2hktnda_eFka"
      },
      "source": [
        "### SARIMA (Seasonal, Auto-Regressive, Integrated, Moving Average Model)"
      ]
    },
    {
      "cell_type": "markdown",
      "metadata": {
        "id": "OhFE0tdIeFkb"
      },
      "source": [
        "SARIMA (Seasonal ARIMA) is a classical, statistical forecasting method that predicts the forecast values based on past values, i.e lagged values (AR) and lagged errors (MA). Unlike Holt-Winter's (or ETS), it needs the time series to be stationary before it can be used. That's where the \"Integrated\" part comes from. \"Integration\" means differecning the series to remove trend and make it stationary. You can learn amore about the fundamentals by watching below video. Prof. Shmueli also has an excellent [book on Forecasting](http://www.forecastingbook.com/) that I highly recommend. \n",
        "\n",
        "I also recommend this free Coursera course [Practical Time Series Analysis](https://www.coursera.org/learn/practical-time-series-analysis) if you want to gain practical and intutitive understanding of ARIMA models. \n",
        "\n",
        "I will share my main take-aways from these and other resources I have used.  \n"
      ]
    },
    {
      "cell_type": "markdown",
      "metadata": {
        "id": "xXXmFpU0eFkb"
      },
      "source": [
        "> youtube: https://youtu.be/0xHf-SJ9Z9U"
      ]
    },
    {
      "cell_type": "markdown",
      "metadata": {
        "id": "OY5SSDxPeFkb"
      },
      "source": [
        "###### Auto-regression, AR(p):\n",
        "1. As the name suggests, it's the linear regression with its past values\n",
        "2. AR (p) => Current value = mean + fraction (phi) of yesterday's value + fraction (phi) of day before yesterday's value +......+ fraction of *pth* day's value + noise\n",
        "3. If phi is negaitive => mean inversion, i.e today's value will likely go down after yesterday's peak. \n",
        "4. If phi is positive => Momentum\n",
        "5. If phi = 0 => white noise\n",
        "6. If phi = 1 => random walk\n",
        "7. phi has to be between [-1,1] for process to be stationary\n",
        "8. If the PACF plot cuts off sharply at lag k, while there is a gradual decay in ACF, it's a AR(p) process. [Note: I keep **P**ACF and AR(**P**) mnemonic in mind to know which plot to use for identifying AR process)\n",
        "9. An AR(1) model is equivalent to MA(infinity) model, (practially q>>50)\n",
        "\n",
        "\n",
        "Below video explain AR process really well\n",
        " "
      ]
    },
    {
      "cell_type": "markdown",
      "metadata": {
        "id": "UaTI7G9SeFkb"
      },
      "source": [
        "> youtube: https://youtu.be/5-2C4eO4cPQ"
      ]
    },
    {
      "cell_type": "markdown",
      "metadata": {
        "id": "NaTSeuHkeFkb"
      },
      "source": [
        "##### Moving Average ,MA(q):\n",
        "1. MA process is ***not the same as*** taking moving average of a series\n",
        "2. MA process is made up of white noise at different times. In MA(q), q tells us how far back along the sequence of white noise we have to loo for weighted average\n",
        "3. For example, in our case if the series is an MA(q) process, the forecast is not affected by the previous sales but rather errors in past forecast. \n",
        "4. MA processes are not common but when combined with AR, can produce very accurate forecasts\n",
        "5. For an MA(q) model, the forecast beyond 1 period will be the same for rest of the forecast horizon\n",
        "6. To identify MA(q) process, plot the ACF. If it sharply cuts off at qth lag, it's an MA(q) process  \n"
      ]
    },
    {
      "cell_type": "markdown",
      "metadata": {
        "id": "Db1mIFM8eFkc"
      },
      "source": [
        "Thus, \n",
        "ARIMA (p,d,q) = constant + (weighted sum of last p values) + (weighted sum of last q values of forecast errors) after d differencing\n",
        "\n",
        "\n",
        "Below are the simulated MA and AR processes. If you run this cell a few times and observe the plots, you will not that it's not possible to distinguish an AR from MA by just looking at the plots. You need to study the ACF & PACF to know the difference. "
      ]
    },
    {
      "cell_type": "code",
      "execution_count": null,
      "metadata": {
        "id": "B__RfwqDeFkc"
      },
      "outputs": [],
      "source": [
        "#Simulating AR process\n",
        "from statsmodels.tsa.arima_process import ArmaProcess\n",
        "ar = np.array([1,-0.9])\n",
        "ma = np.array([1, 0.9])\n",
        "AR = ArmaProcess(ar=ar, ma=None)\n",
        "MA = ArmaProcess(ar=None, ma=ma)\n",
        "simulated_AR= AR.generate_sample(125)\n",
        "simulated_MA= MA.generate_sample(125)\n",
        "\n",
        "\n",
        "fig, (ax1, ax2) = plt.subplots(1, 2)\n",
        "# fig = plt.figure(figsize=(10,8))\n",
        "fig.suptitle('Simulated AR & MA Processes')\n",
        "ax1.plot(simulated_AR);\n",
        "ax2.plot(simulated_MA);"
      ]
    },
    {
      "cell_type": "markdown",
      "metadata": {
        "id": "Zwb8u4cjeFkc"
      },
      "source": [
        "Finding the parameters of the ARIMA process (p,d,q) is an art and science. Generally, p+q <=3. \n",
        "Similar to ARIMA, Seasonal ARIMA (SARIMA) has (P,D,Q) parameters, so SARIMA is (p,d,q)(P,D,Q). p+d+q+P+D+Q <=6 (generally)\n",
        "\n",
        "Instead of finding the above parameters manually by studying the ACF, PACF, we usually use grid searching just like HW method above. `pmdarima` is a great library for SARIMA forecasting in Python. It returns the parameters that minimizes AICc and also has cross-validation tools.`statsmodels` has `arma_order_select_ic()` for identifying order of the ARMA model but not for SARIMA. "
      ]
    },
    {
      "cell_type": "markdown",
      "metadata": {
        "id": "Y6lY9MU3eFkd"
      },
      "source": [
        "Let's first take a look at the ACF and PACF to identify *potential* order of the SARIMA model\n",
        "\n",
        "ACF plot shows that 1st lag is significant (outside the blue band), the ACFs and PACF both decrease gradually. We will need at least 1 differencing to make the series stationary. When ACF and PACF plots do not have sharp cut offs and significant lags at higher orders, its a indication of ARMA process with seasonality."
      ]
    },
    {
      "cell_type": "code",
      "execution_count": null,
      "metadata": {
        "id": "S292ZGuzeFkd"
      },
      "outputs": [],
      "source": [
        "plot_acf(train[\"Sales\"]);\n",
        "plot_pacf(train[\"Sales\"]);"
      ]
    },
    {
      "cell_type": "markdown",
      "metadata": {
        "id": "-eksaPlleFkd"
      },
      "source": [
        "Using `pmdarima()` to find the SARIMA order with lowest aicc. This may take a few minutes to run. "
      ]
    },
    {
      "cell_type": "code",
      "execution_count": null,
      "metadata": {
        "id": "_y9Y10ZneFkd"
      },
      "outputs": [],
      "source": [
        "\n",
        "(auto_arima(train[\"Sales\"],\n",
        "           seasonal=True,\n",
        "           m=4,                          #seasonality_order 4\n",
        "           d=1,                          #ACF plot showed we need at least 1 differencing\n",
        "           information_criterion='aicc'). #You can choose AIC, BIC. AICc is corrected AIC\n",
        "           summary())"
      ]
    },
    {
      "cell_type": "markdown",
      "metadata": {
        "id": "1J7m0VXIeFkd"
      },
      "source": [
        "###### Observations\n",
        "`pmdarima()` has identified the training set as (0, 1, 1)x(1, 1, 0, 4) process. It's a seasonal AR(1) with d=D=1. \n",
        "Summary also shows that Ljung Box p value (Prob(Q) and JB p value (Prob(JB) are > 0.05 thus residuals are uncorrelated and normally distributed. Summary also shows MA is significant at lag 1, seasonal AR is significant at lag 4. "
      ]
    },
    {
      "cell_type": "code",
      "execution_count": null,
      "metadata": {
        "id": "OXV2mg_ueFke"
      },
      "outputs": [],
      "source": [
        "#Creating SARIMA model in Python using statsmodels\n",
        "\n",
        "sarima_model=(SARIMAX(endog=train[\"Sales\"], \n",
        "               order=(0,1,1),\n",
        "               seasonal_order=(1,1,0,4),\n",
        "               trend='c',\n",
        "               enforce_invertibility=False))\n",
        "\n",
        "sarima_fit=sarima_model.fit()\n",
        "\n",
        "start = len(train)\n",
        "end = len(train) +len(test) -1\n",
        "\n",
        "sarima_fitted = sarima_fit.fittedvalues\n",
        "\n",
        "sarima_resid = sarima_fit.resid\n",
        "\n",
        "py_sarima = sarima_fit.predict(start, end, dynamic=False)\n",
        "\n",
        "predictions[\"py_sarima\"] = py_sarima\n",
        "\n",
        "sarima_fit.plot_diagnostics();\n",
        "\n"
      ]
    },
    {
      "cell_type": "markdown",
      "metadata": {
        "id": "2bQAT1UTeFke"
      },
      "source": [
        "##### Residual Check\n",
        "`SARIMAX()` has its own residual diagnostics (shown above). It shows the residuals are normally distributed, uncorrelated. Q-Q plot shows an outlier in the lower left but otherwise everyting looks good."
      ]
    },
    {
      "cell_type": "markdown",
      "metadata": {
        "id": "Su1vKSW4eFke"
      },
      "source": [
        "##### Accuracy"
      ]
    },
    {
      "cell_type": "code",
      "execution_count": null,
      "metadata": {
        "id": "2XA5Cw9meFke"
      },
      "outputs": [],
      "source": [
        "accuracy(predictions.Sales,py_sarima)"
      ]
    },
    {
      "cell_type": "markdown",
      "metadata": {
        "id": "y2vwd6cZeFkf"
      },
      "source": [
        "##### Observations:\n",
        "1. SARIMA did worse than Holt-Winter's method. RMSE for HW was 85.7"
      ]
    },
    {
      "cell_type": "markdown",
      "metadata": {
        "id": "x1wfHLCjeFkf"
      },
      "source": [
        "##### SARIMA2 - (Using Logged value)\n",
        "\n",
        "Recall that one of the observations from the HW method was log models performed better, so I will try log of the trainining set. The forecast will be logged values so I will inverse it with `np.exp()`"
      ]
    },
    {
      "cell_type": "code",
      "execution_count": null,
      "metadata": {
        "id": "BhvAa0c6eFkf"
      },
      "outputs": [],
      "source": [
        "#Fitting model to log of train\n",
        "\n",
        "(auto_arima(np.log(train[\"Sales\"]),\n",
        "           seasonal=True,\n",
        "           m=4,                           #seasonality_order 4\n",
        "           information_criterion='aicc'). #You can choose AIC, BIC. AICc is corrected AIC\n",
        "           summary())"
      ]
    },
    {
      "cell_type": "markdown",
      "metadata": {
        "id": "tCvxAQe8eFkg"
      },
      "source": [
        "It's a SARIMA model with no (p,d,q). (P,D,Q,m) = (1,1,0,4)\n",
        "\n",
        "Prob(Q) > 0.05 and Prob(JB) > 0.05 Thus, residuals are uncorrelated and normal !"
      ]
    },
    {
      "cell_type": "code",
      "execution_count": null,
      "metadata": {
        "id": "tUFTYhkIeFkg"
      },
      "outputs": [],
      "source": [
        "sarima_logmodel=(SARIMAX(np.log(train[\"Sales\"]), \n",
        "               order=(0,0,0),\n",
        "               seasonal_order=(1,1,0,4),\n",
        "               trend='c',\n",
        "               enforce_invertibility=False)).fit()\n",
        "\n",
        "sarima_log = np.exp(sarima_logmodel.predict(start, end))\n",
        "\n",
        "predictions[\"sarima_log\"] = sarima_log\n",
        "\n",
        "slog_fitted = np.exp(sarima_logmodel.fittedvalues)\n"
      ]
    },
    {
      "cell_type": "markdown",
      "metadata": {
        "id": "fueUYbNYeFkg"
      },
      "source": [
        "##### Residual Check"
      ]
    },
    {
      "cell_type": "code",
      "execution_count": null,
      "metadata": {
        "id": "QVJ1geZAeFkh"
      },
      "outputs": [],
      "source": [
        "sarima_logmodel.plot_diagnostics();"
      ]
    },
    {
      "cell_type": "markdown",
      "metadata": {
        "id": "0fd9cW8oeFkh"
      },
      "source": [
        "###### Observations\n",
        "\n",
        "1. Residuals are not stationary but are normally distributed and are uncorrelated\n",
        "2. There is an outlier in the left tail in the Q-Q plot. This is expected, since we took 1 seasonal differencing so model did not fit well to the early data. "
      ]
    },
    {
      "cell_type": "markdown",
      "metadata": {
        "id": "P8kn3X8feFkh"
      },
      "source": [
        "##### Accuracy"
      ]
    },
    {
      "cell_type": "code",
      "execution_count": null,
      "metadata": {
        "id": "iGZUelpFeFkh"
      },
      "outputs": [],
      "source": [
        "accuracy(predictions.Sales,sarima_log )"
      ]
    },
    {
      "cell_type": "markdown",
      "metadata": {
        "id": "TblpAEG1eFkh"
      },
      "source": [
        "RMSE & %MAPE are now slightly better than the HW model !!! Plot below shows model did not fit well in the early data but performs well on validation set."
      ]
    },
    {
      "cell_type": "code",
      "execution_count": null,
      "metadata": {
        "id": "P94wYgcaeFki"
      },
      "outputs": [],
      "source": [
        "#Plotting\n",
        "\n",
        "train[\"Sales\"].plot(figsize=(12,8), style=\"--\", color=\"gray\", legend=True, label=\"Train\")\n",
        "slog_fitted.plot(color=\"b\", legend=True, label=\"HW_Fitted\")\n",
        "predictions[\"Sales\"].plot(style=\"--\",color=\"r\", legend=True, label=\"Test\")\n",
        "predictions[\"sarima_log\"].plot(color=\"b\", legend=True, label=\"LogSARIMA_forecast\");"
      ]
    },
    {
      "cell_type": "markdown",
      "metadata": {
        "id": "VvlMRj-teFki"
      },
      "source": [
        ">note: There is a misconception that ARIMA is a more accurate method that ETS/Holt-Winters. That's not accurate. In this example, ARIMA worked better but that may not always be the case and you won't know until you experiment. "
      ]
    },
    {
      "cell_type": "markdown",
      "metadata": {
        "id": "YgfEGr4QeFki"
      },
      "source": [
        "### Facebook Prophet"
      ]
    },
    {
      "cell_type": "markdown",
      "metadata": {
        "id": "PaCw264JeFki"
      },
      "source": [
        "Facebook described Prophet library as below in their [documentation](https://facebook.github.io/prophet/):\n",
        "\n",
        "\n",
        "\" Prophet is a procedure for forecasting time series data based on an additive model where non-linear trends are fit with yearly, weekly, and daily seasonality, plus holiday effects. It works best with time series that have strong seasonal effects and several seasons of historical data. Prophet is robust to missing data and shifts in the trend, and typically handles outliers well.\"\n",
        "\n",
        "Video below gives great overview of this package."
      ]
    },
    {
      "cell_type": "markdown",
      "metadata": {
        "id": "-Xkt7WB8eFkj"
      },
      "source": [
        ">youtube: https://youtu.be/95-HMzxsghY"
      ]
    },
    {
      "cell_type": "markdown",
      "metadata": {
        "id": "p1kZem-_eFkj"
      },
      "source": [
        "My main take aways are:\n",
        "    \n",
        "1. Prophet was built for high frequency data like daily, hourly, minute etc.. It may not work very well on monthly, quarterly data, but you won't know until you try. \n",
        "2. In addition to forecasting, it also provide changepoints, anomalies which are great for detecting sudden changes in the time series\n",
        "3. Prof. Kourentzes [tested Prophet](https://kourentzes.com/forecasting/2017/07/29/benchmarking-facebooks-prophet/) along with other methods (ETS, SARIMA) on M3 competition data and found that Prophet performed poorly. \n",
        "4. ETS/HW & SARIMA cannot work with multiple seasonalities & high frequency data. Prophet can also include effect of holidays.  \n",
        "5. Prophet requires the data to be in specific format. Dataframe must have time column `ds` and time series observations in column `y`\n",
        "6. Though Prophet is designed mainly for high frequency data, it can be used for monthly/quarterly/yearly data with some tweaks."
      ]
    },
    {
      "cell_type": "code",
      "execution_count": null,
      "metadata": {
        "id": "rVN8jEvTeFkj"
      },
      "outputs": [],
      "source": [
        "from fbprophet import Prophet\n",
        "\n",
        "data_fb = data.reset_index()\n",
        "data_fb.columns=['ds','y']   #create new df with columns ds & y\n",
        "train_fb, test_fb = data_fb.iloc[:-len(test)], data_fb.iloc[-len(test):]   #create train & test df\n",
        "\n"
      ]
    },
    {
      "cell_type": "code",
      "execution_count": null,
      "metadata": {
        "id": "pLi9-izueFkj"
      },
      "outputs": [],
      "source": [
        "#Fit the model to train\n",
        "fb1_model=Prophet(weekly_seasonality=False,\n",
        "           daily_seasonality=False, \n",
        "           n_changepoints=10, \n",
        "           seasonality_mode=\"multiplicative\").fit(train_fb) #I tried \"additive too\", it was slightly worse \n",
        "\n",
        "#Prophet results are saved to a dataframe using make_future_dataframe()\n",
        "fb1_df=fb1_model.make_future_dataframe(6, freq='Q') #set the freq argument to 'Q' for quarterly data\n",
        "\n",
        "#We only need \"ds\" and \"yhat\" columns.. \"ds\" is the date column and \"yhat\" are predictions\n",
        "\n",
        "fb1_fc_df=fb1_model.predict(fb1_df)[[\"ds\",\"yhat\"]]\n",
        "\n",
        "fb1_fc__=fb1_model.predict(fb1_df)\n",
        "\n",
        "#Residuals\n",
        "fb1_resid = train[\"Sales\"].values - fb1_fc_df['yhat'].iloc[:len(train)]\n",
        "fb1_fc = fb1_fc_df.iloc[-len(test):]\n",
        "\n",
        "predictions[\"fb1\"] = fb1_fc[\"yhat\"].values\n",
        "\n"
      ]
    },
    {
      "cell_type": "code",
      "execution_count": null,
      "metadata": {
        "id": "z5o9BHB2eFkk"
      },
      "outputs": [],
      "source": [
        "fb1_fc_df.head()"
      ]
    },
    {
      "cell_type": "markdown",
      "metadata": {
        "id": "lR_4peDFeFkk"
      },
      "source": [
        "##### Accuracy"
      ]
    },
    {
      "cell_type": "code",
      "execution_count": null,
      "metadata": {
        "id": "VAG1efd4eFkk"
      },
      "outputs": [],
      "source": [
        "\n",
        "accuracy(test[\"Sales\"],fb1_fc[\"yhat\"].values)"
      ]
    },
    {
      "cell_type": "markdown",
      "metadata": {
        "id": "tQIrIkTkeFkk"
      },
      "source": [
        "Prophet performed significantly better than HW & SARIMA, that too on quarterly data ! I didn't expect that given how extensively it's been proven that Prophet does not work well on low frequency data. This is still not as good as the ETS models."
      ]
    },
    {
      "cell_type": "code",
      "execution_count": null,
      "metadata": {
        "id": "_d3UFCOFeFkk"
      },
      "outputs": [],
      "source": [
        "train[\"Sales\"].plot(figsize=(12,8), style=\"--\", color=\"gray\", legend=True, label=\"Train\")\n",
        "\n",
        "fb1_fc_df.set_index('ds')[\"yhat\"].iloc[:-len(test)].plot(color=\"b\", legend=True, label=\"Prophet_Fitted\")\n",
        "\n",
        "predictions[\"Sales\"].plot(style=\"--\",color=\"r\", legend=True, label=\"Test\")\n",
        "\n",
        "fb1_fc_df.set_index('ds')[\"yhat\"].iloc[-len(test):].plot(color=\"b\", legend=True, label=\"Prophet_forecast\");"
      ]
    },
    {
      "cell_type": "markdown",
      "metadata": {
        "id": "gDA_ZhyEeFkl"
      },
      "source": [
        "Prophet has its own plotting method. As you can see the main drawback with this model is how wide the confidence interval is."
      ]
    },
    {
      "cell_type": "code",
      "execution_count": null,
      "metadata": {
        "id": "7ezRX21zeFkl"
      },
      "outputs": [],
      "source": [
        "fb1_model.plot(fb1_fc__);"
      ]
    },
    {
      "cell_type": "code",
      "execution_count": null,
      "metadata": {
        "id": "Dd1IsHJ2eFkl"
      },
      "outputs": [],
      "source": [
        "residcheck(fb1_resid,12);"
      ]
    },
    {
      "cell_type": "markdown",
      "metadata": {
        "id": "IZtEvQcIeFkl"
      },
      "source": [
        "##### Observations:\n",
        "\n",
        "1. Prophet under forecasts while other methods were over the actual values in the validation set\n",
        "2. Prophet captured the overall trend and seasonality well\n",
        "3. Above plot also shows that Prophet overfitted the training set. I am sure there are hyperparameters that could be tuned but most the parameters are for high frequency data. Also, Prophet has a cross-validation method built-in, but it only accepts daily or sub-daily data. That's a limitation.\n",
        "4. Residuals are uncorrelated but not-normal, which is ok. \n",
        "5. Uncertainty band is very wide."
      ]
    },
    {
      "cell_type": "markdown",
      "metadata": {
        "id": "CBQsIqrleFkm"
      },
      "source": [
        "### Forecasts"
      ]
    },
    {
      "cell_type": "markdown",
      "metadata": {
        "id": "aBHKmhkbeFkm"
      },
      "source": [
        "We evaluated four different forecasting methods:\n",
        "   - Seasonal Naive\n",
        "   - Holt-Winter's (Triple Exponential Smoothing)\n",
        "   - ETS (Log-AAdA, AAdA)\n",
        "   - SARIMA\n",
        "   - Prophet\n",
        "\n",
        "ETS gave the most accurate forecast, followed by Prophet..\n",
        "Here's how the point forecasts compare with each other and the test set:\n",
        "\n"
      ]
    },
    {
      "cell_type": "code",
      "execution_count": null,
      "metadata": {
        "id": "A1dRSfWteFkm"
      },
      "outputs": [],
      "source": [
        "predictions.round(0)"
      ]
    },
    {
      "cell_type": "code",
      "execution_count": null,
      "metadata": {
        "id": "gBSt_wXEeFkm"
      },
      "outputs": [],
      "source": [
        "forecasts = predictions.copy()\n",
        "fc_melt=pd.melt(forecasts.reset_index(), \n",
        "        id_vars='Date', \n",
        "        value_vars=forecasts.columns,\n",
        "        var_name=\"Model\", \n",
        "        value_name=\"Forecasts\").round(0)\n",
        "\n",
        "fc_melt.head()"
      ]
    },
    {
      "cell_type": "markdown",
      "metadata": {
        "id": "0Nl1YQFXeFkn"
      },
      "source": [
        "Interactive Chart"
      ]
    },
    {
      "cell_type": "code",
      "execution_count": null,
      "metadata": {
        "id": "qwXIkNBdeFkn"
      },
      "outputs": [],
      "source": [
        "\n",
        "#Ref:https://altair-viz.github.io/gallery/multiline_tooltip.html\n",
        "# Create a selection that chooses the nearest point & selects based on x-value\n",
        "nearest = alt.selection(type='single', nearest=True, on='mouseover',\n",
        "                        fields=['Date'], empty='none')\n",
        "\n",
        "# The basic line\n",
        "line = alt.Chart(fc_melt).mark_line(point=True).encode(\n",
        "    x='Date',\n",
        "    y=alt.Y('Forecasts:Q',scale=alt.Scale(domain=[500,1000], clamp=True)),\n",
        "    color='Model:N',\n",
        "    tooltip=['Date','Forecasts','Model']\n",
        ")\n",
        "\n",
        "# Transparent selectors across the chart. This is what tells us\n",
        "# the x-value of the cursor\n",
        "selectors = alt.Chart(fc_melt).mark_point().encode(\n",
        "    x='Date',\n",
        "    opacity=alt.value(0),\n",
        ").add_selection(\n",
        "    nearest\n",
        ")\n",
        "\n",
        "# Draw points on the line, and highlight based on selection\n",
        "points = line.mark_point().encode(\n",
        "    opacity=alt.condition(nearest, alt.value(1), alt.value(0))\n",
        ")\n",
        "\n",
        "# Draw text labels near the points, and highlight based on selection\n",
        "text = line.mark_text(align='left', baseline='top', dx=5, dy=-5).encode(\n",
        "    text=alt.condition(nearest, 'Forecasts:Q', alt.value('              '))\n",
        ")\n",
        "text2 = line.mark_text(align='left', baseline='bottom', dx=5, dy=-5).encode(\n",
        "    text=alt.condition(nearest, 'Model:N', alt.value('    '))\n",
        ")\n",
        "\n",
        "# Draw a rule at the location of the selection\n",
        "rules = alt.Chart(fc_melt).mark_rule(color='gray').encode(\n",
        "    x='Date',\n",
        ").transform_filter(\n",
        "    nearest\n",
        ")\n",
        "\n",
        "# Put the five layers into a chart and bind the data\n",
        "alt.layer(\n",
        "    line, selectors, points, rules, text, text2\n",
        ").properties(\n",
        "    width=800, height=500, title=\"Comaprison of various Forecasting Models\"\n",
        ").interactive()"
      ]
    },
    {
      "cell_type": "markdown",
      "metadata": {
        "id": "-DUBCYTWeFkn"
      },
      "source": [
        "In the above chart, red line is the test set and rest are forecasts. You can zoom-in/out, pan to inspect the fit over the test set. \n",
        "\n",
        "1. SNaive & Prophet are below the test while SARIMA and HW are above. AAdA is also below actual in Q3.\n",
        "2. HW & SARIMA are almost identical\n",
        "3. If we had to pick a single best model, we would use the Log AAdA model which has the lowest RMSE and tracks the actual values very closely.\n",
        "4. SARIMA did well on the test set but not so good on the early part of the training set. That's acceptable but the point is that all these methods did well in training or test. Thus, a better approach is to create an **ensemble forecast** that combines all or some of these forecasts together. \n",
        "5. Many research studies have shown that forecast combination often provides a more robust, accurate forecast that's less susceptible to overfitting. You can read more [here](https://repository.upenn.edu/cgi/viewcontent.cgi?article=1005&context=marketing_papers)\n"
      ]
    },
    {
      "cell_type": "markdown",
      "metadata": {
        "id": "pha1FI8YeFko"
      },
      "source": [
        "### Ensemble Forecasts"
      ]
    },
    {
      "cell_type": "markdown",
      "metadata": {
        "id": "KT2-1SnXeFko"
      },
      "source": [
        "Although there are many different ways to combine forecasts, simple averaging often works as good as a more complex methods and is easier to implement/monitor/debug. As we saw above, some forecasts are above the test and some are below. So hopefully averaging will bring it closer to the actual values. \n",
        "\n",
        "We have 7 different models with more than 200 possible combinations. Let's compare their RSME with `fc_combo()` function I wrote. This function averages the forecasts and calculates the RSME."
      ]
    },
    {
      "cell_type": "markdown",
      "metadata": {
        "id": "PypPsLiqeFko"
      },
      "source": [
        ">Note: This function uses `mean()` to average the forecasts but you should try `median()` as well. Depending on the data and the skewness, `meadian()` might work better in some cases."
      ]
    },
    {
      "cell_type": "code",
      "execution_count": null,
      "metadata": {
        "id": "mNnnztireFko"
      },
      "outputs": [],
      "source": [
        "forecasts"
      ]
    },
    {
      "cell_type": "code",
      "execution_count": null,
      "metadata": {
        "scrolled": false,
        "id": "ILlmfGzceFko"
      },
      "outputs": [],
      "source": [
        "fc_combo(forecasts.iloc[:,1:])"
      ]
    },
    {
      "cell_type": "markdown",
      "metadata": {
        "id": "lOOdIMiMeFkp"
      },
      "source": [
        "##### Observations:\n",
        "1. The best performing model is ('AAdA', 'sarima_log', 'fb1') with RMSE = 33.3 which is better than the best solo model LogAAdA (RSME:40) but not by very much. \n",
        "2. Notice how some of the individual models that gave very poor forecasts (Seasonal Naive, HW, SARIMA) but when combined with other forecasts, performed very well. Similarly the models that performed the best LogAAdA, SARIMA_Log did not create the best combination forecast.\n",
        "3. Diversity of models in forecast combination makes the forecast more robust, typically produce normally distributed errors and narrower prediction intervals. Follow the research work by [Prof. Kourentzes](https://kourentzes.com/forecasting/) for theory and practical advise on forecast combination.\n",
        "4. More models in combination does not mean better results. When selecting combinations, focus should be on divertsity of the models selected (different class of models). Some researchers (Armstrong et al) have suggested using 5 models. \n",
        "5. This shows the value of experimentation in any statistical /Machine Learning project. "
      ]
    },
    {
      "cell_type": "markdown",
      "metadata": {
        "id": "dcCiS6mAeFkp"
      },
      "source": [
        "### Final Model\n",
        "\n",
        "For the final model, we use all the data and not just the training set. If we want a single best model we will choose the Log ETS(A,Ad,A). The best combination model is ('AAdA', 'sarima_log', 'fb1') which has the lowest RMSE. The difference between them is not significant when accuracy is compared. In the next blog, I am going to demonstrate how to deploy this forecasting model in PowerBI & AzureML so to keep things simple, I will use the Log ETS(A,Ad,A) model. Also, ETS allows simulations which can be used for [aggregate forecasting](https://otexts.com/fpp2/aggregates.html) and communicating uncertainty. Forecast combination is a fascinating topic and deserves a seperate blog post. "
      ]
    },
    {
      "cell_type": "markdown",
      "metadata": {
        "id": "GjpjRnMEeFkp"
      },
      "source": [
        "##### ETS Model"
      ]
    },
    {
      "cell_type": "code",
      "execution_count": null,
      "metadata": {
        "id": "RqP-4zAHeFkp"
      },
      "outputs": [],
      "source": [
        "ets_model=sm.tsa.statespace.ExponentialSmoothing(np.log(data),\n",
        "                                           trend=True, \n",
        "                                           initialization_method= 'heuristic', \n",
        "                                           seasonal=4, \n",
        "                                           damped_trend=True).fit()\n",
        "\n",
        "results = ets_model.get_forecast(4)\n",
        "\n",
        "results_df=results.summary_frame(alpha=0.05).apply(np.exp)[[\"mean\",\"mean_ci_lower\",\"mean_ci_upper\"]]\n",
        "results_df.round(1)"
      ]
    },
    {
      "cell_type": "code",
      "execution_count": null,
      "metadata": {
        "scrolled": false,
        "id": "k6KdBVraeFkq"
      },
      "outputs": [],
      "source": [
        "fig, ax = plt.subplots()\n",
        "results_df['mean'].plot(ax=ax, legend=True, label=\"Forecast\" )\n",
        "ax.fill_between(results_df.index, results_df['mean_ci_lower'],\n",
        "                results_df['mean_ci_upper'], alpha=0.2, color='gray')\n",
        "\n",
        "data[\"Sales\"].plot(legend=True, label=\"Data\", figsize=(12,8));"
      ]
    },
    {
      "cell_type": "markdown",
      "metadata": {
        "id": "3kAG37VReFkq"
      },
      "source": [
        "#### Forecast Uncertainty\n",
        "\n",
        "Forecasts are based on history and are probabilistic. When creating and communicating the forecasts, it is important that the stakeholders who will be using the forecasts understand the uncertainty in the estimates. Forecasts have [four sources](https://robjhyndman.com/hyndsight/narrow-pi/) of uncertainties:\n",
        "1. Random error\n",
        "2. Parameters used in the model\n",
        "3. Model choice\n",
        "4. Data uncertainty\n",
        "\n",
        "While it's not possible to estimate all sources of uncertainties, the forecaster should provide enough information/tools to the stakeholders to understand and gauge the risk in using the forecast. Stochastic simulation can be used for risk modeling. \n",
        "\n"
      ]
    },
    {
      "cell_type": "markdown",
      "metadata": {
        "id": "879B-ktjeFkq"
      },
      "source": [
        "##### Simulation"
      ]
    },
    {
      "cell_type": "markdown",
      "metadata": {
        "id": "DLhtcY4zeFkq"
      },
      "source": [
        "Imagine that the stakeholders are interested in the aggregate sales for 2018, i.e the total sales and not just the quarterly sales. The obvious way is to calculate quarterly forecasts, like we did, and then summing them up to get annual sales. While this may provide a good estimate, it will not be correct. Since the quarterly forecasts are distributions, we need to account for the variance in those distributions when calculating the aggregates. If the forecasts were based on median or percentile, we cannot simply add them up. Also, it's possible that not all forecasts are from normal distributions and thus cannot be added. \n",
        "\n",
        "Monte Carlo simulation can be used to overcome these challenges. Below we will generate 5000 future forecasts based on the ETS model we have and then calculate the aggregates, prediction intervals and cumulative distribution function for it."
      ]
    },
    {
      "cell_type": "code",
      "execution_count": null,
      "metadata": {
        "id": "49iKNuaxeFkq"
      },
      "outputs": [],
      "source": [
        "#Simulating 5000 futures\n",
        "sim_frame=ets_model.simulate(4, \n",
        "                   anchor='2018-03-31',\n",
        "                   repetitions=5000 ).T.reset_index().iloc[:,2:].apply(np.exp).round(1)\n",
        "\n",
        "sim_frame[\"aggregate\"] = sim_frame.sum(axis=1)\n",
        "\n",
        "sim_frame.tail()"
      ]
    },
    {
      "cell_type": "code",
      "execution_count": null,
      "metadata": {
        "id": "3cW3NfIOeFkr"
      },
      "outputs": [],
      "source": [
        "mean_2018_sales = np.mean(sim_frame[\"aggregate\"])\n",
        "print(\"25th percntile Sales for FY2018:\",np.quantile(sim_frame[\"aggregate\"], 0.25).round(0))\n",
        "print(\"\\nAvg Sales for FY2018, Simulation:\",mean_2018_sales.round(0))\n",
        "print(\"\\n75th percntile Sales for FY2018:\",np.quantile(sim_frame[\"aggregate\"], 0.75).round(0))\n",
        "\n",
        "print(\"\\nFY2018 Based on Quarterly Forecasts:\",results_df[\"mean\"].sum().round(0))"
      ]
    },
    {
      "cell_type": "markdown",
      "metadata": {
        "id": "bp22p6dXeFkr"
      },
      "source": [
        "As you can see, if we just summed up the quarterly forecasts, the aggregate for 2018 would be 3157, and if we used the simulations it would be 3163. In this case the difference is not much and is within the forecast error but that may not always be the case. \n",
        "\n",
        "When communicating forecasts (or any other uncertainty), providing range is a better solution than providing point estimates. e.g. we calculated the 25% & 75% percentile for the aggregate forecast. Thus, we could say that we are 50% confident that the FY2018 sales would be between 3083 and 3240.i.e P50 [3083 , 3240]. This can also be interpreted as there is only 25% chance that Sales would be >3240 next year. This conveys the uncertainty far better than point estimates."
      ]
    },
    {
      "cell_type": "markdown",
      "metadata": {
        "id": "i3mdLmIzeFkr"
      },
      "source": [
        "##### Confidence Interval vs. Prediction Interval\n",
        "\n",
        "It's common to calculate and show 95% confidence around the mean forecast. 95% is a conventional measure and doesn't have any particular significance. Confidence interval (CI)is not the same as prediction interval (PI). CI is often confused as a measure of uncertainty and is used to show the upper and lower bound for the estimate - **it's not!**\n",
        "\n",
        "Confidence interval is around the populatio point estimate. e.g. if we calculate the mean, to convey the *error* in calculating it we compute the CI. In our case the mean for Q1 is 692.5 and lower and upper CI bound are [599.8,799.5]. We are 95% confident that the mean will be within this bound. This **doesn't** say the forecast will be between these bounds with 95% confidence. Think of CI as error around the population point estimate because of limited sample size. CI will be lower if increase the sample size or lower the alpha. Point estimate means calculating a single number e.g. mean, median, percentile etc. about the population/sample. Also make a note if the CI is calculated using parameters of the models (residuals).\n",
        "\n",
        "To calculate the upper and lower bound on the forecast, we need prediction interval. PI can be calculated using the forecast errors or simulations. PI gives us the upper and lower bounds based on the model we have created. By definition PI > CI. In our examle, the 97.5th percentile is 923 and 2.5% percentils is 691. Now we can be 95% confident that the forecast for Q1 2018 will be between 923 and 691 !\n",
        "\n",
        "Many years ago at the end of my Business Simulations class in grad school, [Prof.Nelson](https://www.mccormick.northwestern.edu/research-faculty/directory/profiles/nelson-barry.html) said the main take-away from his class should be the difference between PI and CI and correct use/interpretation of CI. I hope after reading this blog, among other things, you will also learn to interprete CI correctly, especially in the context of forecasting. CI is useless for forecasting.  "
      ]
    },
    {
      "cell_type": "code",
      "execution_count": null,
      "metadata": {
        "id": "jTuadqkEeFkr"
      },
      "outputs": [],
      "source": [
        "q1_975=np.quantile(sim_frame.iloc[:,1],0.975)\n",
        "q1_025=np.quantile(sim_frame.iloc[:,1],0.025)\n",
        "\n",
        "print(\"PI_95%:\", q1_95.round(1))\n",
        "print(\"PI_5%:\", q1_05.round(1))"
      ]
    },
    {
      "cell_type": "markdown",
      "metadata": {
        "id": "XgDtghS0eFkr"
      },
      "source": [
        "##### Cumulative Distribution Function"
      ]
    },
    {
      "cell_type": "code",
      "execution_count": null,
      "metadata": {
        "id": "vL3oBA1FeFks"
      },
      "outputs": [],
      "source": [
        "#Reference: http://stanford.edu/~raejoon/blog/2017/05/16/python-recipes-for-cdfs.html\n",
        "\n",
        "num_bins = 100\n",
        "counts, bin_edges = np.histogram (sim_frame[\"aggregate\"], bins=num_bins, normed=True)\n",
        "cdf = np.cumsum (counts)\n",
        "cdf_x = bin_edges[1:]\n",
        "cdf_y = cdf/cdf[-1]\n",
        "cdf_df = pd.DataFrame({'Sales':cdf_x, 'Percentile':cdf_y})\n",
        "cdf_df.head()"
      ]
    },
    {
      "cell_type": "code",
      "execution_count": null,
      "metadata": {
        "id": "SxQvllGYeFks"
      },
      "outputs": [],
      "source": [
        "#collapse-hide\n",
        "# Create a selection that chooses the nearest point & selects based on x-value\n",
        "nearest = alt.selection(type='single', nearest=True, on='mouseover',\n",
        "                        fields=['Sales'], empty='none')\n",
        "\n",
        "# The basic line\n",
        "line = alt.Chart(cdf_df).mark_line(interpolate='basis').encode(\n",
        "    x='Sales:Q',\n",
        "    y='Percentile:Q', tooltip = [\"Sales\", \"Percentile\"])\n",
        "\n",
        "\n",
        "# Transparent selectors across the chart. This is what tells us\n",
        "# the x-value of the cursor\n",
        "selectors = alt.Chart(cdf_df).mark_point().encode(\n",
        "    x='Sales:Q',\n",
        "    opacity=alt.value(0),\n",
        ").add_selection(\n",
        "    nearest\n",
        ")\n",
        "\n",
        "# Draw points on the line, and highlight based on selection\n",
        "points = line.mark_point().encode(\n",
        "    opacity=alt.condition(nearest, alt.value(1), alt.value(0))\n",
        ")\n",
        "\n",
        "# Draw text labels near the points, and highlight based on selection\n",
        "text1 = line.mark_text(align='left', baseline=\"bottom\",dx=5, dy=-5).encode(\n",
        "    text=alt.condition(nearest, 'Percentile:Q', alt.value(' '))\n",
        ")\n",
        "\n",
        "text2 = line.mark_text(align='left', baseline=\"top\", dx=5, dy=-5).encode(\n",
        "    text=alt.condition(nearest, 'Sales:Q', alt.value(' '))\n",
        ")\n",
        "\n",
        "# Draw a rule at the location of the selection\n",
        "rules = alt.Chart(cdf_df).mark_rule(color='gray').encode(\n",
        "    x='Sales:Q',\n",
        ").transform_filter(\n",
        "    nearest\n",
        ")\n",
        "\n",
        "# Put the five layers into a chart and bind the data\n",
        "alt.layer(\n",
        "    line, selectors, points, rules, text1, text2\n",
        ").properties(\n",
        "    width=600, height=300, title =\"FY2018 Sales Probability \"\n",
        ").configure_axis(grid=False)"
      ]
    },
    {
      "cell_type": "markdown",
      "metadata": {
        "id": "WVLkbYejeFks"
      },
      "source": [
        "This is a dynamic and interactive way for the stakeholders to understand forecast uncertainty. For example, if this French retailer has a Revenue target at least 3300, they have only 12% (1-0.88)  chance of achiveing that based on this forecating model. The stakeholders will find this more beneficial for decision making than the typical static forecast chart. You could create similar chart for all quarters and make it more interactive. Power BI can be used for that."
      ]
    },
    {
      "cell_type": "markdown",
      "metadata": {
        "id": "UW7ufRPQeFks"
      },
      "source": [
        "### Forecast Using R"
      ]
    },
    {
      "cell_type": "markdown",
      "metadata": {
        "id": "6dPlrhOaeFks"
      },
      "source": [
        "Import rpy2\n",
        "\n",
        "Use `pandas2ri.activate()` to convert pandas to R dataframe\n",
        "\n",
        "`%load_ext rpy2.ipython` to use %%R magic command to run R in a cell"
      ]
    },
    {
      "cell_type": "code",
      "execution_count": null,
      "metadata": {
        "id": "D2uT72jbeFkt"
      },
      "outputs": [],
      "source": [
        "import rpy2\n",
        "\n",
        "import warnings\n",
        "warnings.filterwarnings('ignore')\n",
        "\n",
        "from rpy2.robjects import pandas2ri\n",
        "import rpy2.rinterface as rinterface\n",
        "pandas2ri.activate()\n",
        "\n",
        "%load_ext rpy2.ipython"
      ]
    },
    {
      "cell_type": "markdown",
      "metadata": {
        "id": "EmejjbV7eFkt"
      },
      "source": [
        "#### R-ETS\n",
        "\n",
        "`ets()` package in R uses a state space approach rather than Holt-Winter's (which can be modeled in ETS form). You can read more [here](https://otexts.com/fpp2/ets-forecasting.html)"
      ]
    },
    {
      "cell_type": "code",
      "execution_count": null,
      "metadata": {
        "id": "3yIhy7EyeFkt"
      },
      "outputs": [],
      "source": [
        "%%R -i data -o fets,fc_ets\n",
        "\n",
        "library(fpp2)\n",
        "\n",
        "r_train <- ts(data$Sales, start=c(2012,01), frequency=4)\n",
        "\n",
        "fets <- r_train %>% ets()\n",
        "\n",
        "fc_ets<-r_train %>% ets() %>% forecast(h=4) %>% summary()\n",
        "\n",
        "r_train %>% ets() %>% forecast(h=4) %>% autoplot()"
      ]
    },
    {
      "cell_type": "code",
      "execution_count": null,
      "metadata": {
        "id": "iHCS5mbPeFkv"
      },
      "outputs": [],
      "source": [
        "print(fets,end=\"\")"
      ]
    },
    {
      "cell_type": "markdown",
      "metadata": {
        "id": "2mBGfEkteFkv"
      },
      "source": [
        "`ets()` returned ETS(M,A,M) as the best model based on  AICc, i.e \"multiplicative\" error, \"additive\" trend and \"multiplicative\" error. We also obtained same results in Python. But because we used a log transform the multiplicative term became additive."
      ]
    },
    {
      "cell_type": "code",
      "execution_count": null,
      "metadata": {
        "id": "P83CkbZLeFkv"
      },
      "outputs": [],
      "source": [
        "fc_ets"
      ]
    },
    {
      "cell_type": "markdown",
      "metadata": {
        "id": "6bwlUAKkeFkv"
      },
      "source": [
        "#### R-SARIMA"
      ]
    },
    {
      "cell_type": "code",
      "execution_count": null,
      "metadata": {
        "id": "peR532AQeFkv"
      },
      "outputs": [],
      "source": [
        "%%R -i train -o fsarima\n",
        "\n",
        "r_train <- ts(train$Sales, start=c(2012,01), frequency=4)\n",
        "\n",
        "fsarima <- r_train %>% auto.arima(stepwise=FALSE) \n",
        "\n",
        "\n",
        "\n"
      ]
    },
    {
      "cell_type": "code",
      "execution_count": null,
      "metadata": {
        "id": "q7PmIbDweFkv"
      },
      "outputs": [],
      "source": [
        "%%R -i data -o fc_arima\n",
        "\n",
        "r_data <- ts(data$Sales, start=c(2012,01), frequency=4)\n",
        "\n",
        "\n",
        "fc_arima<- r_data %>% auto.arima(stepwise=FALSE) %>% forecast(h=4) %>% summary()\n",
        "\n",
        "r_data %>% auto.arima(stepwise=FALSE) %>% forecast(h=4) %>% autoplot()\n",
        "\n"
      ]
    },
    {
      "cell_type": "code",
      "execution_count": null,
      "metadata": {
        "id": "rSHT0VZdeFkw"
      },
      "outputs": [],
      "source": [
        "print(fsarima, end=\"\")"
      ]
    },
    {
      "cell_type": "markdown",
      "metadata": {
        "id": "ZtSUDesBeFkw"
      },
      "source": [
        "We obtained the same SARIMA order as Python ARIMA(0,1,0)(1,1,0)[4]"
      ]
    },
    {
      "cell_type": "markdown",
      "metadata": {
        "id": "48pDkKN9eFkw"
      },
      "source": [
        "### Conclusion"
      ]
    },
    {
      "cell_type": "markdown",
      "metadata": {
        "id": "mol3veReeFkw"
      },
      "source": [
        "We explored various time series forecasting methods, model selection procedures and created an ensemble forecast that can be used to improve the forecast accuracy. We also briefly covered communicating uncertainty in forecasts. I did not include any deep-learning methods as they generally do well on  large dataset with multiple features. Classical methods such as HW/ETS & ARIMA provide more interpretable results which can prove useful for understanding the behaviour of the time time series and make business decisions. In the next blog I will cover deploying this model in PowerBI.  \n"
      ]
    },
    {
      "cell_type": "markdown",
      "metadata": {
        "id": "psNASQAGeFkw"
      },
      "source": [
        "### References:\n",
        "\n",
        "   1. Forecasting: Principles and Practice, by Prof. Hyndman\n",
        "   2. Time Series Analysis and its Applications, by Robert Shumway\n",
        "   3. Time Series Analysis and Forecasting, by Montgomery  & Jennings\n",
        "   4. Introduction to Time Series and Analysis, by Brockwell\n",
        "   5. Practial Time Series Forecasting with R, by Galit Shmueli   6. https://homepage.univie.ac.at/robert.kunst/pres09_prog_turyna_hrdina.pdf"
      ]
    }
  ],
  "metadata": {
    "kernelspec": {
      "display_name": "Python 3",
      "language": "python",
      "name": "python3"
    },
    "language_info": {
      "codemirror_mode": {
        "name": "ipython",
        "version": 3
      },
      "file_extension": ".py",
      "mimetype": "text/x-python",
      "name": "python",
      "nbconvert_exporter": "python",
      "pygments_lexer": "ipython3",
      "version": "3.6.10"
    },
    "colab": {
      "provenance": [],
      "include_colab_link": true
    }
  },
  "nbformat": 4,
  "nbformat_minor": 0
}